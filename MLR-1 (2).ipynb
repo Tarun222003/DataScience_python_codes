{
 "cells": [
  {
   "cell_type": "code",
   "execution_count": 1,
   "id": "2a432c27",
   "metadata": {},
   "outputs": [
    {
     "data": {
      "text/html": [
       "<div>\n",
       "<style scoped>\n",
       "    .dataframe tbody tr th:only-of-type {\n",
       "        vertical-align: middle;\n",
       "    }\n",
       "\n",
       "    .dataframe tbody tr th {\n",
       "        vertical-align: top;\n",
       "    }\n",
       "\n",
       "    .dataframe thead th {\n",
       "        text-align: right;\n",
       "    }\n",
       "</style>\n",
       "<table border=\"1\" class=\"dataframe\">\n",
       "  <thead>\n",
       "    <tr style=\"text-align: right;\">\n",
       "      <th></th>\n",
       "      <th>Price</th>\n",
       "      <th>Age_08_04</th>\n",
       "      <th>KM</th>\n",
       "      <th>Fuel_Type</th>\n",
       "      <th>HP</th>\n",
       "      <th>Automatic</th>\n",
       "      <th>cc</th>\n",
       "      <th>Doors</th>\n",
       "      <th>Cylinders</th>\n",
       "      <th>Gears</th>\n",
       "      <th>Weight</th>\n",
       "    </tr>\n",
       "  </thead>\n",
       "  <tbody>\n",
       "    <tr>\n",
       "      <th>0</th>\n",
       "      <td>13500</td>\n",
       "      <td>23</td>\n",
       "      <td>46986</td>\n",
       "      <td>Diesel</td>\n",
       "      <td>90</td>\n",
       "      <td>0</td>\n",
       "      <td>2000</td>\n",
       "      <td>3</td>\n",
       "      <td>4</td>\n",
       "      <td>5</td>\n",
       "      <td>1165</td>\n",
       "    </tr>\n",
       "    <tr>\n",
       "      <th>1</th>\n",
       "      <td>13750</td>\n",
       "      <td>23</td>\n",
       "      <td>72937</td>\n",
       "      <td>Diesel</td>\n",
       "      <td>90</td>\n",
       "      <td>0</td>\n",
       "      <td>2000</td>\n",
       "      <td>3</td>\n",
       "      <td>4</td>\n",
       "      <td>5</td>\n",
       "      <td>1165</td>\n",
       "    </tr>\n",
       "    <tr>\n",
       "      <th>2</th>\n",
       "      <td>13950</td>\n",
       "      <td>24</td>\n",
       "      <td>41711</td>\n",
       "      <td>Diesel</td>\n",
       "      <td>90</td>\n",
       "      <td>0</td>\n",
       "      <td>2000</td>\n",
       "      <td>3</td>\n",
       "      <td>4</td>\n",
       "      <td>5</td>\n",
       "      <td>1165</td>\n",
       "    </tr>\n",
       "    <tr>\n",
       "      <th>3</th>\n",
       "      <td>14950</td>\n",
       "      <td>26</td>\n",
       "      <td>48000</td>\n",
       "      <td>Diesel</td>\n",
       "      <td>90</td>\n",
       "      <td>0</td>\n",
       "      <td>2000</td>\n",
       "      <td>3</td>\n",
       "      <td>4</td>\n",
       "      <td>5</td>\n",
       "      <td>1165</td>\n",
       "    </tr>\n",
       "    <tr>\n",
       "      <th>4</th>\n",
       "      <td>13750</td>\n",
       "      <td>30</td>\n",
       "      <td>38500</td>\n",
       "      <td>Diesel</td>\n",
       "      <td>90</td>\n",
       "      <td>0</td>\n",
       "      <td>2000</td>\n",
       "      <td>3</td>\n",
       "      <td>4</td>\n",
       "      <td>5</td>\n",
       "      <td>1170</td>\n",
       "    </tr>\n",
       "    <tr>\n",
       "      <th>...</th>\n",
       "      <td>...</td>\n",
       "      <td>...</td>\n",
       "      <td>...</td>\n",
       "      <td>...</td>\n",
       "      <td>...</td>\n",
       "      <td>...</td>\n",
       "      <td>...</td>\n",
       "      <td>...</td>\n",
       "      <td>...</td>\n",
       "      <td>...</td>\n",
       "      <td>...</td>\n",
       "    </tr>\n",
       "    <tr>\n",
       "      <th>1431</th>\n",
       "      <td>7500</td>\n",
       "      <td>69</td>\n",
       "      <td>20544</td>\n",
       "      <td>Petrol</td>\n",
       "      <td>86</td>\n",
       "      <td>0</td>\n",
       "      <td>1300</td>\n",
       "      <td>3</td>\n",
       "      <td>4</td>\n",
       "      <td>5</td>\n",
       "      <td>1025</td>\n",
       "    </tr>\n",
       "    <tr>\n",
       "      <th>1432</th>\n",
       "      <td>10845</td>\n",
       "      <td>72</td>\n",
       "      <td>19000</td>\n",
       "      <td>Petrol</td>\n",
       "      <td>86</td>\n",
       "      <td>0</td>\n",
       "      <td>1300</td>\n",
       "      <td>3</td>\n",
       "      <td>4</td>\n",
       "      <td>5</td>\n",
       "      <td>1015</td>\n",
       "    </tr>\n",
       "    <tr>\n",
       "      <th>1433</th>\n",
       "      <td>8500</td>\n",
       "      <td>71</td>\n",
       "      <td>17016</td>\n",
       "      <td>Petrol</td>\n",
       "      <td>86</td>\n",
       "      <td>0</td>\n",
       "      <td>1300</td>\n",
       "      <td>3</td>\n",
       "      <td>4</td>\n",
       "      <td>5</td>\n",
       "      <td>1015</td>\n",
       "    </tr>\n",
       "    <tr>\n",
       "      <th>1434</th>\n",
       "      <td>7250</td>\n",
       "      <td>70</td>\n",
       "      <td>16916</td>\n",
       "      <td>Petrol</td>\n",
       "      <td>86</td>\n",
       "      <td>0</td>\n",
       "      <td>1300</td>\n",
       "      <td>3</td>\n",
       "      <td>4</td>\n",
       "      <td>5</td>\n",
       "      <td>1015</td>\n",
       "    </tr>\n",
       "    <tr>\n",
       "      <th>1435</th>\n",
       "      <td>6950</td>\n",
       "      <td>76</td>\n",
       "      <td>1</td>\n",
       "      <td>Petrol</td>\n",
       "      <td>110</td>\n",
       "      <td>0</td>\n",
       "      <td>1600</td>\n",
       "      <td>5</td>\n",
       "      <td>4</td>\n",
       "      <td>5</td>\n",
       "      <td>1114</td>\n",
       "    </tr>\n",
       "  </tbody>\n",
       "</table>\n",
       "<p>1436 rows × 11 columns</p>\n",
       "</div>"
      ],
      "text/plain": [
       "      Price  Age_08_04     KM Fuel_Type   HP  Automatic    cc  Doors  \\\n",
       "0     13500         23  46986    Diesel   90          0  2000      3   \n",
       "1     13750         23  72937    Diesel   90          0  2000      3   \n",
       "2     13950         24  41711    Diesel   90          0  2000      3   \n",
       "3     14950         26  48000    Diesel   90          0  2000      3   \n",
       "4     13750         30  38500    Diesel   90          0  2000      3   \n",
       "...     ...        ...    ...       ...  ...        ...   ...    ...   \n",
       "1431   7500         69  20544    Petrol   86          0  1300      3   \n",
       "1432  10845         72  19000    Petrol   86          0  1300      3   \n",
       "1433   8500         71  17016    Petrol   86          0  1300      3   \n",
       "1434   7250         70  16916    Petrol   86          0  1300      3   \n",
       "1435   6950         76      1    Petrol  110          0  1600      5   \n",
       "\n",
       "      Cylinders  Gears  Weight  \n",
       "0             4      5    1165  \n",
       "1             4      5    1165  \n",
       "2             4      5    1165  \n",
       "3             4      5    1165  \n",
       "4             4      5    1170  \n",
       "...         ...    ...     ...  \n",
       "1431          4      5    1025  \n",
       "1432          4      5    1015  \n",
       "1433          4      5    1015  \n",
       "1434          4      5    1015  \n",
       "1435          4      5    1114  \n",
       "\n",
       "[1436 rows x 11 columns]"
      ]
     },
     "execution_count": 1,
     "metadata": {},
     "output_type": "execute_result"
    }
   ],
   "source": [
    "import pandas as pd\n",
    "df = pd.read_csv(r\"C:\\Data Science Asignments datasets\\ToyotaCorolla - MLR.csv\")\n",
    "df"
   ]
  },
  {
   "cell_type": "code",
   "execution_count": 2,
   "id": "7098c2df",
   "metadata": {},
   "outputs": [
    {
     "name": "stdout",
     "output_type": "stream",
     "text": [
      "<class 'pandas.core.frame.DataFrame'>\n",
      "RangeIndex: 1436 entries, 0 to 1435\n",
      "Data columns (total 11 columns):\n",
      " #   Column     Non-Null Count  Dtype \n",
      "---  ------     --------------  ----- \n",
      " 0   Price      1436 non-null   int64 \n",
      " 1   Age_08_04  1436 non-null   int64 \n",
      " 2   KM         1436 non-null   int64 \n",
      " 3   Fuel_Type  1436 non-null   object\n",
      " 4   HP         1436 non-null   int64 \n",
      " 5   Automatic  1436 non-null   int64 \n",
      " 6   cc         1436 non-null   int64 \n",
      " 7   Doors      1436 non-null   int64 \n",
      " 8   Cylinders  1436 non-null   int64 \n",
      " 9   Gears      1436 non-null   int64 \n",
      " 10  Weight     1436 non-null   int64 \n",
      "dtypes: int64(10), object(1)\n",
      "memory usage: 123.5+ KB\n"
     ]
    }
   ],
   "source": [
    "df.info()"
   ]
  },
  {
   "cell_type": "markdown",
   "id": "41a21d1b",
   "metadata": {},
   "source": [
    "## EDA"
   ]
  },
  {
   "cell_type": "code",
   "execution_count": 3,
   "id": "5f623e9a",
   "metadata": {},
   "outputs": [
    {
     "data": {
      "text/plain": [
       "Price        0\n",
       "Age_08_04    0\n",
       "KM           0\n",
       "Fuel_Type    0\n",
       "HP           0\n",
       "Automatic    0\n",
       "cc           0\n",
       "Doors        0\n",
       "Cylinders    0\n",
       "Gears        0\n",
       "Weight       0\n",
       "dtype: int64"
      ]
     },
     "execution_count": 3,
     "metadata": {},
     "output_type": "execute_result"
    }
   ],
   "source": [
    "df.isnull().sum()"
   ]
  },
  {
   "cell_type": "markdown",
   "id": "e8f4240a",
   "metadata": {},
   "source": [
    "## Summary Statistics"
   ]
  },
  {
   "cell_type": "code",
   "execution_count": 4,
   "id": "9aa859cf",
   "metadata": {},
   "outputs": [
    {
     "data": {
      "text/plain": [
       "count     1436.000000\n",
       "mean     10730.824513\n",
       "std       3626.964585\n",
       "min       4350.000000\n",
       "25%       8450.000000\n",
       "50%       9900.000000\n",
       "75%      11950.000000\n",
       "max      32500.000000\n",
       "Name: Price, dtype: float64"
      ]
     },
     "execution_count": 4,
     "metadata": {},
     "output_type": "execute_result"
    }
   ],
   "source": [
    "df[\"Price\"].describe()"
   ]
  },
  {
   "cell_type": "code",
   "execution_count": 5,
   "id": "d275bf6a",
   "metadata": {},
   "outputs": [
    {
     "data": {
      "text/plain": [
       "count    1436.000000\n",
       "mean       55.947075\n",
       "std        18.599988\n",
       "min         1.000000\n",
       "25%        44.000000\n",
       "50%        61.000000\n",
       "75%        70.000000\n",
       "max        80.000000\n",
       "Name: Age_08_04, dtype: float64"
      ]
     },
     "execution_count": 5,
     "metadata": {},
     "output_type": "execute_result"
    }
   ],
   "source": [
    "df[\"Age_08_04\"].describe()"
   ]
  },
  {
   "cell_type": "code",
   "execution_count": 6,
   "id": "819d31d9",
   "metadata": {},
   "outputs": [
    {
     "data": {
      "text/plain": [
       "count      1436.000000\n",
       "mean      68533.259749\n",
       "std       37506.448872\n",
       "min           1.000000\n",
       "25%       43000.000000\n",
       "50%       63389.500000\n",
       "75%       87020.750000\n",
       "max      243000.000000\n",
       "Name: KM, dtype: float64"
      ]
     },
     "execution_count": 6,
     "metadata": {},
     "output_type": "execute_result"
    }
   ],
   "source": [
    "df[\"KM\"].describe()"
   ]
  },
  {
   "cell_type": "code",
   "execution_count": 7,
   "id": "ac5bf258",
   "metadata": {},
   "outputs": [
    {
     "data": {
      "text/plain": [
       "count    1436.000000\n",
       "mean      101.502089\n",
       "std        14.981080\n",
       "min        69.000000\n",
       "25%        90.000000\n",
       "50%       110.000000\n",
       "75%       110.000000\n",
       "max       192.000000\n",
       "Name: HP, dtype: float64"
      ]
     },
     "execution_count": 7,
     "metadata": {},
     "output_type": "execute_result"
    }
   ],
   "source": [
    "df[\"HP\"].describe()"
   ]
  },
  {
   "cell_type": "code",
   "execution_count": 8,
   "id": "712b03df",
   "metadata": {},
   "outputs": [
    {
     "data": {
      "text/plain": [
       "Petrol    1264\n",
       "Diesel     155\n",
       "CNG         17\n",
       "Name: Fuel_Type, dtype: int64"
      ]
     },
     "execution_count": 8,
     "metadata": {},
     "output_type": "execute_result"
    }
   ],
   "source": [
    "df[\"Fuel_Type\"].value_counts()"
   ]
  },
  {
   "cell_type": "code",
   "execution_count": 9,
   "id": "e5284587",
   "metadata": {},
   "outputs": [
    {
     "data": {
      "text/plain": [
       "count    1436.000000\n",
       "mean        0.055710\n",
       "std         0.229441\n",
       "min         0.000000\n",
       "25%         0.000000\n",
       "50%         0.000000\n",
       "75%         0.000000\n",
       "max         1.000000\n",
       "Name: Automatic, dtype: float64"
      ]
     },
     "execution_count": 9,
     "metadata": {},
     "output_type": "execute_result"
    }
   ],
   "source": [
    "df[\"Automatic\"].describe()"
   ]
  },
  {
   "cell_type": "code",
   "execution_count": 10,
   "id": "36effbb1",
   "metadata": {},
   "outputs": [
    {
     "data": {
      "text/plain": [
       "count     1436.00000\n",
       "mean      1576.85585\n",
       "std        424.38677\n",
       "min       1300.00000\n",
       "25%       1400.00000\n",
       "50%       1600.00000\n",
       "75%       1600.00000\n",
       "max      16000.00000\n",
       "Name: cc, dtype: float64"
      ]
     },
     "execution_count": 10,
     "metadata": {},
     "output_type": "execute_result"
    }
   ],
   "source": [
    "df[\"cc\"].describe()"
   ]
  },
  {
   "cell_type": "code",
   "execution_count": 11,
   "id": "064d0dbf",
   "metadata": {},
   "outputs": [
    {
     "data": {
      "text/plain": [
       "count    1436.000000\n",
       "mean        4.033426\n",
       "std         0.952677\n",
       "min         2.000000\n",
       "25%         3.000000\n",
       "50%         4.000000\n",
       "75%         5.000000\n",
       "max         5.000000\n",
       "Name: Doors, dtype: float64"
      ]
     },
     "execution_count": 11,
     "metadata": {},
     "output_type": "execute_result"
    }
   ],
   "source": [
    "df[\"Doors\"].describe()"
   ]
  },
  {
   "cell_type": "code",
   "execution_count": 12,
   "id": "fa40be67",
   "metadata": {},
   "outputs": [
    {
     "data": {
      "text/plain": [
       "count    1436.0\n",
       "mean        4.0\n",
       "std         0.0\n",
       "min         4.0\n",
       "25%         4.0\n",
       "50%         4.0\n",
       "75%         4.0\n",
       "max         4.0\n",
       "Name: Cylinders, dtype: float64"
      ]
     },
     "execution_count": 12,
     "metadata": {},
     "output_type": "execute_result"
    }
   ],
   "source": [
    "df[\"Cylinders\"].describe()"
   ]
  },
  {
   "cell_type": "code",
   "execution_count": 13,
   "id": "f4d6d0d9",
   "metadata": {},
   "outputs": [
    {
     "data": {
      "text/plain": [
       "count    1436.000000\n",
       "mean        5.026462\n",
       "std         0.188510\n",
       "min         3.000000\n",
       "25%         5.000000\n",
       "50%         5.000000\n",
       "75%         5.000000\n",
       "max         6.000000\n",
       "Name: Gears, dtype: float64"
      ]
     },
     "execution_count": 13,
     "metadata": {},
     "output_type": "execute_result"
    }
   ],
   "source": [
    "df[\"Gears\"].describe()"
   ]
  },
  {
   "cell_type": "code",
   "execution_count": 14,
   "id": "3f559acb",
   "metadata": {},
   "outputs": [
    {
     "data": {
      "text/plain": [
       "count    1436.00000\n",
       "mean     1072.45961\n",
       "std        52.64112\n",
       "min      1000.00000\n",
       "25%      1040.00000\n",
       "50%      1070.00000\n",
       "75%      1085.00000\n",
       "max      1615.00000\n",
       "Name: Weight, dtype: float64"
      ]
     },
     "execution_count": 14,
     "metadata": {},
     "output_type": "execute_result"
    }
   ],
   "source": [
    "df[\"Weight\"].describe()"
   ]
  },
  {
   "cell_type": "markdown",
   "id": "d71a21ff",
   "metadata": {},
   "source": [
    "## Visualizations"
   ]
  },
  {
   "cell_type": "code",
   "execution_count": 15,
   "id": "7bcf71bd",
   "metadata": {},
   "outputs": [
    {
     "data": {
      "image/png": "[encoded data removed]",
      "text/plain": [
       "<Figure size 640x480 with 1 Axes>"
      ]
     },
     "metadata": {},
     "output_type": "display_data"
    }
   ],
   "source": [
    "import matplotlib.pyplot as plt\n",
    "plt.hist(df[\"Age_08_04\"])\n",
    "plt.show()"
   ]
  },
  {
   "cell_type": "code",
   "execution_count": 16,
   "id": "f16acd16",
   "metadata": {},
   "outputs": [
    {
     "data": {
      "image/png": "[encoded data removed]",
      "text/plain": [
       "<Figure size 640x480 with 1 Axes>"
      ]
     },
     "metadata": {},
     "output_type": "display_data"
    }
   ],
   "source": [
    "import matplotlib.pyplot as plt\n",
    "plt.hist(df[\"KM\"])\n",
    "plt.show()"
   ]
  },
  {
   "cell_type": "code",
   "execution_count": 17,
   "id": "74e9a5e6",
   "metadata": {},
   "outputs": [
    {
     "data": {
      "image/png": "[encoded data removed]",
      "text/plain": [
       "<Figure size 640x480 with 1 Axes>"
      ]
     },
     "metadata": {},
     "output_type": "display_data"
    }
   ],
   "source": [
    "import matplotlib.pyplot as plt\n",
    "plt.hist(df[\"Fuel_Type\"])\n",
    "plt.show()"
   ]
  },
  {
   "cell_type": "code",
   "execution_count": 18,
   "id": "76be630f",
   "metadata": {},
   "outputs": [
    {
     "data": {
      "image/png": "[encoded data removed]",
      "text/plain": [
       "<Figure size 640x480 with 1 Axes>"
      ]
     },
     "metadata": {},
     "output_type": "display_data"
    }
   ],
   "source": [
    "import matplotlib.pyplot as plt\n",
    "plt.hist(df[\"HP\"])\n",
    "plt.show()"
   ]
  },
  {
   "cell_type": "code",
   "execution_count": 19,
   "id": "5460636f",
   "metadata": {},
   "outputs": [
    {
     "data": {
      "image/png": "[encoded data removed]",
      "text/plain": [
       "<Figure size 640x480 with 1 Axes>"
      ]
     },
     "metadata": {},
     "output_type": "display_data"
    }
   ],
   "source": [
    "import matplotlib.pyplot as plt\n",
    "plt.hist(df[\"Automatic\"])\n",
    "plt.show()"
   ]
  },
  {
   "cell_type": "code",
   "execution_count": 20,
   "id": "e861fb53",
   "metadata": {},
   "outputs": [
    {
     "data": {
      "image/png": "[encoded data removed]",
      "text/plain": [
       "<Figure size 640x480 with 1 Axes>"
      ]
     },
     "metadata": {},
     "output_type": "display_data"
    }
   ],
   "source": [
    "import matplotlib.pyplot as plt\n",
    "plt.hist(df[\"cc\"])\n",
    "plt.show()"
   ]
  },
  {
   "cell_type": "code",
   "execution_count": 21,
   "id": "d5d40092",
   "metadata": {},
   "outputs": [
    {
     "data": {
      "image/png": "[encoded data removed]",
      "text/plain": [
       "<Figure size 640x480 with 1 Axes>"
      ]
     },
     "metadata": {},
     "output_type": "display_data"
    }
   ],
   "source": [
    "import matplotlib.pyplot as plt\n",
    "plt.hist(df[\"Doors\"])\n",
    "plt.show()"
   ]
  },
  {
   "cell_type": "code",
   "execution_count": 22,
   "id": "14b64c04",
   "metadata": {},
   "outputs": [
    {
     "data": {
      "image/png": "[encoded data removed]",
      "text/plain": [
       "<Figure size 640x480 with 1 Axes>"
      ]
     },
     "metadata": {},
     "output_type": "display_data"
    }
   ],
   "source": [
    "import matplotlib.pyplot as plt\n",
    "plt.hist(df[\"Cylinders\"])\n",
    "plt.show()"
   ]
  },
  {
   "cell_type": "code",
   "execution_count": 23,
   "id": "f4885bb1",
   "metadata": {},
   "outputs": [
    {
     "data": {
      "image/png": "[encoded data removed]",
      "text/plain": [
       "<Figure size 640x480 with 1 Axes>"
      ]
     },
     "metadata": {},
     "output_type": "display_data"
    }
   ],
   "source": [
    "import matplotlib.pyplot as plt\n",
    "plt.hist(df[\"Gears\"])\n",
    "plt.show()"
   ]
  },
  {
   "cell_type": "code",
   "execution_count": 24,
   "id": "34af247d",
   "metadata": {},
   "outputs": [
    {
     "data": {
      "image/png": "[encoded data removed]",
      "text/plain": [
       "<Figure size 640x480 with 1 Axes>"
      ]
     },
     "metadata": {},
     "output_type": "display_data"
    }
   ],
   "source": [
    "import matplotlib.pyplot as plt\n",
    "plt.hist(df[\"Weight\"])\n",
    "plt.show()"
   ]
  },
  {
   "cell_type": "code",
   "execution_count": 25,
   "id": "3be36fdf",
   "metadata": {},
   "outputs": [
    {
     "data": {
      "image/png": "[encoded data removed]",
      "text/plain": [
       "<Figure size 640x480 with 1 Axes>"
      ]
     },
     "metadata": {},
     "output_type": "display_data"
    }
   ],
   "source": [
    "import matplotlib.pyplot as plt\n",
    "plt.scatter(x=df[\"Age_08_04\"],y=df[\"Price\"])\n",
    "plt.xlabel(\"Age_08_04\")\n",
    "plt.ylabel(\"Price\")\n",
    "plt.show()"
   ]
  },
  {
   "cell_type": "code",
   "execution_count": 26,
   "id": "530a7c5e",
   "metadata": {},
   "outputs": [
    {
     "data": {
      "image/png": "[encoded data removed]",
      "text/plain": [
       "<Figure size 640x480 with 1 Axes>"
      ]
     },
     "metadata": {},
     "output_type": "display_data"
    }
   ],
   "source": [
    "import matplotlib.pyplot as plt\n",
    "plt.scatter(x=df[\"KM\"],y=df[\"Price\"])\n",
    "plt.xlabel(\"KM\")\n",
    "plt.ylabel(\"Price\")\n",
    "plt.show()"
   ]
  },
  {
   "cell_type": "code",
   "execution_count": 27,
   "id": "0869f15a",
   "metadata": {},
   "outputs": [
    {
     "data": {
      "image/png": "[encoded data removed]",
      "text/plain": [
       "<Figure size 640x480 with 1 Axes>"
      ]
     },
     "metadata": {},
     "output_type": "display_data"
    }
   ],
   "source": [
    "import matplotlib.pyplot as plt\n",
    "plt.scatter(x=df[\"Fuel_Type\"],y=df[\"Price\"])\n",
    "plt.xlabel(\"Fuel_Type\")\n",
    "plt.ylabel(\"Price\")\n",
    "plt.show()"
   ]
  },
  {
   "cell_type": "code",
   "execution_count": 28,
   "id": "71a67992",
   "metadata": {},
   "outputs": [
    {
     "data": {
      "image/png": "[encoded data removed]",
      "text/plain": [
       "<Figure size 640x480 with 1 Axes>"
      ]
     },
     "metadata": {},
     "output_type": "display_data"
    }
   ],
   "source": [
    "import matplotlib.pyplot as plt\n",
    "plt.scatter(x=df[\"HP\"],y=df[\"Price\"])\n",
    "plt.xlabel(\"HP\")\n",
    "plt.ylabel(\"Price\")\n",
    "plt.show()"
   ]
  },
  {
   "cell_type": "code",
   "execution_count": 29,
   "id": "50952a9a",
   "metadata": {},
   "outputs": [
    {
     "data": {
      "image/png": "[encoded data removed]",
      "text/plain": [
       "<Figure size 640x480 with 1 Axes>"
      ]
     },
     "metadata": {},
     "output_type": "display_data"
    }
   ],
   "source": [
    "import matplotlib.pyplot as plt\n",
    "plt.scatter(x=df[\"Automatic\"],y=df[\"Price\"])\n",
    "plt.xlabel(\"Automatic\")\n",
    "plt.ylabel(\"Price\")\n",
    "plt.show()"
   ]
  },
  {
   "cell_type": "code",
   "execution_count": 30,
   "id": "3ee898e3",
   "metadata": {},
   "outputs": [
    {
     "data": {
      "image/png": "[encoded data removed]",
      "text/plain": [
       "<Figure size 640x480 with 1 Axes>"
      ]
     },
     "metadata": {},
     "output_type": "display_data"
    }
   ],
   "source": [
    "import matplotlib.pyplot as plt\n",
    "plt.scatter(x=df[\"cc\"],y=df[\"Price\"])\n",
    "plt.xlabel(\"cc\")\n",
    "plt.ylabel(\"Price\")\n",
    "plt.show()"
   ]
  },
  {
   "cell_type": "code",
   "execution_count": 31,
   "id": "6c072661",
   "metadata": {},
   "outputs": [
    {
     "data": {
      "image/png": "[encoded data removed]",
      "text/plain": [
       "<Figure size 640x480 with 1 Axes>"
      ]
     },
     "metadata": {},
     "output_type": "display_data"
    }
   ],
   "source": [
    "import matplotlib.pyplot as plt\n",
    "plt.scatter(x=df[\"Doors\"],y=df[\"Price\"])\n",
    "plt.xlabel(\"Doors\")\n",
    "plt.ylabel(\"Price\")\n",
    "plt.show()"
   ]
  },
  {
   "cell_type": "code",
   "execution_count": 32,
   "id": "14d64f1b",
   "metadata": {},
   "outputs": [
    {
     "data": {
      "image/png": "[encoded data removed]",
      "text/plain": [
       "<Figure size 640x480 with 1 Axes>"
      ]
     },
     "metadata": {},
     "output_type": "display_data"
    }
   ],
   "source": [
    "import matplotlib.pyplot as plt\n",
    "plt.scatter(x=df[\"Cylinders\"],y=df[\"Price\"])\n",
    "plt.xlabel(\"Cylinders\")\n",
    "plt.ylabel(\"Price\")\n",
    "plt.show()"
   ]
  },
  {
   "cell_type": "code",
   "execution_count": 33,
   "id": "35218034",
   "metadata": {},
   "outputs": [
    {
     "data": {
      "image/png": "[encoded data removed]",
      "text/plain": [
       "<Figure size 640x480 with 1 Axes>"
      ]
     },
     "metadata": {},
     "output_type": "display_data"
    }
   ],
   "source": [
    "import matplotlib.pyplot as plt\n",
    "plt.scatter(x=df[\"Gears\"],y=df[\"Price\"])\n",
    "plt.xlabel(\"Gears\")\n",
    "plt.ylabel(\"Price\")\n",
    "plt.show()"
   ]
  },
  {
   "cell_type": "code",
   "execution_count": 34,
   "id": "42d4ccb2",
   "metadata": {},
   "outputs": [
    {
     "data": {
      "image/png": "[encoded data removed]",
      "text/plain": [
       "<Figure size 640x480 with 1 Axes>"
      ]
     },
     "metadata": {},
     "output_type": "display_data"
    }
   ],
   "source": [
    "import matplotlib.pyplot as plt\n",
    "plt.scatter(x=df[\"Weight\"],y=df[\"Price\"])\n",
    "plt.xlabel(\"Weight\")\n",
    "plt.ylabel(\"Price\")\n",
    "plt.show()"
   ]
  },
  {
   "cell_type": "code",
   "execution_count": 35,
   "id": "a3b10a49",
   "metadata": {},
   "outputs": [
    {
     "data": {
      "image/png": "[encoded data removed]",
      "text/plain": [
       "<Figure size 640x480 with 1 Axes>"
      ]
     },
     "metadata": {},
     "output_type": "display_data"
    }
   ],
   "source": [
    "import matplotlib.pyplot as plt\n",
    "plt.boxplot(df[\"Age_08_04\"],vert=False)\n",
    "plt.show()"
   ]
  },
  {
   "cell_type": "code",
   "execution_count": 36,
   "id": "72b403e2",
   "metadata": {},
   "outputs": [
    {
     "data": {
      "image/png": "[encoded data removed]",
      "text/plain": [
       "<Figure size 640x480 with 1 Axes>"
      ]
     },
     "metadata": {},
     "output_type": "display_data"
    }
   ],
   "source": [
    "import matplotlib.pyplot as plt\n",
    "plt.boxplot(df[\"KM\"],vert=False)\n",
    "plt.show()"
   ]
  },
  {
   "cell_type": "code",
   "execution_count": 37,
   "id": "bf0bdb98",
   "metadata": {},
   "outputs": [],
   "source": [
    "#Treating outliers\n",
    "import numpy as np\n",
    "Q1 = np.percentile(df[\"KM\"],25)\n",
    "Q3 = np.percentile(df[\"KM\"],75)\n",
    "IQR = Q3 - Q1\n",
    "UW = Q3 + (1.5 * IQR)\n",
    "LW = Q1 - (1.5 * IQR)"
   ]
  },
  {
   "cell_type": "code",
   "execution_count": 38,
   "id": "cb3d680a",
   "metadata": {},
   "outputs": [
    {
     "name": "stderr",
     "output_type": "stream",
     "text": [
      "C:\\Users\\padal\\AppData\\Local\\Temp\\ipykernel_13680\\3515300231.py:2: SettingWithCopyWarning: \n",
      "A value is trying to be set on a copy of a slice from a DataFrame\n",
      "\n",
      "See the caveats in the documentation: https://pandas.pydata.org/pandas-docs/stable/user_guide/indexing.html#returning-a-view-versus-a-copy\n",
      "  df[\"KM\"][df[\"KM\"]>UW] = UW\n"
     ]
    }
   ],
   "source": [
    "#Replacing the outlier values with nearest whisker length\n",
    "df[\"KM\"][df[\"KM\"]>UW] = UW"
   ]
  },
  {
   "cell_type": "code",
   "execution_count": 39,
   "id": "8dc6d25e",
   "metadata": {},
   "outputs": [
    {
     "data": {
      "image/png": "[encoded data removed]",
      "text/plain": [
       "<Figure size 640x480 with 1 Axes>"
      ]
     },
     "metadata": {},
     "output_type": "display_data"
    }
   ],
   "source": [
    "import matplotlib.pyplot as plt\n",
    "plt.boxplot(df[\"HP\"],vert=False)\n",
    "plt.show()"
   ]
  },
  {
   "cell_type": "code",
   "execution_count": 40,
   "id": "ac4d5dbb",
   "metadata": {},
   "outputs": [
    {
     "data": {
      "image/png": "[encoded data removed]",
      "text/plain": [
       "<Figure size 640x480 with 1 Axes>"
      ]
     },
     "metadata": {},
     "output_type": "display_data"
    }
   ],
   "source": [
    "import matplotlib.pyplot as plt\n",
    "plt.boxplot(df[\"Weight\"],vert=False)\n",
    "plt.show()"
   ]
  },
  {
   "cell_type": "code",
   "execution_count": 41,
   "id": "f762b7de",
   "metadata": {},
   "outputs": [],
   "source": [
    "#Treating outliers\n",
    "import numpy as np\n",
    "Q1 = np.percentile(df[\"Weight\"],25)\n",
    "Q3 = np.percentile(df[\"Weight\"],75)\n",
    "IQR = Q3 - Q1\n",
    "UW = Q3 + (1.5 * IQR)\n",
    "LW = Q1 - (1.5 * IQR)"
   ]
  },
  {
   "cell_type": "code",
   "execution_count": 42,
   "id": "f4006b8b",
   "metadata": {},
   "outputs": [
    {
     "name": "stderr",
     "output_type": "stream",
     "text": [
      "C:\\Users\\padal\\AppData\\Local\\Temp\\ipykernel_13680\\159012813.py:1: SettingWithCopyWarning: \n",
      "A value is trying to be set on a copy of a slice from a DataFrame\n",
      "\n",
      "See the caveats in the documentation: https://pandas.pydata.org/pandas-docs/stable/user_guide/indexing.html#returning-a-view-versus-a-copy\n",
      "  df[\"Weight\"][df[\"Weight\"]>UW] = UW\n"
     ]
    }
   ],
   "source": [
    "df[\"Weight\"][df[\"Weight\"]>UW] = UW"
   ]
  },
  {
   "cell_type": "code",
   "execution_count": 43,
   "id": "bcd16cfa",
   "metadata": {},
   "outputs": [
    {
     "data": {
      "text/html": [
       "<div>\n",
       "<style scoped>\n",
       "    .dataframe tbody tr th:only-of-type {\n",
       "        vertical-align: middle;\n",
       "    }\n",
       "\n",
       "    .dataframe tbody tr th {\n",
       "        vertical-align: top;\n",
       "    }\n",
       "\n",
       "    .dataframe thead th {\n",
       "        text-align: right;\n",
       "    }\n",
       "</style>\n",
       "<table border=\"1\" class=\"dataframe\">\n",
       "  <thead>\n",
       "    <tr style=\"text-align: right;\">\n",
       "      <th></th>\n",
       "      <th>Price</th>\n",
       "      <th>Age_08_04</th>\n",
       "      <th>KM</th>\n",
       "      <th>Fuel_Type</th>\n",
       "      <th>HP</th>\n",
       "      <th>Automatic</th>\n",
       "      <th>cc</th>\n",
       "      <th>Doors</th>\n",
       "      <th>Cylinders</th>\n",
       "      <th>Gears</th>\n",
       "      <th>Weight</th>\n",
       "    </tr>\n",
       "  </thead>\n",
       "  <tbody>\n",
       "    <tr>\n",
       "      <th>0</th>\n",
       "      <td>13500</td>\n",
       "      <td>23</td>\n",
       "      <td>46986.0</td>\n",
       "      <td>1</td>\n",
       "      <td>90</td>\n",
       "      <td>0</td>\n",
       "      <td>2000</td>\n",
       "      <td>3</td>\n",
       "      <td>4</td>\n",
       "      <td>5</td>\n",
       "      <td>1152.5</td>\n",
       "    </tr>\n",
       "    <tr>\n",
       "      <th>1</th>\n",
       "      <td>13750</td>\n",
       "      <td>23</td>\n",
       "      <td>72937.0</td>\n",
       "      <td>1</td>\n",
       "      <td>90</td>\n",
       "      <td>0</td>\n",
       "      <td>2000</td>\n",
       "      <td>3</td>\n",
       "      <td>4</td>\n",
       "      <td>5</td>\n",
       "      <td>1152.5</td>\n",
       "    </tr>\n",
       "    <tr>\n",
       "      <th>2</th>\n",
       "      <td>13950</td>\n",
       "      <td>24</td>\n",
       "      <td>41711.0</td>\n",
       "      <td>1</td>\n",
       "      <td>90</td>\n",
       "      <td>0</td>\n",
       "      <td>2000</td>\n",
       "      <td>3</td>\n",
       "      <td>4</td>\n",
       "      <td>5</td>\n",
       "      <td>1152.5</td>\n",
       "    </tr>\n",
       "    <tr>\n",
       "      <th>3</th>\n",
       "      <td>14950</td>\n",
       "      <td>26</td>\n",
       "      <td>48000.0</td>\n",
       "      <td>1</td>\n",
       "      <td>90</td>\n",
       "      <td>0</td>\n",
       "      <td>2000</td>\n",
       "      <td>3</td>\n",
       "      <td>4</td>\n",
       "      <td>5</td>\n",
       "      <td>1152.5</td>\n",
       "    </tr>\n",
       "    <tr>\n",
       "      <th>4</th>\n",
       "      <td>13750</td>\n",
       "      <td>30</td>\n",
       "      <td>38500.0</td>\n",
       "      <td>1</td>\n",
       "      <td>90</td>\n",
       "      <td>0</td>\n",
       "      <td>2000</td>\n",
       "      <td>3</td>\n",
       "      <td>4</td>\n",
       "      <td>5</td>\n",
       "      <td>1152.5</td>\n",
       "    </tr>\n",
       "    <tr>\n",
       "      <th>...</th>\n",
       "      <td>...</td>\n",
       "      <td>...</td>\n",
       "      <td>...</td>\n",
       "      <td>...</td>\n",
       "      <td>...</td>\n",
       "      <td>...</td>\n",
       "      <td>...</td>\n",
       "      <td>...</td>\n",
       "      <td>...</td>\n",
       "      <td>...</td>\n",
       "      <td>...</td>\n",
       "    </tr>\n",
       "    <tr>\n",
       "      <th>1431</th>\n",
       "      <td>7500</td>\n",
       "      <td>69</td>\n",
       "      <td>20544.0</td>\n",
       "      <td>2</td>\n",
       "      <td>86</td>\n",
       "      <td>0</td>\n",
       "      <td>1300</td>\n",
       "      <td>3</td>\n",
       "      <td>4</td>\n",
       "      <td>5</td>\n",
       "      <td>1025.0</td>\n",
       "    </tr>\n",
       "    <tr>\n",
       "      <th>1432</th>\n",
       "      <td>10845</td>\n",
       "      <td>72</td>\n",
       "      <td>19000.0</td>\n",
       "      <td>2</td>\n",
       "      <td>86</td>\n",
       "      <td>0</td>\n",
       "      <td>1300</td>\n",
       "      <td>3</td>\n",
       "      <td>4</td>\n",
       "      <td>5</td>\n",
       "      <td>1015.0</td>\n",
       "    </tr>\n",
       "    <tr>\n",
       "      <th>1433</th>\n",
       "      <td>8500</td>\n",
       "      <td>71</td>\n",
       "      <td>17016.0</td>\n",
       "      <td>2</td>\n",
       "      <td>86</td>\n",
       "      <td>0</td>\n",
       "      <td>1300</td>\n",
       "      <td>3</td>\n",
       "      <td>4</td>\n",
       "      <td>5</td>\n",
       "      <td>1015.0</td>\n",
       "    </tr>\n",
       "    <tr>\n",
       "      <th>1434</th>\n",
       "      <td>7250</td>\n",
       "      <td>70</td>\n",
       "      <td>16916.0</td>\n",
       "      <td>2</td>\n",
       "      <td>86</td>\n",
       "      <td>0</td>\n",
       "      <td>1300</td>\n",
       "      <td>3</td>\n",
       "      <td>4</td>\n",
       "      <td>5</td>\n",
       "      <td>1015.0</td>\n",
       "    </tr>\n",
       "    <tr>\n",
       "      <th>1435</th>\n",
       "      <td>6950</td>\n",
       "      <td>76</td>\n",
       "      <td>1.0</td>\n",
       "      <td>2</td>\n",
       "      <td>110</td>\n",
       "      <td>0</td>\n",
       "      <td>1600</td>\n",
       "      <td>5</td>\n",
       "      <td>4</td>\n",
       "      <td>5</td>\n",
       "      <td>1114.0</td>\n",
       "    </tr>\n",
       "  </tbody>\n",
       "</table>\n",
       "<p>1436 rows × 11 columns</p>\n",
       "</div>"
      ],
      "text/plain": [
       "      Price  Age_08_04       KM  Fuel_Type   HP  Automatic    cc  Doors  \\\n",
       "0     13500         23  46986.0          1   90          0  2000      3   \n",
       "1     13750         23  72937.0          1   90          0  2000      3   \n",
       "2     13950         24  41711.0          1   90          0  2000      3   \n",
       "3     14950         26  48000.0          1   90          0  2000      3   \n",
       "4     13750         30  38500.0          1   90          0  2000      3   \n",
       "...     ...        ...      ...        ...  ...        ...   ...    ...   \n",
       "1431   7500         69  20544.0          2   86          0  1300      3   \n",
       "1432  10845         72  19000.0          2   86          0  1300      3   \n",
       "1433   8500         71  17016.0          2   86          0  1300      3   \n",
       "1434   7250         70  16916.0          2   86          0  1300      3   \n",
       "1435   6950         76      1.0          2  110          0  1600      5   \n",
       "\n",
       "      Cylinders  Gears  Weight  \n",
       "0             4      5  1152.5  \n",
       "1             4      5  1152.5  \n",
       "2             4      5  1152.5  \n",
       "3             4      5  1152.5  \n",
       "4             4      5  1152.5  \n",
       "...         ...    ...     ...  \n",
       "1431          4      5  1025.0  \n",
       "1432          4      5  1015.0  \n",
       "1433          4      5  1015.0  \n",
       "1434          4      5  1015.0  \n",
       "1435          4      5  1114.0  \n",
       "\n",
       "[1436 rows x 11 columns]"
      ]
     },
     "execution_count": 43,
     "metadata": {},
     "output_type": "execute_result"
    }
   ],
   "source": [
    "#Data transformation\n",
    "from sklearn.preprocessing import LabelEncoder\n",
    "LE = LabelEncoder()\n",
    "df[\"Fuel_Type\"] = LE.fit_transform(df[\"Fuel_Type\"])\n",
    "df"
   ]
  },
  {
   "cell_type": "markdown",
   "id": "1b36195a",
   "metadata": {},
   "source": [
    "### Model 1:"
   ]
  },
  {
   "cell_type": "code",
   "execution_count": 44,
   "id": "e0aa6018",
   "metadata": {},
   "outputs": [],
   "source": [
    "X = df.iloc[:,1:11]\n",
    "Y = df[\"Price\"]"
   ]
  },
  {
   "cell_type": "markdown",
   "id": "3c0c62d4",
   "metadata": {},
   "source": [
    "## Splitting data into training and testing data"
   ]
  },
  {
   "cell_type": "code",
   "execution_count": 45,
   "id": "19af7fde",
   "metadata": {},
   "outputs": [],
   "source": [
    "from sklearn.model_selection import train_test_split"
   ]
  },
  {
   "cell_type": "code",
   "execution_count": 46,
   "id": "5016ae25",
   "metadata": {},
   "outputs": [],
   "source": [
    "X_train,X_test,Y_train,Y_test = train_test_split(X,Y,test_size=0.2)"
   ]
  },
  {
   "cell_type": "markdown",
   "id": "06087568",
   "metadata": {},
   "source": [
    "## Multiple linear regression"
   ]
  },
  {
   "cell_type": "code",
   "execution_count": 47,
   "id": "35838788",
   "metadata": {},
   "outputs": [],
   "source": [
    "from sklearn.linear_model import LinearRegression\n",
    "model1 = LinearRegression()"
   ]
  },
  {
   "cell_type": "code",
   "execution_count": 48,
   "id": "afaa7827",
   "metadata": {},
   "outputs": [
    {
     "data": {
      "text/plain": [
       "LinearRegression()"
      ]
     },
     "execution_count": 48,
     "metadata": {},
     "output_type": "execute_result"
    }
   ],
   "source": [
    "model1.fit(X_train,Y_train)"
   ]
  },
  {
   "cell_type": "code",
   "execution_count": 49,
   "id": "c18fde26",
   "metadata": {},
   "outputs": [
    {
     "data": {
      "text/html": [
       "<div>\n",
       "<style scoped>\n",
       "    .dataframe tbody tr th:only-of-type {\n",
       "        vertical-align: middle;\n",
       "    }\n",
       "\n",
       "    .dataframe tbody tr th {\n",
       "        vertical-align: top;\n",
       "    }\n",
       "\n",
       "    .dataframe thead th {\n",
       "        text-align: right;\n",
       "    }\n",
       "</style>\n",
       "<table border=\"1\" class=\"dataframe\">\n",
       "  <thead>\n",
       "    <tr style=\"text-align: right;\">\n",
       "      <th></th>\n",
       "      <th>0</th>\n",
       "    </tr>\n",
       "  </thead>\n",
       "  <tbody>\n",
       "    <tr>\n",
       "      <th>0</th>\n",
       "      <td>-1.252921e+02</td>\n",
       "    </tr>\n",
       "    <tr>\n",
       "      <th>1</th>\n",
       "      <td>-2.064061e-02</td>\n",
       "    </tr>\n",
       "    <tr>\n",
       "      <th>2</th>\n",
       "      <td>1.281326e+02</td>\n",
       "    </tr>\n",
       "    <tr>\n",
       "      <th>3</th>\n",
       "      <td>3.340631e+01</td>\n",
       "    </tr>\n",
       "    <tr>\n",
       "      <th>4</th>\n",
       "      <td>3.004034e+02</td>\n",
       "    </tr>\n",
       "    <tr>\n",
       "      <th>5</th>\n",
       "      <td>7.439479e-03</td>\n",
       "    </tr>\n",
       "    <tr>\n",
       "      <th>6</th>\n",
       "      <td>-6.157591e+01</td>\n",
       "    </tr>\n",
       "    <tr>\n",
       "      <th>7</th>\n",
       "      <td>-4.067857e-13</td>\n",
       "    </tr>\n",
       "    <tr>\n",
       "      <th>8</th>\n",
       "      <td>5.808199e+02</td>\n",
       "    </tr>\n",
       "    <tr>\n",
       "      <th>9</th>\n",
       "      <td>2.176608e+01</td>\n",
       "    </tr>\n",
       "  </tbody>\n",
       "</table>\n",
       "</div>"
      ],
      "text/plain": [
       "              0\n",
       "0 -1.252921e+02\n",
       "1 -2.064061e-02\n",
       "2  1.281326e+02\n",
       "3  3.340631e+01\n",
       "4  3.004034e+02\n",
       "5  7.439479e-03\n",
       "6 -6.157591e+01\n",
       "7 -4.067857e-13\n",
       "8  5.808199e+02\n",
       "9  2.176608e+01"
      ]
     },
     "execution_count": 49,
     "metadata": {},
     "output_type": "execute_result"
    }
   ],
   "source": [
    "pd.DataFrame(model1.coef_)"
   ]
  },
  {
   "cell_type": "code",
   "execution_count": 50,
   "id": "eee5dde9",
   "metadata": {},
   "outputs": [],
   "source": [
    "Y_pred_train = model1.predict(X_train)\n",
    "Y_pred_test = model1.predict(X_test)"
   ]
  },
  {
   "cell_type": "code",
   "execution_count": null,
   "id": "19d98556",
   "metadata": {},
   "outputs": [],
   "source": [
    "from sklearn.metrics import r2_score,mean_squared_error\n",
    "import numpy as np"
   ]
  },
  {
   "cell_type": "code",
   "execution_count": 52,
   "id": "75ca7fe3",
   "metadata": {},
   "outputs": [],
   "source": [
    "train_acc = []\n",
    "test_acc = []"
   ]
  },
  {
   "cell_type": "code",
   "execution_count": 53,
   "id": "47bade48",
   "metadata": {},
   "outputs": [],
   "source": [
    "#Accuracy\n",
    "for i in range(1,101):\n",
    "    from sklearn.model_selection import train_test_split\n",
    "    X_train,X_test,Y_train,Y_test = train_test_split(X,Y,test_size=0.2)\n",
    "    from sklearn.linear_model import LinearRegression\n",
    "    model1 = LinearRegression()\n",
    "    model1.fit(X_train,Y_train)\n",
    "    Y_pred_train = model1.predict(X_train)\n",
    "    Y_pred_test = model1.predict(X_test)\n",
    "    train_acc.append(r2_score(Y_train,Y_pred_train))\n",
    "    test_acc.append(r2_score(Y_test,Y_pred_test))"
   ]
  },
  {
   "cell_type": "code",
   "execution_count": 54,
   "id": "e5121768",
   "metadata": {},
   "outputs": [
    {
     "name": "stdout",
     "output_type": "stream",
     "text": [
      "Model1 training data performance:  0.85\n",
      "Model1 testing data performance:  0.8\n"
     ]
    }
   ],
   "source": [
    "print(\"Model1 training data performance: \",np.round(np.mean(train_acc),2))\n",
    "print(\"Model1 testing data performance: \",np.round(np.mean(test_acc),2))"
   ]
  },
  {
   "cell_type": "code",
   "execution_count": 55,
   "id": "a1ec6514",
   "metadata": {},
   "outputs": [],
   "source": [
    "training_acc = []\n",
    "testing_acc = []"
   ]
  },
  {
   "cell_type": "code",
   "execution_count": 56,
   "id": "ad479893",
   "metadata": {},
   "outputs": [],
   "source": [
    "#Loss function\n",
    "for i in range(1,101):\n",
    "    from sklearn.model_selection import train_test_split\n",
    "    X_train,X_test,Y_train,Y_test = train_test_split(X,Y,test_size=0.2)\n",
    "    from sklearn.linear_model import LinearRegression\n",
    "    model1 = LinearRegression()\n",
    "    model1.fit(X_train,Y_train)\n",
    "    Y_pred_train = model1.predict(X_train)\n",
    "    Y_pred_test = model1.predict(X_test)\n",
    "    training_acc.append(mean_squared_error(Y_train,Y_pred_train,squared=False))\n",
    "    testing_acc.append(mean_squared_error(Y_test,Y_pred_test,squared=False))"
   ]
  },
  {
   "cell_type": "code",
   "execution_count": 57,
   "id": "c2fbcd2f",
   "metadata": {},
   "outputs": [
    {
     "name": "stdout",
     "output_type": "stream",
     "text": [
      "Model1 train rmse:  1429.69\n",
      "Model1 test rmse:  1546.06\n"
     ]
    }
   ],
   "source": [
    "print(\"Model1 train rmse: \",np.round(np.mean(training_acc),2))\n",
    "print(\"Model1 test rmse: \",np.round(np.mean(testing_acc),2))"
   ]
  },
  {
   "cell_type": "markdown",
   "id": "d4659d96",
   "metadata": {},
   "source": [
    "## Lasso and Ridge methods "
   ]
  },
  {
   "cell_type": "code",
   "execution_count": 58,
   "id": "088a497d",
   "metadata": {},
   "outputs": [],
   "source": [
    "#Lasso regression\n",
    "from sklearn.linear_model import Lasso\n",
    "lass_c = Lasso(alpha=4.0)"
   ]
  },
  {
   "cell_type": "code",
   "execution_count": 59,
   "id": "63523074",
   "metadata": {},
   "outputs": [
    {
     "data": {
      "text/plain": [
       "Lasso(alpha=4.0)"
      ]
     },
     "execution_count": 59,
     "metadata": {},
     "output_type": "execute_result"
    }
   ],
   "source": [
    "lass_c.fit(X_train,Y_train)"
   ]
  },
  {
   "cell_type": "code",
   "execution_count": 60,
   "id": "c96c0546",
   "metadata": {},
   "outputs": [],
   "source": [
    "d1 = pd.DataFrame(list(X))\n",
    "d2 = pd.DataFrame(model1.coef_)\n",
    "d3 = pd.DataFrame(lass_c.coef_)"
   ]
  },
  {
   "cell_type": "code",
   "execution_count": 61,
   "id": "d464bf27",
   "metadata": {},
   "outputs": [
    {
     "data": {
      "text/html": [
       "<div>\n",
       "<style scoped>\n",
       "    .dataframe tbody tr th:only-of-type {\n",
       "        vertical-align: middle;\n",
       "    }\n",
       "\n",
       "    .dataframe tbody tr th {\n",
       "        vertical-align: top;\n",
       "    }\n",
       "\n",
       "    .dataframe thead th {\n",
       "        text-align: right;\n",
       "    }\n",
       "</style>\n",
       "<table border=\"1\" class=\"dataframe\">\n",
       "  <thead>\n",
       "    <tr style=\"text-align: right;\">\n",
       "      <th></th>\n",
       "      <th>0</th>\n",
       "      <th>0</th>\n",
       "      <th>0</th>\n",
       "    </tr>\n",
       "  </thead>\n",
       "  <tbody>\n",
       "    <tr>\n",
       "      <th>0</th>\n",
       "      <td>Age_08_04</td>\n",
       "      <td>-1.212331e+02</td>\n",
       "      <td>-120.839307</td>\n",
       "    </tr>\n",
       "    <tr>\n",
       "      <th>1</th>\n",
       "      <td>KM</td>\n",
       "      <td>-1.978909e-02</td>\n",
       "      <td>-0.019907</td>\n",
       "    </tr>\n",
       "    <tr>\n",
       "      <th>2</th>\n",
       "      <td>Fuel_Type</td>\n",
       "      <td>7.806785e+01</td>\n",
       "      <td>1.317596</td>\n",
       "    </tr>\n",
       "    <tr>\n",
       "      <th>3</th>\n",
       "      <td>HP</td>\n",
       "      <td>3.219539e+01</td>\n",
       "      <td>33.352840</td>\n",
       "    </tr>\n",
       "    <tr>\n",
       "      <th>4</th>\n",
       "      <td>Automatic</td>\n",
       "      <td>1.448102e+02</td>\n",
       "      <td>43.421549</td>\n",
       "    </tr>\n",
       "    <tr>\n",
       "      <th>5</th>\n",
       "      <td>cc</td>\n",
       "      <td>-1.596438e+00</td>\n",
       "      <td>-1.711543</td>\n",
       "    </tr>\n",
       "    <tr>\n",
       "      <th>6</th>\n",
       "      <td>Doors</td>\n",
       "      <td>-1.121991e+02</td>\n",
       "      <td>-113.242266</td>\n",
       "    </tr>\n",
       "    <tr>\n",
       "      <th>7</th>\n",
       "      <td>Cylinders</td>\n",
       "      <td>-5.684342e-14</td>\n",
       "      <td>0.000000</td>\n",
       "    </tr>\n",
       "    <tr>\n",
       "      <th>8</th>\n",
       "      <td>Gears</td>\n",
       "      <td>5.915539e+02</td>\n",
       "      <td>460.434978</td>\n",
       "    </tr>\n",
       "    <tr>\n",
       "      <th>9</th>\n",
       "      <td>Weight</td>\n",
       "      <td>2.915119e+01</td>\n",
       "      <td>29.282963</td>\n",
       "    </tr>\n",
       "  </tbody>\n",
       "</table>\n",
       "</div>"
      ],
      "text/plain": [
       "           0             0           0\n",
       "0  Age_08_04 -1.212331e+02 -120.839307\n",
       "1         KM -1.978909e-02   -0.019907\n",
       "2  Fuel_Type  7.806785e+01    1.317596\n",
       "3         HP  3.219539e+01   33.352840\n",
       "4  Automatic  1.448102e+02   43.421549\n",
       "5         cc -1.596438e+00   -1.711543\n",
       "6      Doors -1.121991e+02 -113.242266\n",
       "7  Cylinders -5.684342e-14    0.000000\n",
       "8      Gears  5.915539e+02  460.434978\n",
       "9     Weight  2.915119e+01   29.282963"
      ]
     },
     "execution_count": 61,
     "metadata": {},
     "output_type": "execute_result"
    }
   ],
   "source": [
    "df_coef = pd.concat([d1,d2,d3],axis=1)\n",
    "df_coef"
   ]
  },
  {
   "cell_type": "code",
   "execution_count": 62,
   "id": "97de5548",
   "metadata": {},
   "outputs": [
    {
     "data": {
      "text/html": [
       "<div>\n",
       "<style scoped>\n",
       "    .dataframe tbody tr th:only-of-type {\n",
       "        vertical-align: middle;\n",
       "    }\n",
       "\n",
       "    .dataframe tbody tr th {\n",
       "        vertical-align: top;\n",
       "    }\n",
       "\n",
       "    .dataframe thead th {\n",
       "        text-align: right;\n",
       "    }\n",
       "</style>\n",
       "<table border=\"1\" class=\"dataframe\">\n",
       "  <thead>\n",
       "    <tr style=\"text-align: right;\">\n",
       "      <th></th>\n",
       "      <th>Age_08_04</th>\n",
       "      <th>KM</th>\n",
       "      <th>HP</th>\n",
       "      <th>cc</th>\n",
       "      <th>Doors</th>\n",
       "      <th>Gears</th>\n",
       "      <th>Weight</th>\n",
       "    </tr>\n",
       "  </thead>\n",
       "  <tbody>\n",
       "    <tr>\n",
       "      <th>0</th>\n",
       "      <td>23</td>\n",
       "      <td>46986.0</td>\n",
       "      <td>90</td>\n",
       "      <td>2000</td>\n",
       "      <td>3</td>\n",
       "      <td>5</td>\n",
       "      <td>1152.5</td>\n",
       "    </tr>\n",
       "    <tr>\n",
       "      <th>1</th>\n",
       "      <td>23</td>\n",
       "      <td>72937.0</td>\n",
       "      <td>90</td>\n",
       "      <td>2000</td>\n",
       "      <td>3</td>\n",
       "      <td>5</td>\n",
       "      <td>1152.5</td>\n",
       "    </tr>\n",
       "    <tr>\n",
       "      <th>2</th>\n",
       "      <td>24</td>\n",
       "      <td>41711.0</td>\n",
       "      <td>90</td>\n",
       "      <td>2000</td>\n",
       "      <td>3</td>\n",
       "      <td>5</td>\n",
       "      <td>1152.5</td>\n",
       "    </tr>\n",
       "    <tr>\n",
       "      <th>3</th>\n",
       "      <td>26</td>\n",
       "      <td>48000.0</td>\n",
       "      <td>90</td>\n",
       "      <td>2000</td>\n",
       "      <td>3</td>\n",
       "      <td>5</td>\n",
       "      <td>1152.5</td>\n",
       "    </tr>\n",
       "    <tr>\n",
       "      <th>4</th>\n",
       "      <td>30</td>\n",
       "      <td>38500.0</td>\n",
       "      <td>90</td>\n",
       "      <td>2000</td>\n",
       "      <td>3</td>\n",
       "      <td>5</td>\n",
       "      <td>1152.5</td>\n",
       "    </tr>\n",
       "    <tr>\n",
       "      <th>...</th>\n",
       "      <td>...</td>\n",
       "      <td>...</td>\n",
       "      <td>...</td>\n",
       "      <td>...</td>\n",
       "      <td>...</td>\n",
       "      <td>...</td>\n",
       "      <td>...</td>\n",
       "    </tr>\n",
       "    <tr>\n",
       "      <th>1431</th>\n",
       "      <td>69</td>\n",
       "      <td>20544.0</td>\n",
       "      <td>86</td>\n",
       "      <td>1300</td>\n",
       "      <td>3</td>\n",
       "      <td>5</td>\n",
       "      <td>1025.0</td>\n",
       "    </tr>\n",
       "    <tr>\n",
       "      <th>1432</th>\n",
       "      <td>72</td>\n",
       "      <td>19000.0</td>\n",
       "      <td>86</td>\n",
       "      <td>1300</td>\n",
       "      <td>3</td>\n",
       "      <td>5</td>\n",
       "      <td>1015.0</td>\n",
       "    </tr>\n",
       "    <tr>\n",
       "      <th>1433</th>\n",
       "      <td>71</td>\n",
       "      <td>17016.0</td>\n",
       "      <td>86</td>\n",
       "      <td>1300</td>\n",
       "      <td>3</td>\n",
       "      <td>5</td>\n",
       "      <td>1015.0</td>\n",
       "    </tr>\n",
       "    <tr>\n",
       "      <th>1434</th>\n",
       "      <td>70</td>\n",
       "      <td>16916.0</td>\n",
       "      <td>86</td>\n",
       "      <td>1300</td>\n",
       "      <td>3</td>\n",
       "      <td>5</td>\n",
       "      <td>1015.0</td>\n",
       "    </tr>\n",
       "    <tr>\n",
       "      <th>1435</th>\n",
       "      <td>76</td>\n",
       "      <td>1.0</td>\n",
       "      <td>110</td>\n",
       "      <td>1600</td>\n",
       "      <td>5</td>\n",
       "      <td>5</td>\n",
       "      <td>1114.0</td>\n",
       "    </tr>\n",
       "  </tbody>\n",
       "</table>\n",
       "<p>1436 rows × 7 columns</p>\n",
       "</div>"
      ],
      "text/plain": [
       "      Age_08_04       KM   HP    cc  Doors  Gears  Weight\n",
       "0            23  46986.0   90  2000      3      5  1152.5\n",
       "1            23  72937.0   90  2000      3      5  1152.5\n",
       "2            24  41711.0   90  2000      3      5  1152.5\n",
       "3            26  48000.0   90  2000      3      5  1152.5\n",
       "4            30  38500.0   90  2000      3      5  1152.5\n",
       "...         ...      ...  ...   ...    ...    ...     ...\n",
       "1431         69  20544.0   86  1300      3      5  1025.0\n",
       "1432         72  19000.0   86  1300      3      5  1015.0\n",
       "1433         71  17016.0   86  1300      3      5  1015.0\n",
       "1434         70  16916.0   86  1300      3      5  1015.0\n",
       "1435         76      1.0  110  1600      5      5  1114.0\n",
       "\n",
       "[1436 rows x 7 columns]"
      ]
     },
     "execution_count": 62,
     "metadata": {},
     "output_type": "execute_result"
    }
   ],
   "source": [
    "X_new = X.drop(X.columns[[2,4,7]],axis=1)\n",
    "X_new"
   ]
  },
  {
   "cell_type": "code",
   "execution_count": 63,
   "id": "6c54110d",
   "metadata": {},
   "outputs": [],
   "source": [
    "train_acc = []\n",
    "test_acc = []"
   ]
  },
  {
   "cell_type": "code",
   "execution_count": 64,
   "id": "c48b98e4",
   "metadata": {},
   "outputs": [],
   "source": [
    "#Accuracy\n",
    "for i in range(1,101):\n",
    "    from sklearn.model_selection import train_test_split\n",
    "    X_train,X_test,Y_train,Y_test = train_test_split(X_new,Y,test_size=0.2)\n",
    "    from sklearn.linear_model import LinearRegression\n",
    "    model1 = LinearRegression()\n",
    "    model1.fit(X_train,Y_train)\n",
    "    Y_pred_train = model1.predict(X_train)\n",
    "    Y_pred_test = model1.predict(X_test)\n",
    "    train_acc.append(r2_score(Y_train,Y_pred_train))\n",
    "    test_acc.append(r2_score(Y_test,Y_pred_test))"
   ]
  },
  {
   "cell_type": "code",
   "execution_count": 65,
   "id": "c41984bc",
   "metadata": {},
   "outputs": [
    {
     "name": "stdout",
     "output_type": "stream",
     "text": [
      "Model1 training data performance:  0.84\n",
      "Model1 testing data performance:  0.82\n"
     ]
    }
   ],
   "source": [
    "print(\"Model1 training data performance: \",np.round(np.mean(train_acc),2))\n",
    "print(\"Model1 testing data performance: \",np.round(np.mean(test_acc),2))"
   ]
  },
  {
   "cell_type": "code",
   "execution_count": 66,
   "id": "b89b0ca1",
   "metadata": {},
   "outputs": [],
   "source": [
    "training_acc = []\n",
    "testing_acc = []"
   ]
  },
  {
   "cell_type": "code",
   "execution_count": 67,
   "id": "4d7c3a6a",
   "metadata": {},
   "outputs": [],
   "source": [
    "#Loss function\n",
    "for i in range(1,101):\n",
    "    from sklearn.model_selection import train_test_split\n",
    "    X_train,X_test,Y_train,Y_test = train_test_split(X,Y,test_size=0.2)\n",
    "    from sklearn.linear_model import LinearRegression\n",
    "    model1 = LinearRegression()\n",
    "    model1.fit(X_train,Y_train)\n",
    "    Y_pred_train = model1.predict(X_train)\n",
    "    Y_pred_test = model1.predict(X_test)\n",
    "    training_acc.append(mean_squared_error(Y_train,Y_pred_train,squared=False))\n",
    "    testing_acc.append(mean_squared_error(Y_test,Y_pred_test,squared=False))"
   ]
  },
  {
   "cell_type": "code",
   "execution_count": 68,
   "id": "7e6d8871",
   "metadata": {},
   "outputs": [
    {
     "name": "stdout",
     "output_type": "stream",
     "text": [
      "Model1 train rmse:  1425.17\n",
      "Model1 test rmse:  1568.63\n"
     ]
    }
   ],
   "source": [
    "print(\"Model1 train rmse: \",np.round(np.mean(training_acc),2))\n",
    "print(\"Model1 test rmse: \",np.round(np.mean(testing_acc),2))"
   ]
  },
  {
   "cell_type": "code",
   "execution_count": 69,
   "id": "280fff61",
   "metadata": {},
   "outputs": [],
   "source": [
    "#Ridge regression\n",
    "from sklearn.linear_model import Ridge\n",
    "Ridge_c = Ridge(alpha=9.0)"
   ]
  },
  {
   "cell_type": "code",
   "execution_count": 70,
   "id": "afd7e3cb",
   "metadata": {},
   "outputs": [
    {
     "data": {
      "text/plain": [
       "Ridge(alpha=9.0)"
      ]
     },
     "execution_count": 70,
     "metadata": {},
     "output_type": "execute_result"
    }
   ],
   "source": [
    "Ridge_c.fit(X_train,Y_train)"
   ]
  },
  {
   "cell_type": "code",
   "execution_count": 71,
   "id": "00cd765e",
   "metadata": {},
   "outputs": [],
   "source": [
    "d1 = pd.DataFrame(list(X))\n",
    "d2 = pd.DataFrame(model1.coef_)\n",
    "d3 = pd.DataFrame(Ridge_c.coef_)"
   ]
  },
  {
   "cell_type": "code",
   "execution_count": 72,
   "id": "15df6e09",
   "metadata": {},
   "outputs": [
    {
     "data": {
      "text/html": [
       "<div>\n",
       "<style scoped>\n",
       "    .dataframe tbody tr th:only-of-type {\n",
       "        vertical-align: middle;\n",
       "    }\n",
       "\n",
       "    .dataframe tbody tr th {\n",
       "        vertical-align: top;\n",
       "    }\n",
       "\n",
       "    .dataframe thead th {\n",
       "        text-align: right;\n",
       "    }\n",
       "</style>\n",
       "<table border=\"1\" class=\"dataframe\">\n",
       "  <thead>\n",
       "    <tr style=\"text-align: right;\">\n",
       "      <th></th>\n",
       "      <th>0</th>\n",
       "      <th>0</th>\n",
       "      <th>0</th>\n",
       "    </tr>\n",
       "  </thead>\n",
       "  <tbody>\n",
       "    <tr>\n",
       "      <th>0</th>\n",
       "      <td>Age_08_04</td>\n",
       "      <td>-1.252463e+02</td>\n",
       "      <td>-125.149938</td>\n",
       "    </tr>\n",
       "    <tr>\n",
       "      <th>1</th>\n",
       "      <td>KM</td>\n",
       "      <td>-2.106029e-02</td>\n",
       "      <td>-0.021124</td>\n",
       "    </tr>\n",
       "    <tr>\n",
       "      <th>2</th>\n",
       "      <td>Fuel_Type</td>\n",
       "      <td>2.446458e+02</td>\n",
       "      <td>219.647820</td>\n",
       "    </tr>\n",
       "    <tr>\n",
       "      <th>3</th>\n",
       "      <td>HP</td>\n",
       "      <td>3.010206e+01</td>\n",
       "      <td>30.660029</td>\n",
       "    </tr>\n",
       "    <tr>\n",
       "      <th>4</th>\n",
       "      <td>Automatic</td>\n",
       "      <td>1.442100e+02</td>\n",
       "      <td>124.652647</td>\n",
       "    </tr>\n",
       "    <tr>\n",
       "      <th>5</th>\n",
       "      <td>cc</td>\n",
       "      <td>-3.230628e-02</td>\n",
       "      <td>-0.033513</td>\n",
       "    </tr>\n",
       "    <tr>\n",
       "      <th>6</th>\n",
       "      <td>Doors</td>\n",
       "      <td>-2.448470e+01</td>\n",
       "      <td>-27.394604</td>\n",
       "    </tr>\n",
       "    <tr>\n",
       "      <th>7</th>\n",
       "      <td>Cylinders</td>\n",
       "      <td>-8.526513e-14</td>\n",
       "      <td>0.000000</td>\n",
       "    </tr>\n",
       "    <tr>\n",
       "      <th>8</th>\n",
       "      <td>Gears</td>\n",
       "      <td>4.582542e+02</td>\n",
       "      <td>355.559978</td>\n",
       "    </tr>\n",
       "    <tr>\n",
       "      <th>9</th>\n",
       "      <td>Weight</td>\n",
       "      <td>2.355289e+01</td>\n",
       "      <td>23.487635</td>\n",
       "    </tr>\n",
       "  </tbody>\n",
       "</table>\n",
       "</div>"
      ],
      "text/plain": [
       "           0             0           0\n",
       "0  Age_08_04 -1.252463e+02 -125.149938\n",
       "1         KM -2.106029e-02   -0.021124\n",
       "2  Fuel_Type  2.446458e+02  219.647820\n",
       "3         HP  3.010206e+01   30.660029\n",
       "4  Automatic  1.442100e+02  124.652647\n",
       "5         cc -3.230628e-02   -0.033513\n",
       "6      Doors -2.448470e+01  -27.394604\n",
       "7  Cylinders -8.526513e-14    0.000000\n",
       "8      Gears  4.582542e+02  355.559978\n",
       "9     Weight  2.355289e+01   23.487635"
      ]
     },
     "execution_count": 72,
     "metadata": {},
     "output_type": "execute_result"
    }
   ],
   "source": [
    "df_coef = pd.concat([d1,d2,d3],axis=1)\n",
    "df_coef"
   ]
  },
  {
   "cell_type": "code",
   "execution_count": 73,
   "id": "dd4a0d81",
   "metadata": {},
   "outputs": [
    {
     "data": {
      "text/html": [
       "<div>\n",
       "<style scoped>\n",
       "    .dataframe tbody tr th:only-of-type {\n",
       "        vertical-align: middle;\n",
       "    }\n",
       "\n",
       "    .dataframe tbody tr th {\n",
       "        vertical-align: top;\n",
       "    }\n",
       "\n",
       "    .dataframe thead th {\n",
       "        text-align: right;\n",
       "    }\n",
       "</style>\n",
       "<table border=\"1\" class=\"dataframe\">\n",
       "  <thead>\n",
       "    <tr style=\"text-align: right;\">\n",
       "      <th></th>\n",
       "      <th>Age_08_04</th>\n",
       "      <th>Fuel_Type</th>\n",
       "      <th>HP</th>\n",
       "      <th>Automatic</th>\n",
       "      <th>cc</th>\n",
       "      <th>Doors</th>\n",
       "      <th>Gears</th>\n",
       "      <th>Weight</th>\n",
       "    </tr>\n",
       "  </thead>\n",
       "  <tbody>\n",
       "    <tr>\n",
       "      <th>0</th>\n",
       "      <td>23</td>\n",
       "      <td>1</td>\n",
       "      <td>90</td>\n",
       "      <td>0</td>\n",
       "      <td>2000</td>\n",
       "      <td>3</td>\n",
       "      <td>5</td>\n",
       "      <td>1152.5</td>\n",
       "    </tr>\n",
       "    <tr>\n",
       "      <th>1</th>\n",
       "      <td>23</td>\n",
       "      <td>1</td>\n",
       "      <td>90</td>\n",
       "      <td>0</td>\n",
       "      <td>2000</td>\n",
       "      <td>3</td>\n",
       "      <td>5</td>\n",
       "      <td>1152.5</td>\n",
       "    </tr>\n",
       "    <tr>\n",
       "      <th>2</th>\n",
       "      <td>24</td>\n",
       "      <td>1</td>\n",
       "      <td>90</td>\n",
       "      <td>0</td>\n",
       "      <td>2000</td>\n",
       "      <td>3</td>\n",
       "      <td>5</td>\n",
       "      <td>1152.5</td>\n",
       "    </tr>\n",
       "    <tr>\n",
       "      <th>3</th>\n",
       "      <td>26</td>\n",
       "      <td>1</td>\n",
       "      <td>90</td>\n",
       "      <td>0</td>\n",
       "      <td>2000</td>\n",
       "      <td>3</td>\n",
       "      <td>5</td>\n",
       "      <td>1152.5</td>\n",
       "    </tr>\n",
       "    <tr>\n",
       "      <th>4</th>\n",
       "      <td>30</td>\n",
       "      <td>1</td>\n",
       "      <td>90</td>\n",
       "      <td>0</td>\n",
       "      <td>2000</td>\n",
       "      <td>3</td>\n",
       "      <td>5</td>\n",
       "      <td>1152.5</td>\n",
       "    </tr>\n",
       "    <tr>\n",
       "      <th>...</th>\n",
       "      <td>...</td>\n",
       "      <td>...</td>\n",
       "      <td>...</td>\n",
       "      <td>...</td>\n",
       "      <td>...</td>\n",
       "      <td>...</td>\n",
       "      <td>...</td>\n",
       "      <td>...</td>\n",
       "    </tr>\n",
       "    <tr>\n",
       "      <th>1431</th>\n",
       "      <td>69</td>\n",
       "      <td>2</td>\n",
       "      <td>86</td>\n",
       "      <td>0</td>\n",
       "      <td>1300</td>\n",
       "      <td>3</td>\n",
       "      <td>5</td>\n",
       "      <td>1025.0</td>\n",
       "    </tr>\n",
       "    <tr>\n",
       "      <th>1432</th>\n",
       "      <td>72</td>\n",
       "      <td>2</td>\n",
       "      <td>86</td>\n",
       "      <td>0</td>\n",
       "      <td>1300</td>\n",
       "      <td>3</td>\n",
       "      <td>5</td>\n",
       "      <td>1015.0</td>\n",
       "    </tr>\n",
       "    <tr>\n",
       "      <th>1433</th>\n",
       "      <td>71</td>\n",
       "      <td>2</td>\n",
       "      <td>86</td>\n",
       "      <td>0</td>\n",
       "      <td>1300</td>\n",
       "      <td>3</td>\n",
       "      <td>5</td>\n",
       "      <td>1015.0</td>\n",
       "    </tr>\n",
       "    <tr>\n",
       "      <th>1434</th>\n",
       "      <td>70</td>\n",
       "      <td>2</td>\n",
       "      <td>86</td>\n",
       "      <td>0</td>\n",
       "      <td>1300</td>\n",
       "      <td>3</td>\n",
       "      <td>5</td>\n",
       "      <td>1015.0</td>\n",
       "    </tr>\n",
       "    <tr>\n",
       "      <th>1435</th>\n",
       "      <td>76</td>\n",
       "      <td>2</td>\n",
       "      <td>110</td>\n",
       "      <td>0</td>\n",
       "      <td>1600</td>\n",
       "      <td>5</td>\n",
       "      <td>5</td>\n",
       "      <td>1114.0</td>\n",
       "    </tr>\n",
       "  </tbody>\n",
       "</table>\n",
       "<p>1436 rows × 8 columns</p>\n",
       "</div>"
      ],
      "text/plain": [
       "      Age_08_04  Fuel_Type   HP  Automatic    cc  Doors  Gears  Weight\n",
       "0            23          1   90          0  2000      3      5  1152.5\n",
       "1            23          1   90          0  2000      3      5  1152.5\n",
       "2            24          1   90          0  2000      3      5  1152.5\n",
       "3            26          1   90          0  2000      3      5  1152.5\n",
       "4            30          1   90          0  2000      3      5  1152.5\n",
       "...         ...        ...  ...        ...   ...    ...    ...     ...\n",
       "1431         69          2   86          0  1300      3      5  1025.0\n",
       "1432         72          2   86          0  1300      3      5  1015.0\n",
       "1433         71          2   86          0  1300      3      5  1015.0\n",
       "1434         70          2   86          0  1300      3      5  1015.0\n",
       "1435         76          2  110          0  1600      5      5  1114.0\n",
       "\n",
       "[1436 rows x 8 columns]"
      ]
     },
     "execution_count": 73,
     "metadata": {},
     "output_type": "execute_result"
    }
   ],
   "source": [
    "X_new = X.drop(X.columns[[1,7]],axis=1)\n",
    "X_new"
   ]
  },
  {
   "cell_type": "code",
   "execution_count": 74,
   "id": "a2f9860f",
   "metadata": {},
   "outputs": [],
   "source": [
    "train_acc = []\n",
    "test_acc = []"
   ]
  },
  {
   "cell_type": "code",
   "execution_count": 75,
   "id": "c67e7e6f",
   "metadata": {},
   "outputs": [],
   "source": [
    "#Accuracy\n",
    "for i in range(1,101):\n",
    "    from sklearn.model_selection import train_test_split\n",
    "    X_train,X_test,Y_train,Y_test = train_test_split(X_new,Y,test_size=0.2)\n",
    "    from sklearn.linear_model import LinearRegression\n",
    "    model1 = LinearRegression()\n",
    "    model1.fit(X_train,Y_train)\n",
    "    Y_pred_train = model1.predict(X_train)\n",
    "    Y_pred_test = model1.predict(X_test)\n",
    "    train_acc.append(r2_score(Y_train,Y_pred_train))\n",
    "    test_acc.append(r2_score(Y_test,Y_pred_test))"
   ]
  },
  {
   "cell_type": "code",
   "execution_count": 76,
   "id": "acd59731",
   "metadata": {},
   "outputs": [
    {
     "name": "stdout",
     "output_type": "stream",
     "text": [
      "Model1 training data performance:  0.83\n",
      "Model1 testing data performance:  0.76\n"
     ]
    }
   ],
   "source": [
    "print(\"Model1 training data performance: \",np.round(np.mean(train_acc),2))\n",
    "print(\"Model1 testing data performance: \",np.round(np.mean(test_acc),2))"
   ]
  },
  {
   "cell_type": "code",
   "execution_count": 77,
   "id": "cc56094f",
   "metadata": {},
   "outputs": [],
   "source": [
    "training_acc = []\n",
    "testing_acc = []"
   ]
  },
  {
   "cell_type": "code",
   "execution_count": 78,
   "id": "4f6f9ea5",
   "metadata": {},
   "outputs": [],
   "source": [
    "#Loss function\n",
    "for i in range(1,101):\n",
    "    from sklearn.model_selection import train_test_split\n",
    "    X_train,X_test,Y_train,Y_test = train_test_split(X,Y,test_size=0.2)\n",
    "    from sklearn.linear_model import LinearRegression\n",
    "    model1 = LinearRegression()\n",
    "    model1.fit(X_train,Y_train)\n",
    "    Y_pred_train = model1.predict(X_train)\n",
    "    Y_pred_test = model1.predict(X_test)\n",
    "    training_acc.append(mean_squared_error(Y_train,Y_pred_train,squared=False))\n",
    "    testing_acc.append(mean_squared_error(Y_test,Y_pred_test,squared=False))"
   ]
  },
  {
   "cell_type": "code",
   "execution_count": 79,
   "id": "48ec3638",
   "metadata": {},
   "outputs": [
    {
     "name": "stdout",
     "output_type": "stream",
     "text": [
      "Model1 train rmse:  1429.2\n",
      "Model1 test rmse:  1550.11\n"
     ]
    }
   ],
   "source": [
    "print(\"Model1 train rmse: \",np.round(np.mean(training_acc),2))\n",
    "print(\"Model1 test rmse: \",np.round(np.mean(testing_acc),2))"
   ]
  },
  {
   "cell_type": "markdown",
   "id": "27b966c2",
   "metadata": {},
   "source": [
    "### Model 2:"
   ]
  },
  {
   "cell_type": "code",
   "execution_count": 80,
   "id": "14ebe400",
   "metadata": {},
   "outputs": [
    {
     "data": {
      "text/html": [
       "<div>\n",
       "<style scoped>\n",
       "    .dataframe tbody tr th:only-of-type {\n",
       "        vertical-align: middle;\n",
       "    }\n",
       "\n",
       "    .dataframe tbody tr th {\n",
       "        vertical-align: top;\n",
       "    }\n",
       "\n",
       "    .dataframe thead th {\n",
       "        text-align: right;\n",
       "    }\n",
       "</style>\n",
       "<table border=\"1\" class=\"dataframe\">\n",
       "  <thead>\n",
       "    <tr style=\"text-align: right;\">\n",
       "      <th></th>\n",
       "      <th>Price</th>\n",
       "      <th>Age_08_04</th>\n",
       "      <th>KM</th>\n",
       "      <th>Fuel_Type</th>\n",
       "      <th>HP</th>\n",
       "      <th>Automatic</th>\n",
       "      <th>cc</th>\n",
       "      <th>Doors</th>\n",
       "      <th>Cylinders</th>\n",
       "      <th>Gears</th>\n",
       "      <th>Weight</th>\n",
       "    </tr>\n",
       "  </thead>\n",
       "  <tbody>\n",
       "    <tr>\n",
       "      <th>Price</th>\n",
       "      <td>1.000000</td>\n",
       "      <td>-0.876590</td>\n",
       "      <td>-0.587521</td>\n",
       "      <td>-0.022157</td>\n",
       "      <td>0.314990</td>\n",
       "      <td>0.033081</td>\n",
       "      <td>0.126389</td>\n",
       "      <td>0.185326</td>\n",
       "      <td>NaN</td>\n",
       "      <td>0.063104</td>\n",
       "      <td>0.537192</td>\n",
       "    </tr>\n",
       "    <tr>\n",
       "      <th>Age_08_04</th>\n",
       "      <td>-0.876590</td>\n",
       "      <td>1.000000</td>\n",
       "      <td>0.532115</td>\n",
       "      <td>0.080261</td>\n",
       "      <td>-0.156622</td>\n",
       "      <td>0.031717</td>\n",
       "      <td>-0.098084</td>\n",
       "      <td>-0.148359</td>\n",
       "      <td>NaN</td>\n",
       "      <td>-0.005364</td>\n",
       "      <td>-0.478070</td>\n",
       "    </tr>\n",
       "    <tr>\n",
       "      <th>KM</th>\n",
       "      <td>-0.587521</td>\n",
       "      <td>0.532115</td>\n",
       "      <td>1.000000</td>\n",
       "      <td>-0.394674</td>\n",
       "      <td>-0.315827</td>\n",
       "      <td>-0.081882</td>\n",
       "      <td>0.090823</td>\n",
       "      <td>-0.037677</td>\n",
       "      <td>NaN</td>\n",
       "      <td>0.019974</td>\n",
       "      <td>-0.001489</td>\n",
       "    </tr>\n",
       "    <tr>\n",
       "      <th>Fuel_Type</th>\n",
       "      <td>-0.022157</td>\n",
       "      <td>0.080261</td>\n",
       "      <td>-0.394674</td>\n",
       "      <td>1.000000</td>\n",
       "      <td>0.409476</td>\n",
       "      <td>0.069718</td>\n",
       "      <td>-0.277239</td>\n",
       "      <td>-0.026935</td>\n",
       "      <td>NaN</td>\n",
       "      <td>0.069655</td>\n",
       "      <td>-0.530964</td>\n",
       "    </tr>\n",
       "    <tr>\n",
       "      <th>HP</th>\n",
       "      <td>0.314990</td>\n",
       "      <td>-0.156622</td>\n",
       "      <td>-0.315827</td>\n",
       "      <td>0.409476</td>\n",
       "      <td>1.000000</td>\n",
       "      <td>0.013144</td>\n",
       "      <td>0.035856</td>\n",
       "      <td>0.092424</td>\n",
       "      <td>NaN</td>\n",
       "      <td>0.209477</td>\n",
       "      <td>0.082436</td>\n",
       "    </tr>\n",
       "    <tr>\n",
       "      <th>Automatic</th>\n",
       "      <td>0.033081</td>\n",
       "      <td>0.031717</td>\n",
       "      <td>-0.081882</td>\n",
       "      <td>0.069718</td>\n",
       "      <td>0.013144</td>\n",
       "      <td>1.000000</td>\n",
       "      <td>0.066740</td>\n",
       "      <td>-0.027654</td>\n",
       "      <td>NaN</td>\n",
       "      <td>-0.098555</td>\n",
       "      <td>0.090064</td>\n",
       "    </tr>\n",
       "    <tr>\n",
       "      <th>cc</th>\n",
       "      <td>0.126389</td>\n",
       "      <td>-0.098084</td>\n",
       "      <td>0.090823</td>\n",
       "      <td>-0.277239</td>\n",
       "      <td>0.035856</td>\n",
       "      <td>0.066740</td>\n",
       "      <td>1.000000</td>\n",
       "      <td>0.079903</td>\n",
       "      <td>NaN</td>\n",
       "      <td>0.014629</td>\n",
       "      <td>0.372537</td>\n",
       "    </tr>\n",
       "    <tr>\n",
       "      <th>Doors</th>\n",
       "      <td>0.185326</td>\n",
       "      <td>-0.148359</td>\n",
       "      <td>-0.037677</td>\n",
       "      <td>-0.026935</td>\n",
       "      <td>0.092424</td>\n",
       "      <td>-0.027654</td>\n",
       "      <td>0.079903</td>\n",
       "      <td>1.000000</td>\n",
       "      <td>NaN</td>\n",
       "      <td>-0.160141</td>\n",
       "      <td>0.381955</td>\n",
       "    </tr>\n",
       "    <tr>\n",
       "      <th>Cylinders</th>\n",
       "      <td>NaN</td>\n",
       "      <td>NaN</td>\n",
       "      <td>NaN</td>\n",
       "      <td>NaN</td>\n",
       "      <td>NaN</td>\n",
       "      <td>NaN</td>\n",
       "      <td>NaN</td>\n",
       "      <td>NaN</td>\n",
       "      <td>NaN</td>\n",
       "      <td>NaN</td>\n",
       "      <td>NaN</td>\n",
       "    </tr>\n",
       "    <tr>\n",
       "      <th>Gears</th>\n",
       "      <td>0.063104</td>\n",
       "      <td>-0.005364</td>\n",
       "      <td>0.019974</td>\n",
       "      <td>0.069655</td>\n",
       "      <td>0.209477</td>\n",
       "      <td>-0.098555</td>\n",
       "      <td>0.014629</td>\n",
       "      <td>-0.160141</td>\n",
       "      <td>NaN</td>\n",
       "      <td>1.000000</td>\n",
       "      <td>0.019913</td>\n",
       "    </tr>\n",
       "    <tr>\n",
       "      <th>Weight</th>\n",
       "      <td>0.537192</td>\n",
       "      <td>-0.478070</td>\n",
       "      <td>-0.001489</td>\n",
       "      <td>-0.530964</td>\n",
       "      <td>0.082436</td>\n",
       "      <td>0.090064</td>\n",
       "      <td>0.372537</td>\n",
       "      <td>0.381955</td>\n",
       "      <td>NaN</td>\n",
       "      <td>0.019913</td>\n",
       "      <td>1.000000</td>\n",
       "    </tr>\n",
       "  </tbody>\n",
       "</table>\n",
       "</div>"
      ],
      "text/plain": [
       "              Price  Age_08_04        KM  Fuel_Type        HP  Automatic  \\\n",
       "Price      1.000000  -0.876590 -0.587521  -0.022157  0.314990   0.033081   \n",
       "Age_08_04 -0.876590   1.000000  0.532115   0.080261 -0.156622   0.031717   \n",
       "KM        -0.587521   0.532115  1.000000  -0.394674 -0.315827  -0.081882   \n",
       "Fuel_Type -0.022157   0.080261 -0.394674   1.000000  0.409476   0.069718   \n",
       "HP         0.314990  -0.156622 -0.315827   0.409476  1.000000   0.013144   \n",
       "Automatic  0.033081   0.031717 -0.081882   0.069718  0.013144   1.000000   \n",
       "cc         0.126389  -0.098084  0.090823  -0.277239  0.035856   0.066740   \n",
       "Doors      0.185326  -0.148359 -0.037677  -0.026935  0.092424  -0.027654   \n",
       "Cylinders       NaN        NaN       NaN        NaN       NaN        NaN   \n",
       "Gears      0.063104  -0.005364  0.019974   0.069655  0.209477  -0.098555   \n",
       "Weight     0.537192  -0.478070 -0.001489  -0.530964  0.082436   0.090064   \n",
       "\n",
       "                 cc     Doors  Cylinders     Gears    Weight  \n",
       "Price      0.126389  0.185326        NaN  0.063104  0.537192  \n",
       "Age_08_04 -0.098084 -0.148359        NaN -0.005364 -0.478070  \n",
       "KM         0.090823 -0.037677        NaN  0.019974 -0.001489  \n",
       "Fuel_Type -0.277239 -0.026935        NaN  0.069655 -0.530964  \n",
       "HP         0.035856  0.092424        NaN  0.209477  0.082436  \n",
       "Automatic  0.066740 -0.027654        NaN -0.098555  0.090064  \n",
       "cc         1.000000  0.079903        NaN  0.014629  0.372537  \n",
       "Doors      0.079903  1.000000        NaN -0.160141  0.381955  \n",
       "Cylinders       NaN       NaN        NaN       NaN       NaN  \n",
       "Gears      0.014629 -0.160141        NaN  1.000000  0.019913  \n",
       "Weight     0.372537  0.381955        NaN  0.019913  1.000000  "
      ]
     },
     "execution_count": 80,
     "metadata": {},
     "output_type": "execute_result"
    }
   ],
   "source": [
    "df.corr()"
   ]
  },
  {
   "cell_type": "code",
   "execution_count": 81,
   "id": "f8f79973",
   "metadata": {},
   "outputs": [],
   "source": [
    "X1 = df.iloc[:,1:3]\n",
    "X2 = df[\"Weight\"]\n",
    "X = pd.concat([X1,X2],axis=1)\n",
    "Y = df[\"Price\"]"
   ]
  },
  {
   "cell_type": "markdown",
   "id": "fede0f8b",
   "metadata": {},
   "source": [
    "## Multiple linear regression"
   ]
  },
  {
   "cell_type": "code",
   "execution_count": 82,
   "id": "2a5072bd",
   "metadata": {},
   "outputs": [],
   "source": [
    "from sklearn.model_selection import train_test_split\n",
    "X_train,X_test,Y_train,Y_test = train_test_split(X,Y,test_size=0.2)"
   ]
  },
  {
   "cell_type": "code",
   "execution_count": 83,
   "id": "2e05b82d",
   "metadata": {},
   "outputs": [],
   "source": [
    "from sklearn.linear_model import LinearRegression\n",
    "model2 = LinearRegression()"
   ]
  },
  {
   "cell_type": "code",
   "execution_count": 84,
   "id": "d2e5f2f5",
   "metadata": {},
   "outputs": [
    {
     "data": {
      "text/plain": [
       "LinearRegression()"
      ]
     },
     "execution_count": 84,
     "metadata": {},
     "output_type": "execute_result"
    }
   ],
   "source": [
    "model2.fit(X_train,Y_train)"
   ]
  },
  {
   "cell_type": "code",
   "execution_count": 85,
   "id": "3c249386",
   "metadata": {},
   "outputs": [
    {
     "data": {
      "text/plain": [
       "array([-1.19400049e+02, -2.82075620e-02,  2.54518993e+01])"
      ]
     },
     "execution_count": 85,
     "metadata": {},
     "output_type": "execute_result"
    }
   ],
   "source": [
    "model2.coef_"
   ]
  },
  {
   "cell_type": "code",
   "execution_count": 86,
   "id": "a6df15f9",
   "metadata": {},
   "outputs": [],
   "source": [
    "Y_pred_train = model2.predict(X_train)\n",
    "Y_pred_test = model2.predict(X_test)"
   ]
  },
  {
   "cell_type": "code",
   "execution_count": 87,
   "id": "abea3124",
   "metadata": {},
   "outputs": [],
   "source": [
    "from sklearn.metrics import r2_score,mean_squared_error\n",
    "import numpy as np"
   ]
  },
  {
   "cell_type": "code",
   "execution_count": 88,
   "id": "d39399b5",
   "metadata": {},
   "outputs": [],
   "source": [
    "train_acc = []\n",
    "test_acc = []"
   ]
  },
  {
   "cell_type": "code",
   "execution_count": 89,
   "id": "76497768",
   "metadata": {},
   "outputs": [],
   "source": [
    "#Accuracy\n",
    "for i in range(1,101):\n",
    "    from sklearn.model_selection import train_test_split\n",
    "    X_train,X_test,Y_train,Y_test = train_test_split(X,Y,test_size=0.2)\n",
    "    from sklearn.linear_model import LinearRegression\n",
    "    model2 = LinearRegression()\n",
    "    model2.fit(X_train,Y_train)\n",
    "    Y_pred_train = model2.predict(X_train)\n",
    "    Y_pred_test = model2.predict(X_test)\n",
    "    train_acc.append(r2_score(Y_train,Y_pred_train))\n",
    "    test_acc.append(r2_score(Y_test,Y_pred_test))"
   ]
  },
  {
   "cell_type": "code",
   "execution_count": 90,
   "id": "eda1853a",
   "metadata": {},
   "outputs": [
    {
     "name": "stdout",
     "output_type": "stream",
     "text": [
      "Model1 training data performance:  0.83\n",
      "Model1 testing data performance:  0.82\n"
     ]
    }
   ],
   "source": [
    "print(\"Model1 training data performance: \",np.round(np.mean(train_acc),2))\n",
    "print(\"Model1 testing data performance: \",np.round(np.mean(test_acc),2))"
   ]
  },
  {
   "cell_type": "code",
   "execution_count": 91,
   "id": "dd3041d9",
   "metadata": {},
   "outputs": [],
   "source": [
    "training_acc = []\n",
    "testing_acc = []"
   ]
  },
  {
   "cell_type": "code",
   "execution_count": 92,
   "id": "de79361a",
   "metadata": {},
   "outputs": [],
   "source": [
    "#loss function\n",
    "for i in range(1,101):\n",
    "    from sklearn.model_selection import train_test_split\n",
    "    X_train,X_test,Y_train,Y_test = train_test_split(X,Y,test_size=0.2)\n",
    "    from sklearn.linear_model import LinearRegression\n",
    "    model2 = LinearRegression()\n",
    "    model2.fit(X_train,Y_train)\n",
    "    Y_pred_train = model2.predict(X_train)\n",
    "    Y_pred_test = model2.predict(X_test)\n",
    "    training_acc.append(mean_squared_error(Y_train,Y_pred_train,squared=False))\n",
    "    testing_acc.append(mean_squared_error(Y_test,Y_pred_test,squared=False))"
   ]
  },
  {
   "cell_type": "code",
   "execution_count": 93,
   "id": "100ae7c1",
   "metadata": {},
   "outputs": [
    {
     "name": "stdout",
     "output_type": "stream",
     "text": [
      "Model1 training data loss function:  1509.24\n",
      "Model1 testing data loss function:  1505.53\n"
     ]
    }
   ],
   "source": [
    "print(\"Model1 training data loss function: \",np.round(np.mean(training_acc),2))\n",
    "print(\"Model1 testing data loss function: \",np.round(np.mean(testing_acc),2))"
   ]
  },
  {
   "cell_type": "code",
   "execution_count": 94,
   "id": "e5ab157c",
   "metadata": {},
   "outputs": [],
   "source": [
    "d2 = pd.DataFrame(model2.coef_)\n",
    "d1 = pd.DataFrame(list(X))"
   ]
  },
  {
   "cell_type": "code",
   "execution_count": 95,
   "id": "c78cac72",
   "metadata": {},
   "outputs": [
    {
     "data": {
      "text/html": [
       "<div>\n",
       "<style scoped>\n",
       "    .dataframe tbody tr th:only-of-type {\n",
       "        vertical-align: middle;\n",
       "    }\n",
       "\n",
       "    .dataframe tbody tr th {\n",
       "        vertical-align: top;\n",
       "    }\n",
       "\n",
       "    .dataframe thead th {\n",
       "        text-align: right;\n",
       "    }\n",
       "</style>\n",
       "<table border=\"1\" class=\"dataframe\">\n",
       "  <thead>\n",
       "    <tr style=\"text-align: right;\">\n",
       "      <th></th>\n",
       "      <th>0</th>\n",
       "      <th>0</th>\n",
       "    </tr>\n",
       "  </thead>\n",
       "  <tbody>\n",
       "    <tr>\n",
       "      <th>0</th>\n",
       "      <td>Age_08_04</td>\n",
       "      <td>-123.311918</td>\n",
       "    </tr>\n",
       "    <tr>\n",
       "      <th>1</th>\n",
       "      <td>KM</td>\n",
       "      <td>-0.026878</td>\n",
       "    </tr>\n",
       "    <tr>\n",
       "      <th>2</th>\n",
       "      <td>Weight</td>\n",
       "      <td>22.968882</td>\n",
       "    </tr>\n",
       "  </tbody>\n",
       "</table>\n",
       "</div>"
      ],
      "text/plain": [
       "           0           0\n",
       "0  Age_08_04 -123.311918\n",
       "1         KM   -0.026878\n",
       "2     Weight   22.968882"
      ]
     },
     "execution_count": 95,
     "metadata": {},
     "output_type": "execute_result"
    }
   ],
   "source": [
    "df_coef = pd.concat([d1,d2],axis=1)\n",
    "df_coef"
   ]
  },
  {
   "cell_type": "code",
   "execution_count": 96,
   "id": "6991fe80",
   "metadata": {},
   "outputs": [],
   "source": [
    "#Lasso\n",
    "from sklearn.linear_model import Lasso\n",
    "lass_c = Lasso(alpha=12.0)"
   ]
  },
  {
   "cell_type": "code",
   "execution_count": 97,
   "id": "ee90c836",
   "metadata": {},
   "outputs": [],
   "source": [
    "lass_c.fit(X_train,Y_train)\n",
    "d3 = pd.DataFrame(lass_c.coef_)"
   ]
  },
  {
   "cell_type": "code",
   "execution_count": 98,
   "id": "4fc3e5f2",
   "metadata": {},
   "outputs": [
    {
     "data": {
      "text/html": [
       "<div>\n",
       "<style scoped>\n",
       "    .dataframe tbody tr th:only-of-type {\n",
       "        vertical-align: middle;\n",
       "    }\n",
       "\n",
       "    .dataframe tbody tr th {\n",
       "        vertical-align: top;\n",
       "    }\n",
       "\n",
       "    .dataframe thead th {\n",
       "        text-align: right;\n",
       "    }\n",
       "</style>\n",
       "<table border=\"1\" class=\"dataframe\">\n",
       "  <thead>\n",
       "    <tr style=\"text-align: right;\">\n",
       "      <th></th>\n",
       "      <th>0</th>\n",
       "      <th>0</th>\n",
       "      <th>0</th>\n",
       "    </tr>\n",
       "  </thead>\n",
       "  <tbody>\n",
       "    <tr>\n",
       "      <th>0</th>\n",
       "      <td>Age_08_04</td>\n",
       "      <td>-123.311918</td>\n",
       "      <td>-123.263969</td>\n",
       "    </tr>\n",
       "    <tr>\n",
       "      <th>1</th>\n",
       "      <td>KM</td>\n",
       "      <td>-0.026878</td>\n",
       "      <td>-0.026892</td>\n",
       "    </tr>\n",
       "    <tr>\n",
       "      <th>2</th>\n",
       "      <td>Weight</td>\n",
       "      <td>22.968882</td>\n",
       "      <td>22.972047</td>\n",
       "    </tr>\n",
       "  </tbody>\n",
       "</table>\n",
       "</div>"
      ],
      "text/plain": [
       "           0           0           0\n",
       "0  Age_08_04 -123.311918 -123.263969\n",
       "1         KM   -0.026878   -0.026892\n",
       "2     Weight   22.968882   22.972047"
      ]
     },
     "execution_count": 98,
     "metadata": {},
     "output_type": "execute_result"
    }
   ],
   "source": [
    "df_coef = pd.concat([d1,d2,d3],axis=1)\n",
    "df_coef"
   ]
  },
  {
   "cell_type": "code",
   "execution_count": 99,
   "id": "20d8c322",
   "metadata": {},
   "outputs": [],
   "source": [
    "#Ridge regression\n",
    "from sklearn.linear_model import Ridge\n",
    "Ridge_c = Ridge(alpha=12.0)"
   ]
  },
  {
   "cell_type": "code",
   "execution_count": 100,
   "id": "27003538",
   "metadata": {},
   "outputs": [],
   "source": [
    "Ridge_c.fit(X_train,Y_train)\n",
    "d4 = pd.DataFrame(lass_c.coef_)"
   ]
  },
  {
   "cell_type": "code",
   "execution_count": 101,
   "id": "1901e537",
   "metadata": {},
   "outputs": [
    {
     "data": {
      "text/html": [
       "<div>\n",
       "<style scoped>\n",
       "    .dataframe tbody tr th:only-of-type {\n",
       "        vertical-align: middle;\n",
       "    }\n",
       "\n",
       "    .dataframe tbody tr th {\n",
       "        vertical-align: top;\n",
       "    }\n",
       "\n",
       "    .dataframe thead th {\n",
       "        text-align: right;\n",
       "    }\n",
       "</style>\n",
       "<table border=\"1\" class=\"dataframe\">\n",
       "  <thead>\n",
       "    <tr style=\"text-align: right;\">\n",
       "      <th></th>\n",
       "      <th>0</th>\n",
       "      <th>0</th>\n",
       "      <th>0</th>\n",
       "    </tr>\n",
       "  </thead>\n",
       "  <tbody>\n",
       "    <tr>\n",
       "      <th>0</th>\n",
       "      <td>Age_08_04</td>\n",
       "      <td>-123.311918</td>\n",
       "      <td>-123.263969</td>\n",
       "    </tr>\n",
       "    <tr>\n",
       "      <th>1</th>\n",
       "      <td>KM</td>\n",
       "      <td>-0.026878</td>\n",
       "      <td>-0.026892</td>\n",
       "    </tr>\n",
       "    <tr>\n",
       "      <th>2</th>\n",
       "      <td>Weight</td>\n",
       "      <td>22.968882</td>\n",
       "      <td>22.972047</td>\n",
       "    </tr>\n",
       "  </tbody>\n",
       "</table>\n",
       "</div>"
      ],
      "text/plain": [
       "           0           0           0\n",
       "0  Age_08_04 -123.311918 -123.263969\n",
       "1         KM   -0.026878   -0.026892\n",
       "2     Weight   22.968882   22.972047"
      ]
     },
     "execution_count": 101,
     "metadata": {},
     "output_type": "execute_result"
    }
   ],
   "source": [
    "df_coef = pd.concat([d1,d2,d4],axis=1)\n",
    "df_coef"
   ]
  },
  {
   "cell_type": "markdown",
   "id": "b9dff848",
   "metadata": {},
   "source": [
    "## Model 3"
   ]
  },
  {
   "cell_type": "code",
   "execution_count": 102,
   "id": "5d233a2a",
   "metadata": {},
   "outputs": [],
   "source": [
    "#Fitting model3 using Principal Component Analysis"
   ]
  },
  {
   "cell_type": "code",
   "execution_count": 103,
   "id": "b1637d94",
   "metadata": {},
   "outputs": [
    {
     "data": {
      "text/html": [
       "<div>\n",
       "<style scoped>\n",
       "    .dataframe tbody tr th:only-of-type {\n",
       "        vertical-align: middle;\n",
       "    }\n",
       "\n",
       "    .dataframe tbody tr th {\n",
       "        vertical-align: top;\n",
       "    }\n",
       "\n",
       "    .dataframe thead th {\n",
       "        text-align: right;\n",
       "    }\n",
       "</style>\n",
       "<table border=\"1\" class=\"dataframe\">\n",
       "  <thead>\n",
       "    <tr style=\"text-align: right;\">\n",
       "      <th></th>\n",
       "      <th>Price</th>\n",
       "      <th>Age_08_04</th>\n",
       "      <th>KM</th>\n",
       "      <th>Fuel_Type</th>\n",
       "      <th>HP</th>\n",
       "      <th>Automatic</th>\n",
       "      <th>cc</th>\n",
       "      <th>Doors</th>\n",
       "      <th>Cylinders</th>\n",
       "      <th>Gears</th>\n",
       "      <th>Weight</th>\n",
       "    </tr>\n",
       "  </thead>\n",
       "  <tbody>\n",
       "    <tr>\n",
       "      <th>0</th>\n",
       "      <td>13500</td>\n",
       "      <td>23</td>\n",
       "      <td>46986.0</td>\n",
       "      <td>1</td>\n",
       "      <td>90</td>\n",
       "      <td>0</td>\n",
       "      <td>2000</td>\n",
       "      <td>3</td>\n",
       "      <td>4</td>\n",
       "      <td>5</td>\n",
       "      <td>1152.5</td>\n",
       "    </tr>\n",
       "    <tr>\n",
       "      <th>1</th>\n",
       "      <td>13750</td>\n",
       "      <td>23</td>\n",
       "      <td>72937.0</td>\n",
       "      <td>1</td>\n",
       "      <td>90</td>\n",
       "      <td>0</td>\n",
       "      <td>2000</td>\n",
       "      <td>3</td>\n",
       "      <td>4</td>\n",
       "      <td>5</td>\n",
       "      <td>1152.5</td>\n",
       "    </tr>\n",
       "    <tr>\n",
       "      <th>2</th>\n",
       "      <td>13950</td>\n",
       "      <td>24</td>\n",
       "      <td>41711.0</td>\n",
       "      <td>1</td>\n",
       "      <td>90</td>\n",
       "      <td>0</td>\n",
       "      <td>2000</td>\n",
       "      <td>3</td>\n",
       "      <td>4</td>\n",
       "      <td>5</td>\n",
       "      <td>1152.5</td>\n",
       "    </tr>\n",
       "    <tr>\n",
       "      <th>3</th>\n",
       "      <td>14950</td>\n",
       "      <td>26</td>\n",
       "      <td>48000.0</td>\n",
       "      <td>1</td>\n",
       "      <td>90</td>\n",
       "      <td>0</td>\n",
       "      <td>2000</td>\n",
       "      <td>3</td>\n",
       "      <td>4</td>\n",
       "      <td>5</td>\n",
       "      <td>1152.5</td>\n",
       "    </tr>\n",
       "    <tr>\n",
       "      <th>4</th>\n",
       "      <td>13750</td>\n",
       "      <td>30</td>\n",
       "      <td>38500.0</td>\n",
       "      <td>1</td>\n",
       "      <td>90</td>\n",
       "      <td>0</td>\n",
       "      <td>2000</td>\n",
       "      <td>3</td>\n",
       "      <td>4</td>\n",
       "      <td>5</td>\n",
       "      <td>1152.5</td>\n",
       "    </tr>\n",
       "    <tr>\n",
       "      <th>...</th>\n",
       "      <td>...</td>\n",
       "      <td>...</td>\n",
       "      <td>...</td>\n",
       "      <td>...</td>\n",
       "      <td>...</td>\n",
       "      <td>...</td>\n",
       "      <td>...</td>\n",
       "      <td>...</td>\n",
       "      <td>...</td>\n",
       "      <td>...</td>\n",
       "      <td>...</td>\n",
       "    </tr>\n",
       "    <tr>\n",
       "      <th>1431</th>\n",
       "      <td>7500</td>\n",
       "      <td>69</td>\n",
       "      <td>20544.0</td>\n",
       "      <td>2</td>\n",
       "      <td>86</td>\n",
       "      <td>0</td>\n",
       "      <td>1300</td>\n",
       "      <td>3</td>\n",
       "      <td>4</td>\n",
       "      <td>5</td>\n",
       "      <td>1025.0</td>\n",
       "    </tr>\n",
       "    <tr>\n",
       "      <th>1432</th>\n",
       "      <td>10845</td>\n",
       "      <td>72</td>\n",
       "      <td>19000.0</td>\n",
       "      <td>2</td>\n",
       "      <td>86</td>\n",
       "      <td>0</td>\n",
       "      <td>1300</td>\n",
       "      <td>3</td>\n",
       "      <td>4</td>\n",
       "      <td>5</td>\n",
       "      <td>1015.0</td>\n",
       "    </tr>\n",
       "    <tr>\n",
       "      <th>1433</th>\n",
       "      <td>8500</td>\n",
       "      <td>71</td>\n",
       "      <td>17016.0</td>\n",
       "      <td>2</td>\n",
       "      <td>86</td>\n",
       "      <td>0</td>\n",
       "      <td>1300</td>\n",
       "      <td>3</td>\n",
       "      <td>4</td>\n",
       "      <td>5</td>\n",
       "      <td>1015.0</td>\n",
       "    </tr>\n",
       "    <tr>\n",
       "      <th>1434</th>\n",
       "      <td>7250</td>\n",
       "      <td>70</td>\n",
       "      <td>16916.0</td>\n",
       "      <td>2</td>\n",
       "      <td>86</td>\n",
       "      <td>0</td>\n",
       "      <td>1300</td>\n",
       "      <td>3</td>\n",
       "      <td>4</td>\n",
       "      <td>5</td>\n",
       "      <td>1015.0</td>\n",
       "    </tr>\n",
       "    <tr>\n",
       "      <th>1435</th>\n",
       "      <td>6950</td>\n",
       "      <td>76</td>\n",
       "      <td>1.0</td>\n",
       "      <td>2</td>\n",
       "      <td>110</td>\n",
       "      <td>0</td>\n",
       "      <td>1600</td>\n",
       "      <td>5</td>\n",
       "      <td>4</td>\n",
       "      <td>5</td>\n",
       "      <td>1114.0</td>\n",
       "    </tr>\n",
       "  </tbody>\n",
       "</table>\n",
       "<p>1436 rows × 11 columns</p>\n",
       "</div>"
      ],
      "text/plain": [
       "      Price  Age_08_04       KM  Fuel_Type   HP  Automatic    cc  Doors  \\\n",
       "0     13500         23  46986.0          1   90          0  2000      3   \n",
       "1     13750         23  72937.0          1   90          0  2000      3   \n",
       "2     13950         24  41711.0          1   90          0  2000      3   \n",
       "3     14950         26  48000.0          1   90          0  2000      3   \n",
       "4     13750         30  38500.0          1   90          0  2000      3   \n",
       "...     ...        ...      ...        ...  ...        ...   ...    ...   \n",
       "1431   7500         69  20544.0          2   86          0  1300      3   \n",
       "1432  10845         72  19000.0          2   86          0  1300      3   \n",
       "1433   8500         71  17016.0          2   86          0  1300      3   \n",
       "1434   7250         70  16916.0          2   86          0  1300      3   \n",
       "1435   6950         76      1.0          2  110          0  1600      5   \n",
       "\n",
       "      Cylinders  Gears  Weight  \n",
       "0             4      5  1152.5  \n",
       "1             4      5  1152.5  \n",
       "2             4      5  1152.5  \n",
       "3             4      5  1152.5  \n",
       "4             4      5  1152.5  \n",
       "...         ...    ...     ...  \n",
       "1431          4      5  1025.0  \n",
       "1432          4      5  1015.0  \n",
       "1433          4      5  1015.0  \n",
       "1434          4      5  1015.0  \n",
       "1435          4      5  1114.0  \n",
       "\n",
       "[1436 rows x 11 columns]"
      ]
     },
     "execution_count": 103,
     "metadata": {},
     "output_type": "execute_result"
    }
   ],
   "source": [
    "df"
   ]
  },
  {
   "cell_type": "code",
   "execution_count": 106,
   "id": "131c867a",
   "metadata": {},
   "outputs": [
    {
     "data": {
      "text/html": [
       "<div>\n",
       "<style scoped>\n",
       "    .dataframe tbody tr th:only-of-type {\n",
       "        vertical-align: middle;\n",
       "    }\n",
       "\n",
       "    .dataframe tbody tr th {\n",
       "        vertical-align: top;\n",
       "    }\n",
       "\n",
       "    .dataframe thead th {\n",
       "        text-align: right;\n",
       "    }\n",
       "</style>\n",
       "<table border=\"1\" class=\"dataframe\">\n",
       "  <thead>\n",
       "    <tr style=\"text-align: right;\">\n",
       "      <th></th>\n",
       "      <th>Age_08_04</th>\n",
       "      <th>KM</th>\n",
       "      <th>Fuel_Type</th>\n",
       "      <th>HP</th>\n",
       "      <th>cc</th>\n",
       "      <th>Doors</th>\n",
       "      <th>Cylinders</th>\n",
       "      <th>Gears</th>\n",
       "      <th>Weight</th>\n",
       "    </tr>\n",
       "  </thead>\n",
       "  <tbody>\n",
       "    <tr>\n",
       "      <th>0</th>\n",
       "      <td>23</td>\n",
       "      <td>46986.0</td>\n",
       "      <td>1</td>\n",
       "      <td>90</td>\n",
       "      <td>2000</td>\n",
       "      <td>3</td>\n",
       "      <td>4</td>\n",
       "      <td>5</td>\n",
       "      <td>1152.5</td>\n",
       "    </tr>\n",
       "    <tr>\n",
       "      <th>1</th>\n",
       "      <td>23</td>\n",
       "      <td>72937.0</td>\n",
       "      <td>1</td>\n",
       "      <td>90</td>\n",
       "      <td>2000</td>\n",
       "      <td>3</td>\n",
       "      <td>4</td>\n",
       "      <td>5</td>\n",
       "      <td>1152.5</td>\n",
       "    </tr>\n",
       "    <tr>\n",
       "      <th>2</th>\n",
       "      <td>24</td>\n",
       "      <td>41711.0</td>\n",
       "      <td>1</td>\n",
       "      <td>90</td>\n",
       "      <td>2000</td>\n",
       "      <td>3</td>\n",
       "      <td>4</td>\n",
       "      <td>5</td>\n",
       "      <td>1152.5</td>\n",
       "    </tr>\n",
       "    <tr>\n",
       "      <th>3</th>\n",
       "      <td>26</td>\n",
       "      <td>48000.0</td>\n",
       "      <td>1</td>\n",
       "      <td>90</td>\n",
       "      <td>2000</td>\n",
       "      <td>3</td>\n",
       "      <td>4</td>\n",
       "      <td>5</td>\n",
       "      <td>1152.5</td>\n",
       "    </tr>\n",
       "    <tr>\n",
       "      <th>4</th>\n",
       "      <td>30</td>\n",
       "      <td>38500.0</td>\n",
       "      <td>1</td>\n",
       "      <td>90</td>\n",
       "      <td>2000</td>\n",
       "      <td>3</td>\n",
       "      <td>4</td>\n",
       "      <td>5</td>\n",
       "      <td>1152.5</td>\n",
       "    </tr>\n",
       "    <tr>\n",
       "      <th>...</th>\n",
       "      <td>...</td>\n",
       "      <td>...</td>\n",
       "      <td>...</td>\n",
       "      <td>...</td>\n",
       "      <td>...</td>\n",
       "      <td>...</td>\n",
       "      <td>...</td>\n",
       "      <td>...</td>\n",
       "      <td>...</td>\n",
       "    </tr>\n",
       "    <tr>\n",
       "      <th>1431</th>\n",
       "      <td>69</td>\n",
       "      <td>20544.0</td>\n",
       "      <td>2</td>\n",
       "      <td>86</td>\n",
       "      <td>1300</td>\n",
       "      <td>3</td>\n",
       "      <td>4</td>\n",
       "      <td>5</td>\n",
       "      <td>1025.0</td>\n",
       "    </tr>\n",
       "    <tr>\n",
       "      <th>1432</th>\n",
       "      <td>72</td>\n",
       "      <td>19000.0</td>\n",
       "      <td>2</td>\n",
       "      <td>86</td>\n",
       "      <td>1300</td>\n",
       "      <td>3</td>\n",
       "      <td>4</td>\n",
       "      <td>5</td>\n",
       "      <td>1015.0</td>\n",
       "    </tr>\n",
       "    <tr>\n",
       "      <th>1433</th>\n",
       "      <td>71</td>\n",
       "      <td>17016.0</td>\n",
       "      <td>2</td>\n",
       "      <td>86</td>\n",
       "      <td>1300</td>\n",
       "      <td>3</td>\n",
       "      <td>4</td>\n",
       "      <td>5</td>\n",
       "      <td>1015.0</td>\n",
       "    </tr>\n",
       "    <tr>\n",
       "      <th>1434</th>\n",
       "      <td>70</td>\n",
       "      <td>16916.0</td>\n",
       "      <td>2</td>\n",
       "      <td>86</td>\n",
       "      <td>1300</td>\n",
       "      <td>3</td>\n",
       "      <td>4</td>\n",
       "      <td>5</td>\n",
       "      <td>1015.0</td>\n",
       "    </tr>\n",
       "    <tr>\n",
       "      <th>1435</th>\n",
       "      <td>76</td>\n",
       "      <td>1.0</td>\n",
       "      <td>2</td>\n",
       "      <td>110</td>\n",
       "      <td>1600</td>\n",
       "      <td>5</td>\n",
       "      <td>4</td>\n",
       "      <td>5</td>\n",
       "      <td>1114.0</td>\n",
       "    </tr>\n",
       "  </tbody>\n",
       "</table>\n",
       "<p>1436 rows × 9 columns</p>\n",
       "</div>"
      ],
      "text/plain": [
       "      Age_08_04       KM  Fuel_Type   HP    cc  Doors  Cylinders  Gears  \\\n",
       "0            23  46986.0          1   90  2000      3          4      5   \n",
       "1            23  72937.0          1   90  2000      3          4      5   \n",
       "2            24  41711.0          1   90  2000      3          4      5   \n",
       "3            26  48000.0          1   90  2000      3          4      5   \n",
       "4            30  38500.0          1   90  2000      3          4      5   \n",
       "...         ...      ...        ...  ...   ...    ...        ...    ...   \n",
       "1431         69  20544.0          2   86  1300      3          4      5   \n",
       "1432         72  19000.0          2   86  1300      3          4      5   \n",
       "1433         71  17016.0          2   86  1300      3          4      5   \n",
       "1434         70  16916.0          2   86  1300      3          4      5   \n",
       "1435         76      1.0          2  110  1600      5          4      5   \n",
       "\n",
       "      Weight  \n",
       "0     1152.5  \n",
       "1     1152.5  \n",
       "2     1152.5  \n",
       "3     1152.5  \n",
       "4     1152.5  \n",
       "...      ...  \n",
       "1431  1025.0  \n",
       "1432  1015.0  \n",
       "1433  1015.0  \n",
       "1434  1015.0  \n",
       "1435  1114.0  \n",
       "\n",
       "[1436 rows x 9 columns]"
      ]
     },
     "execution_count": 106,
     "metadata": {},
     "output_type": "execute_result"
    }
   ],
   "source": [
    "x1 = df.iloc[:,1:5]\n",
    "x2 = df.iloc[:,6:11]\n",
    "X = pd.concat([x1,x2],axis=1)\n",
    "X"
   ]
  },
  {
   "cell_type": "code",
   "execution_count": 107,
   "id": "b5ff362d",
   "metadata": {},
   "outputs": [
    {
     "data": {
      "text/html": [
       "<div>\n",
       "<style scoped>\n",
       "    .dataframe tbody tr th:only-of-type {\n",
       "        vertical-align: middle;\n",
       "    }\n",
       "\n",
       "    .dataframe tbody tr th {\n",
       "        vertical-align: top;\n",
       "    }\n",
       "\n",
       "    .dataframe thead th {\n",
       "        text-align: right;\n",
       "    }\n",
       "</style>\n",
       "<table border=\"1\" class=\"dataframe\">\n",
       "  <thead>\n",
       "    <tr style=\"text-align: right;\">\n",
       "      <th></th>\n",
       "      <th>Age_08_04</th>\n",
       "      <th>KM</th>\n",
       "      <th>Fuel_Type</th>\n",
       "      <th>HP</th>\n",
       "      <th>cc</th>\n",
       "      <th>Doors</th>\n",
       "      <th>Cylinders</th>\n",
       "      <th>Gears</th>\n",
       "      <th>Weight</th>\n",
       "    </tr>\n",
       "  </thead>\n",
       "  <tbody>\n",
       "    <tr>\n",
       "      <th>0</th>\n",
       "      <td>-1.771966</td>\n",
       "      <td>-0.593750</td>\n",
       "      <td>-2.337868</td>\n",
       "      <td>-0.768042</td>\n",
       "      <td>0.997419</td>\n",
       "      <td>-1.085139</td>\n",
       "      <td>0.0</td>\n",
       "      <td>-0.140425</td>\n",
       "      <td>2.222387</td>\n",
       "    </tr>\n",
       "    <tr>\n",
       "      <th>1</th>\n",
       "      <td>-1.771966</td>\n",
       "      <td>0.153546</td>\n",
       "      <td>-2.337868</td>\n",
       "      <td>-0.768042</td>\n",
       "      <td>0.997419</td>\n",
       "      <td>-1.085139</td>\n",
       "      <td>0.0</td>\n",
       "      <td>-0.140425</td>\n",
       "      <td>2.222387</td>\n",
       "    </tr>\n",
       "    <tr>\n",
       "      <th>2</th>\n",
       "      <td>-1.718184</td>\n",
       "      <td>-0.745652</td>\n",
       "      <td>-2.337868</td>\n",
       "      <td>-0.768042</td>\n",
       "      <td>0.997419</td>\n",
       "      <td>-1.085139</td>\n",
       "      <td>0.0</td>\n",
       "      <td>-0.140425</td>\n",
       "      <td>2.222387</td>\n",
       "    </tr>\n",
       "    <tr>\n",
       "      <th>3</th>\n",
       "      <td>-1.610620</td>\n",
       "      <td>-0.564551</td>\n",
       "      <td>-2.337868</td>\n",
       "      <td>-0.768042</td>\n",
       "      <td>0.997419</td>\n",
       "      <td>-1.085139</td>\n",
       "      <td>0.0</td>\n",
       "      <td>-0.140425</td>\n",
       "      <td>2.222387</td>\n",
       "    </tr>\n",
       "    <tr>\n",
       "      <th>4</th>\n",
       "      <td>-1.395491</td>\n",
       "      <td>-0.838117</td>\n",
       "      <td>-2.337868</td>\n",
       "      <td>-0.768042</td>\n",
       "      <td>0.997419</td>\n",
       "      <td>-1.085139</td>\n",
       "      <td>0.0</td>\n",
       "      <td>-0.140425</td>\n",
       "      <td>2.222387</td>\n",
       "    </tr>\n",
       "    <tr>\n",
       "      <th>...</th>\n",
       "      <td>...</td>\n",
       "      <td>...</td>\n",
       "      <td>...</td>\n",
       "      <td>...</td>\n",
       "      <td>...</td>\n",
       "      <td>...</td>\n",
       "      <td>...</td>\n",
       "      <td>...</td>\n",
       "      <td>...</td>\n",
       "    </tr>\n",
       "    <tr>\n",
       "      <th>1431</th>\n",
       "      <td>0.702015</td>\n",
       "      <td>-1.355186</td>\n",
       "      <td>0.354336</td>\n",
       "      <td>-1.035138</td>\n",
       "      <td>-0.652594</td>\n",
       "      <td>-1.085139</td>\n",
       "      <td>0.0</td>\n",
       "      <td>-0.140425</td>\n",
       "      <td>-1.154070</td>\n",
       "    </tr>\n",
       "    <tr>\n",
       "      <th>1432</th>\n",
       "      <td>0.863362</td>\n",
       "      <td>-1.399648</td>\n",
       "      <td>0.354336</td>\n",
       "      <td>-1.035138</td>\n",
       "      <td>-0.652594</td>\n",
       "      <td>-1.085139</td>\n",
       "      <td>0.0</td>\n",
       "      <td>-0.140425</td>\n",
       "      <td>-1.418890</td>\n",
       "    </tr>\n",
       "    <tr>\n",
       "      <th>1433</th>\n",
       "      <td>0.809579</td>\n",
       "      <td>-1.456780</td>\n",
       "      <td>0.354336</td>\n",
       "      <td>-1.035138</td>\n",
       "      <td>-0.652594</td>\n",
       "      <td>-1.085139</td>\n",
       "      <td>0.0</td>\n",
       "      <td>-0.140425</td>\n",
       "      <td>-1.418890</td>\n",
       "    </tr>\n",
       "    <tr>\n",
       "      <th>1434</th>\n",
       "      <td>0.755797</td>\n",
       "      <td>-1.459660</td>\n",
       "      <td>0.354336</td>\n",
       "      <td>-1.035138</td>\n",
       "      <td>-0.652594</td>\n",
       "      <td>-1.085139</td>\n",
       "      <td>0.0</td>\n",
       "      <td>-0.140425</td>\n",
       "      <td>-1.418890</td>\n",
       "    </tr>\n",
       "    <tr>\n",
       "      <th>1435</th>\n",
       "      <td>1.078490</td>\n",
       "      <td>-1.946752</td>\n",
       "      <td>0.354336</td>\n",
       "      <td>0.567440</td>\n",
       "      <td>0.054555</td>\n",
       "      <td>1.014941</td>\n",
       "      <td>0.0</td>\n",
       "      <td>-0.140425</td>\n",
       "      <td>1.202830</td>\n",
       "    </tr>\n",
       "  </tbody>\n",
       "</table>\n",
       "<p>1436 rows × 9 columns</p>\n",
       "</div>"
      ],
      "text/plain": [
       "      Age_08_04        KM  Fuel_Type        HP        cc     Doors  Cylinders  \\\n",
       "0     -1.771966 -0.593750  -2.337868 -0.768042  0.997419 -1.085139        0.0   \n",
       "1     -1.771966  0.153546  -2.337868 -0.768042  0.997419 -1.085139        0.0   \n",
       "2     -1.718184 -0.745652  -2.337868 -0.768042  0.997419 -1.085139        0.0   \n",
       "3     -1.610620 -0.564551  -2.337868 -0.768042  0.997419 -1.085139        0.0   \n",
       "4     -1.395491 -0.838117  -2.337868 -0.768042  0.997419 -1.085139        0.0   \n",
       "...         ...       ...        ...       ...       ...       ...        ...   \n",
       "1431   0.702015 -1.355186   0.354336 -1.035138 -0.652594 -1.085139        0.0   \n",
       "1432   0.863362 -1.399648   0.354336 -1.035138 -0.652594 -1.085139        0.0   \n",
       "1433   0.809579 -1.456780   0.354336 -1.035138 -0.652594 -1.085139        0.0   \n",
       "1434   0.755797 -1.459660   0.354336 -1.035138 -0.652594 -1.085139        0.0   \n",
       "1435   1.078490 -1.946752   0.354336  0.567440  0.054555  1.014941        0.0   \n",
       "\n",
       "         Gears    Weight  \n",
       "0    -0.140425  2.222387  \n",
       "1    -0.140425  2.222387  \n",
       "2    -0.140425  2.222387  \n",
       "3    -0.140425  2.222387  \n",
       "4    -0.140425  2.222387  \n",
       "...        ...       ...  \n",
       "1431 -0.140425 -1.154070  \n",
       "1432 -0.140425 -1.418890  \n",
       "1433 -0.140425 -1.418890  \n",
       "1434 -0.140425 -1.418890  \n",
       "1435 -0.140425  1.202830  \n",
       "\n",
       "[1436 rows x 9 columns]"
      ]
     },
     "execution_count": 107,
     "metadata": {},
     "output_type": "execute_result"
    }
   ],
   "source": [
    "from sklearn.preprocessing import StandardScaler\n",
    "SS = StandardScaler()\n",
    "SS_X = SS.fit_transform(X)\n",
    "SS_X = pd.DataFrame(SS_X)\n",
    "SS_X.columns = list(X)\n",
    "SS_X"
   ]
  },
  {
   "cell_type": "code",
   "execution_count": 109,
   "id": "5f4dee38",
   "metadata": {},
   "outputs": [
    {
     "data": {
      "text/html": [
       "<div>\n",
       "<style scoped>\n",
       "    .dataframe tbody tr th:only-of-type {\n",
       "        vertical-align: middle;\n",
       "    }\n",
       "\n",
       "    .dataframe tbody tr th {\n",
       "        vertical-align: top;\n",
       "    }\n",
       "\n",
       "    .dataframe thead th {\n",
       "        text-align: right;\n",
       "    }\n",
       "</style>\n",
       "<table border=\"1\" class=\"dataframe\">\n",
       "  <thead>\n",
       "    <tr style=\"text-align: right;\">\n",
       "      <th></th>\n",
       "      <th>0</th>\n",
       "      <th>1</th>\n",
       "      <th>2</th>\n",
       "      <th>3</th>\n",
       "      <th>4</th>\n",
       "      <th>5</th>\n",
       "      <th>6</th>\n",
       "      <th>7</th>\n",
       "      <th>8</th>\n",
       "    </tr>\n",
       "  </thead>\n",
       "  <tbody>\n",
       "    <tr>\n",
       "      <th>0</th>\n",
       "      <td>3.221650</td>\n",
       "      <td>-0.141108</td>\n",
       "      <td>0.373091</td>\n",
       "      <td>-2.361935</td>\n",
       "      <td>0.252707</td>\n",
       "      <td>-0.570331</td>\n",
       "      <td>0.345661</td>\n",
       "      <td>-0.231352</td>\n",
       "      <td>-3.362084e-17</td>\n",
       "    </tr>\n",
       "    <tr>\n",
       "      <th>1</th>\n",
       "      <td>3.250075</td>\n",
       "      <td>-0.586294</td>\n",
       "      <td>0.515849</td>\n",
       "      <td>-2.127038</td>\n",
       "      <td>0.152797</td>\n",
       "      <td>-0.752852</td>\n",
       "      <td>-0.144143</td>\n",
       "      <td>-0.205003</td>\n",
       "      <td>-4.478336e-17</td>\n",
       "    </tr>\n",
       "    <tr>\n",
       "      <th>2</th>\n",
       "      <td>3.196724</td>\n",
       "      <td>-0.075079</td>\n",
       "      <td>0.349531</td>\n",
       "      <td>-2.385967</td>\n",
       "      <td>0.278400</td>\n",
       "      <td>-0.534428</td>\n",
       "      <td>0.477820</td>\n",
       "      <td>-0.252271</td>\n",
       "      <td>-2.930091e-17</td>\n",
       "    </tr>\n",
       "    <tr>\n",
       "      <th>3</th>\n",
       "      <td>3.165317</td>\n",
       "      <td>-0.231892</td>\n",
       "      <td>0.395044</td>\n",
       "      <td>-2.281612</td>\n",
       "      <td>0.264956</td>\n",
       "      <td>-0.581055</td>\n",
       "      <td>0.424316</td>\n",
       "      <td>-0.277012</td>\n",
       "      <td>-4.791435e-18</td>\n",
       "    </tr>\n",
       "    <tr>\n",
       "      <th>4</th>\n",
       "      <td>3.078320</td>\n",
       "      <td>-0.166772</td>\n",
       "      <td>0.364617</td>\n",
       "      <td>-2.272742</td>\n",
       "      <td>0.323068</td>\n",
       "      <td>-0.519027</td>\n",
       "      <td>0.734012</td>\n",
       "      <td>-0.348912</td>\n",
       "      <td>-8.545830e-18</td>\n",
       "    </tr>\n",
       "    <tr>\n",
       "      <th>...</th>\n",
       "      <td>...</td>\n",
       "      <td>...</td>\n",
       "      <td>...</td>\n",
       "      <td>...</td>\n",
       "      <td>...</td>\n",
       "      <td>...</td>\n",
       "      <td>...</td>\n",
       "      <td>...</td>\n",
       "      <td>...</td>\n",
       "    </tr>\n",
       "    <tr>\n",
       "      <th>1431</th>\n",
       "      <td>-1.699711</td>\n",
       "      <td>-0.137963</td>\n",
       "      <td>-0.604414</td>\n",
       "      <td>-1.307873</td>\n",
       "      <td>0.291469</td>\n",
       "      <td>0.632056</td>\n",
       "      <td>0.984822</td>\n",
       "      <td>-0.207843</td>\n",
       "      <td>1.584002e-18</td>\n",
       "    </tr>\n",
       "    <tr>\n",
       "      <th>1432</th>\n",
       "      <td>-1.923687</td>\n",
       "      <td>-0.210755</td>\n",
       "      <td>-0.620813</td>\n",
       "      <td>-1.260570</td>\n",
       "      <td>0.359541</td>\n",
       "      <td>0.703278</td>\n",
       "      <td>1.090762</td>\n",
       "      <td>-0.069138</td>\n",
       "      <td>2.014299e-18</td>\n",
       "    </tr>\n",
       "    <tr>\n",
       "      <th>1433</th>\n",
       "      <td>-1.906713</td>\n",
       "      <td>-0.152256</td>\n",
       "      <td>-0.637185</td>\n",
       "      <td>-1.302243</td>\n",
       "      <td>0.361795</td>\n",
       "      <td>0.718429</td>\n",
       "      <td>1.095610</td>\n",
       "      <td>-0.055589</td>\n",
       "      <td>2.012456e-18</td>\n",
       "    </tr>\n",
       "    <tr>\n",
       "      <th>1434</th>\n",
       "      <td>-1.887675</td>\n",
       "      <td>-0.126078</td>\n",
       "      <td>-0.643194</td>\n",
       "      <td>-1.326863</td>\n",
       "      <td>0.356796</td>\n",
       "      <td>0.720330</td>\n",
       "      <td>1.064900</td>\n",
       "      <td>-0.040127</td>\n",
       "      <td>1.968521e-18</td>\n",
       "    </tr>\n",
       "    <tr>\n",
       "      <th>1435</th>\n",
       "      <td>0.428562</td>\n",
       "      <td>1.338414</td>\n",
       "      <td>-0.423772</td>\n",
       "      <td>0.927260</td>\n",
       "      <td>0.059829</td>\n",
       "      <td>0.246570</td>\n",
       "      <td>1.940353</td>\n",
       "      <td>-1.027798</td>\n",
       "      <td>2.425810e-18</td>\n",
       "    </tr>\n",
       "  </tbody>\n",
       "</table>\n",
       "<p>1436 rows × 9 columns</p>\n",
       "</div>"
      ],
      "text/plain": [
       "             0         1         2         3         4         5         6  \\\n",
       "0     3.221650 -0.141108  0.373091 -2.361935  0.252707 -0.570331  0.345661   \n",
       "1     3.250075 -0.586294  0.515849 -2.127038  0.152797 -0.752852 -0.144143   \n",
       "2     3.196724 -0.075079  0.349531 -2.385967  0.278400 -0.534428  0.477820   \n",
       "3     3.165317 -0.231892  0.395044 -2.281612  0.264956 -0.581055  0.424316   \n",
       "4     3.078320 -0.166772  0.364617 -2.272742  0.323068 -0.519027  0.734012   \n",
       "...        ...       ...       ...       ...       ...       ...       ...   \n",
       "1431 -1.699711 -0.137963 -0.604414 -1.307873  0.291469  0.632056  0.984822   \n",
       "1432 -1.923687 -0.210755 -0.620813 -1.260570  0.359541  0.703278  1.090762   \n",
       "1433 -1.906713 -0.152256 -0.637185 -1.302243  0.361795  0.718429  1.095610   \n",
       "1434 -1.887675 -0.126078 -0.643194 -1.326863  0.356796  0.720330  1.064900   \n",
       "1435  0.428562  1.338414 -0.423772  0.927260  0.059829  0.246570  1.940353   \n",
       "\n",
       "             7             8  \n",
       "0    -0.231352 -3.362084e-17  \n",
       "1    -0.205003 -4.478336e-17  \n",
       "2    -0.252271 -2.930091e-17  \n",
       "3    -0.277012 -4.791435e-18  \n",
       "4    -0.348912 -8.545830e-18  \n",
       "...        ...           ...  \n",
       "1431 -0.207843  1.584002e-18  \n",
       "1432 -0.069138  2.014299e-18  \n",
       "1433 -0.055589  2.012456e-18  \n",
       "1434 -0.040127  1.968521e-18  \n",
       "1435 -1.027798  2.425810e-18  \n",
       "\n",
       "[1436 rows x 9 columns]"
      ]
     },
     "execution_count": 109,
     "metadata": {},
     "output_type": "execute_result"
    }
   ],
   "source": [
    "from sklearn.decomposition import PCA\n",
    "pca = PCA()\n",
    "pc = pca.fit_transform(SS_X)\n",
    "pc = pd.DataFrame(pc)\n",
    "pc"
   ]
  },
  {
   "cell_type": "code",
   "execution_count": 169,
   "id": "bc1bee52",
   "metadata": {},
   "outputs": [],
   "source": [
    "X_pc = pc.iloc[:,0:5]"
   ]
  },
  {
   "cell_type": "code",
   "execution_count": 170,
   "id": "8cad1a87",
   "metadata": {},
   "outputs": [],
   "source": [
    "from sklearn.model_selection import train_test_split\n",
    "X_train,X_test,Y_train,Y_test = train_test_split(X_pc,Y,test_size=0.2)"
   ]
  },
  {
   "cell_type": "code",
   "execution_count": 171,
   "id": "90da62be",
   "metadata": {},
   "outputs": [],
   "source": [
    "from sklearn.linear_model import LinearRegression\n",
    "model3 = LinearRegression()"
   ]
  },
  {
   "cell_type": "code",
   "execution_count": 172,
   "id": "f5df1865",
   "metadata": {},
   "outputs": [
    {
     "data": {
      "text/plain": [
       "LinearRegression()"
      ]
     },
     "execution_count": 172,
     "metadata": {},
     "output_type": "execute_result"
    }
   ],
   "source": [
    "model3.fit(X_train,Y_train)"
   ]
  },
  {
   "cell_type": "code",
   "execution_count": 173,
   "id": "7ff5d368",
   "metadata": {},
   "outputs": [
    {
     "data": {
      "text/plain": [
       "array([ 1219.52920097,  1790.02179628,   -47.79294397, -1098.89258897,\n",
       "        -357.31793083])"
      ]
     },
     "execution_count": 173,
     "metadata": {},
     "output_type": "execute_result"
    }
   ],
   "source": [
    "model3.coef_"
   ]
  },
  {
   "cell_type": "code",
   "execution_count": 174,
   "id": "1d1694e3",
   "metadata": {},
   "outputs": [],
   "source": [
    "Y_pred_train = model3.predict(X_train)\n",
    "Y_pred_test = model3.predict(X_test)"
   ]
  },
  {
   "cell_type": "code",
   "execution_count": 175,
   "id": "4fb395ce",
   "metadata": {},
   "outputs": [],
   "source": [
    "from sklearn.metrics import r2_score,mean_squared_error\n",
    "import numpy as np"
   ]
  },
  {
   "cell_type": "code",
   "execution_count": 176,
   "id": "c1757ef0",
   "metadata": {},
   "outputs": [],
   "source": [
    "train_acc = []\n",
    "test_acc = []"
   ]
  },
  {
   "cell_type": "code",
   "execution_count": 179,
   "id": "a8bcf276",
   "metadata": {},
   "outputs": [],
   "source": [
    "#Accuracy\n",
    "for i in range(1,101):\n",
    "    from sklearn.model_selection import train_test_split\n",
    "    X_train,X_test,Y_train,Y_test = train_test_split(X_pc,Y,test_size=0.2)\n",
    "    from sklearn.linear_model import LinearRegression\n",
    "    model3 = LinearRegression()\n",
    "    model3.fit(X_train,Y_train)\n",
    "    Y_pred_train = model3.predict(X_train)\n",
    "    Y_pred_test = model3.predict(X_test)\n",
    "    train_acc.append(r2_score(Y_train,Y_pred_train))\n",
    "    test_acc.append(r2_score(Y_test,Y_pred_test))"
   ]
  },
  {
   "cell_type": "code",
   "execution_count": 180,
   "id": "e63af4d6",
   "metadata": {},
   "outputs": [
    {
     "name": "stdout",
     "output_type": "stream",
     "text": [
      "Model3 training data performance:  0.83\n",
      "Model3 testing data performance:  0.82\n"
     ]
    }
   ],
   "source": [
    "print(\"Model3 training data performance: \",np.round(np.mean(train_acc),2))\n",
    "print(\"Model3 testing data performance: \",np.round(np.mean(test_acc),2))"
   ]
  },
  {
   "cell_type": "code",
   "execution_count": 181,
   "id": "9eb8c821",
   "metadata": {},
   "outputs": [],
   "source": [
    "d2 = pd.DataFrame(model3.coef_)\n",
    "d1 = pd.DataFrame(list(SS_X))"
   ]
  },
  {
   "cell_type": "code",
   "execution_count": 188,
   "id": "e522e8ad",
   "metadata": {},
   "outputs": [],
   "source": [
    "#Lasso\n",
    "from sklearn.linear_model import Lasso\n",
    "lass_c = Lasso(alpha=15.0)"
   ]
  },
  {
   "cell_type": "code",
   "execution_count": 189,
   "id": "0858e0b5",
   "metadata": {},
   "outputs": [],
   "source": [
    "lass_c.fit(X_train,Y_train)\n",
    "d3 = pd.DataFrame(lass_c.coef_)"
   ]
  },
  {
   "cell_type": "code",
   "execution_count": 190,
   "id": "b89a2644",
   "metadata": {},
   "outputs": [
    {
     "data": {
      "text/html": [
       "<div>\n",
       "<style scoped>\n",
       "    .dataframe tbody tr th:only-of-type {\n",
       "        vertical-align: middle;\n",
       "    }\n",
       "\n",
       "    .dataframe tbody tr th {\n",
       "        vertical-align: top;\n",
       "    }\n",
       "\n",
       "    .dataframe thead th {\n",
       "        text-align: right;\n",
       "    }\n",
       "</style>\n",
       "<table border=\"1\" class=\"dataframe\">\n",
       "  <thead>\n",
       "    <tr style=\"text-align: right;\">\n",
       "      <th></th>\n",
       "      <th>0</th>\n",
       "      <th>0</th>\n",
       "      <th>0</th>\n",
       "    </tr>\n",
       "  </thead>\n",
       "  <tbody>\n",
       "    <tr>\n",
       "      <th>0</th>\n",
       "      <td>Age_08_04</td>\n",
       "      <td>1245.603294</td>\n",
       "      <td>1237.984668</td>\n",
       "    </tr>\n",
       "    <tr>\n",
       "      <th>1</th>\n",
       "      <td>KM</td>\n",
       "      <td>1806.945332</td>\n",
       "      <td>1799.284103</td>\n",
       "    </tr>\n",
       "    <tr>\n",
       "      <th>2</th>\n",
       "      <td>Fuel_Type</td>\n",
       "      <td>-96.706635</td>\n",
       "      <td>-84.244754</td>\n",
       "    </tr>\n",
       "    <tr>\n",
       "      <th>3</th>\n",
       "      <td>HP</td>\n",
       "      <td>-1059.160946</td>\n",
       "      <td>-1044.389757</td>\n",
       "    </tr>\n",
       "    <tr>\n",
       "      <th>4</th>\n",
       "      <td>cc</td>\n",
       "      <td>-236.086974</td>\n",
       "      <td>-220.314006</td>\n",
       "    </tr>\n",
       "    <tr>\n",
       "      <th>5</th>\n",
       "      <td>Doors</td>\n",
       "      <td>NaN</td>\n",
       "      <td>NaN</td>\n",
       "    </tr>\n",
       "    <tr>\n",
       "      <th>6</th>\n",
       "      <td>Cylinders</td>\n",
       "      <td>NaN</td>\n",
       "      <td>NaN</td>\n",
       "    </tr>\n",
       "    <tr>\n",
       "      <th>7</th>\n",
       "      <td>Gears</td>\n",
       "      <td>NaN</td>\n",
       "      <td>NaN</td>\n",
       "    </tr>\n",
       "    <tr>\n",
       "      <th>8</th>\n",
       "      <td>Weight</td>\n",
       "      <td>NaN</td>\n",
       "      <td>NaN</td>\n",
       "    </tr>\n",
       "  </tbody>\n",
       "</table>\n",
       "</div>"
      ],
      "text/plain": [
       "           0            0            0\n",
       "0  Age_08_04  1245.603294  1237.984668\n",
       "1         KM  1806.945332  1799.284103\n",
       "2  Fuel_Type   -96.706635   -84.244754\n",
       "3         HP -1059.160946 -1044.389757\n",
       "4         cc  -236.086974  -220.314006\n",
       "5      Doors          NaN          NaN\n",
       "6  Cylinders          NaN          NaN\n",
       "7      Gears          NaN          NaN\n",
       "8     Weight          NaN          NaN"
      ]
     },
     "execution_count": 190,
     "metadata": {},
     "output_type": "execute_result"
    }
   ],
   "source": [
    "df_coef = pd.concat([d1,d2,d3],axis=1)\n",
    "df_coef"
   ]
  },
  {
   "cell_type": "code",
   "execution_count": 191,
   "id": "db50268d",
   "metadata": {},
   "outputs": [],
   "source": [
    "#Ridge regression\n",
    "from sklearn.linear_model import Ridge\n",
    "Ridge_c = Ridge(alpha=12.0)"
   ]
  },
  {
   "cell_type": "code",
   "execution_count": 192,
   "id": "13fee4ef",
   "metadata": {},
   "outputs": [],
   "source": [
    "Ridge_c.fit(X_train,Y_train)\n",
    "d3 = pd.DataFrame(Ridge_c.coef_)"
   ]
  },
  {
   "cell_type": "code",
   "execution_count": 193,
   "id": "048a69ac",
   "metadata": {},
   "outputs": [
    {
     "data": {
      "text/html": [
       "<div>\n",
       "<style scoped>\n",
       "    .dataframe tbody tr th:only-of-type {\n",
       "        vertical-align: middle;\n",
       "    }\n",
       "\n",
       "    .dataframe tbody tr th {\n",
       "        vertical-align: top;\n",
       "    }\n",
       "\n",
       "    .dataframe thead th {\n",
       "        text-align: right;\n",
       "    }\n",
       "</style>\n",
       "<table border=\"1\" class=\"dataframe\">\n",
       "  <thead>\n",
       "    <tr style=\"text-align: right;\">\n",
       "      <th></th>\n",
       "      <th>0</th>\n",
       "      <th>0</th>\n",
       "      <th>0</th>\n",
       "    </tr>\n",
       "  </thead>\n",
       "  <tbody>\n",
       "    <tr>\n",
       "      <th>0</th>\n",
       "      <td>Age_08_04</td>\n",
       "      <td>1245.603294</td>\n",
       "      <td>1239.389968</td>\n",
       "    </tr>\n",
       "    <tr>\n",
       "      <th>1</th>\n",
       "      <td>KM</td>\n",
       "      <td>1806.945332</td>\n",
       "      <td>1797.317296</td>\n",
       "    </tr>\n",
       "    <tr>\n",
       "      <th>2</th>\n",
       "      <td>Fuel_Type</td>\n",
       "      <td>-96.706635</td>\n",
       "      <td>-95.845973</td>\n",
       "    </tr>\n",
       "    <tr>\n",
       "      <th>3</th>\n",
       "      <td>HP</td>\n",
       "      <td>-1059.160946</td>\n",
       "      <td>-1048.053065</td>\n",
       "    </tr>\n",
       "    <tr>\n",
       "      <th>4</th>\n",
       "      <td>cc</td>\n",
       "      <td>-236.086974</td>\n",
       "      <td>-233.533778</td>\n",
       "    </tr>\n",
       "    <tr>\n",
       "      <th>5</th>\n",
       "      <td>Doors</td>\n",
       "      <td>NaN</td>\n",
       "      <td>NaN</td>\n",
       "    </tr>\n",
       "    <tr>\n",
       "      <th>6</th>\n",
       "      <td>Cylinders</td>\n",
       "      <td>NaN</td>\n",
       "      <td>NaN</td>\n",
       "    </tr>\n",
       "    <tr>\n",
       "      <th>7</th>\n",
       "      <td>Gears</td>\n",
       "      <td>NaN</td>\n",
       "      <td>NaN</td>\n",
       "    </tr>\n",
       "    <tr>\n",
       "      <th>8</th>\n",
       "      <td>Weight</td>\n",
       "      <td>NaN</td>\n",
       "      <td>NaN</td>\n",
       "    </tr>\n",
       "  </tbody>\n",
       "</table>\n",
       "</div>"
      ],
      "text/plain": [
       "           0            0            0\n",
       "0  Age_08_04  1245.603294  1239.389968\n",
       "1         KM  1806.945332  1797.317296\n",
       "2  Fuel_Type   -96.706635   -95.845973\n",
       "3         HP -1059.160946 -1048.053065\n",
       "4         cc  -236.086974  -233.533778\n",
       "5      Doors          NaN          NaN\n",
       "6  Cylinders          NaN          NaN\n",
       "7      Gears          NaN          NaN\n",
       "8     Weight          NaN          NaN"
      ]
     },
     "execution_count": 193,
     "metadata": {},
     "output_type": "execute_result"
    }
   ],
   "source": [
    "df_coef = pd.concat([d1,d2,d3],axis=1)\n",
    "df_coef"
   ]
  },
  {
   "cell_type": "markdown",
   "id": "df8962f4",
   "metadata": {},
   "source": [
    "## Interview Questions"
   ]
  },
  {
   "cell_type": "markdown",
   "id": "8cd06db3",
   "metadata": {},
   "source": [
    "#### 1.What is Normalization & Standardization and how is it helpful?\n",
    "Ans: Normalization: Normalization is the process of adjusting values measured on different scales to a common scale, typically between 0 and 1 (or sometimes -1 and 1).\n",
    "How is it helpful: Normalization is useful when you need all the data to be within a specific range and don’t assume any particular data distribution. It's typically used with algorithms sensitive to the magnitude of features, such as neural networks and k-nearest neighbors."
   ]
  },
  {
   "cell_type": "markdown",
   "id": "89cd221b",
   "metadata": {},
   "source": [
    "#### 2.What techniques can be used to address multicollinearity in multiple linear regression?\n",
    "Ans: Methods such as reguralization and Principal Component Analysis can be used to adress multicollinearity in multiple linear regression.\n",
    "    And also by ensuring that highly colrelated variables are not used while fitting the model."
   ]
  }
 ],
 "metadata": {
  "kernelspec": {
   "display_name": "Python 3 (ipykernel)",
   "language": "python",
   "name": "python3"
  },
  "language_info": {
   "codemirror_mode": {
    "name": "ipython",
    "version": 3
   },
   "file_extension": ".py",
   "mimetype": "text/x-python",
   "name": "python",
   "nbconvert_exporter": "python",
   "pygments_lexer": "ipython3",
   "version": "3.9.13"
  }
 },
 "nbformat": 4,
 "nbformat_minor": 5
}
