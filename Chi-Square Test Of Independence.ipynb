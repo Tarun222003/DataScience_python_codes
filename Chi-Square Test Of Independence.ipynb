{
 "cells": [
  {
   "cell_type": "code",
   "execution_count": 1,
   "id": "26f4c750",
   "metadata": {},
   "outputs": [
    {
     "data": {
      "text/html": [
       "<div>\n",
       "<style scoped>\n",
       "    .dataframe tbody tr th:only-of-type {\n",
       "        vertical-align: middle;\n",
       "    }\n",
       "\n",
       "    .dataframe tbody tr th {\n",
       "        vertical-align: top;\n",
       "    }\n",
       "\n",
       "    .dataframe thead th {\n",
       "        text-align: right;\n",
       "    }\n",
       "</style>\n",
       "<table border=\"1\" class=\"dataframe\">\n",
       "  <thead>\n",
       "    <tr style=\"text-align: right;\">\n",
       "      <th></th>\n",
       "      <th>Person_ID</th>\n",
       "      <th>Age Group</th>\n",
       "      <th>Usage Frequency</th>\n",
       "      <th>Card Type</th>\n",
       "      <th>Annual Spending (USD)</th>\n",
       "      <th>Default History</th>\n",
       "    </tr>\n",
       "  </thead>\n",
       "  <tbody>\n",
       "    <tr>\n",
       "      <th>0</th>\n",
       "      <td>1</td>\n",
       "      <td>36-50</td>\n",
       "      <td>High Usage</td>\n",
       "      <td>MasterCard</td>\n",
       "      <td>9109</td>\n",
       "      <td>No Default</td>\n",
       "    </tr>\n",
       "    <tr>\n",
       "      <th>1</th>\n",
       "      <td>2</td>\n",
       "      <td>51+</td>\n",
       "      <td>Low Usage</td>\n",
       "      <td>Visa</td>\n",
       "      <td>6990</td>\n",
       "      <td>No Default</td>\n",
       "    </tr>\n",
       "    <tr>\n",
       "      <th>2</th>\n",
       "      <td>3</td>\n",
       "      <td>18-25</td>\n",
       "      <td>Low Usage</td>\n",
       "      <td>Discover</td>\n",
       "      <td>4100</td>\n",
       "      <td>No Default</td>\n",
       "    </tr>\n",
       "    <tr>\n",
       "      <th>3</th>\n",
       "      <td>4</td>\n",
       "      <td>36-50</td>\n",
       "      <td>High Usage</td>\n",
       "      <td>Discover</td>\n",
       "      <td>7283</td>\n",
       "      <td>No Default</td>\n",
       "    </tr>\n",
       "    <tr>\n",
       "      <th>4</th>\n",
       "      <td>5</td>\n",
       "      <td>36-50</td>\n",
       "      <td>Low Usage</td>\n",
       "      <td>Discover</td>\n",
       "      <td>9646</td>\n",
       "      <td>No Default</td>\n",
       "    </tr>\n",
       "    <tr>\n",
       "      <th>...</th>\n",
       "      <td>...</td>\n",
       "      <td>...</td>\n",
       "      <td>...</td>\n",
       "      <td>...</td>\n",
       "      <td>...</td>\n",
       "      <td>...</td>\n",
       "    </tr>\n",
       "    <tr>\n",
       "      <th>495</th>\n",
       "      <td>496</td>\n",
       "      <td>36-50</td>\n",
       "      <td>Low Usage</td>\n",
       "      <td>MasterCard</td>\n",
       "      <td>2263</td>\n",
       "      <td>No Default</td>\n",
       "    </tr>\n",
       "    <tr>\n",
       "      <th>496</th>\n",
       "      <td>497</td>\n",
       "      <td>36-50</td>\n",
       "      <td>Low Usage</td>\n",
       "      <td>MasterCard</td>\n",
       "      <td>9212</td>\n",
       "      <td>Default</td>\n",
       "    </tr>\n",
       "    <tr>\n",
       "      <th>497</th>\n",
       "      <td>498</td>\n",
       "      <td>51+</td>\n",
       "      <td>Low Usage</td>\n",
       "      <td>Amex</td>\n",
       "      <td>6297</td>\n",
       "      <td>No Default</td>\n",
       "    </tr>\n",
       "    <tr>\n",
       "      <th>498</th>\n",
       "      <td>499</td>\n",
       "      <td>18-25</td>\n",
       "      <td>Medium Usage</td>\n",
       "      <td>MasterCard</td>\n",
       "      <td>9708</td>\n",
       "      <td>Default</td>\n",
       "    </tr>\n",
       "    <tr>\n",
       "      <th>499</th>\n",
       "      <td>500</td>\n",
       "      <td>51+</td>\n",
       "      <td>Low Usage</td>\n",
       "      <td>Amex</td>\n",
       "      <td>7599</td>\n",
       "      <td>No Default</td>\n",
       "    </tr>\n",
       "  </tbody>\n",
       "</table>\n",
       "<p>500 rows × 6 columns</p>\n",
       "</div>"
      ],
      "text/plain": [
       "     Person_ID Age Group Usage Frequency   Card Type  Annual Spending (USD)  \\\n",
       "0            1     36-50      High Usage  MasterCard                   9109   \n",
       "1            2       51+       Low Usage        Visa                   6990   \n",
       "2            3     18-25       Low Usage    Discover                   4100   \n",
       "3            4     36-50      High Usage    Discover                   7283   \n",
       "4            5     36-50       Low Usage    Discover                   9646   \n",
       "..         ...       ...             ...         ...                    ...   \n",
       "495        496     36-50       Low Usage  MasterCard                   2263   \n",
       "496        497     36-50       Low Usage  MasterCard                   9212   \n",
       "497        498       51+       Low Usage        Amex                   6297   \n",
       "498        499     18-25    Medium Usage  MasterCard                   9708   \n",
       "499        500       51+       Low Usage        Amex                   7599   \n",
       "\n",
       "    Default History  \n",
       "0        No Default  \n",
       "1        No Default  \n",
       "2        No Default  \n",
       "3        No Default  \n",
       "4        No Default  \n",
       "..              ...  \n",
       "495      No Default  \n",
       "496         Default  \n",
       "497      No Default  \n",
       "498         Default  \n",
       "499      No Default  \n",
       "\n",
       "[500 rows x 6 columns]"
      ]
     },
     "execution_count": 1,
     "metadata": {},
     "output_type": "execute_result"
    }
   ],
   "source": [
    "import pandas as pd\n",
    "df = pd.read_csv(r\"C:\\Users\\padal\\OneDrive\\Desktop\\Data Science\\Credit_Card_Usage_Data.csv\")\n",
    "df"
   ]
  },
  {
   "cell_type": "code",
   "execution_count": 2,
   "id": "01c35270",
   "metadata": {},
   "outputs": [
    {
     "name": "stdout",
     "output_type": "stream",
     "text": [
      "<class 'pandas.core.frame.DataFrame'>\n",
      "RangeIndex: 500 entries, 0 to 499\n",
      "Data columns (total 6 columns):\n",
      " #   Column                 Non-Null Count  Dtype \n",
      "---  ------                 --------------  ----- \n",
      " 0   Person_ID              500 non-null    int64 \n",
      " 1   Age Group              500 non-null    object\n",
      " 2   Usage Frequency        500 non-null    object\n",
      " 3   Card Type              500 non-null    object\n",
      " 4   Annual Spending (USD)  500 non-null    int64 \n",
      " 5   Default History        500 non-null    object\n",
      "dtypes: int64(2), object(4)\n",
      "memory usage: 23.6+ KB\n"
     ]
    }
   ],
   "source": [
    "df.info()"
   ]
  },
  {
   "cell_type": "code",
   "execution_count": 3,
   "id": "daa1ab6c",
   "metadata": {},
   "outputs": [
    {
     "data": {
      "text/plain": [
       "51+      148\n",
       "36-50    122\n",
       "18-25    122\n",
       "26-35    108\n",
       "Name: Age Group, dtype: int64"
      ]
     },
     "execution_count": 3,
     "metadata": {},
     "output_type": "execute_result"
    }
   ],
   "source": [
    "df[\"Age Group\"].value_counts()"
   ]
  },
  {
   "cell_type": "code",
   "execution_count": 8,
   "id": "64eef223",
   "metadata": {},
   "outputs": [
    {
     "name": "stdout",
     "output_type": "stream",
     "text": [
      "Collecting researchpy\n",
      "  Downloading researchpy-0.3.6-py3-none-any.whl (34 kB)\n",
      "Requirement already satisfied: statsmodels in c:\\users\\padal\\anaconda3\\lib\\site-packages (from researchpy) (0.13.2)\n",
      "Requirement already satisfied: pandas in c:\\users\\padal\\anaconda3\\lib\\site-packages (from researchpy) (1.4.4)\n",
      "Requirement already satisfied: scipy in c:\\users\\padal\\anaconda3\\lib\\site-packages (from researchpy) (1.9.1)\n",
      "Requirement already satisfied: numpy in c:\\users\\padal\\anaconda3\\lib\\site-packages (from researchpy) (1.21.5)\n",
      "Requirement already satisfied: patsy in c:\\users\\padal\\anaconda3\\lib\\site-packages (from researchpy) (0.5.2)\n",
      "Requirement already satisfied: python-dateutil>=2.8.1 in c:\\users\\padal\\anaconda3\\lib\\site-packages (from pandas->researchpy) (2.8.2)\n",
      "Requirement already satisfied: pytz>=2020.1 in c:\\users\\padal\\anaconda3\\lib\\site-packages (from pandas->researchpy) (2022.1)\n",
      "Requirement already satisfied: six in c:\\users\\padal\\anaconda3\\lib\\site-packages (from patsy->researchpy) (1.16.0)\n",
      "Requirement already satisfied: packaging>=21.3 in c:\\users\\padal\\anaconda3\\lib\\site-packages (from statsmodels->researchpy) (21.3)\n",
      "Requirement already satisfied: pyparsing!=3.0.5,>=2.0.2 in c:\\users\\padal\\anaconda3\\lib\\site-packages (from packaging>=21.3->statsmodels->researchpy) (3.0.9)\n",
      "Installing collected packages: researchpy\n",
      "Successfully installed researchpy-0.3.6\n",
      "Note: you may need to restart the kernel to use updated packages.\n"
     ]
    }
   ],
   "source": [
    "#pip install researchpy"
   ]
  },
  {
   "cell_type": "code",
   "execution_count": 5,
   "id": "3037ea85",
   "metadata": {},
   "outputs": [
    {
     "name": "stdout",
     "output_type": "stream",
     "text": [
      "                Usage Frequency                            \n",
      "Usage Frequency      High Usage Low Usage Medium Usage  All\n",
      "Age Group                                                  \n",
      "18-25                        35        46           41  122\n",
      "26-35                        32        34           42  108\n",
      "36-50                        37        46           39  122\n",
      "51+                          44        60           44  148\n",
      "All                         148       186          166  500\n",
      "                Chi-square test  results\n",
      "0  Pearson Chi-square ( 6.0) =    3.1186\n",
      "1                    p-value =    0.7938\n",
      "2                 Cramer's V =    0.0558\n"
     ]
    }
   ],
   "source": [
    "import researchpy as rp\n",
    "table , results = rp.crosstab(df[\"Age Group\"],df[\"Usage Frequency\"],test = \"chi-square\")\n",
    "print(table)\n",
    "print(results)"
   ]
  },
  {
   "cell_type": "code",
   "execution_count": 8,
   "id": "19f68f40",
   "metadata": {},
   "outputs": [
    {
     "name": "stdout",
     "output_type": "stream",
     "text": [
      "H1 is rejected and H0 is accepted\n"
     ]
    }
   ],
   "source": [
    "p_value = 0.7938\n",
    "alpha = 0.05\n",
    "if(p_value<alpha):\n",
    "    print(\"Ho is rejected and H1 is accepted \")\n",
    "else:\n",
    "    print(\"H1 is rejected and H0 is accepted\")"
   ]
  },
  {
   "cell_type": "code",
   "execution_count": null,
   "id": "a9bf5430",
   "metadata": {},
   "outputs": [],
   "source": []
  }
 ],
 "metadata": {
  "kernelspec": {
   "display_name": "Python 3 (ipykernel)",
   "language": "python",
   "name": "python3"
  },
  "language_info": {
   "codemirror_mode": {
    "name": "ipython",
    "version": 3
   },
   "file_extension": ".py",
   "mimetype": "text/x-python",
   "name": "python",
   "nbconvert_exporter": "python",
   "pygments_lexer": "ipython3",
   "version": "3.9.13"
  }
 },
 "nbformat": 4,
 "nbformat_minor": 5
}
