{
 "cells": [
  {
   "cell_type": "code",
   "execution_count": 1,
   "id": "23bb2fe5",
   "metadata": {},
   "outputs": [
    {
     "data": {
      "text/html": [
       "<div>\n",
       "<style scoped>\n",
       "    .dataframe tbody tr th:only-of-type {\n",
       "        vertical-align: middle;\n",
       "    }\n",
       "\n",
       "    .dataframe tbody tr th {\n",
       "        vertical-align: top;\n",
       "    }\n",
       "\n",
       "    .dataframe thead th {\n",
       "        text-align: right;\n",
       "    }\n",
       "</style>\n",
       "<table border=\"1\" class=\"dataframe\">\n",
       "  <thead>\n",
       "    <tr style=\"text-align: right;\">\n",
       "      <th></th>\n",
       "      <th>Pt</th>\n",
       "      <th>BP</th>\n",
       "      <th>Age</th>\n",
       "      <th>Weight</th>\n",
       "      <th>BSA</th>\n",
       "      <th>Dur</th>\n",
       "      <th>Pulse</th>\n",
       "      <th>Stress</th>\n",
       "    </tr>\n",
       "  </thead>\n",
       "  <tbody>\n",
       "    <tr>\n",
       "      <th>0</th>\n",
       "      <td>101</td>\n",
       "      <td>105</td>\n",
       "      <td>47</td>\n",
       "      <td>85.4</td>\n",
       "      <td>1.75</td>\n",
       "      <td>5.1</td>\n",
       "      <td>63</td>\n",
       "      <td>33</td>\n",
       "    </tr>\n",
       "    <tr>\n",
       "      <th>1</th>\n",
       "      <td>102</td>\n",
       "      <td>115</td>\n",
       "      <td>49</td>\n",
       "      <td>94.2</td>\n",
       "      <td>2.10</td>\n",
       "      <td>3.8</td>\n",
       "      <td>70</td>\n",
       "      <td>14</td>\n",
       "    </tr>\n",
       "    <tr>\n",
       "      <th>2</th>\n",
       "      <td>103</td>\n",
       "      <td>116</td>\n",
       "      <td>49</td>\n",
       "      <td>95.3</td>\n",
       "      <td>1.98</td>\n",
       "      <td>8.2</td>\n",
       "      <td>72</td>\n",
       "      <td>10</td>\n",
       "    </tr>\n",
       "    <tr>\n",
       "      <th>3</th>\n",
       "      <td>104</td>\n",
       "      <td>117</td>\n",
       "      <td>50</td>\n",
       "      <td>94.7</td>\n",
       "      <td>2.01</td>\n",
       "      <td>5.8</td>\n",
       "      <td>73</td>\n",
       "      <td>99</td>\n",
       "    </tr>\n",
       "    <tr>\n",
       "      <th>4</th>\n",
       "      <td>105</td>\n",
       "      <td>112</td>\n",
       "      <td>51</td>\n",
       "      <td>89.4</td>\n",
       "      <td>1.89</td>\n",
       "      <td>7.0</td>\n",
       "      <td>72</td>\n",
       "      <td>95</td>\n",
       "    </tr>\n",
       "    <tr>\n",
       "      <th>5</th>\n",
       "      <td>106</td>\n",
       "      <td>121</td>\n",
       "      <td>48</td>\n",
       "      <td>99.5</td>\n",
       "      <td>2.25</td>\n",
       "      <td>9.3</td>\n",
       "      <td>71</td>\n",
       "      <td>10</td>\n",
       "    </tr>\n",
       "    <tr>\n",
       "      <th>6</th>\n",
       "      <td>107</td>\n",
       "      <td>121</td>\n",
       "      <td>49</td>\n",
       "      <td>99.8</td>\n",
       "      <td>2.25</td>\n",
       "      <td>2.5</td>\n",
       "      <td>69</td>\n",
       "      <td>42</td>\n",
       "    </tr>\n",
       "    <tr>\n",
       "      <th>7</th>\n",
       "      <td>108</td>\n",
       "      <td>110</td>\n",
       "      <td>47</td>\n",
       "      <td>90.9</td>\n",
       "      <td>1.90</td>\n",
       "      <td>6.2</td>\n",
       "      <td>66</td>\n",
       "      <td>8</td>\n",
       "    </tr>\n",
       "    <tr>\n",
       "      <th>8</th>\n",
       "      <td>109</td>\n",
       "      <td>110</td>\n",
       "      <td>49</td>\n",
       "      <td>89.2</td>\n",
       "      <td>1.83</td>\n",
       "      <td>7.1</td>\n",
       "      <td>69</td>\n",
       "      <td>62</td>\n",
       "    </tr>\n",
       "    <tr>\n",
       "      <th>9</th>\n",
       "      <td>110</td>\n",
       "      <td>114</td>\n",
       "      <td>48</td>\n",
       "      <td>92.7</td>\n",
       "      <td>2.07</td>\n",
       "      <td>5.6</td>\n",
       "      <td>64</td>\n",
       "      <td>35</td>\n",
       "    </tr>\n",
       "    <tr>\n",
       "      <th>10</th>\n",
       "      <td>111</td>\n",
       "      <td>114</td>\n",
       "      <td>47</td>\n",
       "      <td>94.4</td>\n",
       "      <td>2.07</td>\n",
       "      <td>5.3</td>\n",
       "      <td>74</td>\n",
       "      <td>90</td>\n",
       "    </tr>\n",
       "    <tr>\n",
       "      <th>11</th>\n",
       "      <td>112</td>\n",
       "      <td>115</td>\n",
       "      <td>49</td>\n",
       "      <td>94.1</td>\n",
       "      <td>1.98</td>\n",
       "      <td>5.6</td>\n",
       "      <td>71</td>\n",
       "      <td>21</td>\n",
       "    </tr>\n",
       "    <tr>\n",
       "      <th>12</th>\n",
       "      <td>113</td>\n",
       "      <td>114</td>\n",
       "      <td>50</td>\n",
       "      <td>91.6</td>\n",
       "      <td>2.05</td>\n",
       "      <td>10.2</td>\n",
       "      <td>68</td>\n",
       "      <td>47</td>\n",
       "    </tr>\n",
       "    <tr>\n",
       "      <th>13</th>\n",
       "      <td>114</td>\n",
       "      <td>106</td>\n",
       "      <td>45</td>\n",
       "      <td>87.1</td>\n",
       "      <td>1.92</td>\n",
       "      <td>5.6</td>\n",
       "      <td>67</td>\n",
       "      <td>80</td>\n",
       "    </tr>\n",
       "    <tr>\n",
       "      <th>14</th>\n",
       "      <td>115</td>\n",
       "      <td>125</td>\n",
       "      <td>52</td>\n",
       "      <td>101.3</td>\n",
       "      <td>2.19</td>\n",
       "      <td>10.0</td>\n",
       "      <td>76</td>\n",
       "      <td>98</td>\n",
       "    </tr>\n",
       "    <tr>\n",
       "      <th>15</th>\n",
       "      <td>116</td>\n",
       "      <td>114</td>\n",
       "      <td>46</td>\n",
       "      <td>94.5</td>\n",
       "      <td>1.98</td>\n",
       "      <td>7.4</td>\n",
       "      <td>69</td>\n",
       "      <td>95</td>\n",
       "    </tr>\n",
       "    <tr>\n",
       "      <th>16</th>\n",
       "      <td>117</td>\n",
       "      <td>106</td>\n",
       "      <td>46</td>\n",
       "      <td>87.0</td>\n",
       "      <td>1.87</td>\n",
       "      <td>3.6</td>\n",
       "      <td>62</td>\n",
       "      <td>18</td>\n",
       "    </tr>\n",
       "    <tr>\n",
       "      <th>17</th>\n",
       "      <td>118</td>\n",
       "      <td>113</td>\n",
       "      <td>46</td>\n",
       "      <td>94.5</td>\n",
       "      <td>1.90</td>\n",
       "      <td>4.3</td>\n",
       "      <td>70</td>\n",
       "      <td>12</td>\n",
       "    </tr>\n",
       "    <tr>\n",
       "      <th>18</th>\n",
       "      <td>119</td>\n",
       "      <td>110</td>\n",
       "      <td>48</td>\n",
       "      <td>90.5</td>\n",
       "      <td>1.88</td>\n",
       "      <td>9.0</td>\n",
       "      <td>71</td>\n",
       "      <td>99</td>\n",
       "    </tr>\n",
       "    <tr>\n",
       "      <th>19</th>\n",
       "      <td>120</td>\n",
       "      <td>122</td>\n",
       "      <td>56</td>\n",
       "      <td>95.7</td>\n",
       "      <td>2.09</td>\n",
       "      <td>7.0</td>\n",
       "      <td>75</td>\n",
       "      <td>99</td>\n",
       "    </tr>\n",
       "  </tbody>\n",
       "</table>\n",
       "</div>"
      ],
      "text/plain": [
       "     Pt   BP  Age  Weight   BSA   Dur  Pulse  Stress\n",
       "0   101  105   47    85.4  1.75   5.1     63      33\n",
       "1   102  115   49    94.2  2.10   3.8     70      14\n",
       "2   103  116   49    95.3  1.98   8.2     72      10\n",
       "3   104  117   50    94.7  2.01   5.8     73      99\n",
       "4   105  112   51    89.4  1.89   7.0     72      95\n",
       "5   106  121   48    99.5  2.25   9.3     71      10\n",
       "6   107  121   49    99.8  2.25   2.5     69      42\n",
       "7   108  110   47    90.9  1.90   6.2     66       8\n",
       "8   109  110   49    89.2  1.83   7.1     69      62\n",
       "9   110  114   48    92.7  2.07   5.6     64      35\n",
       "10  111  114   47    94.4  2.07   5.3     74      90\n",
       "11  112  115   49    94.1  1.98   5.6     71      21\n",
       "12  113  114   50    91.6  2.05  10.2     68      47\n",
       "13  114  106   45    87.1  1.92   5.6     67      80\n",
       "14  115  125   52   101.3  2.19  10.0     76      98\n",
       "15  116  114   46    94.5  1.98   7.4     69      95\n",
       "16  117  106   46    87.0  1.87   3.6     62      18\n",
       "17  118  113   46    94.5  1.90   4.3     70      12\n",
       "18  119  110   48    90.5  1.88   9.0     71      99\n",
       "19  120  122   56    95.7  2.09   7.0     75      99"
      ]
     },
     "execution_count": 1,
     "metadata": {},
     "output_type": "execute_result"
    }
   ],
   "source": [
    "import pandas as pd\n",
    "df = pd.read_csv(r\"C:\\Users\\padal\\OneDrive\\Desktop\\Data Science\\bloodpress.csv\")\n",
    "df"
   ]
  },
  {
   "cell_type": "code",
   "execution_count": 6,
   "id": "3965e61c",
   "metadata": {},
   "outputs": [
    {
     "data": {
      "image/png": "[encoded data removed]",
      "text/plain": [
       "<Figure size 640x480 with 1 Axes>"
      ]
     },
     "metadata": {},
     "output_type": "display_data"
    }
   ],
   "source": [
    "import matplotlib.pyplot as plt\n",
    "plt.hist(df[\"Age\"])\n",
    "plt.show()"
   ]
  },
  {
   "cell_type": "code",
   "execution_count": 7,
   "id": "f4df68fc",
   "metadata": {},
   "outputs": [
    {
     "data": {
      "image/png": "[encoded data removed]",
      "text/plain": [
       "<Figure size 640x480 with 1 Axes>"
      ]
     },
     "metadata": {},
     "output_type": "display_data"
    }
   ],
   "source": [
    "plt.hist(df[\"Weight\"])\n",
    "plt.show()"
   ]
  },
  {
   "cell_type": "code",
   "execution_count": 9,
   "id": "865f71cb",
   "metadata": {},
   "outputs": [
    {
     "data": {
      "image/png": "[encoded data removed]",
      "text/plain": [
       "<Figure size 640x480 with 1 Axes>"
      ]
     },
     "metadata": {},
     "output_type": "display_data"
    }
   ],
   "source": [
    "plt.hist(df[\"BSA\"])\n",
    "plt.show()"
   ]
  },
  {
   "cell_type": "code",
   "execution_count": 10,
   "id": "7eb45936",
   "metadata": {},
   "outputs": [
    {
     "data": {
      "image/png": "[encoded data removed]",
      "text/plain": [
       "<Figure size 640x480 with 1 Axes>"
      ]
     },
     "metadata": {},
     "output_type": "display_data"
    }
   ],
   "source": [
    "plt.hist(df[\"Dur\"])\n",
    "plt.show()"
   ]
  },
  {
   "cell_type": "code",
   "execution_count": 12,
   "id": "089c11ef",
   "metadata": {},
   "outputs": [
    {
     "data": {
      "image/png": "[encoded data removed]",
      "text/plain": [
       "<Figure size 640x480 with 1 Axes>"
      ]
     },
     "metadata": {},
     "output_type": "display_data"
    }
   ],
   "source": [
    "plt.hist(df[\"Pulse\"])\n",
    "plt.show()"
   ]
  },
  {
   "cell_type": "code",
   "execution_count": 13,
   "id": "77f959b6",
   "metadata": {},
   "outputs": [
    {
     "data": {
      "image/png": "[encoded data removed]",
      "text/plain": [
       "<Figure size 640x480 with 1 Axes>"
      ]
     },
     "metadata": {},
     "output_type": "display_data"
    }
   ],
   "source": [
    "plt.hist(df[\"Stress\"])\n",
    "plt.show()"
   ]
  },
  {
   "cell_type": "code",
   "execution_count": 14,
   "id": "fc7a06e0",
   "metadata": {},
   "outputs": [
    {
     "data": {
      "image/png": "[encoded data removed]",
      "text/plain": [
       "<Figure size 640x480 with 1 Axes>"
      ]
     },
     "metadata": {},
     "output_type": "display_data"
    }
   ],
   "source": [
    "plt.hist(df[\"BP\"])\n",
    "plt.show()"
   ]
  },
  {
   "cell_type": "code",
   "execution_count": 15,
   "id": "02573eb4",
   "metadata": {},
   "outputs": [
    {
     "data": {
      "text/html": [
       "<div>\n",
       "<style scoped>\n",
       "    .dataframe tbody tr th:only-of-type {\n",
       "        vertical-align: middle;\n",
       "    }\n",
       "\n",
       "    .dataframe tbody tr th {\n",
       "        vertical-align: top;\n",
       "    }\n",
       "\n",
       "    .dataframe thead th {\n",
       "        text-align: right;\n",
       "    }\n",
       "</style>\n",
       "<table border=\"1\" class=\"dataframe\">\n",
       "  <thead>\n",
       "    <tr style=\"text-align: right;\">\n",
       "      <th></th>\n",
       "      <th>Pt</th>\n",
       "      <th>BP</th>\n",
       "      <th>Age</th>\n",
       "      <th>Weight</th>\n",
       "      <th>BSA</th>\n",
       "      <th>Dur</th>\n",
       "      <th>Pulse</th>\n",
       "      <th>Stress</th>\n",
       "    </tr>\n",
       "  </thead>\n",
       "  <tbody>\n",
       "    <tr>\n",
       "      <th>0</th>\n",
       "      <td>101</td>\n",
       "      <td>105</td>\n",
       "      <td>47</td>\n",
       "      <td>85.4</td>\n",
       "      <td>1.75</td>\n",
       "      <td>5.1</td>\n",
       "      <td>63</td>\n",
       "      <td>33</td>\n",
       "    </tr>\n",
       "    <tr>\n",
       "      <th>1</th>\n",
       "      <td>102</td>\n",
       "      <td>115</td>\n",
       "      <td>49</td>\n",
       "      <td>94.2</td>\n",
       "      <td>2.10</td>\n",
       "      <td>3.8</td>\n",
       "      <td>70</td>\n",
       "      <td>14</td>\n",
       "    </tr>\n",
       "    <tr>\n",
       "      <th>2</th>\n",
       "      <td>103</td>\n",
       "      <td>116</td>\n",
       "      <td>49</td>\n",
       "      <td>95.3</td>\n",
       "      <td>1.98</td>\n",
       "      <td>8.2</td>\n",
       "      <td>72</td>\n",
       "      <td>10</td>\n",
       "    </tr>\n",
       "    <tr>\n",
       "      <th>3</th>\n",
       "      <td>104</td>\n",
       "      <td>117</td>\n",
       "      <td>50</td>\n",
       "      <td>94.7</td>\n",
       "      <td>2.01</td>\n",
       "      <td>5.8</td>\n",
       "      <td>73</td>\n",
       "      <td>99</td>\n",
       "    </tr>\n",
       "    <tr>\n",
       "      <th>4</th>\n",
       "      <td>105</td>\n",
       "      <td>112</td>\n",
       "      <td>51</td>\n",
       "      <td>89.4</td>\n",
       "      <td>1.89</td>\n",
       "      <td>7.0</td>\n",
       "      <td>72</td>\n",
       "      <td>95</td>\n",
       "    </tr>\n",
       "  </tbody>\n",
       "</table>\n",
       "</div>"
      ],
      "text/plain": [
       "    Pt   BP  Age  Weight   BSA  Dur  Pulse  Stress\n",
       "0  101  105   47    85.4  1.75  5.1     63      33\n",
       "1  102  115   49    94.2  2.10  3.8     70      14\n",
       "2  103  116   49    95.3  1.98  8.2     72      10\n",
       "3  104  117   50    94.7  2.01  5.8     73      99\n",
       "4  105  112   51    89.4  1.89  7.0     72      95"
      ]
     },
     "execution_count": 15,
     "metadata": {},
     "output_type": "execute_result"
    }
   ],
   "source": [
    "df.head()"
   ]
  },
  {
   "cell_type": "code",
   "execution_count": 20,
   "id": "2cff620d",
   "metadata": {},
   "outputs": [
    {
     "data": {
      "image/png": "[encoded data removed]",
      "text/plain": [
       "<Figure size 640x480 with 1 Axes>"
      ]
     },
     "metadata": {},
     "output_type": "display_data"
    }
   ],
   "source": [
    "plt.boxplot(df[\"Age\"])\n",
    "plt.show()"
   ]
  },
  {
   "cell_type": "code",
   "execution_count": 21,
   "id": "399174e5",
   "metadata": {},
   "outputs": [
    {
     "data": {
      "image/png": "[encoded data removed]",
      "text/plain": [
       "<Figure size 640x480 with 1 Axes>"
      ]
     },
     "metadata": {},
     "output_type": "display_data"
    }
   ],
   "source": [
    "plt.boxplot(df[\"Weight\"])\n",
    "plt.show()"
   ]
  },
  {
   "cell_type": "code",
   "execution_count": 22,
   "id": "b4f0fe7b",
   "metadata": {},
   "outputs": [
    {
     "data": {
      "image/png": "[encoded data removed]",
      "text/plain": [
       "<Figure size 640x480 with 1 Axes>"
      ]
     },
     "metadata": {},
     "output_type": "display_data"
    }
   ],
   "source": [
    "plt.boxplot(df[\"BSA\"])\n",
    "plt.show()"
   ]
  },
  {
   "cell_type": "code",
   "execution_count": 23,
   "id": "bfc77cdf",
   "metadata": {},
   "outputs": [
    {
     "data": {
      "image/png": "[encoded data removed]",
      "text/plain": [
       "<Figure size 640x480 with 1 Axes>"
      ]
     },
     "metadata": {},
     "output_type": "display_data"
    }
   ],
   "source": [
    "plt.boxplot(df[\"Dur\"])\n",
    "plt.show()"
   ]
  },
  {
   "cell_type": "code",
   "execution_count": 24,
   "id": "8b1a7fe5",
   "metadata": {},
   "outputs": [
    {
     "data": {
      "image/png": "[encoded data removed]",
      "text/plain": [
       "<Figure size 640x480 with 1 Axes>"
      ]
     },
     "metadata": {},
     "output_type": "display_data"
    }
   ],
   "source": [
    "plt.boxplot(df[\"Pulse\"])\n",
    "plt.show()"
   ]
  },
  {
   "cell_type": "code",
   "execution_count": 25,
   "id": "187c77dc",
   "metadata": {},
   "outputs": [
    {
     "data": {
      "image/png": "[encoded data removed]",
      "text/plain": [
       "<Figure size 640x480 with 1 Axes>"
      ]
     },
     "metadata": {},
     "output_type": "display_data"
    }
   ],
   "source": [
    "plt.boxplot(df[\"Stress\"])\n",
    "plt.show()"
   ]
  },
  {
   "cell_type": "code",
   "execution_count": 37,
   "id": "dcf9e1a1",
   "metadata": {},
   "outputs": [
    {
     "data": {
      "image/png": "[encoded data removed]",
      "text/plain": [
       "<Figure size 640x480 with 1 Axes>"
      ]
     },
     "metadata": {},
     "output_type": "display_data"
    }
   ],
   "source": [
    "plt.boxplot(df[\"BP\"])\n",
    "plt.show()"
   ]
  },
  {
   "cell_type": "code",
   "execution_count": 30,
   "id": "bf44fd58",
   "metadata": {},
   "outputs": [
    {
     "data": {
      "text/plain": [
       "<matplotlib.collections.PathCollection at 0x20f09bde790>"
      ]
     },
     "execution_count": 30,
     "metadata": {},
     "output_type": "execute_result"
    },
    {
     "data": {
      "image/png": "[encoded data removed]",
      "text/plain": [
       "<Figure size 640x480 with 1 Axes>"
      ]
     },
     "metadata": {},
     "output_type": "display_data"
    }
   ],
   "source": [
    "plt.scatter(x = df[\"Age\"],y=df[\"BP\"])"
   ]
  },
  {
   "cell_type": "code",
   "execution_count": 32,
   "id": "0d38bed7",
   "metadata": {},
   "outputs": [
    {
     "data": {
      "image/png": "[encoded data removed]",
      "text/plain": [
       "<Figure size 640x480 with 1 Axes>"
      ]
     },
     "metadata": {},
     "output_type": "display_data"
    }
   ],
   "source": [
    "plt.scatter(x = df[\"Weight\"],y=df[\"BP\"])\n",
    "plt.show()"
   ]
  },
  {
   "cell_type": "code",
   "execution_count": 33,
   "id": "33818cab",
   "metadata": {},
   "outputs": [
    {
     "data": {
      "image/png": "[encoded data removed]",
      "text/plain": [
       "<Figure size 640x480 with 1 Axes>"
      ]
     },
     "metadata": {},
     "output_type": "display_data"
    }
   ],
   "source": [
    "plt.scatter(x = df[\"BSA\"],y=df[\"BP\"])\n",
    "plt.show()"
   ]
  },
  {
   "cell_type": "code",
   "execution_count": 34,
   "id": "81955f82",
   "metadata": {},
   "outputs": [
    {
     "data": {
      "image/png": "[encoded data removed]",
      "text/plain": [
       "<Figure size 640x480 with 1 Axes>"
      ]
     },
     "metadata": {},
     "output_type": "display_data"
    }
   ],
   "source": [
    "plt.scatter(x = df[\"Dur\"],y=df[\"BP\"])\n",
    "plt.show()"
   ]
  },
  {
   "cell_type": "code",
   "execution_count": 35,
   "id": "42f20140",
   "metadata": {},
   "outputs": [
    {
     "data": {
      "image/png": "[encoded data removed]",
      "text/plain": [
       "<Figure size 640x480 with 1 Axes>"
      ]
     },
     "metadata": {},
     "output_type": "display_data"
    }
   ],
   "source": [
    "plt.scatter(x = df[\"Pulse\"],y=df[\"BP\"])\n",
    "plt.show()"
   ]
  },
  {
   "cell_type": "code",
   "execution_count": 36,
   "id": "732c1b5f",
   "metadata": {},
   "outputs": [
    {
     "data": {
      "image/png": "[encoded data removed]",
      "text/plain": [
       "<Figure size 640x480 with 1 Axes>"
      ]
     },
     "metadata": {},
     "output_type": "display_data"
    }
   ],
   "source": [
    "plt.scatter(x = df[\"Stress\"],y=df[\"BP\"])\n",
    "plt.show()"
   ]
  },
  {
   "cell_type": "code",
   "execution_count": 40,
   "id": "087d1d7d",
   "metadata": {},
   "outputs": [
    {
     "data": {
      "text/html": [
       "<div>\n",
       "<style scoped>\n",
       "    .dataframe tbody tr th:only-of-type {\n",
       "        vertical-align: middle;\n",
       "    }\n",
       "\n",
       "    .dataframe tbody tr th {\n",
       "        vertical-align: top;\n",
       "    }\n",
       "\n",
       "    .dataframe thead th {\n",
       "        text-align: right;\n",
       "    }\n",
       "</style>\n",
       "<table border=\"1\" class=\"dataframe\">\n",
       "  <thead>\n",
       "    <tr style=\"text-align: right;\">\n",
       "      <th></th>\n",
       "      <th>Pt</th>\n",
       "      <th>BP</th>\n",
       "      <th>Age</th>\n",
       "      <th>Weight</th>\n",
       "      <th>BSA</th>\n",
       "      <th>Dur</th>\n",
       "      <th>Pulse</th>\n",
       "      <th>Stress</th>\n",
       "    </tr>\n",
       "  </thead>\n",
       "  <tbody>\n",
       "    <tr>\n",
       "      <th>Pt</th>\n",
       "      <td>1.000000</td>\n",
       "      <td>0.031135</td>\n",
       "      <td>0.042694</td>\n",
       "      <td>0.024857</td>\n",
       "      <td>-0.031288</td>\n",
       "      <td>0.176246</td>\n",
       "      <td>0.112285</td>\n",
       "      <td>0.343152</td>\n",
       "    </tr>\n",
       "    <tr>\n",
       "      <th>BP</th>\n",
       "      <td>0.031135</td>\n",
       "      <td>1.000000</td>\n",
       "      <td>0.659093</td>\n",
       "      <td>0.950068</td>\n",
       "      <td>0.865879</td>\n",
       "      <td>0.292834</td>\n",
       "      <td>0.721413</td>\n",
       "      <td>0.163901</td>\n",
       "    </tr>\n",
       "    <tr>\n",
       "      <th>Age</th>\n",
       "      <td>0.042694</td>\n",
       "      <td>0.659093</td>\n",
       "      <td>1.000000</td>\n",
       "      <td>0.407349</td>\n",
       "      <td>0.378455</td>\n",
       "      <td>0.343792</td>\n",
       "      <td>0.618764</td>\n",
       "      <td>0.368224</td>\n",
       "    </tr>\n",
       "    <tr>\n",
       "      <th>Weight</th>\n",
       "      <td>0.024857</td>\n",
       "      <td>0.950068</td>\n",
       "      <td>0.407349</td>\n",
       "      <td>1.000000</td>\n",
       "      <td>0.875305</td>\n",
       "      <td>0.200650</td>\n",
       "      <td>0.659340</td>\n",
       "      <td>0.034355</td>\n",
       "    </tr>\n",
       "    <tr>\n",
       "      <th>BSA</th>\n",
       "      <td>-0.031288</td>\n",
       "      <td>0.865879</td>\n",
       "      <td>0.378455</td>\n",
       "      <td>0.875305</td>\n",
       "      <td>1.000000</td>\n",
       "      <td>0.130540</td>\n",
       "      <td>0.464819</td>\n",
       "      <td>0.018446</td>\n",
       "    </tr>\n",
       "    <tr>\n",
       "      <th>Dur</th>\n",
       "      <td>0.176246</td>\n",
       "      <td>0.292834</td>\n",
       "      <td>0.343792</td>\n",
       "      <td>0.200650</td>\n",
       "      <td>0.130540</td>\n",
       "      <td>1.000000</td>\n",
       "      <td>0.401514</td>\n",
       "      <td>0.311640</td>\n",
       "    </tr>\n",
       "    <tr>\n",
       "      <th>Pulse</th>\n",
       "      <td>0.112285</td>\n",
       "      <td>0.721413</td>\n",
       "      <td>0.618764</td>\n",
       "      <td>0.659340</td>\n",
       "      <td>0.464819</td>\n",
       "      <td>0.401514</td>\n",
       "      <td>1.000000</td>\n",
       "      <td>0.506310</td>\n",
       "    </tr>\n",
       "    <tr>\n",
       "      <th>Stress</th>\n",
       "      <td>0.343152</td>\n",
       "      <td>0.163901</td>\n",
       "      <td>0.368224</td>\n",
       "      <td>0.034355</td>\n",
       "      <td>0.018446</td>\n",
       "      <td>0.311640</td>\n",
       "      <td>0.506310</td>\n",
       "      <td>1.000000</td>\n",
       "    </tr>\n",
       "  </tbody>\n",
       "</table>\n",
       "</div>"
      ],
      "text/plain": [
       "              Pt        BP       Age    Weight       BSA       Dur     Pulse  \\\n",
       "Pt      1.000000  0.031135  0.042694  0.024857 -0.031288  0.176246  0.112285   \n",
       "BP      0.031135  1.000000  0.659093  0.950068  0.865879  0.292834  0.721413   \n",
       "Age     0.042694  0.659093  1.000000  0.407349  0.378455  0.343792  0.618764   \n",
       "Weight  0.024857  0.950068  0.407349  1.000000  0.875305  0.200650  0.659340   \n",
       "BSA    -0.031288  0.865879  0.378455  0.875305  1.000000  0.130540  0.464819   \n",
       "Dur     0.176246  0.292834  0.343792  0.200650  0.130540  1.000000  0.401514   \n",
       "Pulse   0.112285  0.721413  0.618764  0.659340  0.464819  0.401514  1.000000   \n",
       "Stress  0.343152  0.163901  0.368224  0.034355  0.018446  0.311640  0.506310   \n",
       "\n",
       "          Stress  \n",
       "Pt      0.343152  \n",
       "BP      0.163901  \n",
       "Age     0.368224  \n",
       "Weight  0.034355  \n",
       "BSA     0.018446  \n",
       "Dur     0.311640  \n",
       "Pulse   0.506310  \n",
       "Stress  1.000000  "
      ]
     },
     "execution_count": 40,
     "metadata": {},
     "output_type": "execute_result"
    }
   ],
   "source": [
    "df.corr()"
   ]
  },
  {
   "cell_type": "code",
   "execution_count": 46,
   "id": "75465349",
   "metadata": {},
   "outputs": [],
   "source": [
    "import statsmodels.formula.api as smf\n",
    "import numpy as np"
   ]
  },
  {
   "cell_type": "code",
   "execution_count": null,
   "id": "fa41cee4",
   "metadata": {},
   "outputs": [],
   "source": [
    "X = df[\"Weight\"]                                  #Model 1\n",
    "X = df[\"Weight\",\"BSA\"]                            #Model 2\n",
    "X = df[\"Weight\",\"BSA\",\"Pulse\"]                    #Model 3\n",
    "X = df[\"Weight\",\"BSA\",\"Pulse\",\"Age\",]             #Model 4\n",
    "X = df[\"Weight\",\"BSA\",\"Pulse\",\"Age\",\"Dur\"]        #Model 5\n",
    "X = df[\"Weight\",\"BSA\",\"Pulse\",\"Age\",\"Dur\",\"Sress\"]#Model 6\n",
    "Y = df[\"BP\"]"
   ]
  },
  {
   "cell_type": "code",
   "execution_count": 45,
   "id": "b1175886",
   "metadata": {},
   "outputs": [
    {
     "data": {
      "text/plain": [
       "<statsmodels.regression.linear_model.RegressionResultsWrapper at 0x20f0b56ce50>"
      ]
     },
     "execution_count": 45,
     "metadata": {},
     "output_type": "execute_result"
    }
   ],
   "source": [
    "#fit the model\n",
    "model = smf.ols(\"BP ~ Weight\" , data = df).fit()\n",
    "model"
   ]
  },
  {
   "cell_type": "code",
   "execution_count": 47,
   "id": "461421c3",
   "metadata": {},
   "outputs": [
    {
     "name": "stdout",
     "output_type": "stream",
     "text": [
      "Mean squared error: 2.73\n"
     ]
    }
   ],
   "source": [
    "#mean squared error\n",
    "mse = np.mean(model.resid**2)\n",
    "print(\"Mean squared error:\", np.round(mse,2))"
   ]
  },
  {
   "cell_type": "code",
   "execution_count": 48,
   "id": "652663f7",
   "metadata": {},
   "outputs": [
    {
     "name": "stdout",
     "output_type": "stream",
     "text": [
      "Root mean squared error: 1.65\n"
     ]
    }
   ],
   "source": [
    "#root mean squared error\n",
    "rmse = np.sqrt(np.mean(model.resid**2))\n",
    "print(\"Root mean squared error:\", np.round(rmse,2))"
   ]
  },
  {
   "cell_type": "code",
   "execution_count": 49,
   "id": "dcdd3014",
   "metadata": {},
   "outputs": [
    {
     "name": "stdout",
     "output_type": "stream",
     "text": [
      "R square: 0.9\n"
     ]
    }
   ],
   "source": [
    "#R square\n",
    "r2 = model.rsquared\n",
    "print(\"R square:\", np.round(r2,2))"
   ]
  },
  {
   "cell_type": "code",
   "execution_count": 50,
   "id": "d87a9cce",
   "metadata": {},
   "outputs": [
    {
     "data": {
      "text/plain": [
       "<statsmodels.regression.linear_model.RegressionResultsWrapper at 0x20f0b533520>"
      ]
     },
     "execution_count": 50,
     "metadata": {},
     "output_type": "execute_result"
    }
   ],
   "source": [
    "#fit the model 2\n",
    "model2 = smf.ols(\"BP ~ Weight+BSA\" , data = df).fit()\n",
    "model2"
   ]
  },
  {
   "cell_type": "code",
   "execution_count": 67,
   "id": "71c4a361",
   "metadata": {},
   "outputs": [
    {
     "name": "stdout",
     "output_type": "stream",
     "text": [
      "Mean squared error: 2.59\n"
     ]
    }
   ],
   "source": [
    "#mean squared error\n",
    "mse = np.mean(model2.resid**2)\n",
    "print(\"Mean squared error:\", np.round(mse,2))"
   ]
  },
  {
   "cell_type": "code",
   "execution_count": 68,
   "id": "19d06509",
   "metadata": {},
   "outputs": [
    {
     "name": "stdout",
     "output_type": "stream",
     "text": [
      "Root mean squared error: 1.61\n"
     ]
    }
   ],
   "source": [
    "#root mean squared error\n",
    "rmse = np.sqrt(np.mean(model2.resid**2))\n",
    "print(\"Root mean squared error:\", np.round(rmse,2))"
   ]
  },
  {
   "cell_type": "code",
   "execution_count": 69,
   "id": "aac906b8",
   "metadata": {},
   "outputs": [
    {
     "name": "stdout",
     "output_type": "stream",
     "text": [
      "R square: 0.91\n"
     ]
    }
   ],
   "source": [
    "#R square\n",
    "r2 = model2.rsquared\n",
    "print(\"R square:\", np.round(r2,2))"
   ]
  },
  {
   "cell_type": "code",
   "execution_count": 70,
   "id": "6080593d",
   "metadata": {},
   "outputs": [
    {
     "data": {
      "text/plain": [
       "<statsmodels.regression.linear_model.RegressionResultsWrapper at 0x20f0d5228e0>"
      ]
     },
     "execution_count": 70,
     "metadata": {},
     "output_type": "execute_result"
    }
   ],
   "source": [
    "#fit the model 3\n",
    "model3 = smf.ols(\"BP ~ Weight+BSA+Pulse\" , data = df).fit()\n",
    "model3"
   ]
  },
  {
   "cell_type": "code",
   "execution_count": 71,
   "id": "8bb69b48",
   "metadata": {},
   "outputs": [
    {
     "name": "stdout",
     "output_type": "stream",
     "text": [
      "Mean squared error: 1.91\n"
     ]
    }
   ],
   "source": [
    "#mean squared error\n",
    "mse = np.mean(model3.resid**2)\n",
    "print(\"Mean squared error:\", np.round(mse,2))"
   ]
  },
  {
   "cell_type": "code",
   "execution_count": 72,
   "id": "8dc9b3ad",
   "metadata": {},
   "outputs": [
    {
     "name": "stdout",
     "output_type": "stream",
     "text": [
      "Root mean squared error: 1.38\n"
     ]
    }
   ],
   "source": [
    "#root mean squared error\n",
    "rmse = np.sqrt(np.mean(model3.resid**2))\n",
    "print(\"Root mean squared error:\", np.round(rmse,2))"
   ]
  },
  {
   "cell_type": "code",
   "execution_count": 73,
   "id": "fc1cc315",
   "metadata": {},
   "outputs": [
    {
     "name": "stdout",
     "output_type": "stream",
     "text": [
      "R square: 0.93\n"
     ]
    }
   ],
   "source": [
    "#R square\n",
    "r2 = model3.rsquared\n",
    "print(\"R square:\", np.round(r2,2))"
   ]
  },
  {
   "cell_type": "code",
   "execution_count": 74,
   "id": "8027a5d2",
   "metadata": {},
   "outputs": [
    {
     "data": {
      "text/plain": [
       "<statsmodels.regression.linear_model.RegressionResultsWrapper at 0x20f0afa8fa0>"
      ]
     },
     "execution_count": 74,
     "metadata": {},
     "output_type": "execute_result"
    }
   ],
   "source": [
    "#fit the model 4\n",
    "model4 = smf.ols(\"BP ~ Weight+BSA+Pulse+Age\" , data = df).fit()\n",
    "model4"
   ]
  },
  {
   "cell_type": "code",
   "execution_count": 75,
   "id": "ab3c3eb6",
   "metadata": {},
   "outputs": [
    {
     "name": "stdout",
     "output_type": "stream",
     "text": [
      "Mean squared error: 0.15\n"
     ]
    }
   ],
   "source": [
    "#mean squared error\n",
    "mse = np.mean(model4.resid**2)\n",
    "print(\"Mean squared error:\", np.round(mse,2))"
   ]
  },
  {
   "cell_type": "code",
   "execution_count": 76,
   "id": "fd46abf0",
   "metadata": {},
   "outputs": [
    {
     "name": "stdout",
     "output_type": "stream",
     "text": [
      "Root mean squared error: 0.39\n"
     ]
    }
   ],
   "source": [
    "#root mean squared error\n",
    "rmse = np.sqrt(np.mean(model4.resid**2))\n",
    "print(\"Root mean squared error:\", np.round(rmse,2))"
   ]
  },
  {
   "cell_type": "code",
   "execution_count": 77,
   "id": "06c5c78d",
   "metadata": {},
   "outputs": [
    {
     "name": "stdout",
     "output_type": "stream",
     "text": [
      "R square: 0.99\n"
     ]
    }
   ],
   "source": [
    "#R square\n",
    "r2 = model4.rsquared\n",
    "print(\"R square:\", np.round(r2,2))"
   ]
  },
  {
   "cell_type": "code",
   "execution_count": 81,
   "id": "41c8884a",
   "metadata": {},
   "outputs": [
    {
     "data": {
      "text/plain": [
       "<statsmodels.regression.linear_model.RegressionResultsWrapper at 0x20f0dc66f70>"
      ]
     },
     "execution_count": 81,
     "metadata": {},
     "output_type": "execute_result"
    }
   ],
   "source": [
    "#fit the model 5\n",
    "model5 = smf.ols(\"BP ~ Weight+BSA+Pulse+Age+Dur\" , data = df).fit()\n",
    "model5"
   ]
  },
  {
   "cell_type": "code",
   "execution_count": 82,
   "id": "35cc4305",
   "metadata": {},
   "outputs": [
    {
     "name": "stdout",
     "output_type": "stream",
     "text": [
      "Mean squared error: 0.13\n"
     ]
    }
   ],
   "source": [
    "#mean squared error\n",
    "mse = np.mean(model5.resid**2)\n",
    "print(\"Mean squared error:\", np.round(mse,2))"
   ]
  },
  {
   "cell_type": "code",
   "execution_count": 83,
   "id": "12cd22ce",
   "metadata": {},
   "outputs": [
    {
     "name": "stdout",
     "output_type": "stream",
     "text": [
      "Root mean squared error: 0.36\n"
     ]
    }
   ],
   "source": [
    "#root mean squared error\n",
    "rmse = np.sqrt(np.mean(model5.resid**2))\n",
    "print(\"Root mean squared error:\", np.round(rmse,2))"
   ]
  },
  {
   "cell_type": "code",
   "execution_count": 84,
   "id": "229047f1",
   "metadata": {},
   "outputs": [
    {
     "name": "stdout",
     "output_type": "stream",
     "text": [
      "R square: 1.0\n"
     ]
    }
   ],
   "source": [
    "#R square\n",
    "r2 = model5.rsquared\n",
    "print(\"R square:\", np.round(r2,2))"
   ]
  },
  {
   "cell_type": "code",
   "execution_count": 85,
   "id": "b1962452",
   "metadata": {},
   "outputs": [
    {
     "data": {
      "text/plain": [
       "<statsmodels.regression.linear_model.RegressionResultsWrapper at 0x20f0dc6a250>"
      ]
     },
     "execution_count": 85,
     "metadata": {},
     "output_type": "execute_result"
    }
   ],
   "source": [
    "#fit the model 6\n",
    "model6 = smf.ols(\"BP ~ Weight+BSA+Pulse+Age+Dur+Stress\" , data = df).fit()\n",
    "model6"
   ]
  },
  {
   "cell_type": "code",
   "execution_count": 86,
   "id": "e2e8430c",
   "metadata": {},
   "outputs": [
    {
     "name": "stdout",
     "output_type": "stream",
     "text": [
      "Mean squared error: 0.11\n"
     ]
    }
   ],
   "source": [
    "#mean squared error\n",
    "mse = np.mean(model6.resid**2)\n",
    "print(\"Mean squared error:\", np.round(mse,2))"
   ]
  },
  {
   "cell_type": "code",
   "execution_count": 87,
   "id": "0483c09f",
   "metadata": {},
   "outputs": [
    {
     "name": "stdout",
     "output_type": "stream",
     "text": [
      "Root mean squared error: 0.33\n"
     ]
    }
   ],
   "source": [
    "#root mean squared error\n",
    "rmse = np.sqrt(np.mean(model6.resid**2))\n",
    "print(\"Root mean squared error:\", np.round(rmse,2))"
   ]
  },
  {
   "cell_type": "code",
   "execution_count": 88,
   "id": "c08ba669",
   "metadata": {},
   "outputs": [
    {
     "name": "stdout",
     "output_type": "stream",
     "text": [
      "R square: 1.0\n"
     ]
    }
   ],
   "source": [
    "#R square\n",
    "r2 = model6.rsquared\n",
    "print(\"R square:\", np.round(r2,2))"
   ]
  },
  {
   "cell_type": "code",
   "execution_count": null,
   "id": "7d9735ff",
   "metadata": {},
   "outputs": [],
   "source": [
    "#model 4 looks like best fit model [\"BP ~ Weight+BSA+Pulse+Age\"]"
   ]
  },
  {
   "cell_type": "code",
   "execution_count": 111,
   "id": "c17b8dfd",
   "metadata": {},
   "outputs": [
    {
     "data": {
      "text/plain": [
       "<statsmodels.regression.linear_model.RegressionResultsWrapper at 0x20f0dd17f70>"
      ]
     },
     "execution_count": 111,
     "metadata": {},
     "output_type": "execute_result"
    }
   ],
   "source": [
    "#fit the model \n",
    "model = smf.ols(\"Weight ~ BSA+Pulse+Age\" , data = df).fit()\n",
    "model"
   ]
  },
  {
   "cell_type": "code",
   "execution_count": 112,
   "id": "ce5c6f09",
   "metadata": {},
   "outputs": [
    {
     "name": "stdout",
     "output_type": "stream",
     "text": [
      "R square: 0.85\n"
     ]
    }
   ],
   "source": [
    "#R square\n",
    "r2 = model.rsquared\n",
    "print(\"R square:\", np.round(r2,2))"
   ]
  },
  {
   "cell_type": "code",
   "execution_count": 113,
   "id": "28fa18ed",
   "metadata": {},
   "outputs": [
    {
     "name": "stdout",
     "output_type": "stream",
     "text": [
      "VAC1: 6.89\n"
     ]
    }
   ],
   "source": [
    "#Variance Inflation Factor\n",
    "VAC1 = 1 / (1-r2)\n",
    "print(\"VAC1:\", np.round(VAC1,2))"
   ]
  },
  {
   "cell_type": "code",
   "execution_count": 114,
   "id": "90d5bd2c",
   "metadata": {},
   "outputs": [
    {
     "data": {
      "text/plain": [
       "<statsmodels.regression.linear_model.RegressionResultsWrapper at 0x20f0dc7d580>"
      ]
     },
     "execution_count": 114,
     "metadata": {},
     "output_type": "execute_result"
    }
   ],
   "source": [
    "#fit the model \n",
    "model = smf.ols(\"BSA ~ Weight+Pulse+Age\" , data = df).fit()\n",
    "model"
   ]
  },
  {
   "cell_type": "code",
   "execution_count": 115,
   "id": "47478003",
   "metadata": {},
   "outputs": [
    {
     "name": "stdout",
     "output_type": "stream",
     "text": [
      "R square: 0.8\n"
     ]
    }
   ],
   "source": [
    "#R square\n",
    "r2 = model.rsquared\n",
    "print(\"R square:\", np.round(r2,2))"
   ]
  },
  {
   "cell_type": "code",
   "execution_count": 116,
   "id": "f2e715d6",
   "metadata": {},
   "outputs": [
    {
     "name": "stdout",
     "output_type": "stream",
     "text": [
      "VAC2: 5.05\n"
     ]
    }
   ],
   "source": [
    "#Variance Inflation Factor\n",
    "VAC2 = 1 / (1-r2)\n",
    "print(\"VAC2:\", np.round(VAC2,2))"
   ]
  },
  {
   "cell_type": "code",
   "execution_count": 117,
   "id": "5423585f",
   "metadata": {},
   "outputs": [
    {
     "data": {
      "text/plain": [
       "<statsmodels.regression.linear_model.RegressionResultsWrapper at 0x20f0dd11af0>"
      ]
     },
     "execution_count": 117,
     "metadata": {},
     "output_type": "execute_result"
    }
   ],
   "source": [
    "#fit the model \n",
    "model = smf.ols(\"Pulse ~ BSA+Weight+Age\" , data = df).fit()\n",
    "model"
   ]
  },
  {
   "cell_type": "code",
   "execution_count": 118,
   "id": "bc55bff8",
   "metadata": {},
   "outputs": [
    {
     "name": "stdout",
     "output_type": "stream",
     "text": [
      "R square: 0.65\n"
     ]
    }
   ],
   "source": [
    "#R square\n",
    "r2 = model.rsquared\n",
    "print(\"R square:\", np.round(r2,2))"
   ]
  },
  {
   "cell_type": "code",
   "execution_count": 119,
   "id": "10bcaf6f",
   "metadata": {},
   "outputs": [
    {
     "name": "stdout",
     "output_type": "stream",
     "text": [
      "VAC3: 2.82\n"
     ]
    }
   ],
   "source": [
    "#Variance Inflation Factor\n",
    "VAC3 = 1 / (1-r2)\n",
    "print(\"VAC3:\", np.round(VAC3,2))"
   ]
  },
  {
   "cell_type": "code",
   "execution_count": 120,
   "id": "5ecd3bf1",
   "metadata": {},
   "outputs": [
    {
     "data": {
      "text/plain": [
       "<statsmodels.regression.linear_model.RegressionResultsWrapper at 0x20f0dd2b0d0>"
      ]
     },
     "execution_count": 120,
     "metadata": {},
     "output_type": "execute_result"
    }
   ],
   "source": [
    "#fit the model \n",
    "model = smf.ols(\"Age ~ Pulse+BSA+Weight\" , data = df).fit()\n",
    "model"
   ]
  },
  {
   "cell_type": "code",
   "execution_count": 121,
   "id": "32620d9d",
   "metadata": {},
   "outputs": [
    {
     "name": "stdout",
     "output_type": "stream",
     "text": [
      "R square: 0.42\n"
     ]
    }
   ],
   "source": [
    "#R square\n",
    "r2 = model.rsquared\n",
    "print(\"R square:\", np.round(r2,2))"
   ]
  },
  {
   "cell_type": "code",
   "execution_count": 122,
   "id": "ed2b33ae",
   "metadata": {},
   "outputs": [
    {
     "name": "stdout",
     "output_type": "stream",
     "text": [
      "VAC4: 1.73\n"
     ]
    }
   ],
   "source": [
    "#Variance Inflation Factor\n",
    "VAC4 = 1 / (1-r2)\n",
    "print(\"VAC4:\", np.round(VAC4,2))"
   ]
  },
  {
   "cell_type": "code",
   "execution_count": 123,
   "id": "5941bc7b",
   "metadata": {},
   "outputs": [
    {
     "data": {
      "text/plain": [
       "4.121402473245086"
      ]
     },
     "execution_count": 123,
     "metadata": {},
     "output_type": "execute_result"
    }
   ],
   "source": [
    "#Avg VAC\n",
    "VAC = (VAC1 + VAC2 + VAC3 + VAC4) / 4\n",
    "VAC"
   ]
  },
  {
   "cell_type": "code",
   "execution_count": null,
   "id": "d4a28e4e",
   "metadata": {},
   "outputs": [],
   "source": [
    "#Since Vac is 4.12, this model do not have collinearity issues"
   ]
  },
  {
   "cell_type": "code",
   "execution_count": 124,
   "id": "44531ca7",
   "metadata": {},
   "outputs": [
    {
     "data": {
      "text/html": [
       "<div>\n",
       "<style scoped>\n",
       "    .dataframe tbody tr th:only-of-type {\n",
       "        vertical-align: middle;\n",
       "    }\n",
       "\n",
       "    .dataframe tbody tr th {\n",
       "        vertical-align: top;\n",
       "    }\n",
       "\n",
       "    .dataframe thead th {\n",
       "        text-align: right;\n",
       "    }\n",
       "</style>\n",
       "<table border=\"1\" class=\"dataframe\">\n",
       "  <thead>\n",
       "    <tr style=\"text-align: right;\">\n",
       "      <th></th>\n",
       "      <th>Pt</th>\n",
       "      <th>BP</th>\n",
       "      <th>Age</th>\n",
       "      <th>Weight</th>\n",
       "      <th>BSA</th>\n",
       "      <th>Dur</th>\n",
       "      <th>Pulse</th>\n",
       "      <th>Stress</th>\n",
       "      <th>resid</th>\n",
       "    </tr>\n",
       "  </thead>\n",
       "  <tbody>\n",
       "    <tr>\n",
       "      <th>0</th>\n",
       "      <td>101</td>\n",
       "      <td>105</td>\n",
       "      <td>47</td>\n",
       "      <td>85.4</td>\n",
       "      <td>1.75</td>\n",
       "      <td>5.1</td>\n",
       "      <td>63</td>\n",
       "      <td>33</td>\n",
       "      <td>0.179447</td>\n",
       "    </tr>\n",
       "    <tr>\n",
       "      <th>1</th>\n",
       "      <td>102</td>\n",
       "      <td>115</td>\n",
       "      <td>49</td>\n",
       "      <td>94.2</td>\n",
       "      <td>2.10</td>\n",
       "      <td>3.8</td>\n",
       "      <td>70</td>\n",
       "      <td>14</td>\n",
       "      <td>-0.743856</td>\n",
       "    </tr>\n",
       "    <tr>\n",
       "      <th>2</th>\n",
       "      <td>103</td>\n",
       "      <td>116</td>\n",
       "      <td>49</td>\n",
       "      <td>95.3</td>\n",
       "      <td>1.98</td>\n",
       "      <td>8.2</td>\n",
       "      <td>72</td>\n",
       "      <td>10</td>\n",
       "      <td>-0.198439</td>\n",
       "    </tr>\n",
       "    <tr>\n",
       "      <th>3</th>\n",
       "      <td>104</td>\n",
       "      <td>117</td>\n",
       "      <td>50</td>\n",
       "      <td>94.7</td>\n",
       "      <td>2.01</td>\n",
       "      <td>5.8</td>\n",
       "      <td>73</td>\n",
       "      <td>99</td>\n",
       "      <td>0.530781</td>\n",
       "    </tr>\n",
       "    <tr>\n",
       "      <th>4</th>\n",
       "      <td>105</td>\n",
       "      <td>112</td>\n",
       "      <td>51</td>\n",
       "      <td>89.4</td>\n",
       "      <td>1.89</td>\n",
       "      <td>7.0</td>\n",
       "      <td>72</td>\n",
       "      <td>95</td>\n",
       "      <td>0.205920</td>\n",
       "    </tr>\n",
       "  </tbody>\n",
       "</table>\n",
       "</div>"
      ],
      "text/plain": [
       "    Pt   BP  Age  Weight   BSA  Dur  Pulse  Stress     resid\n",
       "0  101  105   47    85.4  1.75  5.1     63      33  0.179447\n",
       "1  102  115   49    94.2  2.10  3.8     70      14 -0.743856\n",
       "2  103  116   49    95.3  1.98  8.2     72      10 -0.198439\n",
       "3  104  117   50    94.7  2.01  5.8     73      99  0.530781\n",
       "4  105  112   51    89.4  1.89  7.0     72      95  0.205920"
      ]
     },
     "execution_count": 124,
     "metadata": {},
     "output_type": "execute_result"
    }
   ],
   "source": [
    "df[\"resid\"] = model4.resid\n",
    "df.head()"
   ]
  },
  {
   "cell_type": "code",
   "execution_count": 125,
   "id": "3c0ec7a1",
   "metadata": {},
   "outputs": [
    {
     "data": {
      "text/html": [
       "<div>\n",
       "<style scoped>\n",
       "    .dataframe tbody tr th:only-of-type {\n",
       "        vertical-align: middle;\n",
       "    }\n",
       "\n",
       "    .dataframe tbody tr th {\n",
       "        vertical-align: top;\n",
       "    }\n",
       "\n",
       "    .dataframe thead th {\n",
       "        text-align: right;\n",
       "    }\n",
       "</style>\n",
       "<table border=\"1\" class=\"dataframe\">\n",
       "  <thead>\n",
       "    <tr style=\"text-align: right;\">\n",
       "      <th></th>\n",
       "      <th>Pt</th>\n",
       "      <th>BP</th>\n",
       "      <th>Age</th>\n",
       "      <th>Weight</th>\n",
       "      <th>BSA</th>\n",
       "      <th>Dur</th>\n",
       "      <th>Pulse</th>\n",
       "      <th>Stress</th>\n",
       "      <th>resid</th>\n",
       "      <th>Pred</th>\n",
       "    </tr>\n",
       "  </thead>\n",
       "  <tbody>\n",
       "    <tr>\n",
       "      <th>0</th>\n",
       "      <td>101</td>\n",
       "      <td>105</td>\n",
       "      <td>47</td>\n",
       "      <td>85.4</td>\n",
       "      <td>1.75</td>\n",
       "      <td>5.1</td>\n",
       "      <td>63</td>\n",
       "      <td>33</td>\n",
       "      <td>0.179447</td>\n",
       "      <td>104.565984</td>\n",
       "    </tr>\n",
       "    <tr>\n",
       "      <th>1</th>\n",
       "      <td>102</td>\n",
       "      <td>115</td>\n",
       "      <td>49</td>\n",
       "      <td>94.2</td>\n",
       "      <td>2.10</td>\n",
       "      <td>3.8</td>\n",
       "      <td>70</td>\n",
       "      <td>14</td>\n",
       "      <td>-0.743856</td>\n",
       "      <td>115.747782</td>\n",
       "    </tr>\n",
       "    <tr>\n",
       "      <th>2</th>\n",
       "      <td>103</td>\n",
       "      <td>116</td>\n",
       "      <td>49</td>\n",
       "      <td>95.3</td>\n",
       "      <td>1.98</td>\n",
       "      <td>8.2</td>\n",
       "      <td>72</td>\n",
       "      <td>10</td>\n",
       "      <td>-0.198439</td>\n",
       "      <td>116.190640</td>\n",
       "    </tr>\n",
       "    <tr>\n",
       "      <th>3</th>\n",
       "      <td>104</td>\n",
       "      <td>117</td>\n",
       "      <td>50</td>\n",
       "      <td>94.7</td>\n",
       "      <td>2.01</td>\n",
       "      <td>5.8</td>\n",
       "      <td>73</td>\n",
       "      <td>99</td>\n",
       "      <td>0.530781</td>\n",
       "      <td>115.742337</td>\n",
       "    </tr>\n",
       "    <tr>\n",
       "      <th>4</th>\n",
       "      <td>105</td>\n",
       "      <td>112</td>\n",
       "      <td>51</td>\n",
       "      <td>89.4</td>\n",
       "      <td>1.89</td>\n",
       "      <td>7.0</td>\n",
       "      <td>72</td>\n",
       "      <td>95</td>\n",
       "      <td>0.205920</td>\n",
       "      <td>109.537296</td>\n",
       "    </tr>\n",
       "    <tr>\n",
       "      <th>5</th>\n",
       "      <td>106</td>\n",
       "      <td>121</td>\n",
       "      <td>48</td>\n",
       "      <td>99.5</td>\n",
       "      <td>2.25</td>\n",
       "      <td>9.3</td>\n",
       "      <td>71</td>\n",
       "      <td>10</td>\n",
       "      <td>0.451122</td>\n",
       "      <td>122.127761</td>\n",
       "    </tr>\n",
       "    <tr>\n",
       "      <th>6</th>\n",
       "      <td>107</td>\n",
       "      <td>121</td>\n",
       "      <td>49</td>\n",
       "      <td>99.8</td>\n",
       "      <td>2.25</td>\n",
       "      <td>2.5</td>\n",
       "      <td>69</td>\n",
       "      <td>42</td>\n",
       "      <td>-0.581956</td>\n",
       "      <td>122.439381</td>\n",
       "    </tr>\n",
       "    <tr>\n",
       "      <th>7</th>\n",
       "      <td>108</td>\n",
       "      <td>110</td>\n",
       "      <td>47</td>\n",
       "      <td>90.9</td>\n",
       "      <td>1.90</td>\n",
       "      <td>6.2</td>\n",
       "      <td>66</td>\n",
       "      <td>8</td>\n",
       "      <td>-0.484251</td>\n",
       "      <td>111.153710</td>\n",
       "    </tr>\n",
       "    <tr>\n",
       "      <th>8</th>\n",
       "      <td>109</td>\n",
       "      <td>110</td>\n",
       "      <td>49</td>\n",
       "      <td>89.2</td>\n",
       "      <td>1.83</td>\n",
       "      <td>7.1</td>\n",
       "      <td>69</td>\n",
       "      <td>62</td>\n",
       "      <td>0.018989</td>\n",
       "      <td>108.979674</td>\n",
       "    </tr>\n",
       "    <tr>\n",
       "      <th>9</th>\n",
       "      <td>110</td>\n",
       "      <td>114</td>\n",
       "      <td>48</td>\n",
       "      <td>92.7</td>\n",
       "      <td>2.07</td>\n",
       "      <td>5.6</td>\n",
       "      <td>64</td>\n",
       "      <td>35</td>\n",
       "      <td>0.362339</td>\n",
       "      <td>114.014744</td>\n",
       "    </tr>\n",
       "    <tr>\n",
       "      <th>10</th>\n",
       "      <td>111</td>\n",
       "      <td>114</td>\n",
       "      <td>47</td>\n",
       "      <td>94.4</td>\n",
       "      <td>2.07</td>\n",
       "      <td>5.3</td>\n",
       "      <td>74</td>\n",
       "      <td>90</td>\n",
       "      <td>-0.286126</td>\n",
       "      <td>115.780592</td>\n",
       "    </tr>\n",
       "    <tr>\n",
       "      <th>11</th>\n",
       "      <td>112</td>\n",
       "      <td>115</td>\n",
       "      <td>49</td>\n",
       "      <td>94.1</td>\n",
       "      <td>1.98</td>\n",
       "      <td>5.6</td>\n",
       "      <td>71</td>\n",
       "      <td>21</td>\n",
       "      <td>-0.111506</td>\n",
       "      <td>114.944159</td>\n",
       "    </tr>\n",
       "    <tr>\n",
       "      <th>12</th>\n",
       "      <td>113</td>\n",
       "      <td>114</td>\n",
       "      <td>50</td>\n",
       "      <td>91.6</td>\n",
       "      <td>2.05</td>\n",
       "      <td>10.2</td>\n",
       "      <td>68</td>\n",
       "      <td>47</td>\n",
       "      <td>0.115904</td>\n",
       "      <td>112.755511</td>\n",
       "    </tr>\n",
       "    <tr>\n",
       "      <th>13</th>\n",
       "      <td>114</td>\n",
       "      <td>106</td>\n",
       "      <td>45</td>\n",
       "      <td>87.1</td>\n",
       "      <td>1.92</td>\n",
       "      <td>5.6</td>\n",
       "      <td>67</td>\n",
       "      <td>80</td>\n",
       "      <td>0.386961</td>\n",
       "      <td>107.323145</td>\n",
       "    </tr>\n",
       "    <tr>\n",
       "      <th>14</th>\n",
       "      <td>115</td>\n",
       "      <td>125</td>\n",
       "      <td>52</td>\n",
       "      <td>101.3</td>\n",
       "      <td>2.19</td>\n",
       "      <td>10.0</td>\n",
       "      <td>76</td>\n",
       "      <td>98</td>\n",
       "      <td>0.291717</td>\n",
       "      <td>123.647608</td>\n",
       "    </tr>\n",
       "    <tr>\n",
       "      <th>15</th>\n",
       "      <td>116</td>\n",
       "      <td>114</td>\n",
       "      <td>46</td>\n",
       "      <td>94.5</td>\n",
       "      <td>1.98</td>\n",
       "      <td>7.4</td>\n",
       "      <td>69</td>\n",
       "      <td>95</td>\n",
       "      <td>0.623749</td>\n",
       "      <td>115.359653</td>\n",
       "    </tr>\n",
       "    <tr>\n",
       "      <th>16</th>\n",
       "      <td>117</td>\n",
       "      <td>106</td>\n",
       "      <td>46</td>\n",
       "      <td>87.0</td>\n",
       "      <td>1.87</td>\n",
       "      <td>3.6</td>\n",
       "      <td>62</td>\n",
       "      <td>18</td>\n",
       "      <td>-0.122075</td>\n",
       "      <td>106.927709</td>\n",
       "    </tr>\n",
       "    <tr>\n",
       "      <th>17</th>\n",
       "      <td>118</td>\n",
       "      <td>113</td>\n",
       "      <td>46</td>\n",
       "      <td>94.5</td>\n",
       "      <td>1.90</td>\n",
       "      <td>4.3</td>\n",
       "      <td>70</td>\n",
       "      <td>12</td>\n",
       "      <td>-0.009367</td>\n",
       "      <td>114.893153</td>\n",
       "    </tr>\n",
       "    <tr>\n",
       "      <th>18</th>\n",
       "      <td>119</td>\n",
       "      <td>110</td>\n",
       "      <td>48</td>\n",
       "      <td>90.5</td>\n",
       "      <td>1.88</td>\n",
       "      <td>9.0</td>\n",
       "      <td>71</td>\n",
       "      <td>99</td>\n",
       "      <td>-0.641021</td>\n",
       "      <td>110.621591</td>\n",
       "    </tr>\n",
       "    <tr>\n",
       "      <th>19</th>\n",
       "      <td>120</td>\n",
       "      <td>122</td>\n",
       "      <td>56</td>\n",
       "      <td>95.7</td>\n",
       "      <td>2.09</td>\n",
       "      <td>7.0</td>\n",
       "      <td>75</td>\n",
       "      <td>99</td>\n",
       "      <td>0.011667</td>\n",
       "      <td>117.247571</td>\n",
       "    </tr>\n",
       "  </tbody>\n",
       "</table>\n",
       "</div>"
      ],
      "text/plain": [
       "     Pt   BP  Age  Weight   BSA   Dur  Pulse  Stress     resid        Pred\n",
       "0   101  105   47    85.4  1.75   5.1     63      33  0.179447  104.565984\n",
       "1   102  115   49    94.2  2.10   3.8     70      14 -0.743856  115.747782\n",
       "2   103  116   49    95.3  1.98   8.2     72      10 -0.198439  116.190640\n",
       "3   104  117   50    94.7  2.01   5.8     73      99  0.530781  115.742337\n",
       "4   105  112   51    89.4  1.89   7.0     72      95  0.205920  109.537296\n",
       "5   106  121   48    99.5  2.25   9.3     71      10  0.451122  122.127761\n",
       "6   107  121   49    99.8  2.25   2.5     69      42 -0.581956  122.439381\n",
       "7   108  110   47    90.9  1.90   6.2     66       8 -0.484251  111.153710\n",
       "8   109  110   49    89.2  1.83   7.1     69      62  0.018989  108.979674\n",
       "9   110  114   48    92.7  2.07   5.6     64      35  0.362339  114.014744\n",
       "10  111  114   47    94.4  2.07   5.3     74      90 -0.286126  115.780592\n",
       "11  112  115   49    94.1  1.98   5.6     71      21 -0.111506  114.944159\n",
       "12  113  114   50    91.6  2.05  10.2     68      47  0.115904  112.755511\n",
       "13  114  106   45    87.1  1.92   5.6     67      80  0.386961  107.323145\n",
       "14  115  125   52   101.3  2.19  10.0     76      98  0.291717  123.647608\n",
       "15  116  114   46    94.5  1.98   7.4     69      95  0.623749  115.359653\n",
       "16  117  106   46    87.0  1.87   3.6     62      18 -0.122075  106.927709\n",
       "17  118  113   46    94.5  1.90   4.3     70      12 -0.009367  114.893153\n",
       "18  119  110   48    90.5  1.88   9.0     71      99 -0.641021  110.621591\n",
       "19  120  122   56    95.7  2.09   7.0     75      99  0.011667  117.247571"
      ]
     },
     "execution_count": 125,
     "metadata": {},
     "output_type": "execute_result"
    }
   ],
   "source": [
    "df[\"Pred\"] = model2.predict()\n",
    "df"
   ]
  },
  {
   "cell_type": "code",
   "execution_count": 126,
   "id": "03346990",
   "metadata": {},
   "outputs": [
    {
     "data": {
      "image/png": "[encoded data removed]",
      "text/plain": [
       "<Figure size 640x480 with 1 Axes>"
      ]
     },
     "metadata": {},
     "output_type": "display_data"
    },
    {
     "data": {
      "text/plain": [
       "-0.36047063162341436"
      ]
     },
     "execution_count": 126,
     "metadata": {},
     "output_type": "execute_result"
    }
   ],
   "source": [
    "import matplotlib.pyplot as plt\n",
    "plt.hist(df[\"resid\"])\n",
    "plt.show()\n",
    "df[\"resid\"].skew()"
   ]
  },
  {
   "cell_type": "code",
   "execution_count": 127,
   "id": "49269fb3",
   "metadata": {},
   "outputs": [
    {
     "data": {
      "image/png": "[encoded data removed]",
      "text/plain": [
       "<Figure size 640x480 with 1 Axes>"
      ]
     },
     "metadata": {},
     "output_type": "display_data"
    }
   ],
   "source": [
    "import matplotlib.pyplot as plt\n",
    "import statsmodels.api as sm\n",
    "qqplot = sm.qqplot(model4.resid,line=\"q\")\n",
    "plt.title(\"Normal Q-Q plot of residuals\")\n",
    "plt.show()"
   ]
  }
 ],
 "metadata": {
  "kernelspec": {
   "display_name": "Python 3 (ipykernel)",
   "language": "python",
   "name": "python3"
  },
  "language_info": {
   "codemirror_mode": {
    "name": "ipython",
    "version": 3
   },
   "file_extension": ".py",
   "mimetype": "text/x-python",
   "name": "python",
   "nbconvert_exporter": "python",
   "pygments_lexer": "ipython3",
   "version": "3.9.13"
  }
 },
 "nbformat": 4,
 "nbformat_minor": 5
}
