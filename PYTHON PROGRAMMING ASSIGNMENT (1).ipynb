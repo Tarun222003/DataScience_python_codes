{
 "cells": [
  {
   "cell_type": "markdown",
   "id": "626c86a8",
   "metadata": {},
   "source": [
    "# Exercise 1: Prime Numbers:\n",
    "Write a Python program that checks whether a given number is prime or not. A prime number is a natural number greater than 1 that has no positive divisors other than 1 and itself.\n"
   ]
  },
  {
   "cell_type": "code",
   "execution_count": 2,
   "id": "56895471",
   "metadata": {},
   "outputs": [
    {
     "name": "stdout",
     "output_type": "stream",
     "text": [
      "Enter a value:67\n",
      "67 is a prime number\n"
     ]
    }
   ],
   "source": [
    "num = int(input(\"Enter a value:\"))\n",
    "if num>1:\n",
    "    for i in range(2,num):\n",
    "        if num % i == 0:\n",
    "            print(f\"{num} is not a prime number\")\n",
    "            break\n",
    "    else:\n",
    "        print(f\"{num} is a prime number\")\n",
    "else:\n",
    "    print(f\"{num} is not a prime number\")"
   ]
  },
  {
   "cell_type": "markdown",
   "id": "0536db67",
   "metadata": {},
   "source": [
    "# Exercise 2: Product of Random Numbers\n",
    "Develop a Python program that generates two random numbers and asks the user to enter the product of these numbers. The program should then check if the user's answer is correct and display an appropriate message."
   ]
  },
  {
   "cell_type": "code",
   "execution_count": 9,
   "id": "552ea3a9",
   "metadata": {},
   "outputs": [
    {
     "name": "stdout",
     "output_type": "stream",
     "text": [
      "product of 994 and 9286 is: 34567\n",
      "user's answer is incorrect\n",
      "Correct answer is: 9230284\n"
     ]
    }
   ],
   "source": [
    "import random\n",
    "num1 = random.randint(0,9999)\n",
    "num2 = random.randint(0,9999)\n",
    "\n",
    "user_answer = float(input(f\"product of {num1} and {num2} is: \"))\n",
    "answer = num1 * num2\n",
    "\n",
    "if user_answer == answer:\n",
    "    print(f\"user's answer is correct\")\n",
    "else:\n",
    "    print(f\"user's answer is incorrect\")\n",
    "    print(f\"Correct answer is: {answer}\")"
   ]
  },
  {
   "cell_type": "markdown",
   "id": "d41b825e",
   "metadata": {},
   "source": [
    "# Exercise 3: Squares of Even/Odd Numbers\n",
    "Create a Python script that prints the squares of all even or odd numbers within the range of 100 to 200. Choose either even or odd numbers and document your choice in the code."
   ]
  },
  {
   "cell_type": "code",
   "execution_count": 6,
   "id": "dea8a17b",
   "metadata": {},
   "outputs": [
    {
     "name": "stdout",
     "output_type": "stream",
     "text": [
      "Squares of even number 100 : 10000\n",
      "Squares of even number 102 : 10404\n",
      "Squares of even number 104 : 10816\n",
      "Squares of even number 106 : 11236\n",
      "Squares of even number 108 : 11664\n",
      "Squares of even number 110 : 12100\n",
      "Squares of even number 112 : 12544\n",
      "Squares of even number 114 : 12996\n",
      "Squares of even number 116 : 13456\n",
      "Squares of even number 118 : 13924\n",
      "Squares of even number 120 : 14400\n",
      "Squares of even number 122 : 14884\n",
      "Squares of even number 124 : 15376\n",
      "Squares of even number 126 : 15876\n",
      "Squares of even number 128 : 16384\n",
      "Squares of even number 130 : 16900\n",
      "Squares of even number 132 : 17424\n",
      "Squares of even number 134 : 17956\n",
      "Squares of even number 136 : 18496\n",
      "Squares of even number 138 : 19044\n",
      "Squares of even number 140 : 19600\n",
      "Squares of even number 142 : 20164\n",
      "Squares of even number 144 : 20736\n",
      "Squares of even number 146 : 21316\n",
      "Squares of even number 148 : 21904\n",
      "Squares of even number 150 : 22500\n",
      "Squares of even number 152 : 23104\n",
      "Squares of even number 154 : 23716\n",
      "Squares of even number 156 : 24336\n",
      "Squares of even number 158 : 24964\n",
      "Squares of even number 160 : 25600\n",
      "Squares of even number 162 : 26244\n",
      "Squares of even number 164 : 26896\n",
      "Squares of even number 166 : 27556\n",
      "Squares of even number 168 : 28224\n",
      "Squares of even number 170 : 28900\n",
      "Squares of even number 172 : 29584\n",
      "Squares of even number 174 : 30276\n",
      "Squares of even number 176 : 30976\n",
      "Squares of even number 178 : 31684\n",
      "Squares of even number 180 : 32400\n",
      "Squares of even number 182 : 33124\n",
      "Squares of even number 184 : 33856\n",
      "Squares of even number 186 : 34596\n",
      "Squares of even number 188 : 35344\n",
      "Squares of even number 190 : 36100\n",
      "Squares of even number 192 : 36864\n",
      "Squares of even number 194 : 37636\n",
      "Squares of even number 196 : 38416\n",
      "Squares of even number 198 : 39204\n",
      "Squares of even number 200 : 40000\n"
     ]
    }
   ],
   "source": [
    "#Squares of Even Numbers\n",
    "for i in range(100,201):\n",
    "    if i % 2 == 0:\n",
    "        squares = i ** 2\n",
    "        print(f\"Squares of even number {i} : {squares}\")"
   ]
  },
  {
   "cell_type": "code",
   "execution_count": 9,
   "id": "db3650a8",
   "metadata": {},
   "outputs": [
    {
     "name": "stdout",
     "output_type": "stream",
     "text": [
      "Squares of odd number 101 : 10201\n",
      "Squares of odd number 103 : 10609\n",
      "Squares of odd number 105 : 11025\n",
      "Squares of odd number 107 : 11449\n",
      "Squares of odd number 109 : 11881\n",
      "Squares of odd number 111 : 12321\n",
      "Squares of odd number 113 : 12769\n",
      "Squares of odd number 115 : 13225\n",
      "Squares of odd number 117 : 13689\n",
      "Squares of odd number 119 : 14161\n",
      "Squares of odd number 121 : 14641\n",
      "Squares of odd number 123 : 15129\n",
      "Squares of odd number 125 : 15625\n",
      "Squares of odd number 127 : 16129\n",
      "Squares of odd number 129 : 16641\n",
      "Squares of odd number 131 : 17161\n",
      "Squares of odd number 133 : 17689\n",
      "Squares of odd number 135 : 18225\n",
      "Squares of odd number 137 : 18769\n",
      "Squares of odd number 139 : 19321\n",
      "Squares of odd number 141 : 19881\n",
      "Squares of odd number 143 : 20449\n",
      "Squares of odd number 145 : 21025\n",
      "Squares of odd number 147 : 21609\n",
      "Squares of odd number 149 : 22201\n",
      "Squares of odd number 151 : 22801\n",
      "Squares of odd number 153 : 23409\n",
      "Squares of odd number 155 : 24025\n",
      "Squares of odd number 157 : 24649\n",
      "Squares of odd number 159 : 25281\n",
      "Squares of odd number 161 : 25921\n",
      "Squares of odd number 163 : 26569\n",
      "Squares of odd number 165 : 27225\n",
      "Squares of odd number 167 : 27889\n",
      "Squares of odd number 169 : 28561\n",
      "Squares of odd number 171 : 29241\n",
      "Squares of odd number 173 : 29929\n",
      "Squares of odd number 175 : 30625\n",
      "Squares of odd number 177 : 31329\n",
      "Squares of odd number 179 : 32041\n",
      "Squares of odd number 181 : 32761\n",
      "Squares of odd number 183 : 33489\n",
      "Squares of odd number 185 : 34225\n",
      "Squares of odd number 187 : 34969\n",
      "Squares of odd number 189 : 35721\n",
      "Squares of odd number 191 : 36481\n",
      "Squares of odd number 193 : 37249\n",
      "Squares of odd number 195 : 38025\n",
      "Squares of odd number 197 : 38809\n",
      "Squares of odd number 199 : 39601\n"
     ]
    }
   ],
   "source": [
    "#Squares of Odd Numbers\n",
    "for o in range(100,201):\n",
    "    if o % 2 != 0:\n",
    "        squares = o ** 2\n",
    "        print(f\"Squares of odd number {o} : {squares}\")"
   ]
  },
  {
   "cell_type": "markdown",
   "id": "207a62c5",
   "metadata": {},
   "source": [
    "# Exercise 4: Word counter\n",
    "write a program to count the number of words in a given text."
   ]
  },
  {
   "cell_type": "code",
   "execution_count": 13,
   "id": "c18d927d",
   "metadata": {},
   "outputs": [
    {
     "name": "stdout",
     "output_type": "stream",
     "text": [
      "This is a sample text. This text will be used to demonstrate the word counter.: 15\n"
     ]
    }
   ],
   "source": [
    "input_text = \"This is a sample text. This text will be used to demonstrate the word counter.\"\n",
    "words = input_text.split()\n",
    "word_count = len(words)\n",
    "print(\"This is a sample text. This text will be used to demonstrate the word counter.:\",word_count)"
   ]
  },
  {
   "cell_type": "markdown",
   "id": "d7da7848",
   "metadata": {},
   "source": [
    "# Exercise 5: Check for Palindrome\n",
    "Write a Python function called is_palindrome that takes a string as input and returns True if the string is a palindrome, and False otherwise. A palindrome is a word, phrase, number, or other sequence of characters that reads the same forward and backward, ignoring spaces, punctuation, and capitalization."
   ]
  },
  {
   "cell_type": "code",
   "execution_count": 15,
   "id": "0a75779c",
   "metadata": {},
   "outputs": [],
   "source": [
    "def is_palindrome():\n",
    "    text = str(input(\"Enter a string: \"))\n",
    "    if text == text[::-1]:\n",
    "        return True\n",
    "    else:\n",
    "        return False"
   ]
  },
  {
   "cell_type": "code",
   "execution_count": 17,
   "id": "6a0a83e8",
   "metadata": {},
   "outputs": [
    {
     "name": "stdout",
     "output_type": "stream",
     "text": [
      "Enter a string: racecar\n"
     ]
    },
    {
     "data": {
      "text/plain": [
       "True"
      ]
     },
     "execution_count": 17,
     "metadata": {},
     "output_type": "execute_result"
    }
   ],
   "source": [
    "is_palindrome()"
   ]
  }
 ],
 "metadata": {
  "kernelspec": {
   "display_name": "Python 3 (ipykernel)",
   "language": "python",
   "name": "python3"
  },
  "language_info": {
   "codemirror_mode": {
    "name": "ipython",
    "version": 3
   },
   "file_extension": ".py",
   "mimetype": "text/x-python",
   "name": "python",
   "nbconvert_exporter": "python",
   "pygments_lexer": "ipython3",
   "version": "3.9.13"
  }
 },
 "nbformat": 4,
 "nbformat_minor": 5
}
