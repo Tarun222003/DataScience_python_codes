{
 "cells": [
  {
   "cell_type": "code",
   "execution_count": 3,
   "id": "1a0988e1",
   "metadata": {},
   "outputs": [
    {
     "name": "stdout",
     "output_type": "stream",
     "text": [
      "[23 56 98 43 21 48]\n"
     ]
    }
   ],
   "source": [
    "import numpy as np\n",
    "age = np.array([23,56,98,43,21,48])\n",
    "print(age)"
   ]
  },
  {
   "cell_type": "code",
   "execution_count": 4,
   "id": "1415d7e3",
   "metadata": {},
   "outputs": [
    {
     "name": "stdout",
     "output_type": "stream",
     "text": [
      "[[23]\n",
      " [56]\n",
      " [98]\n",
      " [43]\n",
      " [21]\n",
      " [48]]\n"
     ]
    }
   ],
   "source": [
    "age = np.array([[23],[56],[98],[43],[21],[48]])\n",
    "print(age)"
   ]
  },
  {
   "cell_type": "code",
   "execution_count": 5,
   "id": "7e2f2ed2",
   "metadata": {},
   "outputs": [
    {
     "name": "stdout",
     "output_type": "stream",
     "text": [
      "[[ 23 170  85]\n",
      " [ 56 175  89]\n",
      " [ 98 169  78]\n",
      " [ 43 186  90]\n",
      " [ 21 167  76]\n",
      " [ 48  79  90]]\n"
     ]
    }
   ],
   "source": [
    "age = np.array([[23,170,85],[56,175,89],[98,169,78],[43,186,90],[21,167,76],[48,79,90]])\n",
    "print(age)"
   ]
  },
  {
   "cell_type": "code",
   "execution_count": 6,
   "id": "361c8e10",
   "metadata": {},
   "outputs": [
    {
     "data": {
      "text/plain": [
       "(6, 3)"
      ]
     },
     "execution_count": 6,
     "metadata": {},
     "output_type": "execute_result"
    }
   ],
   "source": [
    "age.shape"
   ]
  },
  {
   "cell_type": "code",
   "execution_count": 36,
   "id": "b1aa522f",
   "metadata": {},
   "outputs": [
    {
     "data": {
      "text/plain": [
       "array([[ 23, 170],\n",
       "       [ 56, 175],\n",
       "       [ 98, 169]])"
      ]
     },
     "execution_count": 36,
     "metadata": {},
     "output_type": "execute_result"
    }
   ],
   "source": [
    "age[0:3, :2]\n"
   ]
  },
  {
   "cell_type": "code",
   "execution_count": 22,
   "id": "8eb2677f",
   "metadata": {},
   "outputs": [
    {
     "data": {
      "text/plain": [
       "array([[23],\n",
       "       [56],\n",
       "       [98],\n",
       "       [43],\n",
       "       [21],\n",
       "       [48]])"
      ]
     },
     "execution_count": 22,
     "metadata": {},
     "output_type": "execute_result"
    }
   ],
   "source": [
    "#[rows , columns]\n",
    "#[start : end , start : end]\n",
    "age[:,0:1]"
   ]
  },
  {
   "cell_type": "code",
   "execution_count": 9,
   "id": "51033a93",
   "metadata": {},
   "outputs": [
    {
     "name": "stdout",
     "output_type": "stream",
     "text": [
      "Mean: 48.166666666666664\n",
      "Median: 45.5\n",
      "std: 25.634720378597635\n",
      "var: 657.1388888888889\n",
      "Mean: 21\n",
      "Mean: 98\n"
     ]
    }
   ],
   "source": [
    "print(\"Mean:\",np.mean(age[:,0:1]))\n",
    "print(\"Median:\",np.median(age[:,0:1]))\n",
    "print(\"std:\",np.std(age[:,0:1]))\n",
    "print(\"var:\",np.var(age[:,0:1]))\n",
    "print(\"Mean:\",np.min(age[:,0:1]))\n",
    "print(\"Mean:\",np.max(age[:,0:1]))"
   ]
  },
  {
   "cell_type": "code",
   "execution_count": 10,
   "id": "f221fa13",
   "metadata": {},
   "outputs": [
    {
     "data": {
      "text/plain": [
       "array([[170],\n",
       "       [175],\n",
       "       [169],\n",
       "       [186],\n",
       "       [167],\n",
       "       [ 79]])"
      ]
     },
     "execution_count": 10,
     "metadata": {},
     "output_type": "execute_result"
    }
   ],
   "source": [
    "age[ : ,1:2]"
   ]
  },
  {
   "cell_type": "code",
   "execution_count": 24,
   "id": "298147af",
   "metadata": {},
   "outputs": [
    {
     "data": {
      "text/plain": [
       "array([15, 49, 17, 30, 44, 44])"
      ]
     },
     "execution_count": 24,
     "metadata": {},
     "output_type": "execute_result"
    }
   ],
   "source": [
    "x = np.random.randint(10,50, size=6)\n",
    "x"
   ]
  },
  {
   "cell_type": "code",
   "execution_count": 27,
   "id": "00ec26a1",
   "metadata": {},
   "outputs": [
    {
     "data": {
      "text/plain": [
       "array([12, 44, 13, 47, 24, 27])"
      ]
     },
     "execution_count": 27,
     "metadata": {},
     "output_type": "execute_result"
    }
   ],
   "source": [
    "x = np.random.randint(10,50, size=6)\n",
    "x"
   ]
  },
  {
   "cell_type": "code",
   "execution_count": 28,
   "id": "4ac94840",
   "metadata": {},
   "outputs": [
    {
     "data": {
      "text/plain": [
       "array([[32, 40, 30],\n",
       "       [22, 41, 20]])"
      ]
     },
     "execution_count": 28,
     "metadata": {},
     "output_type": "execute_result"
    }
   ],
   "source": [
    "x = np.random.randint(10,50, size=(2,3))\n",
    "x"
   ]
  },
  {
   "cell_type": "code",
   "execution_count": 37,
   "id": "a2dafede",
   "metadata": {},
   "outputs": [
    {
     "data": {
      "text/plain": [
       "array([8334])"
      ]
     },
     "execution_count": 37,
     "metadata": {},
     "output_type": "execute_result"
    }
   ],
   "source": [
    "x = np.random.randint(1111,9999, size=1)\n",
    "x"
   ]
  },
  {
   "cell_type": "code",
   "execution_count": 29,
   "id": "4cce3745",
   "metadata": {},
   "outputs": [
    {
     "data": {
      "text/plain": [
       "2"
      ]
     },
     "execution_count": 29,
     "metadata": {},
     "output_type": "execute_result"
    }
   ],
   "source": [
    "x.ndim"
   ]
  }
 ],
 "metadata": {
  "kernelspec": {
   "display_name": "Python 3 (ipykernel)",
   "language": "python",
   "name": "python3"
  },
  "language_info": {
   "codemirror_mode": {
    "name": "ipython",
    "version": 3
   },
   "file_extension": ".py",
   "mimetype": "text/x-python",
   "name": "python",
   "nbconvert_exporter": "python",
   "pygments_lexer": "ipython3",
   "version": "3.9.13"
  }
 },
 "nbformat": 4,
 "nbformat_minor": 5
}
