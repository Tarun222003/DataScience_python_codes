{
 "cells": [
  {
   "cell_type": "code",
   "execution_count": 2,
   "id": "8b02f6ea",
   "metadata": {},
   "outputs": [],
   "source": [
    "from scipy.stats import norm"
   ]
  },
  {
   "cell_type": "code",
   "execution_count": 4,
   "id": "a464365e",
   "metadata": {},
   "outputs": [],
   "source": [
    "nd = norm(170,10)    # mean , standard deviation"
   ]
  },
  {
   "cell_type": "code",
   "execution_count": 5,
   "id": "2e87d423",
   "metadata": {},
   "outputs": [
    {
     "data": {
      "text/plain": [
       "0.5"
      ]
     },
     "execution_count": 5,
     "metadata": {},
     "output_type": "execute_result"
    }
   ],
   "source": [
    "# P(x<170)\n",
    "x1 = nd.cdf(170)\n",
    "x1"
   ]
  },
  {
   "cell_type": "code",
   "execution_count": 6,
   "id": "03537889",
   "metadata": {
    "scrolled": true
   },
   "outputs": [
    {
     "data": {
      "text/plain": [
       "0.5"
      ]
     },
     "execution_count": 6,
     "metadata": {},
     "output_type": "execute_result"
    }
   ],
   "source": [
    "# P(x>170)\n",
    "x2 = 1 - nd.cdf(170)\n",
    "x2"
   ]
  },
  {
   "cell_type": "code",
   "execution_count": 10,
   "id": "c80f2d5d",
   "metadata": {},
   "outputs": [
    {
     "data": {
      "text/plain": [
       "0.6826894921370859"
      ]
     },
     "execution_count": 10,
     "metadata": {},
     "output_type": "execute_result"
    }
   ],
   "source": [
    "# P(160 x < 180)\n",
    "x3 = nd.cdf(180)\n",
    "x8 = nd.cdf(160)\n",
    "x3 - x8"
   ]
  },
  {
   "cell_type": "code",
   "execution_count": 7,
   "id": "a242b7c0",
   "metadata": {},
   "outputs": [
    {
     "data": {
      "text/plain": [
       "-0.9544997361036416"
      ]
     },
     "execution_count": 7,
     "metadata": {},
     "output_type": "execute_result"
    }
   ],
   "source": [
    "# P(150 x < 190)\n",
    "x4 = nd.cdf(150)\n",
    "x5 = nd.cdf(190)\n",
    "x4 - x5"
   ]
  },
  {
   "cell_type": "code",
   "execution_count": 5,
   "id": "a6ed45ce",
   "metadata": {},
   "outputs": [
    {
     "data": {
      "text/plain": [
       "-0.9973002039367398"
      ]
     },
     "execution_count": 5,
     "metadata": {},
     "output_type": "execute_result"
    }
   ],
   "source": [
    "# P(140 x < 200)\n",
    "x6 = nd.cdf(140)\n",
    "x7 = nd.cdf(200)\n",
    "x6 - x7"
   ]
  },
  {
   "cell_type": "code",
   "execution_count": 6,
   "id": "9c9f7e9f",
   "metadata": {},
   "outputs": [
    {
     "data": {
      "text/plain": [
       "-0.624655260005155"
      ]
     },
     "execution_count": 6,
     "metadata": {},
     "output_type": "execute_result"
    }
   ],
   "source": [
    "x9 = nd.cdf(155)\n",
    "x10 = nd.cdf(175)\n",
    "x9 - x10"
   ]
  },
  {
   "cell_type": "code",
   "execution_count": 3,
   "id": "d12c147a",
   "metadata": {},
   "outputs": [],
   "source": [
    "nd1 = norm(50000,10000)"
   ]
  },
  {
   "cell_type": "code",
   "execution_count": 12,
   "id": "d9956a62",
   "metadata": {},
   "outputs": [
    {
     "data": {
      "text/plain": [
       "0.15865525393145707"
      ]
     },
     "execution_count": 12,
     "metadata": {},
     "output_type": "execute_result"
    }
   ],
   "source": [
    "y1 = nd1.cdf(40000)   #earn less than 40000\n",
    "y1"
   ]
  },
  {
   "cell_type": "code",
   "execution_count": 4,
   "id": "67d5b924",
   "metadata": {},
   "outputs": [
    {
     "data": {
      "text/plain": [
       "-0.624655260005155"
      ]
     },
     "execution_count": 4,
     "metadata": {},
     "output_type": "execute_result"
    }
   ],
   "source": [
    "y2 = nd1.cdf(45000)\n",
    "y3 = nd1.cdf(65000)\n",
    "y2 - y3"
   ]
  },
  {
   "cell_type": "code",
   "execution_count": 14,
   "id": "d1b097b2",
   "metadata": {},
   "outputs": [
    {
     "data": {
      "text/plain": [
       "0.02275013194817921"
      ]
     },
     "execution_count": 14,
     "metadata": {},
     "output_type": "execute_result"
    }
   ],
   "source": [
    "y4 = nd1.cdf(70000)         #earn more than 70000\n",
    "1-y4"
   ]
  },
  {
   "cell_type": "code",
   "execution_count": 15,
   "id": "e80024aa",
   "metadata": {},
   "outputs": [],
   "source": [
    "nd2 = norm(90,10)"
   ]
  },
  {
   "cell_type": "code",
   "execution_count": 16,
   "id": "f9dbf779",
   "metadata": {},
   "outputs": [
    {
     "data": {
      "text/plain": [
       "0.15865525393145707"
      ]
     },
     "execution_count": 16,
     "metadata": {},
     "output_type": "execute_result"
    }
   ],
   "source": [
    "z1 = nd2.cdf(100)        #greater than 100kmph\n",
    "1 - z1"
   ]
  },
  {
   "cell_type": "code",
   "execution_count": 17,
   "id": "c7bfbbd7",
   "metadata": {},
   "outputs": [],
   "source": [
    "nd2 = norm(90,5)"
   ]
  },
  {
   "cell_type": "code",
   "execution_count": 18,
   "id": "f5ca8261",
   "metadata": {},
   "outputs": [
    {
     "data": {
      "text/plain": [
       "0.02275013194817921"
      ]
     },
     "execution_count": 18,
     "metadata": {},
     "output_type": "execute_result"
    }
   ],
   "source": [
    "z2 = nd2.cdf(100)        #greater than 100kmph\n",
    "1 - z2"
   ]
  },
  {
   "cell_type": "code",
   "execution_count": 20,
   "id": "3c1af59a",
   "metadata": {},
   "outputs": [],
   "source": [
    "nd3 = norm(600,20)"
   ]
  },
  {
   "cell_type": "code",
   "execution_count": 21,
   "id": "98bcab3e",
   "metadata": {},
   "outputs": [
    {
     "data": {
      "text/plain": [
       "0.4986501019683699"
      ]
     },
     "execution_count": 21,
     "metadata": {},
     "output_type": "execute_result"
    }
   ],
   "source": [
    "t1 = nd3.cdf(600)\n",
    "t2 = nd3.cdf(660)\n",
    "t2 - t1"
   ]
  },
  {
   "cell_type": "code",
   "execution_count": 22,
   "id": "9185ce68",
   "metadata": {},
   "outputs": [],
   "source": [
    "Ai = norm(29,5)"
   ]
  },
  {
   "cell_type": "code",
   "execution_count": 23,
   "id": "36c3a420",
   "metadata": {},
   "outputs": [
    {
     "data": {
      "text/plain": [
       "0.26208503662943994"
      ]
     },
     "execution_count": 23,
     "metadata": {},
     "output_type": "execute_result"
    }
   ],
   "source": [
    "a1 = Ai.cdf(30)\n",
    "a2 = Ai.cdf(34)\n",
    "a2 - a1"
   ]
  },
  {
   "cell_type": "code",
   "execution_count": 24,
   "id": "91899d38",
   "metadata": {},
   "outputs": [
    {
     "data": {
      "text/plain": [
       "0.11506967022170822"
      ]
     },
     "execution_count": 24,
     "metadata": {},
     "output_type": "execute_result"
    }
   ],
   "source": [
    "a2 = Ai.cdf(23)\n",
    "a2"
   ]
  },
  {
   "cell_type": "code",
   "execution_count": 26,
   "id": "3133cba5",
   "metadata": {},
   "outputs": [
    {
     "data": {
      "text/plain": [
       "0.01390344751349859"
      ]
     },
     "execution_count": 26,
     "metadata": {},
     "output_type": "execute_result"
    }
   ],
   "source": [
    "a3 = Ai.cdf(40)\n",
    "1-a3"
   ]
  }
 ],
 "metadata": {
  "kernelspec": {
   "display_name": "Python 3 (ipykernel)",
   "language": "python",
   "name": "python3"
  },
  "language_info": {
   "codemirror_mode": {
    "name": "ipython",
    "version": 3
   },
   "file_extension": ".py",
   "mimetype": "text/x-python",
   "name": "python",
   "nbconvert_exporter": "python",
   "pygments_lexer": "ipython3",
   "version": "3.9.13"
  }
 },
 "nbformat": 4,
 "nbformat_minor": 5
}
