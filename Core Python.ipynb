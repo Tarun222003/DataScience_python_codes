{
 "cells": [
  {
   "cell_type": "markdown",
   "id": "b302c995",
   "metadata": {},
   "source": [
    "# Heading"
   ]
  },
  {
   "cell_type": "markdown",
   "id": "32a806e8",
   "metadata": {},
   "source": [
    "## Heading 2"
   ]
  },
  {
   "cell_type": "code",
   "execution_count": 2,
   "id": "8bc73f64",
   "metadata": {},
   "outputs": [],
   "source": [
    "x=99\n",
    "y=80"
   ]
  },
  {
   "cell_type": "code",
   "execution_count": 3,
   "id": "bd5db663",
   "metadata": {},
   "outputs": [
    {
     "name": "stdout",
     "output_type": "stream",
     "text": [
      "The value of x is : 99\n"
     ]
    }
   ],
   "source": [
    "print(\"The value of x is :\", x)"
   ]
  },
  {
   "cell_type": "code",
   "execution_count": 1,
   "id": "ae99380d",
   "metadata": {},
   "outputs": [
    {
     "name": "stdout",
     "output_type": "stream",
     "text": [
      "<class 'int'>\n"
     ]
    }
   ],
   "source": [
    "x = 10\n",
    "print(type(x))\n",
    "    "
   ]
  },
  {
   "cell_type": "code",
   "execution_count": 10,
   "id": "6537ae42",
   "metadata": {},
   "outputs": [
    {
     "name": "stdout",
     "output_type": "stream",
     "text": [
      "Value of x is : 99 and value of y is : 80\n"
     ]
    }
   ],
   "source": [
    "print(\"Value of x is :\" , x , \"and value of y is :\", y)"
   ]
  },
  {
   "cell_type": "code",
   "execution_count": 11,
   "id": "6dd28ad1",
   "metadata": {},
   "outputs": [
    {
     "name": "stdout",
     "output_type": "stream",
     "text": [
      "Value of x is : x and value of y is : y\n"
     ]
    }
   ],
   "source": [
    "print(\"Value of x is : x and value of y is : y\")"
   ]
  },
  {
   "cell_type": "code",
   "execution_count": 13,
   "id": "1a6975fc",
   "metadata": {},
   "outputs": [
    {
     "name": "stdout",
     "output_type": "stream",
     "text": [
      "Value of x is : 99 and value of y is : 80\n"
     ]
    }
   ],
   "source": [
    "print(f\"Value of x is : {x} and value of y is : {y}\")"
   ]
  },
  {
   "cell_type": "code",
   "execution_count": 18,
   "id": "21245177",
   "metadata": {},
   "outputs": [
    {
     "name": "stdout",
     "output_type": "stream",
     "text": [
      "21  is  <class 'int'>\n",
      "Ee sala cupp namdu  is  <class 'str'>\n",
      "10.99  is  <class 'float'>\n",
      "False  is  <class 'bool'>\n"
     ]
    }
   ],
   "source": [
    "a = 21\n",
    "b = \"Ee sala cupp namdu\"\n",
    "c = 10.99\n",
    "d = False \n",
    "print(a , \" is \" , type(a))\n",
    "print(b , \" is \" , type(b))\n",
    "print(c , \" is \" , type(c))\n",
    "print(d , \" is \" , type(d))"
   ]
  },
  {
   "cell_type": "code",
   "execution_count": 22,
   "id": "5b4e3436",
   "metadata": {},
   "outputs": [
    {
     "name": "stdout",
     "output_type": "stream",
     "text": [
      "Addition of a and b is :  32\n",
      "Subtraction of a and b is :  18\n",
      "Multiplication of a and b is :  175\n",
      "Division of a and b is :  3.5714285714285716\n",
      "Reminder of a and b is :  4\n",
      "Floor Division  of a and b is :  3\n",
      "Exponention of a and b is :  6103515625\n"
     ]
    }
   ],
   "source": [
    "a = 25\n",
    "b = 7\n",
    "print(\"Addition of a and b is : \", a+b)\n",
    "print(\"Subtraction of a and b is : \", a-b)\n",
    "print(\"Multiplication of a and b is : \", a*b)\n",
    "print(\"Division of a and b is : \", a/b)\n",
    "print(\"Reminder of a and b is : \", a%b)\n",
    "print(\"Floor Division  of a and b is : \", a//b)\n",
    "print(\"Exponention of a and b is : \", a**b)"
   ]
  },
  {
   "cell_type": "code",
   "execution_count": 27,
   "id": "780d522d",
   "metadata": {},
   "outputs": [
    {
     "name": "stdout",
     "output_type": "stream",
     "text": [
      "Equal : False\n",
      "Not equal : True\n",
      "Greater : False\n",
      "Lesser:  True\n",
      "Greater or equal : False\n",
      "Lesser or equa :l True\n"
     ]
    }
   ],
   "source": [
    "a = 10\n",
    "b = 20\n",
    "print(\"Equal :\" , a==b)\n",
    "print(\"Not equal :\" , a!=b)\n",
    "print(\"Greater :\" , a>b)\n",
    "print(\"Lesser: \" , a<b)\n",
    "print(\"Greater or equal :\" , a>=b)\n",
    "print(\"Lesser or equa :l\" , a<=b)"
   ]
  },
  {
   "cell_type": "code",
   "execution_count": 28,
   "id": "2a9da296",
   "metadata": {},
   "outputs": [
    {
     "name": "stdout",
     "output_type": "stream",
     "text": [
      "30\n"
     ]
    }
   ],
   "source": [
    "a = 10\n",
    "b = 20\n",
    "a = a + b\n",
    "print(a)"
   ]
  },
  {
   "cell_type": "code",
   "execution_count": 30,
   "id": "bf7848da",
   "metadata": {},
   "outputs": [
    {
     "name": "stdout",
     "output_type": "stream",
     "text": [
      "55\n"
     ]
    }
   ],
   "source": [
    "a = 25\n",
    "b = 30\n",
    "a += b   # (a = a + b) == (a += b)\n",
    "print(a)"
   ]
  },
  {
   "cell_type": "code",
   "execution_count": 31,
   "id": "419e42f6",
   "metadata": {},
   "outputs": [
    {
     "name": "stdout",
     "output_type": "stream",
     "text": [
      "231\n"
     ]
    }
   ],
   "source": [
    "a = 21 \n",
    "b = 11\n",
    "a *= b   # (a = a * b) == (a *= b)\n",
    "print(a)"
   ]
  },
  {
   "cell_type": "code",
   "execution_count": 13,
   "id": "4f576e93",
   "metadata": {},
   "outputs": [
    {
     "name": "stdout",
     "output_type": "stream",
     "text": [
      "False\n",
      "True\n",
      "False True True\n",
      "True\n"
     ]
    }
   ],
   "source": [
    "x = True                                \n",
    "y = False\n",
    "z = False\n",
    "print(x and y and z)\n",
    "print(x or y or z)\n",
    "print(not(x) , not(y) , not(z))\n",
    "print(not(x and y and z))\n"
   ]
  },
  {
   "cell_type": "code",
   "execution_count": 17,
   "id": "a7975327",
   "metadata": {},
   "outputs": [
    {
     "name": "stdout",
     "output_type": "stream",
     "text": [
      "True\n",
      "False\n",
      "False\n"
     ]
    }
   ],
   "source": [
    "a = \"asdfghjkl\"     #Membership Operator\n",
    "print(\"f\" in a)\n",
    "print(\"f\" not in a)\n",
    "print(\"r\" in a)"
   ]
  },
  {
   "cell_type": "code",
   "execution_count": 32,
   "id": "a1b8dbc1",
   "metadata": {},
   "outputs": [
    {
     "name": "stdout",
     "output_type": "stream",
     "text": [
      "10\n",
      "10\n",
      "True\n",
      "False\n",
      "False\n"
     ]
    }
   ],
   "source": [
    "x = 10            #Identical Operator\n",
    "y = x\n",
    "print(x)\n",
    "print(y)\n",
    "print(x is y)\n",
    "z = y\n",
    "print(y is not z)\n"
   ]
  },
  {
   "cell_type": "code",
   "execution_count": 33,
   "id": "bcf2ab75",
   "metadata": {},
   "outputs": [
    {
     "name": "stdout",
     "output_type": "stream",
     "text": [
      "True\n"
     ]
    }
   ],
   "source": [
    "c = 10\n",
    "print(x is c)"
   ]
  },
  {
   "cell_type": "code",
   "execution_count": 34,
   "id": "1376f2bf",
   "metadata": {},
   "outputs": [
    {
     "name": "stdout",
     "output_type": "stream",
     "text": [
      "Enter a value45\n",
      "Enter a value89\n",
      "4589\n"
     ]
    }
   ],
   "source": [
    "a = input(\"Enter a value\")    #Bydefault datatype of the value is STRING when input is taken from the user\n",
    "b = input(\"Enter a value\")\n",
    "print(a + b)   #Concatination"
   ]
  },
  {
   "cell_type": "code",
   "execution_count": 35,
   "id": "99d116bd",
   "metadata": {},
   "outputs": [
    {
     "name": "stdout",
     "output_type": "stream",
     "text": [
      "Enter a value67\n",
      "Enter a value10\n",
      "77\n"
     ]
    }
   ],
   "source": [
    "a = int(input(\"Enter a value\"))\n",
    "b = int(input(\"Enter a value\"))\n",
    "print(a + b)"
   ]
  },
  {
   "cell_type": "code",
   "execution_count": 37,
   "id": "ae7a5d2e",
   "metadata": {},
   "outputs": [
    {
     "name": "stdout",
     "output_type": "stream",
     "text": [
      "Enter your age :15\n",
      "Your are not eligible to apply for driving lisence\n"
     ]
    }
   ],
   "source": [
    "Age = int(input(\"Enter your age :\"))\n",
    "if (Age>=18):\n",
    "    print(\"Your are eligible to apply for driving lisence\")\n",
    "else:\n",
    "    print(\"Your are not eligible to apply for driving lisence\")\n"
   ]
  },
  {
   "cell_type": "code",
   "execution_count": 44,
   "id": "afaab5f5",
   "metadata": {},
   "outputs": [
    {
     "name": "stdout",
     "output_type": "stream",
     "text": [
      "Enter number6\n",
      " even\n"
     ]
    }
   ],
   "source": [
    "number = int(input(\"Enter number\"))\n",
    "if (number%2 == 0):\n",
    "    print(\" even\")\n",
    "else:\n",
    "    print(\" odd\")\n"
   ]
  },
  {
   "cell_type": "code",
   "execution_count": 50,
   "id": "896fa1c3",
   "metadata": {},
   "outputs": [
    {
     "name": "stdout",
     "output_type": "stream",
     "text": [
      "Enter the value: 70\n",
      "num is positive\n"
     ]
    }
   ],
   "source": [
    "num = int(input(\"Enter the value: \"))\n",
    "if (num>0):\n",
    "    print(\"num is positive\")\n",
    "elif (num==0):\n",
    "    print(\"num is zero\")\n",
    "else:\n",
    "    print(\"num is negitive\")"
   ]
  },
  {
   "cell_type": "code",
   "execution_count": 53,
   "id": "d300edff",
   "metadata": {},
   "outputs": [
    {
     "name": "stdout",
     "output_type": "stream",
     "text": [
      "Enter the value: 3\n",
      "positive\n"
     ]
    }
   ],
   "source": [
    "num = int(input(\"Enter the value: \"))\n",
    "if (num>=0):\n",
    "    if (num==0):\n",
    "        print(\"num is zero\")\n",
    "    else:\n",
    "        print(\"positive\")\n",
    "else:\n",
    "    print(\"negitive\")"
   ]
  },
  {
   "cell_type": "code",
   "execution_count": 56,
   "id": "0920beb2",
   "metadata": {},
   "outputs": [
    {
     "name": "stdout",
     "output_type": "stream",
     "text": [
      "enter number: 70\n",
      "enter number: 9\n",
      "enter number: 7\n",
      "num1 is the largest number\n"
     ]
    }
   ],
   "source": [
    "num1 = int(input(\"enter number: \"))\n",
    "num2 = int(input(\"enter number: \"))\n",
    "num3 = int(input(\"enter number: \"))\n",
    "if (num1 > num2 > num3):\n",
    "    print(\"num1 is the largest number\")\n",
    "elif (num2 > num3):\n",
    "    print(\"num2 is the largest number\")\n",
    "else:\n",
    "    print(\"num3 is the largest number\")"
   ]
  },
  {
   "cell_type": "code",
   "execution_count": 68,
   "id": "0b570fa8",
   "metadata": {},
   "outputs": [
    {
     "name": "stdout",
     "output_type": "stream",
     "text": [
      "enter number: 3\n",
      "enter number: 4\n",
      "enter number: 9\n",
      "9 largest number\n"
     ]
    }
   ],
   "source": [
    "num1 = int(input(\"enter number: \"))\n",
    "num2 = int(input(\"enter number: \"))\n",
    "num3 = int(input(\"enter number: \"))\n",
    "if (num1 > num2 ):\n",
    "    if(num1 > num3):\n",
    "        print(num1,\"is the largest number\")\n",
    "    else:\n",
    "        print(num2,\"is the largest number\")\n",
    "else:\n",
    "    if (num3 > num2):\n",
    "        print(num3,\"largest number\" )\n",
    "    else:\n",
    "        print(num2,\"is largest\")\n"
   ]
  },
  {
   "cell_type": "code",
   "execution_count": 74,
   "id": "c4893746",
   "metadata": {},
   "outputs": [
    {
     "name": "stdout",
     "output_type": "stream",
     "text": [
      "enter number: 33\n",
      "33 is divisible by 3 only\n"
     ]
    }
   ],
   "source": [
    "num = int(input(\"enter number: \"))\n",
    "if (num % 2 ==0 and num % 3 == 0):\n",
    "    print(num,\"is divisible by both 2 and 3\")\n",
    "elif(num % 2 !=0 and num % 3 == 0):\n",
    "     print(num,\"is divisible by 3 only\")\n",
    "elif (num % 2 ==0 and num % 3 != 0):\n",
    "    print(num,\"is divisible by 2 only\")\n",
    "else:\n",
    "    print(num,\"is not divisible by both 2 and 3 only\")\n",
    "\n",
    "          "
   ]
  },
  {
   "cell_type": "code",
   "execution_count": 4,
   "id": "88df62d3",
   "metadata": {},
   "outputs": [
    {
     "name": "stdout",
     "output_type": "stream",
     "text": [
      "enter number: 77\n",
      "77 is not divisible by 2 and 3\n"
     ]
    }
   ],
   "source": [
    "num = int(input(\"enter number: \"))\n",
    "if (num % 2 == 0):\n",
    "    if(num % 3 == 0):\n",
    "        print(num,\"is divisible by 2 and 3\")\n",
    "    else:\n",
    "        print(num,\"is divisible by 2 only\")\n",
    "else:\n",
    "    if (num % 3 == 0):\n",
    "        print(num,\"is divisible by 3 only\")\n",
    "    else:\n",
    "        print(num,\"is not divisible by 2 and 3\")\n",
    "        "
   ]
  },
  {
   "cell_type": "code",
   "execution_count": 3,
   "id": "3b46b15c",
   "metadata": {},
   "outputs": [
    {
     "name": "stdout",
     "output_type": "stream",
     "text": [
      "10\n",
      "9\n",
      "8\n",
      "7\n",
      "6\n",
      "5\n",
      "4\n",
      "3\n",
      "2\n",
      "1\n"
     ]
    }
   ],
   "source": [
    "a=10\n",
    "while(a>=1):\n",
    "    print(a)\n",
    "    a-=1"
   ]
  },
  {
   "cell_type": "code",
   "execution_count": 2,
   "id": "39193118",
   "metadata": {},
   "outputs": [],
   "source": [
    "a = 16\n",
    "i = 1\n",
    "while(i>=10):\n",
    "    print(a * i)\n",
    "    a+=1\n"
   ]
  },
  {
   "cell_type": "code",
   "execution_count": 3,
   "id": "fd3caff4",
   "metadata": {},
   "outputs": [
    {
     "name": "stdout",
     "output_type": "stream",
     "text": [
      "enter a number39\n",
      "39 * 1 = 39\n",
      "39 * 2 = 78\n",
      "39 * 3 = 117\n",
      "39 * 4 = 156\n",
      "39 * 5 = 195\n",
      "39 * 6 = 234\n",
      "39 * 7 = 273\n",
      "39 * 8 = 312\n",
      "39 * 9 = 351\n",
      "39 * 10 = 390\n"
     ]
    }
   ],
   "source": [
    "a = int(input(\"enter a number\"))\n",
    "i = 1\n",
    "while(i<=10):\n",
    "    print(f\"{a} * {i} =\",a*i)\n",
    "    i+=1"
   ]
  },
  {
   "cell_type": "code",
   "execution_count": 11,
   "id": "7cf675e2",
   "metadata": {},
   "outputs": [
    {
     "name": "stdout",
     "output_type": "stream",
     "text": [
      "enter a number22\n",
      "enter starting point11\n",
      "enter ending point19\n",
      "22 * 11 = 242\n",
      "22 * 12 = 264\n",
      "22 * 13 = 286\n",
      "22 * 14 = 308\n",
      "22 * 15 = 330\n",
      "22 * 16 = 352\n",
      "22 * 17 = 374\n",
      "22 * 18 = 396\n",
      "22 * 19 = 418\n"
     ]
    }
   ],
   "source": [
    "a = int(input(\"enter a number\"))\n",
    "start = int(input(\"enter starting point\"))\n",
    "end = int(input(\"enter ending point\"))\n",
    "i = start\n",
    "while(i<=end):\n",
    "    print(f\"{a} * {i} =\",a*i)\n",
    "    i+=1"
   ]
  },
  {
   "cell_type": "code",
   "execution_count": 1,
   "id": "c4dcd22a",
   "metadata": {},
   "outputs": [
    {
     "name": "stdout",
     "output_type": "stream",
     "text": [
      "enter a number5\n",
      "enter starting point2\n",
      "enter ending point9\n",
      "5 * 2 = 10\n",
      "5 * 3 = 15\n",
      "5 * 4 = 20\n",
      "5 * 5 = 25\n",
      "5 * 6 = 30\n",
      "5 * 7 = 35\n",
      "5 * 8 = 40\n",
      "5 * 9 = 45\n"
     ]
    }
   ],
   "source": [
    "a = int(input(\"enter a number\"))\n",
    "start = int(input(\"enter starting point\"))\n",
    "end = int(input(\"enter ending point\"))\n",
    "i = start\n",
    "if (i<end):\n",
    "    while(i<=end):\n",
    "        print(f\"{a} * {i} =\",a*i)\n",
    "        i+=1\n",
    "else:\n",
    "    print(\"start point is greater than end point\")"
   ]
  },
  {
   "cell_type": "code",
   "execution_count": 5,
   "id": "6b8d00b9",
   "metadata": {},
   "outputs": [
    {
     "name": "stdout",
     "output_type": "stream",
     "text": [
      "1\n",
      "2\n",
      "3\n",
      "4\n",
      "outside loop 5\n"
     ]
    }
   ],
   "source": [
    "a = 1\n",
    "while(a<=10):\n",
    "    if(a==5):\n",
    "        break\n",
    "    print(a)\n",
    "    a+=1\n",
    "print(\"outside loop\",a)\n"
   ]
  },
  {
   "cell_type": "code",
   "execution_count": 8,
   "id": "7f8b3679",
   "metadata": {},
   "outputs": [
    {
     "name": "stdout",
     "output_type": "stream",
     "text": [
      "1\n",
      "2\n",
      "3\n",
      "4\n",
      "5\n",
      "6\n",
      "8\n",
      "9\n",
      "10\n"
     ]
    }
   ],
   "source": [
    "a = 1\n",
    "while(a<=10):\n",
    "    if(a==7):\n",
    "        a+=1\n",
    "        continue\n",
    "    print(a)\n",
    "    a+=1\n",
    "\n"
   ]
  },
  {
   "cell_type": "code",
   "execution_count": 2,
   "id": "b3bb8f49",
   "metadata": {},
   "outputs": [
    {
     "name": "stdout",
     "output_type": "stream",
     "text": [
      "a\n",
      "s\n",
      "d\n",
      "f\n",
      "g\n",
      "h\n",
      "j\n",
      "k\n",
      "l\n",
      "z\n",
      "x\n",
      "c\n",
      "v\n",
      "b\n",
      "n\n",
      "m\n"
     ]
    }
   ],
   "source": [
    "a = \"asdfghjklzxcvbnm\"\n",
    "for i in a:\n",
    "    print(i)"
   ]
  },
  {
   "cell_type": "code",
   "execution_count": 4,
   "id": "b8929882",
   "metadata": {},
   "outputs": [
    {
     "name": "stdout",
     "output_type": "stream",
     "text": [
      "asdfghjklzxcvbnm"
     ]
    }
   ],
   "source": [
    "a = \"asdfghjklzxcvbnm\"\n",
    "for i in a:\n",
    "    print(i, end=\"\")"
   ]
  },
  {
   "cell_type": "code",
   "execution_count": 10,
   "id": "e0a81c3b",
   "metadata": {},
   "outputs": [
    {
     "name": "stdout",
     "output_type": "stream",
     "text": [
      "total no of vowels in a are: 7\n"
     ]
    }
   ],
   "source": [
    "a = \"asdfghjklzxcvbnmaaaaaa\"\n",
    "vowel = \"aeiouAEIOU\"\n",
    "count = 0\n",
    "for i in a:\n",
    "    if i in vowel:\n",
    "        count+=1\n",
    "print(\"total no of vowels in a are:\",count)\n"
   ]
  },
  {
   "cell_type": "code",
   "execution_count": 12,
   "id": "609d8166",
   "metadata": {},
   "outputs": [
    {
     "name": "stdout",
     "output_type": "stream",
     "text": [
      "10\n",
      "11\n",
      "12\n",
      "13\n",
      "14\n",
      "15\n",
      "16\n",
      "17\n",
      "18\n",
      "19\n"
     ]
    }
   ],
   "source": [
    "for i in range(10,20):\n",
    "    print(i)"
   ]
  },
  {
   "cell_type": "code",
   "execution_count": 13,
   "id": "94e12a66",
   "metadata": {},
   "outputs": [
    {
     "name": "stdout",
     "output_type": "stream",
     "text": [
      "0\n",
      "1\n",
      "2\n",
      "3\n",
      "4\n",
      "5\n",
      "6\n",
      "7\n",
      "8\n",
      "9\n",
      "10\n",
      "11\n",
      "12\n",
      "13\n",
      "14\n",
      "15\n",
      "16\n",
      "17\n",
      "18\n",
      "19\n"
     ]
    }
   ],
   "source": [
    "for i in range(20):  # Bydefault starting point is considered as 0\n",
    "    print(i)"
   ]
  },
  {
   "cell_type": "code",
   "execution_count": 15,
   "id": "e6244fd1",
   "metadata": {},
   "outputs": [
    {
     "name": "stdout",
     "output_type": "stream",
     "text": [
      "0\n",
      "5\n",
      "10\n",
      "15\n",
      "20\n",
      "25\n",
      "30\n",
      "35\n",
      "40\n",
      "45\n"
     ]
    }
   ],
   "source": [
    "for i in range(0,50,5):\n",
    "    print(i)\n"
   ]
  },
  {
   "cell_type": "code",
   "execution_count": 18,
   "id": "6b5f0b09",
   "metadata": {},
   "outputs": [
    {
     "name": "stdout",
     "output_type": "stream",
     "text": [
      "enter number10\n",
      "enter number100\n",
      "enter number10\n",
      "10\n",
      "20\n",
      "30\n",
      "40\n",
      "50\n",
      "60\n",
      "70\n",
      "80\n",
      "90\n",
      "100\n"
     ]
    }
   ],
   "source": [
    "start = int(input(\"enter number\"))\n",
    "end = int(input(\"enter number\"))\n",
    "diff = int(input(\"enter number\"))\n",
    "for i in range(start , end+1 , diff):\n",
    "    print(i)\n"
   ]
  },
  {
   "cell_type": "code",
   "execution_count": 2,
   "id": "4dfea96c",
   "metadata": {},
   "outputs": [
    {
     "name": "stdout",
     "output_type": "stream",
     "text": [
      "enter number100\n",
      "enter number200\n",
      "105\n",
      "120\n",
      "135\n",
      "150\n",
      "165\n",
      "180\n",
      "195\n"
     ]
    }
   ],
   "source": [
    "start = int(input(\"enter number\"))\n",
    "end = int(input(\"enter number\"))\n",
    "for i in range(start , end+1):\n",
    "    if i%5==0 and i%15==0:\n",
    "        print(i)\n",
    "    "
   ]
  },
  {
   "cell_type": "code",
   "execution_count": 27,
   "id": "cd3be601",
   "metadata": {},
   "outputs": [
    {
     "name": "stdout",
     "output_type": "stream",
     "text": [
      "<class 'list'>\n",
      "[]\n"
     ]
    }
   ],
   "source": [
    "x = []\n",
    "print(type(x))\n",
    "x = list()\n",
    "print(x)"
   ]
  },
  {
   "cell_type": "code",
   "execution_count": 26,
   "id": "1b996ea7",
   "metadata": {},
   "outputs": [
    {
     "name": "stdout",
     "output_type": "stream",
     "text": [
      "<class 'list'>\n",
      "[]\n"
     ]
    }
   ],
   "source": [
    "x = list()\n",
    "print(type(x))\n",
    "print(x)"
   ]
  },
  {
   "cell_type": "code",
   "execution_count": 31,
   "id": "2e679570",
   "metadata": {},
   "outputs": [
    {
     "name": "stdout",
     "output_type": "stream",
     "text": [
      "87\n"
     ]
    }
   ],
   "source": [
    "List = [20,30,24,87,89]\n",
    "print(List[3])"
   ]
  },
  {
   "cell_type": "code",
   "execution_count": 14,
   "id": "43a3ebf9",
   "metadata": {},
   "outputs": [
    {
     "name": "stdout",
     "output_type": "stream",
     "text": [
      "[20, 30, 24, 87, 89, 90]\n",
      "89\n",
      "[20, 30, 24, 87, 89]\n"
     ]
    }
   ],
   "source": [
    "List = [20,30,24,87,89]\n",
    "List.append(90)\n",
    "print(List)\n",
    "print(List[-2])\n",
    "print(List[0:5])"
   ]
  },
  {
   "cell_type": "code",
   "execution_count": 45,
   "id": "11a1e328",
   "metadata": {},
   "outputs": [
    {
     "name": "stdout",
     "output_type": "stream",
     "text": [
      "['red', 'blue', 'orange', 'yellow']\n",
      "['red', 'orange', 'black']\n",
      "['red', 'blue', 'orange', 'yellow', 'black']\n",
      "['red', 'blue', 'orange', 'yellow', 'black']\n",
      "['blue', 'orange', 'yellow', 'black']\n"
     ]
    }
   ],
   "source": [
    "data = [\"red\", \"blue\", \"orange\", \"yellow\", \"black\"]\n",
    "print(data[0:4])\n",
    "print(data[0:5:2])\n",
    "print(data[:5])\n",
    "print(data[:])\n",
    "print(data[1:])"
   ]
  },
  {
   "cell_type": "code",
   "execution_count": 8,
   "id": "1e53d54f",
   "metadata": {},
   "outputs": [
    {
     "name": "stdout",
     "output_type": "stream",
     "text": [
      "[2, 3, 4, 4, 5, 6, 7, 8]\n",
      "[2, 3, 4, 4, 5, 6, 7, 8, [9, 10]]\n",
      "[9, 10]\n",
      "10\n"
     ]
    }
   ],
   "source": [
    "x = [2,3,4,4,5,6,7]   #Append \n",
    "x.append(8)\n",
    "print(x)\n",
    "x.append([9,10])\n",
    "print(x)\n",
    "print(x[8])\n",
    "print(x[8][1])"
   ]
  },
  {
   "cell_type": "code",
   "execution_count": 17,
   "id": "90d23ecb",
   "metadata": {},
   "outputs": [
    {
     "name": "stdout",
     "output_type": "stream",
     "text": [
      "[1, 2, 3, 4, 4, 5, 6, 7]\n"
     ]
    }
   ],
   "source": [
    "x = [2,3,4,4,5,6,7]\n",
    "x.insert(0,1)\n",
    "print(x)"
   ]
  },
  {
   "cell_type": "code",
   "execution_count": 18,
   "id": "1e2b4dc8",
   "metadata": {},
   "outputs": [
    {
     "name": "stdout",
     "output_type": "stream",
     "text": [
      "['red', 'green', 'blue', 'orange', 'yellow', 'black']\n"
     ]
    }
   ],
   "source": [
    "data = [\"red\", \"blue\", \"orange\", \"yellow\", \"black\"]\n",
    "data.insert(1,\"green\")\n",
    "print(data)"
   ]
  },
  {
   "cell_type": "code",
   "execution_count": 21,
   "id": "5a29d708",
   "metadata": {},
   "outputs": [
    {
     "name": "stdout",
     "output_type": "stream",
     "text": [
      "['red', 'blue', 'orange', 'yellow', 'black', 2, 3, 4, 4, 5, 6, 7]\n"
     ]
    }
   ],
   "source": [
    "data = [\"red\", \"blue\", \"orange\", \"yellow\", \"black\"]\n",
    "x = [2,3,4,4,5,6,7]\n",
    "data.extend(x)\n",
    "print(data)"
   ]
  },
  {
   "cell_type": "code",
   "execution_count": 2,
   "id": "713cca9a",
   "metadata": {},
   "outputs": [
    {
     "name": "stdout",
     "output_type": "stream",
     "text": [
      "['red', 'pink', 'orange', 'yellow', 'black']\n"
     ]
    }
   ],
   "source": [
    "data = [\"red\", \"blue\", \"orange\", \"yellow\", \"black\"]\n",
    "data[1]=\"pink\"\n",
    "print(data)"
   ]
  },
  {
   "cell_type": "code",
   "execution_count": 3,
   "id": "8cedaf37",
   "metadata": {},
   "outputs": [
    {
     "name": "stdout",
     "output_type": "stream",
     "text": [
      "['blue', 'orange', 'yellow']\n"
     ]
    }
   ],
   "source": [
    "data = [\"red\", \"blue\", \"orange\", \"yellow\", \"black\"]\n",
    "print(data[1:4])"
   ]
  },
  {
   "cell_type": "code",
   "execution_count": 5,
   "id": "a9a3f37e",
   "metadata": {},
   "outputs": [
    {
     "name": "stdout",
     "output_type": "stream",
     "text": [
      "['red', 'voilet', 'lavender', 'grey', 'ash', 'black']\n"
     ]
    }
   ],
   "source": [
    "data[1:4] = [\"voilet\",\"lavender\",\"grey\",\"ash\"]\n",
    "print(data)"
   ]
  },
  {
   "cell_type": "code",
   "execution_count": 8,
   "id": "b7acdfdc",
   "metadata": {},
   "outputs": [
    {
     "name": "stdout",
     "output_type": "stream",
     "text": [
      "['red', 'orange', 'yellow', 'black']\n"
     ]
    }
   ],
   "source": [
    "data = [\"red\", \"blue\", \"orange\", \"yellow\", \"black\"]\n",
    "data.remove(\"blue\")\n",
    "print(data)"
   ]
  },
  {
   "cell_type": "code",
   "execution_count": 10,
   "id": "0cb592a7",
   "metadata": {},
   "outputs": [
    {
     "name": "stdout",
     "output_type": "stream",
     "text": [
      "[1, 22, 4, 5]\n"
     ]
    }
   ],
   "source": [
    "numbers = [1,2,2,22,2,2,4,5]\n",
    "for i in numbers:\n",
    "    numbers.remove(2)\n",
    "print(numbers)"
   ]
  },
  {
   "cell_type": "code",
   "execution_count": 11,
   "id": "17e3ca73",
   "metadata": {},
   "outputs": [
    {
     "name": "stdout",
     "output_type": "stream",
     "text": [
      "['red', 'blue', 'yellow', 'black']\n"
     ]
    }
   ],
   "source": [
    "data = [\"red\", \"blue\", \"orange\", \"yellow\", \"black\"]\n",
    "data.pop(2)\n",
    "print(data)"
   ]
  },
  {
   "cell_type": "code",
   "execution_count": 12,
   "id": "8d2c9746",
   "metadata": {},
   "outputs": [
    {
     "name": "stdout",
     "output_type": "stream",
     "text": [
      "['red', 'blue', 'black']\n"
     ]
    }
   ],
   "source": [
    "data.pop(-2)\n",
    "print(data)"
   ]
  },
  {
   "cell_type": "code",
   "execution_count": 16,
   "id": "a827f89f",
   "metadata": {},
   "outputs": [
    {
     "name": "stdout",
     "output_type": "stream",
     "text": [
      "[1, 2, 4, 5, 6, 7]\n"
     ]
    }
   ],
   "source": [
    "nums = [3,3,3,1,2,3,3,3,4,5,6,7]\n",
    "for i in nums:\n",
    "    nums.remove(3)\n",
    "print(nums)"
   ]
  },
  {
   "cell_type": "code",
   "execution_count": 17,
   "id": "5d211c77",
   "metadata": {},
   "outputs": [
    {
     "name": "stdout",
     "output_type": "stream",
     "text": [
      "[3, 3, 1, 2, 3, 3, 3, 4, 5, 6, 7]\n",
      "[3, 1, 2, 3, 3, 3, 4, 5, 6, 7]\n",
      "[1, 2, 3, 3, 3, 4, 5, 6, 7]\n",
      "[1, 2, 3, 3, 4, 5, 6, 7]\n",
      "[1, 2, 3, 4, 5, 6, 7]\n",
      "[1, 2, 4, 5, 6, 7]\n"
     ]
    }
   ],
   "source": [
    "nums = [3,3,3,1,2,3,3,3,4,5,6,7]\n",
    "for i in nums:\n",
    "    nums.remove(3)\n",
    "    print(nums)"
   ]
  },
  {
   "cell_type": "code",
   "execution_count": 21,
   "id": "4e4f387d",
   "metadata": {},
   "outputs": [
    {
     "name": "stdout",
     "output_type": "stream",
     "text": [
      "[1, 3, 45, 40, 24, 67, 10]\n"
     ]
    }
   ],
   "source": [
    "data = [1,3,4,5,66,44,45,40,24,67,10]\n",
    "del data[2:6]\n",
    "print(data)"
   ]
  },
  {
   "cell_type": "code",
   "execution_count": 22,
   "id": "13733d92",
   "metadata": {},
   "outputs": [
    {
     "name": "stdout",
     "output_type": "stream",
     "text": [
      "[]\n"
     ]
    }
   ],
   "source": [
    "data.clear()\n",
    "print(data)"
   ]
  },
  {
   "cell_type": "code",
   "execution_count": 23,
   "id": "a22e0ae7",
   "metadata": {},
   "outputs": [
    {
     "name": "stdout",
     "output_type": "stream",
     "text": [
      "[89, 78]\n"
     ]
    }
   ],
   "source": [
    "data.append(89)\n",
    "data.append(78)\n",
    "print(data)"
   ]
  },
  {
   "cell_type": "code",
   "execution_count": 26,
   "id": "9e81f4d7",
   "metadata": {},
   "outputs": [
    {
     "ename": "NameError",
     "evalue": "name 'data' is not defined",
     "output_type": "error",
     "traceback": [
      "\u001b[1;31m---------------------------------------------------------------------------\u001b[0m",
      "\u001b[1;31mNameError\u001b[0m                                 Traceback (most recent call last)",
      "\u001b[1;32m~\\AppData\\Local\\Temp\\ipykernel_15944\\2160430367.py\u001b[0m in \u001b[0;36m<module>\u001b[1;34m\u001b[0m\n\u001b[1;32m----> 1\u001b[1;33m \u001b[1;32mdel\u001b[0m \u001b[0mdata\u001b[0m\u001b[1;33m\u001b[0m\u001b[1;33m\u001b[0m\u001b[0m\n\u001b[0m\u001b[0;32m      2\u001b[0m \u001b[0mprint\u001b[0m\u001b[1;33m(\u001b[0m\u001b[0mdata\u001b[0m\u001b[1;33m)\u001b[0m\u001b[1;33m\u001b[0m\u001b[1;33m\u001b[0m\u001b[0m\n",
      "\u001b[1;31mNameError\u001b[0m: name 'data' is not defined"
     ]
    }
   ],
   "source": [
    "del data\n",
    "print(data)"
   ]
  },
  {
   "cell_type": "code",
   "execution_count": 4,
   "id": "c5fd1b1c",
   "metadata": {},
   "outputs": [
    {
     "name": "stdout",
     "output_type": "stream",
     "text": [
      "[12, 34, 56, 78]\n"
     ]
    }
   ],
   "source": [
    "var1 = [12,34,56,78]\n",
    "print(var1)"
   ]
  },
  {
   "cell_type": "code",
   "execution_count": 5,
   "id": "fd0796a2",
   "metadata": {},
   "outputs": [
    {
     "name": "stdout",
     "output_type": "stream",
     "text": [
      "[12, 34, 56, 78, 'whynot175']\n"
     ]
    }
   ],
   "source": [
    "var2 = var1\n",
    "var1.append(\"whynot175\")\n",
    "print(var2)"
   ]
  },
  {
   "cell_type": "code",
   "execution_count": 8,
   "id": "64c65db9",
   "metadata": {},
   "outputs": [
    {
     "ename": "NameError",
     "evalue": "name 'var1' is not defined",
     "output_type": "error",
     "traceback": [
      "\u001b[1;31m---------------------------------------------------------------------------\u001b[0m",
      "\u001b[1;31mNameError\u001b[0m                                 Traceback (most recent call last)",
      "\u001b[1;32m~\\AppData\\Local\\Temp\\ipykernel_19168\\3887101597.py\u001b[0m in \u001b[0;36m<module>\u001b[1;34m\u001b[0m\n\u001b[1;32m----> 1\u001b[1;33m \u001b[1;32mdel\u001b[0m \u001b[0mvar1\u001b[0m\u001b[1;33m\u001b[0m\u001b[1;33m\u001b[0m\u001b[0m\n\u001b[0m\u001b[0;32m      2\u001b[0m \u001b[0mprint\u001b[0m\u001b[1;33m(\u001b[0m\u001b[0mvar2\u001b[0m\u001b[1;33m)\u001b[0m\u001b[1;33m\u001b[0m\u001b[1;33m\u001b[0m\u001b[0m\n\u001b[0;32m      3\u001b[0m \u001b[0mprint\u001b[0m\u001b[1;33m(\u001b[0m\u001b[0mvar1\u001b[0m\u001b[1;33m)\u001b[0m\u001b[1;33m\u001b[0m\u001b[1;33m\u001b[0m\u001b[0m\n",
      "\u001b[1;31mNameError\u001b[0m: name 'var1' is not defined"
     ]
    }
   ],
   "source": [
    "del var1\n",
    "print(var2)\n",
    "print(var1)"
   ]
  },
  {
   "cell_type": "code",
   "execution_count": 9,
   "id": "2c42b0b3",
   "metadata": {},
   "outputs": [
    {
     "name": "stdout",
     "output_type": "stream",
     "text": [
      "[12, 34, 56, 78, 'whynot175']\n"
     ]
    }
   ],
   "source": [
    "print(var2)"
   ]
  },
  {
   "cell_type": "code",
   "execution_count": 12,
   "id": "2d1e212c",
   "metadata": {},
   "outputs": [
    {
     "name": "stdout",
     "output_type": "stream",
     "text": [
      "['sds', 'wer', 'wer', 'werty']\n",
      "['sds', 'wer', 'wer', 'werty']\n",
      "['wer', 'wer', 'werty']\n"
     ]
    }
   ],
   "source": [
    "data1 = [\"sds\",\"wer\",\"wer\",\"werty\"]\n",
    "data2 = data1.copy()\n",
    "print(data2)\n",
    "data1.pop(0)\n",
    "print(data2)\n",
    "print(data1)"
   ]
  },
  {
   "cell_type": "code",
   "execution_count": 11,
   "id": "417aa3a7",
   "metadata": {},
   "outputs": [
    {
     "name": "stdout",
     "output_type": "stream",
     "text": [
      "1\n",
      "7\n",
      "43\n",
      "[1, 2, 3, 3, 3, 3, 3, 3, 4, 5, 6, 7]\n",
      "[7, 6, 5, 4, 3, 3, 3, 3, 3, 3, 2, 1]\n",
      "['werty', 'wer', 'wer', 'sds']\n"
     ]
    }
   ],
   "source": [
    "nums = [3,3,3,1,2,3,3,3,4,5,6,7]\n",
    "print(min(nums))\n",
    "print(max(nums))\n",
    "print(sum(nums))\n",
    "nums.sort()\n",
    "print(nums)\n",
    "nums.sort(reverse=True)\n",
    "print(nums)\n",
    "data = [\"sds\",\"wer\",\"wer\",\"werty\"]\n",
    "data.reverse()\n",
    "print(data)"
   ]
  },
  {
   "cell_type": "code",
   "execution_count": 1,
   "id": "d3073928",
   "metadata": {},
   "outputs": [
    {
     "name": "stdout",
     "output_type": "stream",
     "text": [
      "(1, 2, 3, 4)\n",
      "<class 'tuple'>\n"
     ]
    }
   ],
   "source": [
    "tuple1 = (1,2,3,4)\n",
    "print(tuple1)\n",
    "print(type(tuple1))"
   ]
  },
  {
   "cell_type": "code",
   "execution_count": 8,
   "id": "0ce96bc9",
   "metadata": {},
   "outputs": [
    {
     "name": "stdout",
     "output_type": "stream",
     "text": [
      "()\n",
      "<class 'tuple'>\n"
     ]
    }
   ],
   "source": [
    "tup = tuple()\n",
    "print(tup)\n",
    "print(type(tup))"
   ]
  },
  {
   "cell_type": "code",
   "execution_count": 10,
   "id": "c77a78cf",
   "metadata": {},
   "outputs": [
    {
     "name": "stdout",
     "output_type": "stream",
     "text": [
      "22\n",
      "<class 'int'>\n"
     ]
    }
   ],
   "source": [
    "tup1 = (22)\n",
    "print(tup1)\n",
    "print(type(tup1))"
   ]
  },
  {
   "cell_type": "code",
   "execution_count": 11,
   "id": "d74cb85b",
   "metadata": {},
   "outputs": [
    {
     "name": "stdout",
     "output_type": "stream",
     "text": [
      "(22,)\n",
      "<class 'tuple'>\n"
     ]
    }
   ],
   "source": [
    "tup1 = (22,)\n",
    "print(tup1)\n",
    "print(type(tup1))"
   ]
  },
  {
   "cell_type": "code",
   "execution_count": 13,
   "id": "cb534925",
   "metadata": {},
   "outputs": [
    {
     "name": "stdout",
     "output_type": "stream",
     "text": [
      "(34, 56, 78, 'abcd')\n",
      "<class 'tuple'>\n"
     ]
    }
   ],
   "source": [
    "tup2 = 34,56,78,\"abcd\"\n",
    "print(tup2)\n",
    "print(type(tup2))"
   ]
  },
  {
   "cell_type": "code",
   "execution_count": 2,
   "id": "de4c13a2",
   "metadata": {},
   "outputs": [
    {
     "name": "stdout",
     "output_type": "stream",
     "text": [
      "21\n",
      "89\n",
      "(44, 56, 76)\n",
      "(21, 44, 56, 76, 75, 89, 89)\n"
     ]
    }
   ],
   "source": [
    "data = (21,44,56,76,75,89,89)\n",
    "print(data[0])\n",
    "print(data[-2])\n",
    "print(data[1:4])\n",
    "print(data)"
   ]
  },
  {
   "cell_type": "code",
   "execution_count": 12,
   "id": "3347539c",
   "metadata": {},
   "outputs": [
    {
     "name": "stdout",
     "output_type": "stream",
     "text": [
      "[23, 41, 67, 84, 10]\n",
      "<class 'list'>\n",
      "[23, 410, 41, 67, 84, 10]\n",
      "(23, 410, 41, 67, 84, 10)\n"
     ]
    }
   ],
   "source": [
    "data1 = (23,41,67,84,10)\n",
    "temp = list(data1)\n",
    "print(temp)\n",
    "print(type(temp))\n",
    "temp.insert(1,410)\n",
    "print(temp)\n",
    "data1 = tuple(temp)\n",
    "print(data1)"
   ]
  },
  {
   "cell_type": "code",
   "execution_count": 17,
   "id": "1fccaf01",
   "metadata": {},
   "outputs": [
    {
     "name": "stdout",
     "output_type": "stream",
     "text": [
      "[100, 200, 400, 500, 600]\n",
      "(100, 200, 300, 400, 500, 600)\n",
      "<class 'tuple'>\n"
     ]
    }
   ],
   "source": [
    "values = (100,200,400,500,600)\n",
    "temp1 = list(values)\n",
    "print(temp1)\n",
    "temp1.insert(2,300)\n",
    "values = tuple(temp1)\n",
    "print(values)\n",
    "print(type(values))"
   ]
  },
  {
   "cell_type": "code",
   "execution_count": 5,
   "id": "0dceef49",
   "metadata": {},
   "outputs": [
    {
     "name": "stdout",
     "output_type": "stream",
     "text": [
      "(1, 'asdf', 90.99)\n",
      "1\n",
      "asdf\n",
      "90.99\n"
     ]
    }
   ],
   "source": [
    "#packaging and unpackaging\n",
    "data = 1,\"asdf\",90.99\n",
    "print(data)\n",
    "s_no,name,marks=data\n",
    "print(s_no)\n",
    "print(name)\n",
    "print(marks)"
   ]
  },
  {
   "cell_type": "code",
   "execution_count": 6,
   "id": "3b817a55",
   "metadata": {},
   "outputs": [
    {
     "name": "stdout",
     "output_type": "stream",
     "text": [
      "99.99\n"
     ]
    }
   ],
   "source": [
    "marks+=9\n",
    "print(marks)"
   ]
  },
  {
   "cell_type": "code",
   "execution_count": 9,
   "id": "00c1a934",
   "metadata": {},
   "outputs": [
    {
     "ename": "ValueError",
     "evalue": "too many values to unpack (expected 3)",
     "output_type": "error",
     "traceback": [
      "\u001b[1;31m---------------------------------------------------------------------------\u001b[0m",
      "\u001b[1;31mValueError\u001b[0m                                Traceback (most recent call last)",
      "\u001b[1;32m~\\AppData\\Local\\Temp\\ipykernel_17268\\4266601450.py\u001b[0m in \u001b[0;36m<module>\u001b[1;34m\u001b[0m\n\u001b[0;32m      1\u001b[0m \u001b[0mdata\u001b[0m \u001b[1;33m=\u001b[0m \u001b[1;36m1\u001b[0m\u001b[1;33m,\u001b[0m\u001b[1;34m\"asdf\"\u001b[0m\u001b[1;33m,\u001b[0m\u001b[1;36m90.99\u001b[0m\u001b[1;33m,\u001b[0m\u001b[1;34m\"asdfghm\"\u001b[0m\u001b[1;33m,\u001b[0m\u001b[1;36m800\u001b[0m\u001b[1;33m,\u001b[0m\u001b[1;34m\"xcvbn\"\u001b[0m\u001b[1;33m\u001b[0m\u001b[1;33m\u001b[0m\u001b[0m\n\u001b[1;32m----> 2\u001b[1;33m \u001b[0ms_no\u001b[0m\u001b[1;33m,\u001b[0m\u001b[0mname\u001b[0m\u001b[1;33m,\u001b[0m\u001b[0mmarks\u001b[0m\u001b[1;33m=\u001b[0m\u001b[0mdata\u001b[0m\u001b[1;33m\u001b[0m\u001b[1;33m\u001b[0m\u001b[0m\n\u001b[0m\u001b[0;32m      3\u001b[0m \u001b[0mprint\u001b[0m\u001b[1;33m(\u001b[0m\u001b[0ms_no\u001b[0m\u001b[1;33m)\u001b[0m\u001b[1;33m\u001b[0m\u001b[1;33m\u001b[0m\u001b[0m\n\u001b[0;32m      4\u001b[0m \u001b[0mprint\u001b[0m\u001b[1;33m(\u001b[0m\u001b[0mname\u001b[0m\u001b[1;33m)\u001b[0m\u001b[1;33m\u001b[0m\u001b[1;33m\u001b[0m\u001b[0m\n\u001b[0;32m      5\u001b[0m \u001b[0mprint\u001b[0m\u001b[1;33m(\u001b[0m\u001b[0mmarks\u001b[0m\u001b[1;33m)\u001b[0m\u001b[1;33m\u001b[0m\u001b[1;33m\u001b[0m\u001b[0m\n",
      "\u001b[1;31mValueError\u001b[0m: too many values to unpack (expected 3)"
     ]
    }
   ],
   "source": [
    "data = 1,\"asdf\",90.99,\"asdfghm\",800,\"xcvbn\"\n",
    "s_no,name,marks=data\n",
    "print(s_no)\n",
    "print(name)\n",
    "print(marks)"
   ]
  },
  {
   "cell_type": "code",
   "execution_count": 10,
   "id": "d193600d",
   "metadata": {},
   "outputs": [
    {
     "name": "stdout",
     "output_type": "stream",
     "text": [
      "1\n",
      "asdf\n",
      "90.99\n",
      "['asdfghm', 800, 'xcvbn']\n"
     ]
    }
   ],
   "source": [
    "data = 1,\"asdf\",90.99,\"asdfghm\",800,\"xcvbn\"\n",
    "s_no,name,marks,*remaining=data\n",
    "print(s_no)\n",
    "print(name)\n",
    "print(marks)\n",
    "print(remaining)"
   ]
  },
  {
   "cell_type": "code",
   "execution_count": 11,
   "id": "11a9b095",
   "metadata": {},
   "outputs": [
    {
     "name": "stdout",
     "output_type": "stream",
     "text": [
      "100\n",
      "600\n"
     ]
    }
   ],
   "source": [
    "values = (100,200,400,500,600)\n",
    "print(min(values))\n",
    "print(max(values))"
   ]
  },
  {
   "cell_type": "code",
   "execution_count": 12,
   "id": "cab7466c",
   "metadata": {},
   "outputs": [
    {
     "name": "stdout",
     "output_type": "stream",
     "text": [
      "{}\n",
      "<class 'dict'>\n"
     ]
    }
   ],
   "source": [
    "set1 = {}\n",
    "print(set1)\n",
    "print(type(set1))"
   ]
  },
  {
   "cell_type": "code",
   "execution_count": 14,
   "id": "916f04e7",
   "metadata": {},
   "outputs": [
    {
     "name": "stdout",
     "output_type": "stream",
     "text": [
      "set()\n",
      "<class 'set'>\n"
     ]
    }
   ],
   "source": [
    "set1 = set()\n",
    "print(set1)\n",
    "print(type(set1))"
   ]
  },
  {
   "cell_type": "code",
   "execution_count": 15,
   "id": "f3ea60a9",
   "metadata": {},
   "outputs": [
    {
     "name": "stdout",
     "output_type": "stream",
     "text": [
      "{65, 23, 7, 56, 89, 'wert', 990}\n"
     ]
    }
   ],
   "source": [
    "set3 = {23,56,7,89,65,\"wert\",990}\n",
    "print(set3)"
   ]
  },
  {
   "cell_type": "code",
   "execution_count": 18,
   "id": "b18084b7",
   "metadata": {},
   "outputs": [
    {
     "name": "stdout",
     "output_type": "stream",
     "text": [
      "{121, 34, 67, 99, 23, 89, 45}\n",
      "{121, 34, 67, 99, 23, 89, 45}\n"
     ]
    }
   ],
   "source": [
    "set4 = {23,23,23,45,67,45,89,67,99,121,34,45}\n",
    "print(set4)"
   ]
  },
  {
   "cell_type": "code",
   "execution_count": 20,
   "id": "ba0fdfd8",
   "metadata": {},
   "outputs": [
    {
     "name": "stdout",
     "output_type": "stream",
     "text": [
      "{121, 34, 67, 99, 50, 23, 89, 45}\n",
      "{121, 34, 67, 99, 50, 23, 89, 45}\n"
     ]
    }
   ],
   "source": [
    "set4.add(50)\n",
    "print(set4)\n",
    "set4.add(67)\n",
    "print(set4)\n"
   ]
  },
  {
   "cell_type": "code",
   "execution_count": 6,
   "id": "d52d9ca1",
   "metadata": {},
   "outputs": [
    {
     "name": "stdout",
     "output_type": "stream",
     "text": [
      "{67, 23, 89, 34, 99, 100, 1000, 45, 50, 121}\n"
     ]
    }
   ],
   "source": [
    "set4 = {23,23,23,45,67,45,89,67,99,121,34,45}\n",
    "set4.update([50,100,1000])\n",
    "print(set4)"
   ]
  },
  {
   "cell_type": "code",
   "execution_count": 7,
   "id": "58d2405d",
   "metadata": {},
   "outputs": [
    {
     "ename": "KeyError",
     "evalue": "90000",
     "output_type": "error",
     "traceback": [
      "\u001b[1;31m---------------------------------------------------------------------------\u001b[0m",
      "\u001b[1;31mKeyError\u001b[0m                                  Traceback (most recent call last)",
      "\u001b[1;32m~\\AppData\\Local\\Temp\\ipykernel_5244\\12600181.py\u001b[0m in \u001b[0;36m<module>\u001b[1;34m\u001b[0m\n\u001b[1;32m----> 1\u001b[1;33m \u001b[0mset4\u001b[0m\u001b[1;33m.\u001b[0m\u001b[0mremove\u001b[0m\u001b[1;33m(\u001b[0m\u001b[1;36m90000\u001b[0m\u001b[1;33m)\u001b[0m\u001b[1;33m\u001b[0m\u001b[1;33m\u001b[0m\u001b[0m\n\u001b[0m\u001b[0;32m      2\u001b[0m \u001b[0mprint\u001b[0m\u001b[1;33m(\u001b[0m\u001b[0mset4\u001b[0m\u001b[1;33m)\u001b[0m\u001b[1;33m\u001b[0m\u001b[1;33m\u001b[0m\u001b[0m\n",
      "\u001b[1;31mKeyError\u001b[0m: 90000"
     ]
    }
   ],
   "source": [
    "set4.remove(90000)\n",
    "print(set4)"
   ]
  },
  {
   "cell_type": "code",
   "execution_count": 3,
   "id": "9f654500",
   "metadata": {},
   "outputs": [
    {
     "name": "stdout",
     "output_type": "stream",
     "text": [
      "{121, 34, 67, 99, 23, 89, 45}\n"
     ]
    }
   ],
   "source": [
    "set4 = {23,23,23,45,67,45,89,67,99,121,34,45}\n",
    "set4.discard(90000)\n",
    "print(set4)"
   ]
  },
  {
   "cell_type": "code",
   "execution_count": 4,
   "id": "f13de009",
   "metadata": {},
   "outputs": [
    {
     "name": "stdout",
     "output_type": "stream",
     "text": [
      "{121, 34, 23, 89, 45}\n"
     ]
    }
   ],
   "source": [
    "set4 = {23,23,23,45,67,45,89,67,99,121,34,45}\n",
    "set4.remove(67)\n",
    "set4.remove(99)\n",
    "print(set4)"
   ]
  },
  {
   "cell_type": "code",
   "execution_count": 1,
   "id": "163eb758",
   "metadata": {},
   "outputs": [
    {
     "name": "stdout",
     "output_type": "stream",
     "text": [
      "set()\n"
     ]
    }
   ],
   "source": [
    "set5 = {23,23,23,45,67,45,89,67,99,121,34,45}\n",
    "set5.clear()\n",
    "print(set5)"
   ]
  },
  {
   "cell_type": "code",
   "execution_count": 4,
   "id": "8639172d",
   "metadata": {},
   "outputs": [
    {
     "name": "stdout",
     "output_type": "stream",
     "text": [
      "{8}\n",
      "{8, 80}\n"
     ]
    }
   ],
   "source": [
    "set5.add(8)\n",
    "print(set5)\n",
    "set5.add(80)\n",
    "print(set5)"
   ]
  },
  {
   "cell_type": "code",
   "execution_count": 6,
   "id": "4eea5993",
   "metadata": {},
   "outputs": [
    {
     "ename": "NameError",
     "evalue": "name 'set5' is not defined",
     "output_type": "error",
     "traceback": [
      "\u001b[1;31m---------------------------------------------------------------------------\u001b[0m",
      "\u001b[1;31mNameError\u001b[0m                                 Traceback (most recent call last)",
      "\u001b[1;32m~\\AppData\\Local\\Temp\\ipykernel_19672\\3444803622.py\u001b[0m in \u001b[0;36m<module>\u001b[1;34m\u001b[0m\n\u001b[1;32m----> 1\u001b[1;33m \u001b[1;32mdel\u001b[0m \u001b[0mset5\u001b[0m\u001b[1;33m\u001b[0m\u001b[1;33m\u001b[0m\u001b[0m\n\u001b[0m\u001b[0;32m      2\u001b[0m \u001b[0mprint\u001b[0m\u001b[1;33m(\u001b[0m\u001b[0mset5\u001b[0m\u001b[1;33m)\u001b[0m\u001b[1;33m\u001b[0m\u001b[1;33m\u001b[0m\u001b[0m\n",
      "\u001b[1;31mNameError\u001b[0m: name 'set5' is not defined"
     ]
    }
   ],
   "source": [
    "del set5\n",
    "print(set5)"
   ]
  },
  {
   "cell_type": "code",
   "execution_count": 7,
   "id": "48237eca",
   "metadata": {},
   "outputs": [
    {
     "name": "stdout",
     "output_type": "stream",
     "text": [
      "{33, 22, 87, 57, 42}\n",
      "<class 'set'>\n"
     ]
    }
   ],
   "source": [
    "data = {22,33,42,57,87}\n",
    "print(data)\n",
    "print(type(data))"
   ]
  },
  {
   "cell_type": "code",
   "execution_count": 8,
   "id": "3b305246",
   "metadata": {},
   "outputs": [
    {
     "name": "stdout",
     "output_type": "stream",
     "text": [
      "{33, 98, 22, 87, 57, 42}\n"
     ]
    }
   ],
   "source": [
    "data.add(98)\n",
    "print(data)"
   ]
  },
  {
   "cell_type": "code",
   "execution_count": 10,
   "id": "32cf2a50",
   "metadata": {},
   "outputs": [
    {
     "name": "stdout",
     "output_type": "stream",
     "text": [
      "frozenset({65, 44, 21, 56, 89, 90, 27})\n",
      "<class 'frozenset'>\n"
     ]
    }
   ],
   "source": [
    "data1 = (27,89,65,90,21,44,56)     #Frozen set = set which is immutable\n",
    "data2 = frozenset(data1)\n",
    "print(data2)\n",
    "print(type(data2))"
   ]
  },
  {
   "cell_type": "code",
   "execution_count": 11,
   "id": "ba1d3d1a",
   "metadata": {},
   "outputs": [
    {
     "ename": "AttributeError",
     "evalue": "'frozenset' object has no attribute 'add'",
     "output_type": "error",
     "traceback": [
      "\u001b[1;31m---------------------------------------------------------------------------\u001b[0m",
      "\u001b[1;31mAttributeError\u001b[0m                            Traceback (most recent call last)",
      "\u001b[1;32m~\\AppData\\Local\\Temp\\ipykernel_19672\\3086241829.py\u001b[0m in \u001b[0;36m<module>\u001b[1;34m\u001b[0m\n\u001b[1;32m----> 1\u001b[1;33m \u001b[0mdata2\u001b[0m\u001b[1;33m.\u001b[0m\u001b[0madd\u001b[0m\u001b[1;33m(\u001b[0m\u001b[1;36m478\u001b[0m\u001b[1;33m)\u001b[0m\u001b[1;33m\u001b[0m\u001b[1;33m\u001b[0m\u001b[0m\n\u001b[0m\u001b[0;32m      2\u001b[0m \u001b[0mprint\u001b[0m\u001b[1;33m(\u001b[0m\u001b[0mdata2\u001b[0m\u001b[1;33m)\u001b[0m\u001b[1;33m\u001b[0m\u001b[1;33m\u001b[0m\u001b[0m\n",
      "\u001b[1;31mAttributeError\u001b[0m: 'frozenset' object has no attribute 'add'"
     ]
    }
   ],
   "source": [
    "data2.add(478)\n",
    "print(data2)"
   ]
  },
  {
   "cell_type": "code",
   "execution_count": 19,
   "id": "5fa18d4a",
   "metadata": {},
   "outputs": [
    {
     "name": "stdout",
     "output_type": "stream",
     "text": [
      "{'sn0': 1, 'name': 'asdf', 'age': 21}\n",
      "<class 'dict'>\n"
     ]
    }
   ],
   "source": [
    "dictionary = {\n",
    "    \"sn0\" : 1,\n",
    "    \"name\" : \"asdf\",\n",
    "    \"age\" : 21\n",
    "}\n",
    "print(dictionary)\n",
    "print(type(dictionary))"
   ]
  },
  {
   "cell_type": "code",
   "execution_count": 2,
   "id": "e0c36414",
   "metadata": {},
   "outputs": [
    {
     "name": "stdout",
     "output_type": "stream",
     "text": [
      "{'s1': 'Jaiswal', 's2': 'KL', 's3': 'Nair', 's4': 'Gill'}\n"
     ]
    }
   ],
   "source": [
    "students = {                #index value is unique\n",
    "    \"s1\"  : \"Jaiswal\",\n",
    "    \"s2\" : \"KL\",\n",
    "    \"s3\" : \"Sudarshan\",\n",
    "    \"s4\" : \"Gill\",\n",
    "    \"s3\" : \"Nair\"\n",
    "}\n",
    "print(students)"
   ]
  },
  {
   "cell_type": "code",
   "execution_count": 18,
   "id": "72b86cae",
   "metadata": {},
   "outputs": [
    {
     "name": "stdout",
     "output_type": "stream",
     "text": [
      "{'s1': 'Gill', 's2': 'Gill', 's3': 'Gill', 's4': 'Gill'}\n",
      "Gill\n"
     ]
    }
   ],
   "source": [
    "players = {             #values can be duplicate\n",
    "    \"s1\" : \"Gill\",\n",
    "    \"s2\" : \"Gill\",\n",
    "    \"s3\" : \"Gill\",\n",
    "    \"s4\" : \"Gill\"\n",
    "}\n",
    "print(players)\n",
    "print(players.get(\"s2\"))"
   ]
  },
  {
   "cell_type": "code",
   "execution_count": 1,
   "id": "d8882271",
   "metadata": {},
   "outputs": [
    {
     "name": "stdout",
     "output_type": "stream",
     "text": [
      "{'s1': 'Jaiswal', 's2': 'KL', 's3': 'Sudarshan', 's4': 'Gill', 's5': 'Nair'}\n",
      "Jaiswal\n",
      "Nair\n"
     ]
    }
   ],
   "source": [
    "students1 = {                #index value is unique\n",
    "    \"s1\"  : \"Jaiswal\",\n",
    "    \"s2\" : \"KL\",\n",
    "    \"s3\" : \"Sudarshan\",\n",
    "    \"s4\" : \"Gill\",\n",
    "    \"s5\" : \"Nair\"\n",
    "}\n",
    "print(students1)\n",
    "print(students1[\"s1\"])\n",
    "print(students1.get(\"s5\"))"
   ]
  },
  {
   "cell_type": "code",
   "execution_count": 2,
   "id": "d24f0622",
   "metadata": {},
   "outputs": [
    {
     "name": "stdout",
     "output_type": "stream",
     "text": [
      "{'c1': 'red', 'c2': 'yellow', 'c3': 'orange', 'c4': 'green', 'c5': 'white'}\n"
     ]
    }
   ],
   "source": [
    "color = {\n",
    "    \"c1\" : \"red\",\n",
    "    \"c2\" : \"yellow\",\n",
    "    \"c3\" : \"orange\",\n",
    "    \"c4\" : \"green\",\n",
    "    \"c5\" : \"white\"\n",
    "}\n",
    "print(color)"
   ]
  },
  {
   "cell_type": "code",
   "execution_count": 4,
   "id": "5b7ee0ab",
   "metadata": {},
   "outputs": [
    {
     "name": "stdout",
     "output_type": "stream",
     "text": [
      "{'c1': 'gold', 'c2': 'yellow', 'c3': 'orange', 'c4': 'green', 'c5': 'white'}\n"
     ]
    }
   ],
   "source": [
    "color[\"c1\"]=\"gold\"\n",
    "print(color)"
   ]
  },
  {
   "cell_type": "code",
   "execution_count": 5,
   "id": "afdf9532",
   "metadata": {},
   "outputs": [
    {
     "name": "stdout",
     "output_type": "stream",
     "text": [
      "{'c1': 'gold', 'c2': 'yellow', 'c3': 'orange', 'c4': 'green', 'c5': 'white', 'c6': 'blue'}\n"
     ]
    }
   ],
   "source": [
    "color[\"c6\"]=\"blue\"\n",
    "print(color)"
   ]
  },
  {
   "cell_type": "code",
   "execution_count": 6,
   "id": "e5891ea1",
   "metadata": {},
   "outputs": [
    {
     "name": "stdout",
     "output_type": "stream",
     "text": [
      "{'c1': 'gold', 'c2': 'voilet', 'c3': 'orange', 'c4': 'green', 'c5': 'white', 'c6': 'blue', 'c7': 'purple'}\n"
     ]
    }
   ],
   "source": [
    "color.update({\"c2\":\"voilet\" , \"c7\":\"purple\"})\n",
    "print(color)"
   ]
  },
  {
   "cell_type": "code",
   "execution_count": 7,
   "id": "a81ddd61",
   "metadata": {},
   "outputs": [
    {
     "name": "stdout",
     "output_type": "stream",
     "text": [
      "{'c1': 'gold', 'c2': 'voilet', 'c3': 'orange', 'c4': 'green', 'c5': 'white', 'c6': 'blue', 'c7': 'purple'}\n"
     ]
    }
   ],
   "source": [
    "color.setdefault(\"c1\",\"silver\")\n",
    "print(color)"
   ]
  },
  {
   "cell_type": "code",
   "execution_count": 8,
   "id": "129644ea",
   "metadata": {},
   "outputs": [
    {
     "name": "stdout",
     "output_type": "stream",
     "text": [
      "{'c1': 'gold', 'c2': 'voilet', 'c3': 'orange', 'c4': 'green', 'c5': 'white', 'c6': 'blue', 'c7': 'purple', 'c8': 'silver'}\n"
     ]
    }
   ],
   "source": [
    "color.setdefault(\"c8\",\"silver\")\n",
    "print(color)"
   ]
  },
  {
   "cell_type": "code",
   "execution_count": 9,
   "id": "57a07b02",
   "metadata": {},
   "outputs": [
    {
     "name": "stdout",
     "output_type": "stream",
     "text": [
      "{'c2': 'voilet', 'c3': 'orange', 'c4': 'green', 'c5': 'white', 'c6': 'blue', 'c7': 'purple', 'c8': 'silver'}\n"
     ]
    }
   ],
   "source": [
    "color.pop(\"c1\")\n",
    "print(color)"
   ]
  },
  {
   "cell_type": "code",
   "execution_count": 10,
   "id": "adf83ebb",
   "metadata": {},
   "outputs": [
    {
     "ename": "TypeError",
     "evalue": "dict.popitem() takes no arguments (1 given)",
     "output_type": "error",
     "traceback": [
      "\u001b[1;31m---------------------------------------------------------------------------\u001b[0m",
      "\u001b[1;31mTypeError\u001b[0m                                 Traceback (most recent call last)",
      "\u001b[1;32m~\\AppData\\Local\\Temp\\ipykernel_10576\\1203145755.py\u001b[0m in \u001b[0;36m<module>\u001b[1;34m\u001b[0m\n\u001b[1;32m----> 1\u001b[1;33m \u001b[0mcolor\u001b[0m\u001b[1;33m.\u001b[0m\u001b[0mpopitem\u001b[0m\u001b[1;33m(\u001b[0m\u001b[1;34m\"c1\"\u001b[0m\u001b[1;33m)\u001b[0m\u001b[1;33m\u001b[0m\u001b[1;33m\u001b[0m\u001b[0m\n\u001b[0m\u001b[0;32m      2\u001b[0m \u001b[0mprint\u001b[0m\u001b[1;33m(\u001b[0m\u001b[0mcolor\u001b[0m\u001b[1;33m)\u001b[0m\u001b[1;33m\u001b[0m\u001b[1;33m\u001b[0m\u001b[0m\n",
      "\u001b[1;31mTypeError\u001b[0m: dict.popitem() takes no arguments (1 given)"
     ]
    }
   ],
   "source": [
    "color.popitem(\"c1\")\n",
    "print(color)"
   ]
  },
  {
   "cell_type": "code",
   "execution_count": 12,
   "id": "1c1fda1c",
   "metadata": {},
   "outputs": [
    {
     "name": "stdout",
     "output_type": "stream",
     "text": [
      "{'c2': 'voilet', 'c3': 'orange', 'c4': 'green', 'c5': 'white', 'c6': 'blue', 'c7': 'purple'}\n"
     ]
    }
   ],
   "source": [
    "color.popitem()    #removes last element bydefault\n",
    "print(color)\n"
   ]
  },
  {
   "cell_type": "code",
   "execution_count": 15,
   "id": "a0de20c2",
   "metadata": {},
   "outputs": [
    {
     "name": "stdout",
     "output_type": "stream",
     "text": [
      "{'s1': 'Jaiswal', 's2': 'KL', 's3': 'Nair', 's4': 'Gill'}\n"
     ]
    }
   ],
   "source": [
    "studentss = {                #index value is unique\n",
    "    \"s1\"  : \"Jaiswal\",\n",
    "    \"s2\" : \"KL\",\n",
    "    \"s3\" : \"Sudarshan\",\n",
    "    \"s4\" : \"Gill\",\n",
    "    \"s3\" : \"Nair\"\n",
    "}\n",
    "print(studentss)"
   ]
  },
  {
   "cell_type": "code",
   "execution_count": 16,
   "id": "ee0c7482",
   "metadata": {},
   "outputs": [
    {
     "name": "stdout",
     "output_type": "stream",
     "text": [
      "{}\n"
     ]
    }
   ],
   "source": [
    "studentss.clear()\n",
    "print(studentss)"
   ]
  },
  {
   "cell_type": "code",
   "execution_count": 21,
   "id": "dfb9cfa3",
   "metadata": {},
   "outputs": [
    {
     "name": "stdout",
     "output_type": "stream",
     "text": [
      "{'s1': 'Rohith', 's2': 'Virat', 's3': 'Rahane'}\n",
      "=======================================\n",
      "{'s1': 'Pujara', 's2': 'Virat', 's3': 'Rahane'}\n"
     ]
    }
   ],
   "source": [
    "studentss[\"s1\"]=\"Rohith\"\n",
    "print(studentss)\n",
    "print(\"=======================================\")\n",
    "studentss.update({\"s2\":\"Virat\",\"s1\":\"Pujara\"})\n",
    "studentss.setdefault(\"s3\",\"Rahane\")\n",
    "print(studentss)"
   ]
  },
  {
   "cell_type": "code",
   "execution_count": 22,
   "id": "2321843a",
   "metadata": {},
   "outputs": [
    {
     "name": "stdout",
     "output_type": "stream",
     "text": [
      "{'s1': 'Pujara', 's2': 'Virat'}\n"
     ]
    }
   ],
   "source": [
    "del studentss[\"s3\"]\n",
    "print(studentss)"
   ]
  },
  {
   "cell_type": "code",
   "execution_count": 23,
   "id": "45e99871",
   "metadata": {},
   "outputs": [
    {
     "ename": "NameError",
     "evalue": "name 'studentss' is not defined",
     "output_type": "error",
     "traceback": [
      "\u001b[1;31m---------------------------------------------------------------------------\u001b[0m",
      "\u001b[1;31mNameError\u001b[0m                                 Traceback (most recent call last)",
      "\u001b[1;32m~\\AppData\\Local\\Temp\\ipykernel_8464\\3039421407.py\u001b[0m in \u001b[0;36m<module>\u001b[1;34m\u001b[0m\n\u001b[0;32m      1\u001b[0m \u001b[1;32mdel\u001b[0m \u001b[0mstudentss\u001b[0m\u001b[1;33m\u001b[0m\u001b[1;33m\u001b[0m\u001b[0m\n\u001b[1;32m----> 2\u001b[1;33m \u001b[0mprint\u001b[0m\u001b[1;33m(\u001b[0m\u001b[0mstudentss\u001b[0m\u001b[1;33m)\u001b[0m\u001b[1;33m\u001b[0m\u001b[1;33m\u001b[0m\u001b[0m\n\u001b[0m",
      "\u001b[1;31mNameError\u001b[0m: name 'studentss' is not defined"
     ]
    }
   ],
   "source": [
    "del studentss\n",
    "print(studentss)"
   ]
  },
  {
   "cell_type": "code",
   "execution_count": 25,
   "id": "0a8c5c40",
   "metadata": {},
   "outputs": [
    {
     "name": "stdout",
     "output_type": "stream",
     "text": [
      "{'s1': 'Jaiswal', 's2': 'KL', 's3': 'Nair', 's4': 'Gill'}\n"
     ]
    }
   ],
   "source": [
    "cricketers = {                #index value is unique\n",
    "    \"s1\"  : \"Jaiswal\",\n",
    "    \"s2\" : \"KL\",\n",
    "    \"s3\" : \"Sudarshan\",\n",
    "    \"s4\" : \"Gill\",\n",
    "    \"s3\" : \"Nair\"\n",
    "}\n",
    "print(cricketers)"
   ]
  },
  {
   "cell_type": "code",
   "execution_count": 26,
   "id": "a3b553b4",
   "metadata": {},
   "outputs": [
    {
     "name": "stdout",
     "output_type": "stream",
     "text": [
      "dict_keys(['s1', 's2', 's3', 's4'])\n",
      "dict_values(['Jaiswal', 'KL', 'Nair', 'Gill'])\n",
      "dict_items([('s1', 'Jaiswal'), ('s2', 'KL'), ('s3', 'Nair'), ('s4', 'Gill')])\n"
     ]
    }
   ],
   "source": [
    "print(cricketers.keys())\n",
    "print(cricketers.values())\n",
    "print(cricketers.items())"
   ]
  },
  {
   "cell_type": "code",
   "execution_count": 2,
   "id": "e5527579",
   "metadata": {},
   "outputs": [],
   "source": [
    "def function():\n",
    "    print(\"hello\")       #Function with no parameter and no return value\n",
    "    print(\"hi\")\n",
    "    print(\"bye\")"
   ]
  },
  {
   "cell_type": "code",
   "execution_count": 3,
   "id": "c77685a4",
   "metadata": {},
   "outputs": [
    {
     "name": "stdout",
     "output_type": "stream",
     "text": [
      "hello\n",
      "hi\n",
      "bye\n"
     ]
    }
   ],
   "source": [
    "function()"
   ]
  },
  {
   "cell_type": "code",
   "execution_count": 6,
   "id": "398998c7",
   "metadata": {},
   "outputs": [
    {
     "name": "stdout",
     "output_type": "stream",
     "text": [
      "hello\n",
      "hi\n",
      "bye\n",
      "hello\n",
      "hi\n",
      "bye\n",
      "hello\n",
      "hi\n",
      "bye\n",
      "hello\n",
      "hi\n",
      "bye\n",
      "hello\n",
      "hi\n",
      "bye\n"
     ]
    }
   ],
   "source": [
    "for i in range(5,10):\n",
    "    function()"
   ]
  },
  {
   "cell_type": "code",
   "execution_count": 2,
   "id": "03b6eea5",
   "metadata": {},
   "outputs": [],
   "source": [
    "def greeting(name):\n",
    "    print(\"hello\",name,\",how are you?\")       #Function with a parameter and no return value"
   ]
  },
  {
   "cell_type": "code",
   "execution_count": 3,
   "id": "f9a95089",
   "metadata": {},
   "outputs": [
    {
     "name": "stdout",
     "output_type": "stream",
     "text": [
      "hello tarun ,how are you?\n"
     ]
    }
   ],
   "source": [
    "greeting(\"tarun\")"
   ]
  },
  {
   "cell_type": "code",
   "execution_count": 9,
   "id": "346beb84",
   "metadata": {},
   "outputs": [],
   "source": [
    "def functions(number):\n",
    "    print(\"highest score in this match is \",number)"
   ]
  },
  {
   "cell_type": "code",
   "execution_count": 12,
   "id": "713ca776",
   "metadata": {},
   "outputs": [
    {
     "name": "stdout",
     "output_type": "stream",
     "text": [
      "highest score in this match is  100\n"
     ]
    }
   ],
   "source": [
    "functions(100)"
   ]
  },
  {
   "cell_type": "code",
   "execution_count": 32,
   "id": "17177b87",
   "metadata": {},
   "outputs": [],
   "source": [
    "def adding():                           #Function without a parameter and with a return value\n",
    "    a = int(input(\"enter a value:\"))\n",
    "    b = int(input(\"enter a value:\"))    #store the function in a varible when we are returning a value and no parameter\n",
    "    c = a + b\n",
    "    return c"
   ]
  },
  {
   "cell_type": "code",
   "execution_count": 33,
   "id": "0d670fcb",
   "metadata": {},
   "outputs": [
    {
     "name": "stdout",
     "output_type": "stream",
     "text": [
      "enter a value:5\n",
      "enter a value:90\n"
     ]
    },
    {
     "data": {
      "text/plain": [
       "95"
      ]
     },
     "execution_count": 33,
     "metadata": {},
     "output_type": "execute_result"
    }
   ],
   "source": [
    "adding()"
   ]
  },
  {
   "cell_type": "code",
   "execution_count": 35,
   "id": "f9746e60",
   "metadata": {},
   "outputs": [
    {
     "name": "stdout",
     "output_type": "stream",
     "text": [
      "enter a value:60\n",
      "enter a value:90\n",
      "150\n"
     ]
    }
   ],
   "source": [
    "sums = adding()\n",
    "print(sums)"
   ]
  },
  {
   "cell_type": "code",
   "execution_count": 36,
   "id": "82ab1ec0",
   "metadata": {},
   "outputs": [
    {
     "name": "stdout",
     "output_type": "stream",
     "text": [
      "160\n"
     ]
    }
   ],
   "source": [
    "sums+=10\n",
    "print(sums)"
   ]
  },
  {
   "cell_type": "code",
   "execution_count": 37,
   "id": "8d52b56d",
   "metadata": {},
   "outputs": [],
   "source": [
    "def cal(a,b):       #Function with a parameter and with a return value\n",
    "    c = a + b\n",
    "    return c"
   ]
  },
  {
   "cell_type": "code",
   "execution_count": 44,
   "id": "1c66e530",
   "metadata": {},
   "outputs": [
    {
     "name": "stdout",
     "output_type": "stream",
     "text": [
      "156\n"
     ]
    }
   ],
   "source": [
    "a = 56\n",
    "b = 100\n",
    "data = cal(a,b)\n",
    "print(data)"
   ]
  },
  {
   "cell_type": "code",
   "execution_count": 45,
   "id": "b1eb8fc2",
   "metadata": {},
   "outputs": [
    {
     "data": {
      "text/plain": [
       "95"
      ]
     },
     "execution_count": 45,
     "metadata": {},
     "output_type": "execute_result"
    }
   ],
   "source": [
    "cal(45,50)   #not prefered in this method"
   ]
  },
  {
   "cell_type": "code",
   "execution_count": 46,
   "id": "8383e64c",
   "metadata": {},
   "outputs": [],
   "source": [
    "def cals(a,b):      \n",
    "    c = a + b\n",
    "    d = a - b\n",
    "    e = a * b\n",
    "    f = a / b\n",
    "    g = a % b\n",
    "    return c,d,e,f,g"
   ]
  },
  {
   "cell_type": "code",
   "execution_count": 47,
   "id": "4c260ba1",
   "metadata": {},
   "outputs": [
    {
     "name": "stdout",
     "output_type": "stream",
     "text": [
      "(12, -8, 20, 0.2, 2)\n"
     ]
    }
   ],
   "source": [
    "data = cals(2,10)\n",
    "print(data)"
   ]
  },
  {
   "cell_type": "code",
   "execution_count": 49,
   "id": "32ed94ed",
   "metadata": {},
   "outputs": [
    {
     "name": "stdout",
     "output_type": "stream",
     "text": [
      "enter a value:60\n",
      "enter a value:800\n",
      "(860, -740, 48000, 0.075, 60)\n"
     ]
    }
   ],
   "source": [
    "a = int(input(\"enter a value:\"))\n",
    "b = int(input(\"enter a value:\"))\n",
    "data1 = cals(a,b)\n",
    "print(data1)"
   ]
  },
  {
   "cell_type": "code",
   "execution_count": 50,
   "id": "91394152",
   "metadata": {},
   "outputs": [
    {
     "data": {
      "text/plain": [
       "(5, -1, 6, 0.6666666666666666, 2)"
      ]
     },
     "execution_count": 50,
     "metadata": {},
     "output_type": "execute_result"
    }
   ],
   "source": [
    "cals(2,3)"
   ]
  },
  {
   "cell_type": "code",
   "execution_count": 52,
   "id": "9712ed80",
   "metadata": {},
   "outputs": [
    {
     "name": "stdout",
     "output_type": "stream",
     "text": [
      "150\n",
      "-50\n",
      "5000\n",
      "0.5\n",
      "50\n"
     ]
    }
   ],
   "source": [
    "add , sub , mul , div , mod = cals(50,100)\n",
    "print(add)\n",
    "print(sub)\n",
    "print(mul)\n",
    "print(div)\n",
    "print(mod)"
   ]
  },
  {
   "cell_type": "code",
   "execution_count": 4,
   "id": "770411f5",
   "metadata": {},
   "outputs": [],
   "source": [
    "def evenorodd(a):\n",
    "    if(a%2==0):\n",
    "        print(\"even\")\n",
    "    else:\n",
    "        print(\"odd\")\n",
    "    return a"
   ]
  },
  {
   "cell_type": "code",
   "execution_count": 5,
   "id": "d951fe72",
   "metadata": {},
   "outputs": [
    {
     "name": "stdout",
     "output_type": "stream",
     "text": [
      "even\n",
      "50\n"
     ]
    }
   ],
   "source": [
    "data = evenorodd(50)\n",
    "print(data)"
   ]
  },
  {
   "cell_type": "code",
   "execution_count": 4,
   "id": "522e9d11",
   "metadata": {},
   "outputs": [],
   "source": [
    "def checkevenorodd(a):\n",
    "    if(a%2==0):\n",
    "        return \"even\"\n",
    "    else:\n",
    "        return \"odd\"\n",
    "    return a"
   ]
  },
  {
   "cell_type": "code",
   "execution_count": 5,
   "id": "b9a3f042",
   "metadata": {},
   "outputs": [
    {
     "name": "stdout",
     "output_type": "stream",
     "text": [
      "odd\n"
     ]
    }
   ],
   "source": [
    "data = checkevenorodd(99)\n",
    "print(data)"
   ]
  },
  {
   "cell_type": "code",
   "execution_count": 2,
   "id": "2435fe82",
   "metadata": {},
   "outputs": [],
   "source": [
    "def myfun(l1):\n",
    "    ecount = 0\n",
    "    ocount = 0\n",
    "    for x in l1:\n",
    "        if x%2==0:\n",
    "            ecount+=1\n",
    "        else:\n",
    "            ocount+=1\n",
    "    return ecount , ocount\n",
    "        \n",
    "    "
   ]
  },
  {
   "cell_type": "code",
   "execution_count": 3,
   "id": "f09c564b",
   "metadata": {},
   "outputs": [
    {
     "data": {
      "text/plain": [
       "(5, 2)"
      ]
     },
     "execution_count": 3,
     "metadata": {},
     "output_type": "execute_result"
    }
   ],
   "source": [
    "data = [22,67,89,90,56,88,100]\n",
    "myfun(data)"
   ]
  },
  {
   "cell_type": "code",
   "execution_count": 6,
   "id": "d966be52",
   "metadata": {},
   "outputs": [],
   "source": [
    "def fun2(l1):\n",
    "    d = []\n",
    "    for x in l1:\n",
    "        if x%2==0:\n",
    "            d.append(x)\n",
    "    return len(d)"
   ]
  },
  {
   "cell_type": "code",
   "execution_count": 7,
   "id": "85bd9923",
   "metadata": {},
   "outputs": [
    {
     "data": {
      "text/plain": [
       "5"
      ]
     },
     "execution_count": 7,
     "metadata": {},
     "output_type": "execute_result"
    }
   ],
   "source": [
    "data = [22,67,89,90,56,88,100]\n",
    "fun2(data)"
   ]
  },
  {
   "cell_type": "code",
   "execution_count": 6,
   "id": "bd33b03f",
   "metadata": {},
   "outputs": [
    {
     "name": "stdout",
     "output_type": "stream",
     "text": [
      "data\n"
     ]
    }
   ],
   "source": [
    "fp1 = open(\"ReadingData.txt\",\"r\")\n",
    "print(\"data\")"
   ]
  },
  {
   "cell_type": "code",
   "execution_count": 11,
   "id": "cbcc03bf",
   "metadata": {},
   "outputs": [
    {
     "name": "stdout",
     "output_type": "stream",
     "text": [
      "Jaiswal\n",
      "Rahul\n",
      "Sudarshan\n",
      "Gill\n",
      "Pant\n",
      "Nair\n",
      "Jadeja\n",
      "Nitesh\n",
      "Akashdeep\n",
      "Siraj\n",
      "Prasidh\n",
      "file is closed\n"
     ]
    }
   ],
   "source": [
    "fp = open(r\"C:\\Users\\padal\\OneDrive\\Desktop\\WDD\\teamIndia..txt\",\"r\")\n",
    "print(fp.read())\n",
    "fp.close()\n",
    "print(\"file is closed\")\n"
   ]
  },
  {
   "cell_type": "code",
   "execution_count": 12,
   "id": "26f3f0b0",
   "metadata": {},
   "outputs": [
    {
     "name": "stdout",
     "output_type": "stream",
     "text": [
      "Jaiswal\n",
      "Rahul\n",
      "Sudarshan\n",
      "Gill\n",
      "Pant\n",
      "Nair\n",
      "Jadeja\n",
      "Nitesh\n",
      "Akashdeep\n",
      "Siraj\n",
      "Prasidh\n"
     ]
    }
   ],
   "source": [
    "with open(r\"C:\\Users\\padal\\OneDrive\\Desktop\\WDD\\teamIndia..txt\",\"r\") as x:\n",
    "    print(x.read()) #There is no need to use close() when this method is used"
   ]
  },
  {
   "cell_type": "code",
   "execution_count": 14,
   "id": "4cef75e2",
   "metadata": {},
   "outputs": [
    {
     "name": "stdout",
     "output_type": "stream",
     "text": [
      "hello hello hello hello\n"
     ]
    }
   ],
   "source": [
    "fp = open(r\"ReadingData.txt\",\"r\")\n",
    "print(fp.read())"
   ]
  },
  {
   "cell_type": "code",
   "execution_count": 10,
   "id": "bbcdb472",
   "metadata": {},
   "outputs": [
    {
     "name": "stdout",
     "output_type": "stream",
     "text": [
      "ohny, Johny,\n",
      "\n",
      "\n",
      "\n",
      "Yes papa?\n",
      "\n",
      "\n",
      "\n",
      "Eating sugar?\n",
      "\n"
     ]
    }
   ],
   "source": [
    "fp = open(r\"ReadingData.txt\",\"r\")\n",
    "data1 = fp.readline()\n",
    "print(data1)\n",
    "data2 = fp.readline()\n",
    "print(data2)\n",
    "data3 = fp.readline()\n",
    "print(data3)\n",
    "data4 = fp.readline()\n",
    "print(data4)\n",
    "data5 = fp.readline()\n",
    "print(data5)"
   ]
  },
  {
   "cell_type": "code",
   "execution_count": 12,
   "id": "2399bd24",
   "metadata": {},
   "outputs": [
    {
     "name": "stdout",
     "output_type": "stream",
     "text": [
      "['ohny, Johny,\\n', '\\n', 'Yes papa?\\n', '\\n', 'Eating sugar?\\n', '\\n', 'No papa.\\n', '\\n', 'Telling lies?\\n', '\\n', 'No papa.\\n', '\\n', 'Open your mouth\\n', '\\n', 'Ha ha ha!\\n']\n"
     ]
    }
   ],
   "source": [
    "fp = open(r\"ReadingData.txt\",\"r\")  #using this method data is printed in the form of list\n",
    "print(fp.readlines())"
   ]
  },
  {
   "cell_type": "code",
   "execution_count": 15,
   "id": "2dd6dcf0",
   "metadata": {},
   "outputs": [
    {
     "data": {
      "text/plain": [
       "23"
      ]
     },
     "execution_count": 15,
     "metadata": {},
     "output_type": "execute_result"
    }
   ],
   "source": [
    "data = (\"hello hello hello hello\")\n",
    "fp = open(r\"ReadingData.txt\",\"w\")\n",
    "fp.write(data)"
   ]
  },
  {
   "cell_type": "code",
   "execution_count": 18,
   "id": "6402d812",
   "metadata": {},
   "outputs": [
    {
     "name": "stdout",
     "output_type": "stream",
     "text": [
      "hello hello hello hello\n"
     ]
    }
   ],
   "source": [
    "fp = open(r\"ReadingData.txt\",\"w+\")     #to write and read data at same time use \"+\"\n",
    "fp.write(data)\n",
    "fp.seek(0)\n",
    "print(fp.read())"
   ]
  },
  {
   "cell_type": "code",
   "execution_count": 25,
   "id": "693cb6bf",
   "metadata": {},
   "outputs": [
    {
     "name": "stdout",
     "output_type": "stream",
     "text": [
      "hello hello hello hellohi hi hi hi hihi hi hi hi hi/n/nhi hi hi hi hihi hi hi hi hi\n",
      "hi hi hi hi hi\n",
      "hi hi hi hi hi\n"
     ]
    }
   ],
   "source": [
    "data1 = (\"\\nhi hi hi hi hi\")\n",
    "fp = open(\"ReadingData.txt\",\"a+\")\n",
    "fp.write(data1)\n",
    "fp.seek(0)\n",
    "print(fp.read())"
   ]
  },
  {
   "cell_type": "code",
   "execution_count": 29,
   "id": "b03a0c00",
   "metadata": {},
   "outputs": [
    {
     "name": "stdout",
     "output_type": "stream",
     "text": [
      "hello hello hello hellohi hi hi hi hihi hi hi hi hi/n/nhi hi hi hi hihi hi hi hi hi\n",
      "hi hi hi hi hi\n",
      "hi hi hi hi hihello hello hello hello\n",
      "ohny, Johny,\n",
      "\n",
      "Yes papa?\n",
      "\n",
      "Eating sugar?\n",
      "\n",
      "No papa.\n",
      "\n",
      "Telling lies?\n",
      "\n",
      "No papa.\n",
      "\n",
      "Open your mouth\n",
      "\n",
      "Ha ha ha!\n",
      "ohny, Johny,\n",
      "\n",
      "Yes papa?\n",
      "\n",
      "Eating sugar?\n",
      "\n",
      "No papa.\n",
      "\n",
      "Telling lies?\n",
      "\n",
      "No papa.\n",
      "\n",
      "Open your mouth\n",
      "\n",
      "Ha ha ha!\n",
      "\n"
     ]
    }
   ],
   "source": [
    "data4 = ['ohny, Johny,\\n', '\\n', 'Yes papa?\\n', '\\n', 'Eating sugar?\\n', '\\n', 'No papa.\\n', '\\n', 'Telling lies?\\n', '\\n', 'No papa.\\n', '\\n', 'Open your mouth\\n', '\\n', 'Ha ha ha!\\n']\n",
    "fp = open(\"ReadingData.txt\",\"a+\")\n",
    "fp.writelines(data4)\n",
    "fp.seek(0)\n",
    "print(fp.read())"
   ]
  },
  {
   "cell_type": "code",
   "execution_count": 30,
   "id": "2d0020cc",
   "metadata": {},
   "outputs": [
    {
     "ename": "ZeroDivisionError",
     "evalue": "division by zero",
     "output_type": "error",
     "traceback": [
      "\u001b[1;31m---------------------------------------------------------------------------\u001b[0m",
      "\u001b[1;31mZeroDivisionError\u001b[0m                         Traceback (most recent call last)",
      "\u001b[1;32m~\\AppData\\Local\\Temp\\ipykernel_9920\\2093369309.py\u001b[0m in \u001b[0;36m<module>\u001b[1;34m\u001b[0m\n\u001b[0;32m      1\u001b[0m \u001b[0ma\u001b[0m \u001b[1;33m=\u001b[0m \u001b[1;36m10\u001b[0m\u001b[1;33m\u001b[0m\u001b[1;33m\u001b[0m\u001b[0m\n\u001b[0;32m      2\u001b[0m \u001b[0mb\u001b[0m \u001b[1;33m=\u001b[0m \u001b[1;36m0\u001b[0m\u001b[1;33m\u001b[0m\u001b[1;33m\u001b[0m\u001b[0m\n\u001b[1;32m----> 3\u001b[1;33m \u001b[0mc\u001b[0m \u001b[1;33m=\u001b[0m \u001b[0ma\u001b[0m\u001b[1;33m/\u001b[0m\u001b[0mb\u001b[0m\u001b[1;33m\u001b[0m\u001b[1;33m\u001b[0m\u001b[0m\n\u001b[0m\u001b[0;32m      4\u001b[0m \u001b[0mprint\u001b[0m\u001b[1;33m(\u001b[0m\u001b[0mc\u001b[0m\u001b[1;33m)\u001b[0m\u001b[1;33m\u001b[0m\u001b[1;33m\u001b[0m\u001b[0m\n",
      "\u001b[1;31mZeroDivisionError\u001b[0m: division by zero"
     ]
    }
   ],
   "source": [
    "a = 10\n",
    "b = 0\n",
    "c = a/b\n",
    "print(c)"
   ]
  },
  {
   "cell_type": "code",
   "execution_count": 31,
   "id": "f811bbea",
   "metadata": {},
   "outputs": [
    {
     "name": "stdout",
     "output_type": "stream",
     "text": [
      "contact admin\n"
     ]
    }
   ],
   "source": [
    "try:               #Exception Handling\n",
    "    a = 10\n",
    "    b = 0\n",
    "    c = a/b\n",
    "    print(c)\n",
    "except:\n",
    "    print(\"contact admin\")"
   ]
  },
  {
   "cell_type": "code",
   "execution_count": 32,
   "id": "de6fc5b9",
   "metadata": {},
   "outputs": [
    {
     "name": "stdout",
     "output_type": "stream",
     "text": [
      "zero division error\n"
     ]
    }
   ],
   "source": [
    "try:               #Exception Handling\n",
    "    a = 10\n",
    "    b = 0\n",
    "    c = a/b\n",
    "    print(c)\n",
    "except ZeroDivisionError:\n",
    "    print(\"zero division error\")\n",
    "except IndexError:\n",
    "    print(\"index error\")\n",
    "except:\n",
    "    print(\"contact admin\")"
   ]
  },
  {
   "cell_type": "code",
   "execution_count": 34,
   "id": "ed3b1672",
   "metadata": {},
   "outputs": [
    {
     "name": "stdout",
     "output_type": "stream",
     "text": [
      "index error\n"
     ]
    }
   ],
   "source": [
    "try:               #Exception Handling\n",
    "    x = [20,30,40,50,60]\n",
    "    print(x[20])\n",
    "except ZeroDivisionError:\n",
    "    print(\"zero division error\")\n",
    "except IndexError:\n",
    "    print(\"index error\")\n",
    "except:\n",
    "    print(\"contact admin\")"
   ]
  },
  {
   "cell_type": "code",
   "execution_count": 36,
   "id": "c75c7ffd",
   "metadata": {},
   "outputs": [
    {
     "name": "stdout",
     "output_type": "stream",
     "text": [
      "contact admin\n"
     ]
    }
   ],
   "source": [
    "try:               #Exception Handling\n",
    "    x = [20,30,40,50,60]\n",
    "    print(x(3))\n",
    "except ZeroDivisionError:\n",
    "    print(\"zero division error\")\n",
    "except IndexError:\n",
    "    print(\"index error\")\n",
    "except:  #Universal Exceptor\n",
    "    print(\"contact admin\")"
   ]
  },
  {
   "cell_type": "code",
   "execution_count": 37,
   "id": "d1945c85",
   "metadata": {},
   "outputs": [
    {
     "name": "stdout",
     "output_type": "stream",
     "text": [
      "Error is detected\n",
      "kya farak padtha hai!\n"
     ]
    }
   ],
   "source": [
    "try:\n",
    "    a = 10\n",
    "    b = \"20\"\n",
    "    c = a + b\n",
    "except:\n",
    "    print(\"Error is detected\")\n",
    "else:\n",
    "    print(\"asnwer is \",c)\n",
    "finally:\n",
    "    print(\"kya farak padtha hai!\")"
   ]
  },
  {
   "cell_type": "code",
   "execution_count": 38,
   "id": "b613783f",
   "metadata": {},
   "outputs": [
    {
     "name": "stdout",
     "output_type": "stream",
     "text": [
      "asnwer is  30\n",
      "kya farak padtha hai!\n"
     ]
    }
   ],
   "source": [
    "try:\n",
    "    a = 10\n",
    "    b = 20\n",
    "    c = a + b\n",
    "except:\n",
    "    print(\"Error is detected\")\n",
    "else:                            #else block is executed when try block do not have any errors\n",
    "    print(\"asnwer is \",c)\n",
    "finally:\n",
    "    print(\"kya farak padtha hai!\")"
   ]
  },
  {
   "cell_type": "code",
   "execution_count": 39,
   "id": "a41c27cf",
   "metadata": {},
   "outputs": [],
   "source": [
    "class student:\n",
    "    name = \"Tarun\"\n",
    "    age = \"21\""
   ]
  },
  {
   "cell_type": "code",
   "execution_count": 41,
   "id": "354d7217",
   "metadata": {},
   "outputs": [
    {
     "name": "stdout",
     "output_type": "stream",
     "text": [
      "Tarun\n",
      "21\n"
     ]
    }
   ],
   "source": [
    "x = student()          #Class is a user defined data type in python\n",
    "print(x.name)\n",
    "print(x.age)"
   ]
  },
  {
   "cell_type": "code",
   "execution_count": 46,
   "id": "c2c3a345",
   "metadata": {},
   "outputs": [],
   "source": [
    "class test:\n",
    "    def __init__(self):      #constructor\n",
    "        print(\"game on\")     #self is a widely used parameter in the industry and is not a keyword\n",
    "    def fun(self):\n",
    "        print(\"game off\")"
   ]
  },
  {
   "cell_type": "code",
   "execution_count": 44,
   "id": "9b75e8db",
   "metadata": {},
   "outputs": [
    {
     "name": "stdout",
     "output_type": "stream",
     "text": [
      "game on\n"
     ]
    }
   ],
   "source": [
    "x1 = test()"
   ]
  },
  {
   "cell_type": "code",
   "execution_count": 45,
   "id": "5cc9724d",
   "metadata": {},
   "outputs": [
    {
     "name": "stdout",
     "output_type": "stream",
     "text": [
      "game off\n"
     ]
    }
   ],
   "source": [
    "x1.fun()"
   ]
  },
  {
   "cell_type": "code",
   "execution_count": 47,
   "id": "543d1bba",
   "metadata": {},
   "outputs": [],
   "source": [
    "class test1:\n",
    "    def __init__(self):\n",
    "        print(\"game on\")\n",
    "    def fun1():\n",
    "        print(\"game off\")"
   ]
  },
  {
   "cell_type": "code",
   "execution_count": 48,
   "id": "a5c65054",
   "metadata": {},
   "outputs": [
    {
     "name": "stdout",
     "output_type": "stream",
     "text": [
      "game on\n"
     ]
    }
   ],
   "source": [
    "x = test1()"
   ]
  },
  {
   "cell_type": "code",
   "execution_count": 49,
   "id": "279cb844",
   "metadata": {},
   "outputs": [
    {
     "ename": "TypeError",
     "evalue": "fun1() takes 0 positional arguments but 1 was given",
     "output_type": "error",
     "traceback": [
      "\u001b[1;31m---------------------------------------------------------------------------\u001b[0m",
      "\u001b[1;31mTypeError\u001b[0m                                 Traceback (most recent call last)",
      "\u001b[1;32m~\\AppData\\Local\\Temp\\ipykernel_9920\\2111217765.py\u001b[0m in \u001b[0;36m<module>\u001b[1;34m\u001b[0m\n\u001b[1;32m----> 1\u001b[1;33m \u001b[0mx\u001b[0m\u001b[1;33m.\u001b[0m\u001b[0mfun1\u001b[0m\u001b[1;33m(\u001b[0m\u001b[1;33m)\u001b[0m\u001b[1;33m\u001b[0m\u001b[1;33m\u001b[0m\u001b[0m\n\u001b[0m",
      "\u001b[1;31mTypeError\u001b[0m: fun1() takes 0 positional arguments but 1 was given"
     ]
    }
   ],
   "source": [
    "x.fun1()         #without a parameter in function in a class , block cannot be executed"
   ]
  },
  {
   "cell_type": "code",
   "execution_count": 1,
   "id": "b0d132fb",
   "metadata": {},
   "outputs": [],
   "source": [
    "class student:\n",
    "    name = \"Tarun\"\n",
    "    age = \"21\""
   ]
  },
  {
   "cell_type": "code",
   "execution_count": 2,
   "id": "ddba7efd",
   "metadata": {},
   "outputs": [
    {
     "name": "stdout",
     "output_type": "stream",
     "text": [
      "Tarun\n",
      "21\n"
     ]
    }
   ],
   "source": [
    "x = student()          #Class is a user defined data type in python\n",
    "print(x.name)\n",
    "print(x.age)"
   ]
  },
  {
   "cell_type": "code",
   "execution_count": 5,
   "id": "aa9d6efa",
   "metadata": {},
   "outputs": [
    {
     "name": "stdout",
     "output_type": "stream",
     "text": [
      "Tarun\n",
      "21\n"
     ]
    }
   ],
   "source": [
    "y = student()          #Class is a user defined data type in python\n",
    "print(y.name)\n",
    "print(y.age)"
   ]
  },
  {
   "cell_type": "code",
   "execution_count": 63,
   "id": "78564ee8",
   "metadata": {},
   "outputs": [],
   "source": [
    "class students:\n",
    "    def __init__(self,name,age):\n",
    "        self.name = name\n",
    "        self.age = age\n",
    "    def details(self):\n",
    "        print(f\"name of the student is {self.name} and age is {self.age}\")"
   ]
  },
  {
   "cell_type": "code",
   "execution_count": 64,
   "id": "d342686e",
   "metadata": {},
   "outputs": [],
   "source": [
    "y = students(\"Jaiswal\",22)\n",
    "z = students(\"Sudarshan\",23)"
   ]
  },
  {
   "cell_type": "code",
   "execution_count": 65,
   "id": "65bfe52e",
   "metadata": {},
   "outputs": [
    {
     "name": "stdout",
     "output_type": "stream",
     "text": [
      "name of the student is Jaiswal and age is 22\n",
      "===================================================\n",
      "name of the student is Sudarshan and age is 23\n"
     ]
    }
   ],
   "source": [
    "y.details()\n",
    "print(\"===================================================\")\n",
    "z.details()"
   ]
  },
  {
   "cell_type": "code",
   "execution_count": 3,
   "id": "5546c2b8",
   "metadata": {},
   "outputs": [],
   "source": [
    "class clas():\n",
    "    def __init__(self):\n",
    "        print(\"Activated\")\n",
    "    def fun(self):\n",
    "        print(\"Running\")\n",
    "    def __del__(self):\n",
    "        print(\"Deactivated\")"
   ]
  },
  {
   "cell_type": "code",
   "execution_count": 10,
   "id": "0abf3bc7",
   "metadata": {},
   "outputs": [
    {
     "name": "stdout",
     "output_type": "stream",
     "text": [
      "Activated\n"
     ]
    }
   ],
   "source": [
    "x1 = clas()"
   ]
  },
  {
   "cell_type": "code",
   "execution_count": 11,
   "id": "58550e51",
   "metadata": {},
   "outputs": [
    {
     "name": "stdout",
     "output_type": "stream",
     "text": [
      "Running\n"
     ]
    }
   ],
   "source": [
    "x1.fun()"
   ]
  },
  {
   "cell_type": "code",
   "execution_count": 12,
   "id": "d2ae5d78",
   "metadata": {},
   "outputs": [
    {
     "name": "stdout",
     "output_type": "stream",
     "text": [
      "Deactivated\n"
     ]
    }
   ],
   "source": [
    "del x1"
   ]
  },
  {
   "cell_type": "code",
   "execution_count": 33,
   "id": "bc2fe394",
   "metadata": {},
   "outputs": [],
   "source": [
    "class parent():\n",
    "    def vechile(self):\n",
    "        print(\"vechiles\")"
   ]
  },
  {
   "cell_type": "code",
   "execution_count": 34,
   "id": "8851810a",
   "metadata": {},
   "outputs": [],
   "source": [
    "class child(parent):\n",
    "    def car(self):\n",
    "        print(\"cars\")"
   ]
  },
  {
   "cell_type": "code",
   "execution_count": 35,
   "id": "4610a6b6",
   "metadata": {},
   "outputs": [
    {
     "name": "stdout",
     "output_type": "stream",
     "text": [
      "vechiles\n"
     ]
    }
   ],
   "source": [
    "x1 = child()\n",
    "x1.vechile()"
   ]
  },
  {
   "cell_type": "code",
   "execution_count": 55,
   "id": "875450e6",
   "metadata": {},
   "outputs": [],
   "source": [
    "class clas():\n",
    "    def __init__(self):\n",
    "        print(\"Activated\")\n",
    "    def fun(self):\n",
    "        print(\"Running\")\n",
    "  "
   ]
  },
  {
   "cell_type": "code",
   "execution_count": 58,
   "id": "aad862c2",
   "metadata": {},
   "outputs": [],
   "source": [
    "class test1(clas):\n",
    "    def __init__(self):\n",
    "        super().__init__\n",
    "        print(\"game on\")\n",
    "    def fun1(self):\n",
    "        print(\"game off\")"
   ]
  },
  {
   "cell_type": "code",
   "execution_count": 60,
   "id": "caf7db3f",
   "metadata": {},
   "outputs": [
    {
     "name": "stdout",
     "output_type": "stream",
     "text": [
      "game on\n",
      "game off\n",
      "Running\n",
      "Activated\n"
     ]
    }
   ],
   "source": [
    "x1 = test1()\n",
    "x1.fun1()\n",
    "x1.fun()\n",
    "x1 = clas()"
   ]
  },
  {
   "cell_type": "code",
   "execution_count": 83,
   "id": "123d864c",
   "metadata": {},
   "outputs": [],
   "source": [
    "class samsung():\n",
    "    company = \"samsung\"\n",
    "    website = \"www.samsung.com\"\n",
    "    def detail_info(self):\n",
    "        print(\"samsung is one of the oldest and leading company in tech industry\")"
   ]
  },
  {
   "cell_type": "code",
   "execution_count": 84,
   "id": "48054df8",
   "metadata": {},
   "outputs": [],
   "source": [
    "class samsung1223(samsung):\n",
    "    def __init__(self,name,price):\n",
    "        self.name = name\n",
    "        self.price = price\n",
    "    def user_info(self):\n",
    "        print(f\"name of customer is {self.name}\\n price of the product is {self.price}\")\n",
    "        print(f\"Brand name is {self.company} \\n website is {self.website}\")"
   ]
  },
  {
   "cell_type": "code",
   "execution_count": 85,
   "id": "049932df",
   "metadata": {},
   "outputs": [],
   "source": [
    "x1 = samsung1223(\"Tarun\",20000)"
   ]
  },
  {
   "cell_type": "code",
   "execution_count": 86,
   "id": "ebb06915",
   "metadata": {},
   "outputs": [
    {
     "name": "stdout",
     "output_type": "stream",
     "text": [
      "samsung is one of the oldest and leading company in tech industry\n",
      "name of customer is Tarun\n",
      " price of the product is 20000\n",
      "Brand name is samsung \n",
      " website is www.samsung.com\n"
     ]
    }
   ],
   "source": [
    "x1.detail_info()\n",
    "x1.user_info()"
   ]
  },
  {
   "cell_type": "code",
   "execution_count": 1,
   "id": "61812f41",
   "metadata": {},
   "outputs": [],
   "source": [
    "class mother():\n",
    "    def commerce(self):\n",
    "        print(\"Mother is expert in commerce\")"
   ]
  },
  {
   "cell_type": "code",
   "execution_count": 2,
   "id": "fb01c025",
   "metadata": {},
   "outputs": [],
   "source": [
    "class father():\n",
    "    def accounts(self):\n",
    "        print(\"father is expert in accounts\")"
   ]
  },
  {
   "cell_type": "code",
   "execution_count": 6,
   "id": "d456f786",
   "metadata": {},
   "outputs": [],
   "source": [
    "class child(mother,father):\n",
    "    def sports(self,game):\n",
    "        print(\"Child is expert in sports, especially in\",game)"
   ]
  },
  {
   "cell_type": "code",
   "execution_count": 8,
   "id": "5ec3b91c",
   "metadata": {},
   "outputs": [],
   "source": [
    "x1 = child()"
   ]
  },
  {
   "cell_type": "code",
   "execution_count": 9,
   "id": "2aef6f31",
   "metadata": {},
   "outputs": [
    {
     "name": "stdout",
     "output_type": "stream",
     "text": [
      "Mother is expert in commerce\n",
      "father is expert in accounts\n",
      "Child is expert in sports, especially in cricket\n"
     ]
    }
   ],
   "source": [
    "x1.commerce()\n",
    "x1.accounts()\n",
    "x1.sports(\"cricket\")"
   ]
  },
  {
   "cell_type": "code",
   "execution_count": 23,
   "id": "959a5fdf",
   "metadata": {},
   "outputs": [],
   "source": [
    "class person():\n",
    "    def personnel_info(self,name,age,gender):\n",
    "        print(f\"personnel_info\\nName : {name}\\nAge : {age}\\nGender : {gender}\")"
   ]
  },
  {
   "cell_type": "code",
   "execution_count": 21,
   "id": "2c86e7d5",
   "metadata": {},
   "outputs": [],
   "source": [
    "class company():\n",
    "    def company_info(self,C_name,est,domain):\n",
    "        print(f\"company_info\\nC_name : {C_name}\\nest : {est}\\ndomain: {domain}\")"
   ]
  },
  {
   "cell_type": "code",
   "execution_count": 27,
   "id": "d414ba41",
   "metadata": {},
   "outputs": [],
   "source": [
    "class employee(person,company):\n",
    "    def employee_info(self,E_name,salary,profile):\n",
    "        print(f\"company_info\\nE_name : {E_name}\\nsalary : {salary}\\nprofile: {profile}\")"
   ]
  },
  {
   "cell_type": "code",
   "execution_count": 28,
   "id": "0f221d30",
   "metadata": {},
   "outputs": [],
   "source": [
    "x = employee()"
   ]
  },
  {
   "cell_type": "code",
   "execution_count": 30,
   "id": "f35907eb",
   "metadata": {},
   "outputs": [
    {
     "name": "stdout",
     "output_type": "stream",
     "text": [
      "personnel_info\n",
      "Name : TArun\n",
      "Age : 21\n",
      "Gender : Male\n",
      "company_info\n",
      "C_name : samsung\n",
      "est : 50\n",
      "domain: tech\n",
      "company_info\n",
      "E_name : sa445566\n",
      "salary : 50000\n",
      "profile: developer\n"
     ]
    }
   ],
   "source": [
    "x.personnel_info(\"TArun\",21,\"Male\")\n",
    "x.company_info(\"samsung\",50,\"tech\")\n",
    "x.employee_info(\"sa445566\",50000,\"developer\")"
   ]
  },
  {
   "cell_type": "markdown",
   "id": "32673f8a",
   "metadata": {},
   "source": [
    "# Pandas"
   ]
  },
  {
   "cell_type": "code",
   "execution_count": 30,
   "id": "3186a6ef",
   "metadata": {},
   "outputs": [],
   "source": [
    "import pandas as pd"
   ]
  },
  {
   "cell_type": "code",
   "execution_count": 31,
   "id": "293a66c5",
   "metadata": {},
   "outputs": [
    {
     "data": {
      "text/plain": [
       "0     Apple\n",
       "1    Banana\n",
       "2    Papaya\n",
       "3     Mango\n",
       "dtype: object"
      ]
     },
     "execution_count": 31,
     "metadata": {},
     "output_type": "execute_result"
    }
   ],
   "source": [
    "data = [\"Apple\",\"Banana\",\"Papaya\",\"Mango\"]\n",
    "pd.Series(data)"
   ]
  },
  {
   "cell_type": "code",
   "execution_count": 32,
   "id": "33f5a946",
   "metadata": {},
   "outputs": [
    {
     "data": {
      "text/plain": [
       "F1     Apple\n",
       "F2    Banana\n",
       "F3    Papaya\n",
       "F4     Mango\n",
       "dtype: object"
      ]
     },
     "execution_count": 32,
     "metadata": {},
     "output_type": "execute_result"
    }
   ],
   "source": [
    "pd.Series(data,index=[\"F1\",\"F2\",\"F3\",\"F4\"])"
   ]
  },
  {
   "cell_type": "code",
   "execution_count": 27,
   "id": "dc3ee41a",
   "metadata": {},
   "outputs": [
    {
     "ename": "ValueError",
     "evalue": "Length of values (4) does not match length of index (3)",
     "output_type": "error",
     "traceback": [
      "\u001b[1;31m---------------------------------------------------------------------------\u001b[0m",
      "\u001b[1;31mValueError\u001b[0m                                Traceback (most recent call last)",
      "\u001b[1;32m~\\AppData\\Local\\Temp\\ipykernel_23196\\3094503561.py\u001b[0m in \u001b[0;36m<module>\u001b[1;34m\u001b[0m\n\u001b[1;32m----> 1\u001b[1;33m \u001b[0mpd\u001b[0m\u001b[1;33m.\u001b[0m\u001b[0mSeries\u001b[0m\u001b[1;33m(\u001b[0m\u001b[0mdata\u001b[0m\u001b[1;33m,\u001b[0m\u001b[0mindex\u001b[0m\u001b[1;33m=\u001b[0m\u001b[1;33m[\u001b[0m\u001b[1;34m\"F1\"\u001b[0m\u001b[1;33m,\u001b[0m\u001b[1;34m\"F2\"\u001b[0m\u001b[1;33m,\u001b[0m\u001b[1;34m\"F3\"\u001b[0m\u001b[1;33m]\u001b[0m\u001b[1;33m)\u001b[0m\u001b[1;33m\u001b[0m\u001b[1;33m\u001b[0m\u001b[0m\n\u001b[0m",
      "\u001b[1;32m~\\anaconda3\\lib\\site-packages\\pandas\\core\\series.py\u001b[0m in \u001b[0;36m__init__\u001b[1;34m(self, data, index, dtype, name, copy, fastpath)\u001b[0m\n\u001b[0;32m    440\u001b[0m                 \u001b[0mindex\u001b[0m \u001b[1;33m=\u001b[0m \u001b[0mdefault_index\u001b[0m\u001b[1;33m(\u001b[0m\u001b[0mlen\u001b[0m\u001b[1;33m(\u001b[0m\u001b[0mdata\u001b[0m\u001b[1;33m)\u001b[0m\u001b[1;33m)\u001b[0m\u001b[1;33m\u001b[0m\u001b[1;33m\u001b[0m\u001b[0m\n\u001b[0;32m    441\u001b[0m             \u001b[1;32melif\u001b[0m \u001b[0mis_list_like\u001b[0m\u001b[1;33m(\u001b[0m\u001b[0mdata\u001b[0m\u001b[1;33m)\u001b[0m\u001b[1;33m:\u001b[0m\u001b[1;33m\u001b[0m\u001b[1;33m\u001b[0m\u001b[0m\n\u001b[1;32m--> 442\u001b[1;33m                 \u001b[0mcom\u001b[0m\u001b[1;33m.\u001b[0m\u001b[0mrequire_length_match\u001b[0m\u001b[1;33m(\u001b[0m\u001b[0mdata\u001b[0m\u001b[1;33m,\u001b[0m \u001b[0mindex\u001b[0m\u001b[1;33m)\u001b[0m\u001b[1;33m\u001b[0m\u001b[1;33m\u001b[0m\u001b[0m\n\u001b[0m\u001b[0;32m    443\u001b[0m \u001b[1;33m\u001b[0m\u001b[0m\n\u001b[0;32m    444\u001b[0m             \u001b[1;31m# create/copy the manager\u001b[0m\u001b[1;33m\u001b[0m\u001b[1;33m\u001b[0m\u001b[0m\n",
      "\u001b[1;32m~\\anaconda3\\lib\\site-packages\\pandas\\core\\common.py\u001b[0m in \u001b[0;36mrequire_length_match\u001b[1;34m(data, index)\u001b[0m\n\u001b[0;32m    555\u001b[0m     \"\"\"\n\u001b[0;32m    556\u001b[0m     \u001b[1;32mif\u001b[0m \u001b[0mlen\u001b[0m\u001b[1;33m(\u001b[0m\u001b[0mdata\u001b[0m\u001b[1;33m)\u001b[0m \u001b[1;33m!=\u001b[0m \u001b[0mlen\u001b[0m\u001b[1;33m(\u001b[0m\u001b[0mindex\u001b[0m\u001b[1;33m)\u001b[0m\u001b[1;33m:\u001b[0m\u001b[1;33m\u001b[0m\u001b[1;33m\u001b[0m\u001b[0m\n\u001b[1;32m--> 557\u001b[1;33m         raise ValueError(\n\u001b[0m\u001b[0;32m    558\u001b[0m             \u001b[1;34m\"Length of values \"\u001b[0m\u001b[1;33m\u001b[0m\u001b[1;33m\u001b[0m\u001b[0m\n\u001b[0;32m    559\u001b[0m             \u001b[1;34mf\"({len(data)}) \"\u001b[0m\u001b[1;33m\u001b[0m\u001b[1;33m\u001b[0m\u001b[0m\n",
      "\u001b[1;31mValueError\u001b[0m: Length of values (4) does not match length of index (3)"
     ]
    }
   ],
   "source": [
    "pd.Series(data,index=[\"F1\",\"F2\",\"F3\"])"
   ]
  },
  {
   "cell_type": "code",
   "execution_count": 33,
   "id": "012a2cad",
   "metadata": {},
   "outputs": [
    {
     "data": {
      "text/plain": [
       "1     Apple\n",
       "2    Banana\n",
       "3    Papaya\n",
       "4     Mango\n",
       "dtype: object"
      ]
     },
     "execution_count": 33,
     "metadata": {},
     "output_type": "execute_result"
    }
   ],
   "source": [
    "pd.Series(data,index=[1,2,3,4])"
   ]
  },
  {
   "cell_type": "code",
   "execution_count": 34,
   "id": "6e40e921",
   "metadata": {},
   "outputs": [
    {
     "data": {
      "text/plain": [
       "1     Apple\n",
       "2    Banana\n",
       "3    Papaya\n",
       "4     Mango\n",
       "dtype: object"
      ]
     },
     "execution_count": 34,
     "metadata": {},
     "output_type": "execute_result"
    }
   ],
   "source": [
    "data = {1 : \"Apple\", 2 : \"Banana\", 3 :\"Papaya\", 4 : \"Mango\"}\n",
    "pd.Series(data)"
   ]
  },
  {
   "cell_type": "code",
   "execution_count": 35,
   "id": "a77fdb27",
   "metadata": {},
   "outputs": [],
   "source": [
    "data1 = {\"Name\" : [\"Tarun\",\"Sai\",\"Krishna\",\"Murthy\"],\n",
    "       \"Age\" : [20, 21,22,23],\n",
    "       \"Height\" : [170,171,172,173]}"
   ]
  },
  {
   "cell_type": "code",
   "execution_count": 41,
   "id": "fa43a970",
   "metadata": {},
   "outputs": [
    {
     "data": {
      "text/html": [
       "<div>\n",
       "<style scoped>\n",
       "    .dataframe tbody tr th:only-of-type {\n",
       "        vertical-align: middle;\n",
       "    }\n",
       "\n",
       "    .dataframe tbody tr th {\n",
       "        vertical-align: top;\n",
       "    }\n",
       "\n",
       "    .dataframe thead th {\n",
       "        text-align: right;\n",
       "    }\n",
       "</style>\n",
       "<table border=\"1\" class=\"dataframe\">\n",
       "  <thead>\n",
       "    <tr style=\"text-align: right;\">\n",
       "      <th></th>\n",
       "      <th>Name</th>\n",
       "      <th>Age</th>\n",
       "      <th>Height</th>\n",
       "    </tr>\n",
       "  </thead>\n",
       "  <tbody>\n",
       "    <tr>\n",
       "      <th>a</th>\n",
       "      <td>Tarun</td>\n",
       "      <td>20</td>\n",
       "      <td>170</td>\n",
       "    </tr>\n",
       "    <tr>\n",
       "      <th>b</th>\n",
       "      <td>Sai</td>\n",
       "      <td>21</td>\n",
       "      <td>171</td>\n",
       "    </tr>\n",
       "    <tr>\n",
       "      <th>c</th>\n",
       "      <td>Krishna</td>\n",
       "      <td>22</td>\n",
       "      <td>172</td>\n",
       "    </tr>\n",
       "    <tr>\n",
       "      <th>d</th>\n",
       "      <td>Murthy</td>\n",
       "      <td>23</td>\n",
       "      <td>173</td>\n",
       "    </tr>\n",
       "  </tbody>\n",
       "</table>\n",
       "</div>"
      ],
      "text/plain": [
       "      Name  Age  Height\n",
       "a    Tarun   20     170\n",
       "b      Sai   21     171\n",
       "c  Krishna   22     172\n",
       "d   Murthy   23     173"
      ]
     },
     "execution_count": 41,
     "metadata": {},
     "output_type": "execute_result"
    }
   ],
   "source": [
    "df = pd.DataFrame(data1,index=[\"a\",\"b\",\"c\",\"d\"])\n",
    "df"
   ]
  },
  {
   "cell_type": "code",
   "execution_count": 37,
   "id": "a3812752",
   "metadata": {},
   "outputs": [
    {
     "name": "stdout",
     "output_type": "stream",
     "text": [
      "<class 'pandas.core.frame.DataFrame'>\n"
     ]
    }
   ],
   "source": [
    "print(type(df))"
   ]
  },
  {
   "cell_type": "code",
   "execution_count": 43,
   "id": "2a9bd3c0",
   "metadata": {},
   "outputs": [
    {
     "data": {
      "text/plain": [
       "Name      Tarun\n",
       "Age          20\n",
       "Height      170\n",
       "Name: a, dtype: object"
      ]
     },
     "execution_count": 43,
     "metadata": {},
     "output_type": "execute_result"
    }
   ],
   "source": [
    "df.loc[\"a\"]"
   ]
  },
  {
   "cell_type": "code",
   "execution_count": 46,
   "id": "fca9d93b",
   "metadata": {},
   "outputs": [
    {
     "data": {
      "text/plain": [
       "Name    Krishna\n",
       "Age          22\n",
       "Name: c, dtype: object"
      ]
     },
     "execution_count": 46,
     "metadata": {},
     "output_type": "execute_result"
    }
   ],
   "source": [
    "df.loc[\"c\",[\"Name\",\"Age\"]]"
   ]
  },
  {
   "cell_type": "code",
   "execution_count": 47,
   "id": "4a354e1f",
   "metadata": {},
   "outputs": [
    {
     "data": {
      "text/html": [
       "<div>\n",
       "<style scoped>\n",
       "    .dataframe tbody tr th:only-of-type {\n",
       "        vertical-align: middle;\n",
       "    }\n",
       "\n",
       "    .dataframe tbody tr th {\n",
       "        vertical-align: top;\n",
       "    }\n",
       "\n",
       "    .dataframe thead th {\n",
       "        text-align: right;\n",
       "    }\n",
       "</style>\n",
       "<table border=\"1\" class=\"dataframe\">\n",
       "  <thead>\n",
       "    <tr style=\"text-align: right;\">\n",
       "      <th></th>\n",
       "      <th>Name</th>\n",
       "      <th>Age</th>\n",
       "      <th>Height</th>\n",
       "    </tr>\n",
       "  </thead>\n",
       "  <tbody>\n",
       "    <tr>\n",
       "      <th>a</th>\n",
       "      <td>Tarun</td>\n",
       "      <td>20</td>\n",
       "      <td>170</td>\n",
       "    </tr>\n",
       "    <tr>\n",
       "      <th>b</th>\n",
       "      <td>Sai</td>\n",
       "      <td>21</td>\n",
       "      <td>171</td>\n",
       "    </tr>\n",
       "    <tr>\n",
       "      <th>c</th>\n",
       "      <td>Krishna</td>\n",
       "      <td>22</td>\n",
       "      <td>172</td>\n",
       "    </tr>\n",
       "  </tbody>\n",
       "</table>\n",
       "</div>"
      ],
      "text/plain": [
       "      Name  Age  Height\n",
       "a    Tarun   20     170\n",
       "b      Sai   21     171\n",
       "c  Krishna   22     172"
      ]
     },
     "execution_count": 47,
     "metadata": {},
     "output_type": "execute_result"
    }
   ],
   "source": [
    "df.loc[\"a\":\"c\"]"
   ]
  },
  {
   "cell_type": "code",
   "execution_count": 48,
   "id": "e4bd5b48",
   "metadata": {},
   "outputs": [
    {
     "data": {
      "text/html": [
       "<div>\n",
       "<style scoped>\n",
       "    .dataframe tbody tr th:only-of-type {\n",
       "        vertical-align: middle;\n",
       "    }\n",
       "\n",
       "    .dataframe tbody tr th {\n",
       "        vertical-align: top;\n",
       "    }\n",
       "\n",
       "    .dataframe thead th {\n",
       "        text-align: right;\n",
       "    }\n",
       "</style>\n",
       "<table border=\"1\" class=\"dataframe\">\n",
       "  <thead>\n",
       "    <tr style=\"text-align: right;\">\n",
       "      <th></th>\n",
       "      <th>Name</th>\n",
       "    </tr>\n",
       "  </thead>\n",
       "  <tbody>\n",
       "    <tr>\n",
       "      <th>a</th>\n",
       "      <td>Tarun</td>\n",
       "    </tr>\n",
       "    <tr>\n",
       "      <th>b</th>\n",
       "      <td>Sai</td>\n",
       "    </tr>\n",
       "    <tr>\n",
       "      <th>c</th>\n",
       "      <td>Krishna</td>\n",
       "    </tr>\n",
       "  </tbody>\n",
       "</table>\n",
       "</div>"
      ],
      "text/plain": [
       "      Name\n",
       "a    Tarun\n",
       "b      Sai\n",
       "c  Krishna"
      ]
     },
     "execution_count": 48,
     "metadata": {},
     "output_type": "execute_result"
    }
   ],
   "source": [
    "df.loc[\"a\":\"c\",[\"Name\"]]"
   ]
  },
  {
   "cell_type": "code",
   "execution_count": 51,
   "id": "841d6d8d",
   "metadata": {},
   "outputs": [],
   "source": [
    "data1 = {\"Name\" : [\"Tarun\",\"Sai\",\"Krishna\",\"Murthy\"],\n",
    "       \"Age\" : [20, 21,22,23],\n",
    "       \"Height\" : [170,171,172,173],\n",
    "       \"Location\" : [\"Hyd\",\"Blr\",\"Mum\",\"Chen\"]}"
   ]
  },
  {
   "cell_type": "code",
   "execution_count": 54,
   "id": "e5468acc",
   "metadata": {},
   "outputs": [
    {
     "data": {
      "text/html": [
       "<div>\n",
       "<style scoped>\n",
       "    .dataframe tbody tr th:only-of-type {\n",
       "        vertical-align: middle;\n",
       "    }\n",
       "\n",
       "    .dataframe tbody tr th {\n",
       "        vertical-align: top;\n",
       "    }\n",
       "\n",
       "    .dataframe thead th {\n",
       "        text-align: right;\n",
       "    }\n",
       "</style>\n",
       "<table border=\"1\" class=\"dataframe\">\n",
       "  <thead>\n",
       "    <tr style=\"text-align: right;\">\n",
       "      <th></th>\n",
       "      <th>Name</th>\n",
       "      <th>Age</th>\n",
       "      <th>Height</th>\n",
       "      <th>Location</th>\n",
       "    </tr>\n",
       "  </thead>\n",
       "  <tbody>\n",
       "    <tr>\n",
       "      <th>0</th>\n",
       "      <td>Tarun</td>\n",
       "      <td>20</td>\n",
       "      <td>170</td>\n",
       "      <td>Hyd</td>\n",
       "    </tr>\n",
       "    <tr>\n",
       "      <th>1</th>\n",
       "      <td>Sai</td>\n",
       "      <td>21</td>\n",
       "      <td>171</td>\n",
       "      <td>Blr</td>\n",
       "    </tr>\n",
       "    <tr>\n",
       "      <th>2</th>\n",
       "      <td>Krishna</td>\n",
       "      <td>22</td>\n",
       "      <td>172</td>\n",
       "      <td>Mum</td>\n",
       "    </tr>\n",
       "    <tr>\n",
       "      <th>3</th>\n",
       "      <td>Murthy</td>\n",
       "      <td>23</td>\n",
       "      <td>173</td>\n",
       "      <td>Chen</td>\n",
       "    </tr>\n",
       "  </tbody>\n",
       "</table>\n",
       "</div>"
      ],
      "text/plain": [
       "      Name  Age  Height Location\n",
       "0    Tarun   20     170      Hyd\n",
       "1      Sai   21     171      Blr\n",
       "2  Krishna   22     172      Mum\n",
       "3   Murthy   23     173     Chen"
      ]
     },
     "execution_count": 54,
     "metadata": {},
     "output_type": "execute_result"
    }
   ],
   "source": [
    "df = pd.DataFrame(data1)\n",
    "df"
   ]
  },
  {
   "cell_type": "code",
   "execution_count": 55,
   "id": "fccda6ee",
   "metadata": {},
   "outputs": [
    {
     "data": {
      "text/plain": [
       "Name        Tarun\n",
       "Age            20\n",
       "Height        170\n",
       "Location      Hyd\n",
       "Name: 0, dtype: object"
      ]
     },
     "execution_count": 55,
     "metadata": {},
     "output_type": "execute_result"
    }
   ],
   "source": [
    "df.iloc[0]"
   ]
  },
  {
   "cell_type": "code",
   "execution_count": 57,
   "id": "b7df1b02",
   "metadata": {},
   "outputs": [
    {
     "data": {
      "text/html": [
       "<div>\n",
       "<style scoped>\n",
       "    .dataframe tbody tr th:only-of-type {\n",
       "        vertical-align: middle;\n",
       "    }\n",
       "\n",
       "    .dataframe tbody tr th {\n",
       "        vertical-align: top;\n",
       "    }\n",
       "\n",
       "    .dataframe thead th {\n",
       "        text-align: right;\n",
       "    }\n",
       "</style>\n",
       "<table border=\"1\" class=\"dataframe\">\n",
       "  <thead>\n",
       "    <tr style=\"text-align: right;\">\n",
       "      <th></th>\n",
       "      <th>Age</th>\n",
       "      <th>Height</th>\n",
       "      <th>Location</th>\n",
       "    </tr>\n",
       "  </thead>\n",
       "  <tbody>\n",
       "    <tr>\n",
       "      <th>0</th>\n",
       "      <td>20</td>\n",
       "      <td>170</td>\n",
       "      <td>Hyd</td>\n",
       "    </tr>\n",
       "    <tr>\n",
       "      <th>1</th>\n",
       "      <td>21</td>\n",
       "      <td>171</td>\n",
       "      <td>Blr</td>\n",
       "    </tr>\n",
       "  </tbody>\n",
       "</table>\n",
       "</div>"
      ],
      "text/plain": [
       "   Age  Height Location\n",
       "0   20     170      Hyd\n",
       "1   21     171      Blr"
      ]
     },
     "execution_count": 57,
     "metadata": {},
     "output_type": "execute_result"
    }
   ],
   "source": [
    "df.iloc[0:2,1:4]"
   ]
  },
  {
   "cell_type": "code",
   "execution_count": 59,
   "id": "fd773abb",
   "metadata": {},
   "outputs": [
    {
     "data": {
      "text/html": [
       "<div>\n",
       "<style scoped>\n",
       "    .dataframe tbody tr th:only-of-type {\n",
       "        vertical-align: middle;\n",
       "    }\n",
       "\n",
       "    .dataframe tbody tr th {\n",
       "        vertical-align: top;\n",
       "    }\n",
       "\n",
       "    .dataframe thead th {\n",
       "        text-align: right;\n",
       "    }\n",
       "</style>\n",
       "<table border=\"1\" class=\"dataframe\">\n",
       "  <thead>\n",
       "    <tr style=\"text-align: right;\">\n",
       "      <th></th>\n",
       "      <th>Age</th>\n",
       "      <th>Height</th>\n",
       "      <th>Location</th>\n",
       "    </tr>\n",
       "  </thead>\n",
       "  <tbody>\n",
       "    <tr>\n",
       "      <th>0</th>\n",
       "      <td>20</td>\n",
       "      <td>170</td>\n",
       "      <td>Hyd</td>\n",
       "    </tr>\n",
       "    <tr>\n",
       "      <th>1</th>\n",
       "      <td>21</td>\n",
       "      <td>171</td>\n",
       "      <td>Blr</td>\n",
       "    </tr>\n",
       "  </tbody>\n",
       "</table>\n",
       "</div>"
      ],
      "text/plain": [
       "   Age  Height Location\n",
       "0   20     170      Hyd\n",
       "1   21     171      Blr"
      ]
     },
     "execution_count": 59,
     "metadata": {},
     "output_type": "execute_result"
    }
   ],
   "source": [
    "df.iloc[0:2,1:4]"
   ]
  },
  {
   "cell_type": "code",
   "execution_count": 68,
   "id": "f4c28827",
   "metadata": {},
   "outputs": [
    {
     "data": {
      "text/html": [
       "<div>\n",
       "<style scoped>\n",
       "    .dataframe tbody tr th:only-of-type {\n",
       "        vertical-align: middle;\n",
       "    }\n",
       "\n",
       "    .dataframe tbody tr th {\n",
       "        vertical-align: top;\n",
       "    }\n",
       "\n",
       "    .dataframe thead th {\n",
       "        text-align: right;\n",
       "    }\n",
       "</style>\n",
       "<table border=\"1\" class=\"dataframe\">\n",
       "  <thead>\n",
       "    <tr style=\"text-align: right;\">\n",
       "      <th></th>\n",
       "      <th>Name</th>\n",
       "    </tr>\n",
       "  </thead>\n",
       "  <tbody>\n",
       "    <tr>\n",
       "      <th>0</th>\n",
       "      <td>Tarun</td>\n",
       "    </tr>\n",
       "    <tr>\n",
       "      <th>1</th>\n",
       "      <td>Sai</td>\n",
       "    </tr>\n",
       "    <tr>\n",
       "      <th>2</th>\n",
       "      <td>Krishna</td>\n",
       "    </tr>\n",
       "    <tr>\n",
       "      <th>3</th>\n",
       "      <td>Murthy</td>\n",
       "    </tr>\n",
       "  </tbody>\n",
       "</table>\n",
       "</div>"
      ],
      "text/plain": [
       "      Name\n",
       "0    Tarun\n",
       "1      Sai\n",
       "2  Krishna\n",
       "3   Murthy"
      ]
     },
     "execution_count": 68,
     "metadata": {},
     "output_type": "execute_result"
    }
   ],
   "source": [
    "df.iloc[:,0:1]"
   ]
  },
  {
   "cell_type": "code",
   "execution_count": 67,
   "id": "7201def6",
   "metadata": {},
   "outputs": [
    {
     "data": {
      "text/html": [
       "<div>\n",
       "<style scoped>\n",
       "    .dataframe tbody tr th:only-of-type {\n",
       "        vertical-align: middle;\n",
       "    }\n",
       "\n",
       "    .dataframe tbody tr th {\n",
       "        vertical-align: top;\n",
       "    }\n",
       "\n",
       "    .dataframe thead th {\n",
       "        text-align: right;\n",
       "    }\n",
       "</style>\n",
       "<table border=\"1\" class=\"dataframe\">\n",
       "  <thead>\n",
       "    <tr style=\"text-align: right;\">\n",
       "      <th></th>\n",
       "      <th>Age</th>\n",
       "    </tr>\n",
       "  </thead>\n",
       "  <tbody>\n",
       "    <tr>\n",
       "      <th>0</th>\n",
       "      <td>20</td>\n",
       "    </tr>\n",
       "    <tr>\n",
       "      <th>1</th>\n",
       "      <td>21</td>\n",
       "    </tr>\n",
       "    <tr>\n",
       "      <th>2</th>\n",
       "      <td>22</td>\n",
       "    </tr>\n",
       "    <tr>\n",
       "      <th>3</th>\n",
       "      <td>23</td>\n",
       "    </tr>\n",
       "  </tbody>\n",
       "</table>\n",
       "</div>"
      ],
      "text/plain": [
       "   Age\n",
       "0   20\n",
       "1   21\n",
       "2   22\n",
       "3   23"
      ]
     },
     "execution_count": 67,
     "metadata": {},
     "output_type": "execute_result"
    }
   ],
   "source": [
    "df.iloc[:,1:2]"
   ]
  },
  {
   "cell_type": "code",
   "execution_count": 70,
   "id": "cb67977b",
   "metadata": {},
   "outputs": [
    {
     "data": {
      "text/html": [
       "<div>\n",
       "<style scoped>\n",
       "    .dataframe tbody tr th:only-of-type {\n",
       "        vertical-align: middle;\n",
       "    }\n",
       "\n",
       "    .dataframe tbody tr th {\n",
       "        vertical-align: top;\n",
       "    }\n",
       "\n",
       "    .dataframe thead th {\n",
       "        text-align: right;\n",
       "    }\n",
       "</style>\n",
       "<table border=\"1\" class=\"dataframe\">\n",
       "  <thead>\n",
       "    <tr style=\"text-align: right;\">\n",
       "      <th></th>\n",
       "      <th>Height</th>\n",
       "    </tr>\n",
       "  </thead>\n",
       "  <tbody>\n",
       "    <tr>\n",
       "      <th>0</th>\n",
       "      <td>170</td>\n",
       "    </tr>\n",
       "    <tr>\n",
       "      <th>1</th>\n",
       "      <td>171</td>\n",
       "    </tr>\n",
       "    <tr>\n",
       "      <th>2</th>\n",
       "      <td>172</td>\n",
       "    </tr>\n",
       "    <tr>\n",
       "      <th>3</th>\n",
       "      <td>173</td>\n",
       "    </tr>\n",
       "  </tbody>\n",
       "</table>\n",
       "</div>"
      ],
      "text/plain": [
       "   Height\n",
       "0     170\n",
       "1     171\n",
       "2     172\n",
       "3     173"
      ]
     },
     "execution_count": 70,
     "metadata": {},
     "output_type": "execute_result"
    }
   ],
   "source": [
    "df.iloc[:,2:3]"
   ]
  },
  {
   "cell_type": "code",
   "execution_count": 71,
   "id": "821c7653",
   "metadata": {},
   "outputs": [
    {
     "data": {
      "text/html": [
       "<div>\n",
       "<style scoped>\n",
       "    .dataframe tbody tr th:only-of-type {\n",
       "        vertical-align: middle;\n",
       "    }\n",
       "\n",
       "    .dataframe tbody tr th {\n",
       "        vertical-align: top;\n",
       "    }\n",
       "\n",
       "    .dataframe thead th {\n",
       "        text-align: right;\n",
       "    }\n",
       "</style>\n",
       "<table border=\"1\" class=\"dataframe\">\n",
       "  <thead>\n",
       "    <tr style=\"text-align: right;\">\n",
       "      <th></th>\n",
       "      <th>Name</th>\n",
       "      <th>Age</th>\n",
       "      <th>Height</th>\n",
       "      <th>Location</th>\n",
       "      <th>Gender</th>\n",
       "    </tr>\n",
       "  </thead>\n",
       "  <tbody>\n",
       "    <tr>\n",
       "      <th>0</th>\n",
       "      <td>Tarun</td>\n",
       "      <td>20</td>\n",
       "      <td>170</td>\n",
       "      <td>Hyd</td>\n",
       "      <td>M</td>\n",
       "    </tr>\n",
       "    <tr>\n",
       "      <th>1</th>\n",
       "      <td>Sai</td>\n",
       "      <td>21</td>\n",
       "      <td>171</td>\n",
       "      <td>Blr</td>\n",
       "      <td>M</td>\n",
       "    </tr>\n",
       "    <tr>\n",
       "      <th>2</th>\n",
       "      <td>Krishna</td>\n",
       "      <td>22</td>\n",
       "      <td>172</td>\n",
       "      <td>Mum</td>\n",
       "      <td>M</td>\n",
       "    </tr>\n",
       "    <tr>\n",
       "      <th>3</th>\n",
       "      <td>Murthy</td>\n",
       "      <td>23</td>\n",
       "      <td>173</td>\n",
       "      <td>Chen</td>\n",
       "      <td>M</td>\n",
       "    </tr>\n",
       "  </tbody>\n",
       "</table>\n",
       "</div>"
      ],
      "text/plain": [
       "      Name  Age  Height Location Gender\n",
       "0    Tarun   20     170      Hyd      M\n",
       "1      Sai   21     171      Blr      M\n",
       "2  Krishna   22     172      Mum      M\n",
       "3   Murthy   23     173     Chen      M"
      ]
     },
     "execution_count": 71,
     "metadata": {},
     "output_type": "execute_result"
    }
   ],
   "source": [
    "df[\"Gender\"] = [\"M\",\"M\",\"M\",\"M\"]\n",
    "df"
   ]
  },
  {
   "cell_type": "code",
   "execution_count": 76,
   "id": "57fba7d5",
   "metadata": {},
   "outputs": [
    {
     "data": {
      "text/html": [
       "<div>\n",
       "<style scoped>\n",
       "    .dataframe tbody tr th:only-of-type {\n",
       "        vertical-align: middle;\n",
       "    }\n",
       "\n",
       "    .dataframe tbody tr th {\n",
       "        vertical-align: top;\n",
       "    }\n",
       "\n",
       "    .dataframe thead th {\n",
       "        text-align: right;\n",
       "    }\n",
       "</style>\n",
       "<table border=\"1\" class=\"dataframe\">\n",
       "  <thead>\n",
       "    <tr style=\"text-align: right;\">\n",
       "      <th></th>\n",
       "      <th>Name</th>\n",
       "      <th>Contacts</th>\n",
       "      <th>Age</th>\n",
       "      <th>Height</th>\n",
       "      <th>Location</th>\n",
       "      <th>Gender</th>\n",
       "      <th>4</th>\n",
       "      <th>Contact</th>\n",
       "    </tr>\n",
       "  </thead>\n",
       "  <tbody>\n",
       "    <tr>\n",
       "      <th>0</th>\n",
       "      <td>Tarun</td>\n",
       "      <td>1234</td>\n",
       "      <td>20</td>\n",
       "      <td>170</td>\n",
       "      <td>Hyd</td>\n",
       "      <td>M</td>\n",
       "      <td>Contact</td>\n",
       "      <td>1234</td>\n",
       "    </tr>\n",
       "    <tr>\n",
       "      <th>1</th>\n",
       "      <td>Sai</td>\n",
       "      <td>3456</td>\n",
       "      <td>21</td>\n",
       "      <td>171</td>\n",
       "      <td>Blr</td>\n",
       "      <td>M</td>\n",
       "      <td>Contact</td>\n",
       "      <td>3456</td>\n",
       "    </tr>\n",
       "    <tr>\n",
       "      <th>2</th>\n",
       "      <td>Krishna</td>\n",
       "      <td>9087</td>\n",
       "      <td>22</td>\n",
       "      <td>172</td>\n",
       "      <td>Mum</td>\n",
       "      <td>M</td>\n",
       "      <td>Contact</td>\n",
       "      <td>9087</td>\n",
       "    </tr>\n",
       "    <tr>\n",
       "      <th>3</th>\n",
       "      <td>Murthy</td>\n",
       "      <td>6784</td>\n",
       "      <td>23</td>\n",
       "      <td>173</td>\n",
       "      <td>Chen</td>\n",
       "      <td>M</td>\n",
       "      <td>Contact</td>\n",
       "      <td>6784</td>\n",
       "    </tr>\n",
       "  </tbody>\n",
       "</table>\n",
       "</div>"
      ],
      "text/plain": [
       "      Name  Contacts  Age  Height Location Gender        4 Contact\n",
       "0    Tarun      1234   20     170      Hyd      M  Contact    1234\n",
       "1      Sai      3456   21     171      Blr      M  Contact    3456\n",
       "2  Krishna      9087   22     172      Mum      M  Contact    9087\n",
       "3   Murthy      6784   23     173     Chen      M  Contact    6784"
      ]
     },
     "execution_count": 76,
     "metadata": {},
     "output_type": "execute_result"
    }
   ],
   "source": [
    "df.insert(1,\"Contacts\" , [1234,3456,9087,6784])\n",
    "df"
   ]
  },
  {
   "cell_type": "code",
   "execution_count": 85,
   "id": "4fb70c31",
   "metadata": {},
   "outputs": [
    {
     "data": {
      "text/html": [
       "<div>\n",
       "<style scoped>\n",
       "    .dataframe tbody tr th:only-of-type {\n",
       "        vertical-align: middle;\n",
       "    }\n",
       "\n",
       "    .dataframe tbody tr th {\n",
       "        vertical-align: top;\n",
       "    }\n",
       "\n",
       "    .dataframe thead th {\n",
       "        text-align: right;\n",
       "    }\n",
       "</style>\n",
       "<table border=\"1\" class=\"dataframe\">\n",
       "  <thead>\n",
       "    <tr style=\"text-align: right;\">\n",
       "      <th></th>\n",
       "      <th>Name</th>\n",
       "      <th>Contacts</th>\n",
       "      <th>Age</th>\n",
       "      <th>Height</th>\n",
       "      <th>Location</th>\n",
       "      <th>Gender</th>\n",
       "      <th>4</th>\n",
       "    </tr>\n",
       "  </thead>\n",
       "  <tbody>\n",
       "    <tr>\n",
       "      <th>0</th>\n",
       "      <td>Tarun</td>\n",
       "      <td>1234</td>\n",
       "      <td>20</td>\n",
       "      <td>170</td>\n",
       "      <td>Hyd</td>\n",
       "      <td>M</td>\n",
       "      <td>Contact</td>\n",
       "    </tr>\n",
       "    <tr>\n",
       "      <th>1</th>\n",
       "      <td>Sai</td>\n",
       "      <td>3456</td>\n",
       "      <td>21</td>\n",
       "      <td>171</td>\n",
       "      <td>Blr</td>\n",
       "      <td>M</td>\n",
       "      <td>Contact</td>\n",
       "    </tr>\n",
       "    <tr>\n",
       "      <th>2</th>\n",
       "      <td>Krishna</td>\n",
       "      <td>9087</td>\n",
       "      <td>22</td>\n",
       "      <td>172</td>\n",
       "      <td>Mum</td>\n",
       "      <td>M</td>\n",
       "      <td>Contact</td>\n",
       "    </tr>\n",
       "    <tr>\n",
       "      <th>3</th>\n",
       "      <td>Murthy</td>\n",
       "      <td>6784</td>\n",
       "      <td>23</td>\n",
       "      <td>173</td>\n",
       "      <td>Chen</td>\n",
       "      <td>M</td>\n",
       "      <td>Contact</td>\n",
       "    </tr>\n",
       "  </tbody>\n",
       "</table>\n",
       "</div>"
      ],
      "text/plain": [
       "      Name  Contacts  Age  Height Location Gender        4\n",
       "0    Tarun      1234   20     170      Hyd      M  Contact\n",
       "1      Sai      3456   21     171      Blr      M  Contact\n",
       "2  Krishna      9087   22     172      Mum      M  Contact\n",
       "3   Murthy      6784   23     173     Chen      M  Contact"
      ]
     },
     "execution_count": 85,
     "metadata": {},
     "output_type": "execute_result"
    }
   ],
   "source": [
    "df"
   ]
  },
  {
   "cell_type": "code",
   "execution_count": 87,
   "id": "b8388fd8",
   "metadata": {},
   "outputs": [],
   "source": [
    "del df[4]"
   ]
  },
  {
   "cell_type": "code",
   "execution_count": 88,
   "id": "ff6a65e7",
   "metadata": {},
   "outputs": [
    {
     "data": {
      "text/html": [
       "<div>\n",
       "<style scoped>\n",
       "    .dataframe tbody tr th:only-of-type {\n",
       "        vertical-align: middle;\n",
       "    }\n",
       "\n",
       "    .dataframe tbody tr th {\n",
       "        vertical-align: top;\n",
       "    }\n",
       "\n",
       "    .dataframe thead th {\n",
       "        text-align: right;\n",
       "    }\n",
       "</style>\n",
       "<table border=\"1\" class=\"dataframe\">\n",
       "  <thead>\n",
       "    <tr style=\"text-align: right;\">\n",
       "      <th></th>\n",
       "      <th>Name</th>\n",
       "      <th>Contacts</th>\n",
       "      <th>Age</th>\n",
       "      <th>Height</th>\n",
       "      <th>Location</th>\n",
       "      <th>Gender</th>\n",
       "    </tr>\n",
       "  </thead>\n",
       "  <tbody>\n",
       "    <tr>\n",
       "      <th>0</th>\n",
       "      <td>Tarun</td>\n",
       "      <td>1234</td>\n",
       "      <td>20</td>\n",
       "      <td>170</td>\n",
       "      <td>Hyd</td>\n",
       "      <td>M</td>\n",
       "    </tr>\n",
       "    <tr>\n",
       "      <th>1</th>\n",
       "      <td>Sai</td>\n",
       "      <td>3456</td>\n",
       "      <td>21</td>\n",
       "      <td>171</td>\n",
       "      <td>Blr</td>\n",
       "      <td>M</td>\n",
       "    </tr>\n",
       "    <tr>\n",
       "      <th>2</th>\n",
       "      <td>Krishna</td>\n",
       "      <td>9087</td>\n",
       "      <td>22</td>\n",
       "      <td>172</td>\n",
       "      <td>Mum</td>\n",
       "      <td>M</td>\n",
       "    </tr>\n",
       "    <tr>\n",
       "      <th>3</th>\n",
       "      <td>Murthy</td>\n",
       "      <td>6784</td>\n",
       "      <td>23</td>\n",
       "      <td>173</td>\n",
       "      <td>Chen</td>\n",
       "      <td>M</td>\n",
       "    </tr>\n",
       "  </tbody>\n",
       "</table>\n",
       "</div>"
      ],
      "text/plain": [
       "      Name  Contacts  Age  Height Location Gender\n",
       "0    Tarun      1234   20     170      Hyd      M\n",
       "1      Sai      3456   21     171      Blr      M\n",
       "2  Krishna      9087   22     172      Mum      M\n",
       "3   Murthy      6784   23     173     Chen      M"
      ]
     },
     "execution_count": 88,
     "metadata": {},
     "output_type": "execute_result"
    }
   ],
   "source": [
    "df"
   ]
  },
  {
   "cell_type": "code",
   "execution_count": 91,
   "id": "a5558e4c",
   "metadata": {},
   "outputs": [
    {
     "data": {
      "text/html": [
       "<div>\n",
       "<style scoped>\n",
       "    .dataframe tbody tr th:only-of-type {\n",
       "        vertical-align: middle;\n",
       "    }\n",
       "\n",
       "    .dataframe tbody tr th {\n",
       "        vertical-align: top;\n",
       "    }\n",
       "\n",
       "    .dataframe thead th {\n",
       "        text-align: right;\n",
       "    }\n",
       "</style>\n",
       "<table border=\"1\" class=\"dataframe\">\n",
       "  <thead>\n",
       "    <tr style=\"text-align: right;\">\n",
       "      <th></th>\n",
       "      <th>Name</th>\n",
       "      <th>Contacts</th>\n",
       "      <th>Age</th>\n",
       "      <th>Height</th>\n",
       "      <th>Location</th>\n",
       "      <th>Gender</th>\n",
       "    </tr>\n",
       "  </thead>\n",
       "  <tbody>\n",
       "    <tr>\n",
       "      <th>0</th>\n",
       "      <td>Tarun</td>\n",
       "      <td>1234</td>\n",
       "      <td>20</td>\n",
       "      <td>170</td>\n",
       "      <td>Hyd</td>\n",
       "      <td>M</td>\n",
       "    </tr>\n",
       "    <tr>\n",
       "      <th>1</th>\n",
       "      <td>Sai</td>\n",
       "      <td>3456</td>\n",
       "      <td>21</td>\n",
       "      <td>171</td>\n",
       "      <td>Blr</td>\n",
       "      <td>M</td>\n",
       "    </tr>\n",
       "    <tr>\n",
       "      <th>2</th>\n",
       "      <td>Krishna</td>\n",
       "      <td>9087</td>\n",
       "      <td>22</td>\n",
       "      <td>172</td>\n",
       "      <td>Mum</td>\n",
       "      <td>M</td>\n",
       "    </tr>\n",
       "    <tr>\n",
       "      <th>3</th>\n",
       "      <td>Murthy</td>\n",
       "      <td>6784</td>\n",
       "      <td>23</td>\n",
       "      <td>173</td>\n",
       "      <td>Chen</td>\n",
       "      <td>M</td>\n",
       "    </tr>\n",
       "    <tr>\n",
       "      <th>4</th>\n",
       "      <td>Padala</td>\n",
       "      <td>4568</td>\n",
       "      <td>25</td>\n",
       "      <td>167</td>\n",
       "      <td>Pune</td>\n",
       "      <td>M</td>\n",
       "    </tr>\n",
       "  </tbody>\n",
       "</table>\n",
       "</div>"
      ],
      "text/plain": [
       "      Name  Contacts  Age  Height Location Gender\n",
       "0    Tarun      1234   20     170      Hyd      M\n",
       "1      Sai      3456   21     171      Blr      M\n",
       "2  Krishna      9087   22     172      Mum      M\n",
       "3   Murthy      6784   23     173     Chen      M\n",
       "4   Padala      4568   25     167     Pune      M"
      ]
     },
     "execution_count": 91,
     "metadata": {},
     "output_type": "execute_result"
    }
   ],
   "source": [
    "#Addind rows\n",
    "df.loc[4]=[\"Padala\",4568,25,167,\"Pune\",\"M\"]\n",
    "df"
   ]
  },
  {
   "cell_type": "code",
   "execution_count": 93,
   "id": "65c5ec0b",
   "metadata": {},
   "outputs": [
    {
     "data": {
      "text/html": [
       "<div>\n",
       "<style scoped>\n",
       "    .dataframe tbody tr th:only-of-type {\n",
       "        vertical-align: middle;\n",
       "    }\n",
       "\n",
       "    .dataframe tbody tr th {\n",
       "        vertical-align: top;\n",
       "    }\n",
       "\n",
       "    .dataframe thead th {\n",
       "        text-align: right;\n",
       "    }\n",
       "</style>\n",
       "<table border=\"1\" class=\"dataframe\">\n",
       "  <thead>\n",
       "    <tr style=\"text-align: right;\">\n",
       "      <th></th>\n",
       "      <th>Name</th>\n",
       "      <th>Age</th>\n",
       "      <th>Height</th>\n",
       "      <th>Location</th>\n",
       "    </tr>\n",
       "  </thead>\n",
       "  <tbody>\n",
       "    <tr>\n",
       "      <th>0</th>\n",
       "      <td>Gill</td>\n",
       "      <td>25</td>\n",
       "      <td>170</td>\n",
       "      <td>Hyd</td>\n",
       "    </tr>\n",
       "    <tr>\n",
       "      <th>1</th>\n",
       "      <td>Jaiswal</td>\n",
       "      <td>24</td>\n",
       "      <td>171</td>\n",
       "      <td>Blr</td>\n",
       "    </tr>\n",
       "  </tbody>\n",
       "</table>\n",
       "</div>"
      ],
      "text/plain": [
       "      Name  Age  Height Location\n",
       "0     Gill   25     170      Hyd\n",
       "1  Jaiswal   24     171      Blr"
      ]
     },
     "execution_count": 93,
     "metadata": {},
     "output_type": "execute_result"
    }
   ],
   "source": [
    "data2 = {\"Name\" : [\"Gill\",\"Jaiswal\"],\n",
    "       \"Age\" : [25, 24],\n",
    "       \"Height\" : [170,171],\n",
    "       \"Location\" : [\"Hyd\",\"Blr\"]}\n",
    "df2 = pd.DataFrame(data2)\n",
    "df2"
   ]
  },
  {
   "cell_type": "code",
   "execution_count": 103,
   "id": "a9efa8e1",
   "metadata": {},
   "outputs": [
    {
     "data": {
      "text/html": [
       "<div>\n",
       "<style scoped>\n",
       "    .dataframe tbody tr th:only-of-type {\n",
       "        vertical-align: middle;\n",
       "    }\n",
       "\n",
       "    .dataframe tbody tr th {\n",
       "        vertical-align: top;\n",
       "    }\n",
       "\n",
       "    .dataframe thead th {\n",
       "        text-align: right;\n",
       "    }\n",
       "</style>\n",
       "<table border=\"1\" class=\"dataframe\">\n",
       "  <thead>\n",
       "    <tr style=\"text-align: right;\">\n",
       "      <th></th>\n",
       "      <th>Name</th>\n",
       "      <th>Age</th>\n",
       "      <th>Height</th>\n",
       "      <th>Location</th>\n",
       "      <th>Contacts</th>\n",
       "      <th>Gender</th>\n",
       "    </tr>\n",
       "  </thead>\n",
       "  <tbody>\n",
       "    <tr>\n",
       "      <th>0</th>\n",
       "      <td>Gill</td>\n",
       "      <td>25</td>\n",
       "      <td>170</td>\n",
       "      <td>Hyd</td>\n",
       "      <td>NaN</td>\n",
       "      <td>NaN</td>\n",
       "    </tr>\n",
       "    <tr>\n",
       "      <th>1</th>\n",
       "      <td>Jaiswal</td>\n",
       "      <td>24</td>\n",
       "      <td>171</td>\n",
       "      <td>Blr</td>\n",
       "      <td>NaN</td>\n",
       "      <td>NaN</td>\n",
       "    </tr>\n",
       "    <tr>\n",
       "      <th>2</th>\n",
       "      <td>Tarun</td>\n",
       "      <td>20</td>\n",
       "      <td>170</td>\n",
       "      <td>Hyd</td>\n",
       "      <td>1234.0</td>\n",
       "      <td>M</td>\n",
       "    </tr>\n",
       "    <tr>\n",
       "      <th>3</th>\n",
       "      <td>Sai</td>\n",
       "      <td>21</td>\n",
       "      <td>171</td>\n",
       "      <td>Blr</td>\n",
       "      <td>3456.0</td>\n",
       "      <td>M</td>\n",
       "    </tr>\n",
       "    <tr>\n",
       "      <th>4</th>\n",
       "      <td>Krishna</td>\n",
       "      <td>22</td>\n",
       "      <td>172</td>\n",
       "      <td>Mum</td>\n",
       "      <td>9087.0</td>\n",
       "      <td>M</td>\n",
       "    </tr>\n",
       "    <tr>\n",
       "      <th>5</th>\n",
       "      <td>Murthy</td>\n",
       "      <td>23</td>\n",
       "      <td>173</td>\n",
       "      <td>Chen</td>\n",
       "      <td>6784.0</td>\n",
       "      <td>M</td>\n",
       "    </tr>\n",
       "    <tr>\n",
       "      <th>6</th>\n",
       "      <td>Padala</td>\n",
       "      <td>25</td>\n",
       "      <td>167</td>\n",
       "      <td>Pune</td>\n",
       "      <td>4568.0</td>\n",
       "      <td>M</td>\n",
       "    </tr>\n",
       "    <tr>\n",
       "      <th>7</th>\n",
       "      <td>Gill</td>\n",
       "      <td>25</td>\n",
       "      <td>170</td>\n",
       "      <td>Hyd</td>\n",
       "      <td>NaN</td>\n",
       "      <td>NaN</td>\n",
       "    </tr>\n",
       "    <tr>\n",
       "      <th>8</th>\n",
       "      <td>Jaiswal</td>\n",
       "      <td>24</td>\n",
       "      <td>171</td>\n",
       "      <td>Blr</td>\n",
       "      <td>NaN</td>\n",
       "      <td>NaN</td>\n",
       "    </tr>\n",
       "    <tr>\n",
       "      <th>9</th>\n",
       "      <td>Gill</td>\n",
       "      <td>25</td>\n",
       "      <td>170</td>\n",
       "      <td>Hyd</td>\n",
       "      <td>NaN</td>\n",
       "      <td>NaN</td>\n",
       "    </tr>\n",
       "    <tr>\n",
       "      <th>10</th>\n",
       "      <td>Jaiswal</td>\n",
       "      <td>24</td>\n",
       "      <td>171</td>\n",
       "      <td>Blr</td>\n",
       "      <td>NaN</td>\n",
       "      <td>NaN</td>\n",
       "    </tr>\n",
       "    <tr>\n",
       "      <th>11</th>\n",
       "      <td>Gill</td>\n",
       "      <td>25</td>\n",
       "      <td>170</td>\n",
       "      <td>Hyd</td>\n",
       "      <td>NaN</td>\n",
       "      <td>NaN</td>\n",
       "    </tr>\n",
       "    <tr>\n",
       "      <th>12</th>\n",
       "      <td>Jaiswal</td>\n",
       "      <td>24</td>\n",
       "      <td>171</td>\n",
       "      <td>Blr</td>\n",
       "      <td>NaN</td>\n",
       "      <td>NaN</td>\n",
       "    </tr>\n",
       "  </tbody>\n",
       "</table>\n",
       "</div>"
      ],
      "text/plain": [
       "       Name  Age  Height Location  Contacts Gender\n",
       "0      Gill   25     170      Hyd       NaN    NaN\n",
       "1   Jaiswal   24     171      Blr       NaN    NaN\n",
       "2     Tarun   20     170      Hyd    1234.0      M\n",
       "3       Sai   21     171      Blr    3456.0      M\n",
       "4   Krishna   22     172      Mum    9087.0      M\n",
       "5    Murthy   23     173     Chen    6784.0      M\n",
       "6    Padala   25     167     Pune    4568.0      M\n",
       "7      Gill   25     170      Hyd       NaN    NaN\n",
       "8   Jaiswal   24     171      Blr       NaN    NaN\n",
       "9      Gill   25     170      Hyd       NaN    NaN\n",
       "10  Jaiswal   24     171      Blr       NaN    NaN\n",
       "11     Gill   25     170      Hyd       NaN    NaN\n",
       "12  Jaiswal   24     171      Blr       NaN    NaN"
      ]
     },
     "execution_count": 103,
     "metadata": {},
     "output_type": "execute_result"
    }
   ],
   "source": [
    "df = pd.concat([df,df2],ignore_index=True)\n",
    "df"
   ]
  },
  {
   "cell_type": "code",
   "execution_count": 112,
   "id": "17c1c717",
   "metadata": {},
   "outputs": [
    {
     "data": {
      "text/html": [
       "<div>\n",
       "<style scoped>\n",
       "    .dataframe tbody tr th:only-of-type {\n",
       "        vertical-align: middle;\n",
       "    }\n",
       "\n",
       "    .dataframe tbody tr th {\n",
       "        vertical-align: top;\n",
       "    }\n",
       "\n",
       "    .dataframe thead th {\n",
       "        text-align: right;\n",
       "    }\n",
       "</style>\n",
       "<table border=\"1\" class=\"dataframe\">\n",
       "  <thead>\n",
       "    <tr style=\"text-align: right;\">\n",
       "      <th></th>\n",
       "      <th>Name</th>\n",
       "      <th>Age</th>\n",
       "      <th>Height</th>\n",
       "      <th>Location</th>\n",
       "      <th>Contacts</th>\n",
       "      <th>Gender</th>\n",
       "    </tr>\n",
       "  </thead>\n",
       "  <tbody>\n",
       "    <tr>\n",
       "      <th>2</th>\n",
       "      <td>Tarun</td>\n",
       "      <td>20</td>\n",
       "      <td>170</td>\n",
       "      <td>Hyd</td>\n",
       "      <td>1234.0</td>\n",
       "      <td>M</td>\n",
       "    </tr>\n",
       "    <tr>\n",
       "      <th>3</th>\n",
       "      <td>Sai</td>\n",
       "      <td>21</td>\n",
       "      <td>171</td>\n",
       "      <td>Blr</td>\n",
       "      <td>3456.0</td>\n",
       "      <td>M</td>\n",
       "    </tr>\n",
       "    <tr>\n",
       "      <th>4</th>\n",
       "      <td>Krishna</td>\n",
       "      <td>22</td>\n",
       "      <td>172</td>\n",
       "      <td>Mum</td>\n",
       "      <td>9087.0</td>\n",
       "      <td>M</td>\n",
       "    </tr>\n",
       "    <tr>\n",
       "      <th>5</th>\n",
       "      <td>Murthy</td>\n",
       "      <td>23</td>\n",
       "      <td>173</td>\n",
       "      <td>Chen</td>\n",
       "      <td>6784.0</td>\n",
       "      <td>M</td>\n",
       "    </tr>\n",
       "    <tr>\n",
       "      <th>6</th>\n",
       "      <td>Padala</td>\n",
       "      <td>25</td>\n",
       "      <td>167</td>\n",
       "      <td>Pune</td>\n",
       "      <td>4568.0</td>\n",
       "      <td>M</td>\n",
       "    </tr>\n",
       "    <tr>\n",
       "      <th>7</th>\n",
       "      <td>Gill</td>\n",
       "      <td>25</td>\n",
       "      <td>170</td>\n",
       "      <td>Hyd</td>\n",
       "      <td>NaN</td>\n",
       "      <td>NaN</td>\n",
       "    </tr>\n",
       "    <tr>\n",
       "      <th>8</th>\n",
       "      <td>Jaiswal</td>\n",
       "      <td>24</td>\n",
       "      <td>171</td>\n",
       "      <td>Blr</td>\n",
       "      <td>NaN</td>\n",
       "      <td>NaN</td>\n",
       "    </tr>\n",
       "    <tr>\n",
       "      <th>9</th>\n",
       "      <td>Gill</td>\n",
       "      <td>25</td>\n",
       "      <td>170</td>\n",
       "      <td>Hyd</td>\n",
       "      <td>NaN</td>\n",
       "      <td>NaN</td>\n",
       "    </tr>\n",
       "    <tr>\n",
       "      <th>10</th>\n",
       "      <td>Jaiswal</td>\n",
       "      <td>24</td>\n",
       "      <td>171</td>\n",
       "      <td>Blr</td>\n",
       "      <td>NaN</td>\n",
       "      <td>NaN</td>\n",
       "    </tr>\n",
       "    <tr>\n",
       "      <th>11</th>\n",
       "      <td>Gill</td>\n",
       "      <td>25</td>\n",
       "      <td>170</td>\n",
       "      <td>Hyd</td>\n",
       "      <td>NaN</td>\n",
       "      <td>NaN</td>\n",
       "    </tr>\n",
       "    <tr>\n",
       "      <th>12</th>\n",
       "      <td>Jaiswal</td>\n",
       "      <td>24</td>\n",
       "      <td>171</td>\n",
       "      <td>Blr</td>\n",
       "      <td>NaN</td>\n",
       "      <td>NaN</td>\n",
       "    </tr>\n",
       "  </tbody>\n",
       "</table>\n",
       "</div>"
      ],
      "text/plain": [
       "       Name  Age  Height Location  Contacts Gender\n",
       "2     Tarun   20     170      Hyd    1234.0      M\n",
       "3       Sai   21     171      Blr    3456.0      M\n",
       "4   Krishna   22     172      Mum    9087.0      M\n",
       "5    Murthy   23     173     Chen    6784.0      M\n",
       "6    Padala   25     167     Pune    4568.0      M\n",
       "7      Gill   25     170      Hyd       NaN    NaN\n",
       "8   Jaiswal   24     171      Blr       NaN    NaN\n",
       "9      Gill   25     170      Hyd       NaN    NaN\n",
       "10  Jaiswal   24     171      Blr       NaN    NaN\n",
       "11     Gill   25     170      Hyd       NaN    NaN\n",
       "12  Jaiswal   24     171      Blr       NaN    NaN"
      ]
     },
     "execution_count": 112,
     "metadata": {},
     "output_type": "execute_result"
    }
   ],
   "source": [
    "df = df.drop(1)\n",
    "df"
   ]
  },
  {
   "cell_type": "code",
   "execution_count": 113,
   "id": "c819032c",
   "metadata": {},
   "outputs": [
    {
     "data": {
      "text/html": [
       "<div>\n",
       "<style scoped>\n",
       "    .dataframe tbody tr th:only-of-type {\n",
       "        vertical-align: middle;\n",
       "    }\n",
       "\n",
       "    .dataframe tbody tr th {\n",
       "        vertical-align: top;\n",
       "    }\n",
       "\n",
       "    .dataframe thead th {\n",
       "        text-align: right;\n",
       "    }\n",
       "</style>\n",
       "<table border=\"1\" class=\"dataframe\">\n",
       "  <thead>\n",
       "    <tr style=\"text-align: right;\">\n",
       "      <th></th>\n",
       "      <th>Name</th>\n",
       "      <th>Age</th>\n",
       "      <th>Height</th>\n",
       "      <th>Location</th>\n",
       "      <th>Contacts</th>\n",
       "      <th>Gender</th>\n",
       "    </tr>\n",
       "  </thead>\n",
       "  <tbody>\n",
       "    <tr>\n",
       "      <th>0</th>\n",
       "      <td>Tarun</td>\n",
       "      <td>20</td>\n",
       "      <td>170</td>\n",
       "      <td>Hyd</td>\n",
       "      <td>1234.0</td>\n",
       "      <td>M</td>\n",
       "    </tr>\n",
       "    <tr>\n",
       "      <th>1</th>\n",
       "      <td>Sai</td>\n",
       "      <td>21</td>\n",
       "      <td>171</td>\n",
       "      <td>Blr</td>\n",
       "      <td>3456.0</td>\n",
       "      <td>M</td>\n",
       "    </tr>\n",
       "    <tr>\n",
       "      <th>2</th>\n",
       "      <td>Krishna</td>\n",
       "      <td>22</td>\n",
       "      <td>172</td>\n",
       "      <td>Mum</td>\n",
       "      <td>9087.0</td>\n",
       "      <td>M</td>\n",
       "    </tr>\n",
       "    <tr>\n",
       "      <th>3</th>\n",
       "      <td>Murthy</td>\n",
       "      <td>23</td>\n",
       "      <td>173</td>\n",
       "      <td>Chen</td>\n",
       "      <td>6784.0</td>\n",
       "      <td>M</td>\n",
       "    </tr>\n",
       "    <tr>\n",
       "      <th>4</th>\n",
       "      <td>Padala</td>\n",
       "      <td>25</td>\n",
       "      <td>167</td>\n",
       "      <td>Pune</td>\n",
       "      <td>4568.0</td>\n",
       "      <td>M</td>\n",
       "    </tr>\n",
       "    <tr>\n",
       "      <th>5</th>\n",
       "      <td>Gill</td>\n",
       "      <td>25</td>\n",
       "      <td>170</td>\n",
       "      <td>Hyd</td>\n",
       "      <td>NaN</td>\n",
       "      <td>NaN</td>\n",
       "    </tr>\n",
       "    <tr>\n",
       "      <th>6</th>\n",
       "      <td>Jaiswal</td>\n",
       "      <td>24</td>\n",
       "      <td>171</td>\n",
       "      <td>Blr</td>\n",
       "      <td>NaN</td>\n",
       "      <td>NaN</td>\n",
       "    </tr>\n",
       "    <tr>\n",
       "      <th>7</th>\n",
       "      <td>Gill</td>\n",
       "      <td>25</td>\n",
       "      <td>170</td>\n",
       "      <td>Hyd</td>\n",
       "      <td>NaN</td>\n",
       "      <td>NaN</td>\n",
       "    </tr>\n",
       "    <tr>\n",
       "      <th>8</th>\n",
       "      <td>Jaiswal</td>\n",
       "      <td>24</td>\n",
       "      <td>171</td>\n",
       "      <td>Blr</td>\n",
       "      <td>NaN</td>\n",
       "      <td>NaN</td>\n",
       "    </tr>\n",
       "    <tr>\n",
       "      <th>9</th>\n",
       "      <td>Gill</td>\n",
       "      <td>25</td>\n",
       "      <td>170</td>\n",
       "      <td>Hyd</td>\n",
       "      <td>NaN</td>\n",
       "      <td>NaN</td>\n",
       "    </tr>\n",
       "    <tr>\n",
       "      <th>10</th>\n",
       "      <td>Jaiswal</td>\n",
       "      <td>24</td>\n",
       "      <td>171</td>\n",
       "      <td>Blr</td>\n",
       "      <td>NaN</td>\n",
       "      <td>NaN</td>\n",
       "    </tr>\n",
       "  </tbody>\n",
       "</table>\n",
       "</div>"
      ],
      "text/plain": [
       "       Name  Age  Height Location  Contacts Gender\n",
       "0     Tarun   20     170      Hyd    1234.0      M\n",
       "1       Sai   21     171      Blr    3456.0      M\n",
       "2   Krishna   22     172      Mum    9087.0      M\n",
       "3    Murthy   23     173     Chen    6784.0      M\n",
       "4    Padala   25     167     Pune    4568.0      M\n",
       "5      Gill   25     170      Hyd       NaN    NaN\n",
       "6   Jaiswal   24     171      Blr       NaN    NaN\n",
       "7      Gill   25     170      Hyd       NaN    NaN\n",
       "8   Jaiswal   24     171      Blr       NaN    NaN\n",
       "9      Gill   25     170      Hyd       NaN    NaN\n",
       "10  Jaiswal   24     171      Blr       NaN    NaN"
      ]
     },
     "execution_count": 113,
     "metadata": {},
     "output_type": "execute_result"
    }
   ],
   "source": [
    "df = pd.concat([df],ignore_index=True)\n",
    "df"
   ]
  }
 ],
 "metadata": {
  "kernelspec": {
   "display_name": "Python 3 (ipykernel)",
   "language": "python",
   "name": "python3"
  },
  "language_info": {
   "codemirror_mode": {
    "name": "ipython",
    "version": 3
   },
   "file_extension": ".py",
   "mimetype": "text/x-python",
   "name": "python",
   "nbconvert_exporter": "python",
   "pygments_lexer": "ipython3",
   "version": "3.9.13"
  }
 },
 "nbformat": 4,
 "nbformat_minor": 5
}
