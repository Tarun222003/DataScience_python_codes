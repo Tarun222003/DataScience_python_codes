{
 "cells": [
  {
   "cell_type": "code",
   "execution_count": 2,
   "id": "e17f3aad",
   "metadata": {},
   "outputs": [
    {
     "data": {
      "text/html": [
       "<div>\n",
       "<style scoped>\n",
       "    .dataframe tbody tr th:only-of-type {\n",
       "        vertical-align: middle;\n",
       "    }\n",
       "\n",
       "    .dataframe tbody tr th {\n",
       "        vertical-align: top;\n",
       "    }\n",
       "\n",
       "    .dataframe thead th {\n",
       "        text-align: right;\n",
       "    }\n",
       "</style>\n",
       "<table border=\"1\" class=\"dataframe\">\n",
       "  <thead>\n",
       "    <tr style=\"text-align: right;\">\n",
       "      <th></th>\n",
       "      <th>Customer_ID</th>\n",
       "      <th>Service_Type</th>\n",
       "      <th>Satisfaction_Score</th>\n",
       "      <th>Transaction_Count</th>\n",
       "      <th>Avg_Transaction_Value</th>\n",
       "    </tr>\n",
       "  </thead>\n",
       "  <tbody>\n",
       "    <tr>\n",
       "      <th>0</th>\n",
       "      <td>1</td>\n",
       "      <td>Retail Banking</td>\n",
       "      <td>80</td>\n",
       "      <td>9</td>\n",
       "      <td>565.273940</td>\n",
       "    </tr>\n",
       "    <tr>\n",
       "      <th>1</th>\n",
       "      <td>2</td>\n",
       "      <td>Retail Banking</td>\n",
       "      <td>74</td>\n",
       "      <td>6</td>\n",
       "      <td>501.050192</td>\n",
       "    </tr>\n",
       "    <tr>\n",
       "      <th>2</th>\n",
       "      <td>3</td>\n",
       "      <td>Retail Banking</td>\n",
       "      <td>81</td>\n",
       "      <td>16</td>\n",
       "      <td>534.097649</td>\n",
       "    </tr>\n",
       "    <tr>\n",
       "      <th>3</th>\n",
       "      <td>4</td>\n",
       "      <td>Retail Banking</td>\n",
       "      <td>90</td>\n",
       "      <td>10</td>\n",
       "      <td>484.486662</td>\n",
       "    </tr>\n",
       "    <tr>\n",
       "      <th>4</th>\n",
       "      <td>5</td>\n",
       "      <td>Retail Banking</td>\n",
       "      <td>73</td>\n",
       "      <td>18</td>\n",
       "      <td>516.208318</td>\n",
       "    </tr>\n",
       "    <tr>\n",
       "      <th>...</th>\n",
       "      <td>...</td>\n",
       "      <td>...</td>\n",
       "      <td>...</td>\n",
       "      <td>...</td>\n",
       "      <td>...</td>\n",
       "    </tr>\n",
       "    <tr>\n",
       "      <th>290</th>\n",
       "      <td>296</td>\n",
       "      <td>Online Banking</td>\n",
       "      <td>69</td>\n",
       "      <td>7</td>\n",
       "      <td>336.250987</td>\n",
       "    </tr>\n",
       "    <tr>\n",
       "      <th>291</th>\n",
       "      <td>297</td>\n",
       "      <td>Online Banking</td>\n",
       "      <td>66</td>\n",
       "      <td>5</td>\n",
       "      <td>330.721876</td>\n",
       "    </tr>\n",
       "    <tr>\n",
       "      <th>292</th>\n",
       "      <td>298</td>\n",
       "      <td>Online Banking</td>\n",
       "      <td>85</td>\n",
       "      <td>2</td>\n",
       "      <td>317.775808</td>\n",
       "    </tr>\n",
       "    <tr>\n",
       "      <th>293</th>\n",
       "      <td>299</td>\n",
       "      <td>Online Banking</td>\n",
       "      <td>58</td>\n",
       "      <td>1</td>\n",
       "      <td>323.350832</td>\n",
       "    </tr>\n",
       "    <tr>\n",
       "      <th>294</th>\n",
       "      <td>300</td>\n",
       "      <td>Online Banking</td>\n",
       "      <td>52</td>\n",
       "      <td>7</td>\n",
       "      <td>283.464428</td>\n",
       "    </tr>\n",
       "  </tbody>\n",
       "</table>\n",
       "<p>295 rows × 5 columns</p>\n",
       "</div>"
      ],
      "text/plain": [
       "     Customer_ID    Service_Type  Satisfaction_Score  Transaction_Count  \\\n",
       "0              1  Retail Banking                  80                  9   \n",
       "1              2  Retail Banking                  74                  6   \n",
       "2              3  Retail Banking                  81                 16   \n",
       "3              4  Retail Banking                  90                 10   \n",
       "4              5  Retail Banking                  73                 18   \n",
       "..           ...             ...                 ...                ...   \n",
       "290          296  Online Banking                  69                  7   \n",
       "291          297  Online Banking                  66                  5   \n",
       "292          298  Online Banking                  85                  2   \n",
       "293          299  Online Banking                  58                  1   \n",
       "294          300  Online Banking                  52                  7   \n",
       "\n",
       "     Avg_Transaction_Value  \n",
       "0               565.273940  \n",
       "1               501.050192  \n",
       "2               534.097649  \n",
       "3               484.486662  \n",
       "4               516.208318  \n",
       "..                     ...  \n",
       "290             336.250987  \n",
       "291             330.721876  \n",
       "292             317.775808  \n",
       "293             323.350832  \n",
       "294             283.464428  \n",
       "\n",
       "[295 rows x 5 columns]"
      ]
     },
     "execution_count": 2,
     "metadata": {},
     "output_type": "execute_result"
    }
   ],
   "source": [
    "import pandas as pd\n",
    "\n",
    "df = pd.read_csv(r\"C:\\Users\\padal\\OneDrive\\Desktop\\Data Science\\banking_anova_dataset.csv\")\n",
    "df"
   ]
  },
  {
   "cell_type": "code",
   "execution_count": 4,
   "id": "09c276fb",
   "metadata": {},
   "outputs": [
    {
     "name": "stdout",
     "output_type": "stream",
     "text": [
      "<class 'pandas.core.frame.DataFrame'>\n",
      "RangeIndex: 295 entries, 0 to 294\n",
      "Data columns (total 5 columns):\n",
      " #   Column                 Non-Null Count  Dtype  \n",
      "---  ------                 --------------  -----  \n",
      " 0   Customer_ID            295 non-null    int64  \n",
      " 1   Service_Type           295 non-null    object \n",
      " 2   Satisfaction_Score     295 non-null    int64  \n",
      " 3   Transaction_Count      295 non-null    int64  \n",
      " 4   Avg_Transaction_Value  295 non-null    float64\n",
      "dtypes: float64(1), int64(3), object(1)\n",
      "memory usage: 11.6+ KB\n"
     ]
    }
   ],
   "source": [
    "df.info()"
   ]
  },
  {
   "cell_type": "code",
   "execution_count": 5,
   "id": "0d48fdc9",
   "metadata": {},
   "outputs": [
    {
     "data": {
      "text/plain": [
       "Retail Banking       100\n",
       "Online Banking       100\n",
       "Corporate Banking     95\n",
       "Name: Service_Type, dtype: int64"
      ]
     },
     "execution_count": 5,
     "metadata": {},
     "output_type": "execute_result"
    }
   ],
   "source": [
    "df[\"Service_Type\"].value_counts()"
   ]
  },
  {
   "cell_type": "code",
   "execution_count": 9,
   "id": "9c241a08",
   "metadata": {},
   "outputs": [
    {
     "data": {
      "text/plain": [
       "<statsmodels.regression.linear_model.RegressionResultsWrapper at 0x22e04170fa0>"
      ]
     },
     "execution_count": 9,
     "metadata": {},
     "output_type": "execute_result"
    }
   ],
   "source": [
    "from statsmodels.formula.api import ols\n",
    "model = ols(\"Satisfaction_Score ~ C(Service_Type)\", data=df).fit()\n",
    "model"
   ]
  },
  {
   "cell_type": "code",
   "execution_count": 10,
   "id": "d69d697e",
   "metadata": {},
   "outputs": [
    {
     "data": {
      "text/html": [
       "<div>\n",
       "<style scoped>\n",
       "    .dataframe tbody tr th:only-of-type {\n",
       "        vertical-align: middle;\n",
       "    }\n",
       "\n",
       "    .dataframe tbody tr th {\n",
       "        vertical-align: top;\n",
       "    }\n",
       "\n",
       "    .dataframe thead th {\n",
       "        text-align: right;\n",
       "    }\n",
       "</style>\n",
       "<table border=\"1\" class=\"dataframe\">\n",
       "  <thead>\n",
       "    <tr style=\"text-align: right;\">\n",
       "      <th></th>\n",
       "      <th>df</th>\n",
       "      <th>sum_sq</th>\n",
       "      <th>mean_sq</th>\n",
       "      <th>F</th>\n",
       "      <th>PR(&gt;F)</th>\n",
       "    </tr>\n",
       "  </thead>\n",
       "  <tbody>\n",
       "    <tr>\n",
       "      <th>C(Service_Type)</th>\n",
       "      <td>2.0</td>\n",
       "      <td>513.592899</td>\n",
       "      <td>256.796450</td>\n",
       "      <td>1.979333</td>\n",
       "      <td>0.140011</td>\n",
       "    </tr>\n",
       "    <tr>\n",
       "      <th>Residual</th>\n",
       "      <td>292.0</td>\n",
       "      <td>37883.749474</td>\n",
       "      <td>129.738868</td>\n",
       "      <td>NaN</td>\n",
       "      <td>NaN</td>\n",
       "    </tr>\n",
       "  </tbody>\n",
       "</table>\n",
       "</div>"
      ],
      "text/plain": [
       "                    df        sum_sq     mean_sq         F    PR(>F)\n",
       "C(Service_Type)    2.0    513.592899  256.796450  1.979333  0.140011\n",
       "Residual         292.0  37883.749474  129.738868       NaN       NaN"
      ]
     },
     "execution_count": 10,
     "metadata": {},
     "output_type": "execute_result"
    }
   ],
   "source": [
    "import statsmodels.api as sm\n",
    "anova_table = sm.stats.anova_lm(model, typ=1)   #Type 1 ANOVA table\n",
    "anova_table"
   ]
  },
  {
   "cell_type": "code",
   "execution_count": 13,
   "id": "28522046",
   "metadata": {},
   "outputs": [
    {
     "name": "stdout",
     "output_type": "stream",
     "text": [
      "H1 is rejected and H0 is accepted\n"
     ]
    }
   ],
   "source": [
    "p_value = 0.140011\n",
    "alpha = 0.05\n",
    "if(p_value<alpha):\n",
    "    print(\"Ho is rejected and H1 is accepted \")\n",
    "else:\n",
    "    print(\"H1 is rejected and H0 is accepted\")"
   ]
  }
 ],
 "metadata": {
  "kernelspec": {
   "display_name": "Python 3 (ipykernel)",
   "language": "python",
   "name": "python3"
  },
  "language_info": {
   "codemirror_mode": {
    "name": "ipython",
    "version": 3
   },
   "file_extension": ".py",
   "mimetype": "text/x-python",
   "name": "python",
   "nbconvert_exporter": "python",
   "pygments_lexer": "ipython3",
   "version": "3.9.13"
  }
 },
 "nbformat": 4,
 "nbformat_minor": 5
}
