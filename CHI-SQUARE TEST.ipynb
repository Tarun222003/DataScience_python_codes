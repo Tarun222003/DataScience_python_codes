{
 "cells": [
  {
   "cell_type": "code",
   "execution_count": 4,
   "id": "af89be68",
   "metadata": {},
   "outputs": [],
   "source": [
    "import pandas as pd\n",
    "\n",
    "data = {\n",
    "    'Smart Thermostat': [50, 80, 60, 30, 20],\n",
    "    'Smart Light': [70, 100, 90, 50, 50]\n",
    "}\n",
    "index = ['Very Satisfied', 'Satisfied', 'Neutral', 'Unsatisfied', 'Very Unsatisfied']"
   ]
  },
  {
   "cell_type": "code",
   "execution_count": 6,
   "id": "a4ad21d4",
   "metadata": {},
   "outputs": [
    {
     "data": {
      "text/html": [
       "<div>\n",
       "<style scoped>\n",
       "    .dataframe tbody tr th:only-of-type {\n",
       "        vertical-align: middle;\n",
       "    }\n",
       "\n",
       "    .dataframe tbody tr th {\n",
       "        vertical-align: top;\n",
       "    }\n",
       "\n",
       "    .dataframe thead th {\n",
       "        text-align: right;\n",
       "    }\n",
       "</style>\n",
       "<table border=\"1\" class=\"dataframe\">\n",
       "  <thead>\n",
       "    <tr style=\"text-align: right;\">\n",
       "      <th></th>\n",
       "      <th>Smart Thermostat</th>\n",
       "      <th>Smart Light</th>\n",
       "    </tr>\n",
       "  </thead>\n",
       "  <tbody>\n",
       "    <tr>\n",
       "      <th>0</th>\n",
       "      <td>50</td>\n",
       "      <td>70</td>\n",
       "    </tr>\n",
       "    <tr>\n",
       "      <th>1</th>\n",
       "      <td>80</td>\n",
       "      <td>100</td>\n",
       "    </tr>\n",
       "    <tr>\n",
       "      <th>2</th>\n",
       "      <td>60</td>\n",
       "      <td>90</td>\n",
       "    </tr>\n",
       "    <tr>\n",
       "      <th>3</th>\n",
       "      <td>30</td>\n",
       "      <td>50</td>\n",
       "    </tr>\n",
       "    <tr>\n",
       "      <th>4</th>\n",
       "      <td>20</td>\n",
       "      <td>50</td>\n",
       "    </tr>\n",
       "  </tbody>\n",
       "</table>\n",
       "</div>"
      ],
      "text/plain": [
       "   Smart Thermostat  Smart Light\n",
       "0                50           70\n",
       "1                80          100\n",
       "2                60           90\n",
       "3                30           50\n",
       "4                20           50"
      ]
     },
     "execution_count": 6,
     "metadata": {},
     "output_type": "execute_result"
    }
   ],
   "source": [
    "df = pd.DataFrame(data)\n",
    "df"
   ]
  },
  {
   "cell_type": "markdown",
   "id": "180c4eff",
   "metadata": {},
   "source": [
    "## 1. State the Hypotheses:\n",
    "H0 : Type of device purchased(Smart Thermostat or Smart Light) has no relation with satisfactory levels(variables are  independent)\n",
    "\n",
    "H1 : Type of device purchased(Smart Thermostat or Smart Light) has relation with satisfactory levels(variables are dependent)"
   ]
  },
  {
   "cell_type": "markdown",
   "id": "24d1a141",
   "metadata": {},
   "source": [
    "## 2. Compute the Chi-Square Statistic:"
   ]
  },
  {
   "cell_type": "code",
   "execution_count": 7,
   "id": "e0861601",
   "metadata": {},
   "outputs": [],
   "source": [
    "from scipy import stats\n",
    "import numpy as np"
   ]
  },
  {
   "cell_type": "code",
   "execution_count": 8,
   "id": "6f48c80e",
   "metadata": {},
   "outputs": [
    {
     "name": "stdout",
     "output_type": "stream",
     "text": [
      "Chi-square statistic:  5.638227513227513\n",
      "Degrees of freedom:  4\n",
      "P-value:  0.22784371130697179\n",
      "[[ 48.  72.]\n",
      " [ 72. 108.]\n",
      " [ 60.  90.]\n",
      " [ 32.  48.]\n",
      " [ 28.  42.]]\n"
     ]
    }
   ],
   "source": [
    "chi2, p_value, dof, expected = stats.chi2_contingency(df)\n",
    "print(\"Chi-square statistic: \",chi2)\n",
    "print(\"Degrees of freedom: \",dof)\n",
    "print(\"P-value: \",p_value)\n",
    "print(expected)"
   ]
  },
  {
   "cell_type": "markdown",
   "id": "ed76c621",
   "metadata": {},
   "source": [
    "## 3. Determine the Critical Value:"
   ]
  },
  {
   "cell_type": "code",
   "execution_count": 9,
   "id": "0ff31312",
   "metadata": {},
   "outputs": [],
   "source": [
    "from scipy.stats import chi2\n",
    "import numpy as np"
   ]
  },
  {
   "cell_type": "code",
   "execution_count": 10,
   "id": "bc0d8e18",
   "metadata": {},
   "outputs": [
    {
     "name": "stdout",
     "output_type": "stream",
     "text": [
      "Critical value:  0.004\n"
     ]
    }
   ],
   "source": [
    "alpha = 0.05\n",
    "dof = 1\n",
    "critical_value = chi2.ppf(alpha, dof)\n",
    "print(\"Critical value: \",np.round(critical_value,3))"
   ]
  },
  {
   "cell_type": "markdown",
   "id": "68749d6f",
   "metadata": {},
   "source": [
    "## 4. Make a Decision:"
   ]
  },
  {
   "cell_type": "code",
   "execution_count": 11,
   "id": "a77fce60",
   "metadata": {},
   "outputs": [],
   "source": [
    "alpha = 0.05\n",
    "p_value = 0.22784371130697179"
   ]
  },
  {
   "cell_type": "code",
   "execution_count": 12,
   "id": "2725b83c",
   "metadata": {},
   "outputs": [
    {
     "name": "stdout",
     "output_type": "stream",
     "text": [
      "H0 is accepted\n",
      "Type of device purchased(Smart Thermostat or Smart Light) has no relation with satisfactory levels(variables are independent)\n"
     ]
    }
   ],
   "source": [
    "if p_value<alpha:\n",
    "    print(\"H1 is accepted\")\n",
    "    print(\"Type of device purchased(Smart Thermostat or Smart Light) has relation with satisfactory levels(variables are dependent)\")\n",
    "else:\n",
    "    print(\"H0 is accepted\")\n",
    "    print(\"Type of device purchased(Smart Thermostat or Smart Light) has no relation with satisfactory levels(variables are independent)\")"
   ]
  }
 ],
 "metadata": {
  "kernelspec": {
   "display_name": "Python 3 (ipykernel)",
   "language": "python",
   "name": "python3"
  },
  "language_info": {
   "codemirror_mode": {
    "name": "ipython",
    "version": 3
   },
   "file_extension": ".py",
   "mimetype": "text/x-python",
   "name": "python",
   "nbconvert_exporter": "python",
   "pygments_lexer": "ipython3",
   "version": "3.9.13"
  }
 },
 "nbformat": 4,
 "nbformat_minor": 5
}
