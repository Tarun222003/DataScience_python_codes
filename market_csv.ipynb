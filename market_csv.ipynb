{
 "cells": [
  {
   "cell_type": "code",
   "execution_count": 1,
   "id": "5317c26f",
   "metadata": {},
   "outputs": [
    {
     "data": {
      "text/html": [
       "<div>\n",
       "<style scoped>\n",
       "    .dataframe tbody tr th:only-of-type {\n",
       "        vertical-align: middle;\n",
       "    }\n",
       "\n",
       "    .dataframe tbody tr th {\n",
       "        vertical-align: top;\n",
       "    }\n",
       "\n",
       "    .dataframe thead th {\n",
       "        text-align: right;\n",
       "    }\n",
       "</style>\n",
       "<table border=\"1\" class=\"dataframe\">\n",
       "  <thead>\n",
       "    <tr style=\"text-align: right;\">\n",
       "      <th></th>\n",
       "      <th>Region</th>\n",
       "      <th>Product</th>\n",
       "      <th>Subsidiary</th>\n",
       "      <th>Stores</th>\n",
       "      <th>Sales</th>\n",
       "      <th>Inventory</th>\n",
       "      <th>Returns</th>\n",
       "    </tr>\n",
       "  </thead>\n",
       "  <tbody>\n",
       "    <tr>\n",
       "      <th>0</th>\n",
       "      <td>Africa</td>\n",
       "      <td>Boot</td>\n",
       "      <td>Addis Ababa</td>\n",
       "      <td>12</td>\n",
       "      <td>29761</td>\n",
       "      <td>191821</td>\n",
       "      <td>769</td>\n",
       "    </tr>\n",
       "    <tr>\n",
       "      <th>1</th>\n",
       "      <td>Africa</td>\n",
       "      <td>Men's Casual</td>\n",
       "      <td>Addis Ababa</td>\n",
       "      <td>4</td>\n",
       "      <td>67242</td>\n",
       "      <td>118036</td>\n",
       "      <td>2284</td>\n",
       "    </tr>\n",
       "    <tr>\n",
       "      <th>2</th>\n",
       "      <td>Africa</td>\n",
       "      <td>Men's Dress</td>\n",
       "      <td>Addis Ababa</td>\n",
       "      <td>7</td>\n",
       "      <td>76793</td>\n",
       "      <td>136273</td>\n",
       "      <td>2433</td>\n",
       "    </tr>\n",
       "    <tr>\n",
       "      <th>3</th>\n",
       "      <td>Africa</td>\n",
       "      <td>Sandal</td>\n",
       "      <td>Addis Ababa</td>\n",
       "      <td>10</td>\n",
       "      <td>62819</td>\n",
       "      <td>204284</td>\n",
       "      <td>1861</td>\n",
       "    </tr>\n",
       "    <tr>\n",
       "      <th>4</th>\n",
       "      <td>Africa</td>\n",
       "      <td>Slipper</td>\n",
       "      <td>Addis Ababa</td>\n",
       "      <td>14</td>\n",
       "      <td>68641</td>\n",
       "      <td>279795</td>\n",
       "      <td>1771</td>\n",
       "    </tr>\n",
       "    <tr>\n",
       "      <th>...</th>\n",
       "      <td>...</td>\n",
       "      <td>...</td>\n",
       "      <td>...</td>\n",
       "      <td>...</td>\n",
       "      <td>...</td>\n",
       "      <td>...</td>\n",
       "      <td>...</td>\n",
       "    </tr>\n",
       "    <tr>\n",
       "      <th>385</th>\n",
       "      <td>Western Europe</td>\n",
       "      <td>Sandal</td>\n",
       "      <td>Rome</td>\n",
       "      <td>3</td>\n",
       "      <td>1249</td>\n",
       "      <td>4611</td>\n",
       "      <td>48</td>\n",
       "    </tr>\n",
       "    <tr>\n",
       "      <th>386</th>\n",
       "      <td>Western Europe</td>\n",
       "      <td>Slipper</td>\n",
       "      <td>Rome</td>\n",
       "      <td>13</td>\n",
       "      <td>42442</td>\n",
       "      <td>132283</td>\n",
       "      <td>1829</td>\n",
       "    </tr>\n",
       "    <tr>\n",
       "      <th>387</th>\n",
       "      <td>Western Europe</td>\n",
       "      <td>Sport Shoe</td>\n",
       "      <td>Rome</td>\n",
       "      <td>14</td>\n",
       "      <td>9969</td>\n",
       "      <td>74848</td>\n",
       "      <td>549</td>\n",
       "    </tr>\n",
       "    <tr>\n",
       "      <th>388</th>\n",
       "      <td>Western Europe</td>\n",
       "      <td>Women's Casual</td>\n",
       "      <td>Rome</td>\n",
       "      <td>2</td>\n",
       "      <td>19964</td>\n",
       "      <td>62256</td>\n",
       "      <td>954</td>\n",
       "    </tr>\n",
       "    <tr>\n",
       "      <th>389</th>\n",
       "      <td>Western Europe</td>\n",
       "      <td>Women's Dress</td>\n",
       "      <td>Rome</td>\n",
       "      <td>16</td>\n",
       "      <td>106676</td>\n",
       "      <td>389861</td>\n",
       "      <td>3160</td>\n",
       "    </tr>\n",
       "  </tbody>\n",
       "</table>\n",
       "<p>390 rows × 7 columns</p>\n",
       "</div>"
      ],
      "text/plain": [
       "             Region         Product   Subsidiary  Stores   Sales  Inventory  \\\n",
       "0            Africa            Boot  Addis Ababa      12   29761     191821   \n",
       "1            Africa    Men's Casual  Addis Ababa       4   67242     118036   \n",
       "2            Africa     Men's Dress  Addis Ababa       7   76793     136273   \n",
       "3            Africa          Sandal  Addis Ababa      10   62819     204284   \n",
       "4            Africa         Slipper  Addis Ababa      14   68641     279795   \n",
       "..              ...             ...          ...     ...     ...        ...   \n",
       "385  Western Europe          Sandal         Rome       3    1249       4611   \n",
       "386  Western Europe         Slipper         Rome      13   42442     132283   \n",
       "387  Western Europe      Sport Shoe         Rome      14    9969      74848   \n",
       "388  Western Europe  Women's Casual         Rome       2   19964      62256   \n",
       "389  Western Europe   Women's Dress         Rome      16  106676     389861   \n",
       "\n",
       "     Returns  \n",
       "0        769  \n",
       "1       2284  \n",
       "2       2433  \n",
       "3       1861  \n",
       "4       1771  \n",
       "..       ...  \n",
       "385       48  \n",
       "386     1829  \n",
       "387      549  \n",
       "388      954  \n",
       "389     3160  \n",
       "\n",
       "[390 rows x 7 columns]"
      ]
     },
     "execution_count": 1,
     "metadata": {},
     "output_type": "execute_result"
    }
   ],
   "source": [
    "import pandas as pd\n",
    "df = pd.read_csv(r\"C:\\Users\\padal\\OneDrive\\Desktop\\Data Science\\market.csv\")\n",
    "df"
   ]
  },
  {
   "cell_type": "code",
   "execution_count": 2,
   "id": "e5d347ad",
   "metadata": {},
   "outputs": [
    {
     "data": {
      "text/plain": [
       "Western Europe               62\n",
       "Africa                       56\n",
       "South America                54\n",
       "Pacific                      45\n",
       "United States                40\n",
       "Canada                       34\n",
       "Central America/Caribbean    31\n",
       "Eastern Europe               31\n",
       "Middle East                  23\n",
       "Asia                         14\n",
       "Name: Region, dtype: int64"
      ]
     },
     "execution_count": 2,
     "metadata": {},
     "output_type": "execute_result"
    }
   ],
   "source": [
    "df[\"Region\"].value_counts()"
   ]
  },
  {
   "cell_type": "code",
   "execution_count": 3,
   "id": "4b76c371",
   "metadata": {},
   "outputs": [
    {
     "data": {
      "text/plain": [
       "Region\n",
       "Africa                       2342588\n",
       "Asia                          460231\n",
       "Canada                       2041054\n",
       "Central America/Caribbean    3081641\n",
       "Eastern Europe               2394940\n",
       "Middle East                  4333062\n",
       "Pacific                      2296794\n",
       "South America                2434783\n",
       "United States                5503986\n",
       "Western Europe               4873000\n",
       "Name: Sales, dtype: int64"
      ]
     },
     "execution_count": 3,
     "metadata": {},
     "output_type": "execute_result"
    }
   ],
   "source": [
    "t1 = df.groupby(\"Region\")[\"Sales\"].sum()\n",
    "t1"
   ]
  },
  {
   "cell_type": "code",
   "execution_count": 4,
   "id": "e6b85858",
   "metadata": {},
   "outputs": [
    {
     "data": {
      "text/plain": [
       "<AxesSubplot:xlabel='Region'>"
      ]
     },
     "execution_count": 4,
     "metadata": {},
     "output_type": "execute_result"
    },
    {
     "data": {
      "image/png": "[encoded data removed]",
      "text/plain": [
       "<Figure size 640x480 with 1 Axes>"
      ]
     },
     "metadata": {},
     "output_type": "display_data"
    }
   ],
   "source": [
    "t1.plot(kind=\"bar\")"
   ]
  },
  {
   "cell_type": "code",
   "execution_count": 5,
   "id": "cbfd5e59",
   "metadata": {},
   "outputs": [
    {
     "data": {
      "text/plain": [
       "Product\n",
       "Boot               98622\n",
       "Men's Casual      233668\n",
       "Men's Dress       147266\n",
       "Sandal             38170\n",
       "Slipper           188693\n",
       "Sport Shoe         25179\n",
       "Women's Casual    131394\n",
       "Women's Dress     174275\n",
       "Name: Returns, dtype: int64"
      ]
     },
     "execution_count": 5,
     "metadata": {},
     "output_type": "execute_result"
    }
   ],
   "source": [
    "t2 = df.groupby(\"Product\")[\"Returns\"].sum()\n",
    "t2"
   ]
  },
  {
   "cell_type": "code",
   "execution_count": 27,
   "id": "40017051",
   "metadata": {},
   "outputs": [
    {
     "data": {
      "text/plain": [
       "<AxesSubplot:xlabel='Product'>"
      ]
     },
     "execution_count": 27,
     "metadata": {},
     "output_type": "execute_result"
    },
    {
     "data": {
      "image/png": "[encoded data removed]",
      "text/plain": [
       "<Figure size 640x480 with 1 Axes>"
      ]
     },
     "metadata": {},
     "output_type": "display_data"
    }
   ],
   "source": [
    "t2.plot(kind=\"bar\")"
   ]
  },
  {
   "cell_type": "code",
   "execution_count": 28,
   "id": "b1fa1cb2",
   "metadata": {},
   "outputs": [
    {
     "data": {
      "text/plain": [
       "<AxesSubplot:ylabel='Returns'>"
      ]
     },
     "execution_count": 28,
     "metadata": {},
     "output_type": "execute_result"
    },
    {
     "data": {
      "image/png": "[encoded data removed]",
      "text/plain": [
       "<Figure size 640x480 with 1 Axes>"
      ]
     },
     "metadata": {},
     "output_type": "display_data"
    }
   ],
   "source": [
    "t2.plot(kind=\"pie\")"
   ]
  },
  {
   "cell_type": "code",
   "execution_count": 32,
   "id": "abf2c3be",
   "metadata": {},
   "outputs": [
    {
     "name": "stdout",
     "output_type": "stream",
     "text": [
      "<class 'pandas.core.frame.DataFrame'>\n",
      "RangeIndex: 390 entries, 0 to 389\n",
      "Data columns (total 7 columns):\n",
      " #   Column      Non-Null Count  Dtype \n",
      "---  ------      --------------  ----- \n",
      " 0   Region      390 non-null    object\n",
      " 1   Product     390 non-null    object\n",
      " 2   Subsidiary  390 non-null    object\n",
      " 3   Stores      390 non-null    int64 \n",
      " 4   Sales       390 non-null    int64 \n",
      " 5   Inventory   390 non-null    int64 \n",
      " 6   Returns     390 non-null    int64 \n",
      "dtypes: int64(4), object(3)\n",
      "memory usage: 21.5+ KB\n"
     ]
    }
   ],
   "source": [
    "df.info()"
   ]
  },
  {
   "cell_type": "code",
   "execution_count": 35,
   "id": "3ba72791",
   "metadata": {},
   "outputs": [
    {
     "name": "stdout",
     "output_type": "stream",
     "text": [
      "Sales: 2.0375602944117115\n"
     ]
    },
    {
     "data": {
      "image/png": "[encoded data removed]",
      "text/plain": [
       "<Figure size 640x480 with 1 Axes>"
      ]
     },
     "metadata": {},
     "output_type": "display_data"
    }
   ],
   "source": [
    "df[\"Sales\"].hist()\n",
    "print(\"Sales:\", df[\"Sales\"].skew())"
   ]
  },
  {
   "cell_type": "code",
   "execution_count": 36,
   "id": "b3bd8cc0",
   "metadata": {},
   "outputs": [
    {
     "name": "stdout",
     "output_type": "stream",
     "text": [
      "Inventory: 1.9258874289437535\n"
     ]
    },
    {
     "data": {
      "image/png": "[encoded data removed]",
      "text/plain": [
       "<Figure size 640x480 with 1 Axes>"
      ]
     },
     "metadata": {},
     "output_type": "display_data"
    }
   ],
   "source": [
    "df[\"Inventory\"].hist()\n",
    "print(\"Inventory:\", df[\"Inventory\"].skew())"
   ]
  },
  {
   "cell_type": "code",
   "execution_count": 38,
   "id": "d77e6fae",
   "metadata": {},
   "outputs": [
    {
     "data": {
      "text/plain": [
       "<AxesSubplot:title={'center':'Boxplot'}>"
      ]
     },
     "execution_count": 38,
     "metadata": {},
     "output_type": "execute_result"
    },
    {
     "data": {
      "image/png": "[encoded data removed]",
      "text/plain": [
       "<Figure size 640x480 with 1 Axes>"
      ]
     },
     "metadata": {},
     "output_type": "display_data"
    }
   ],
   "source": [
    "boxplot = df[\"Sales\"].plot(kind=\"box\",vert=False,title=\"Boxplot\")\n",
    "boxplot"
   ]
  },
  {
   "cell_type": "code",
   "execution_count": 41,
   "id": "9e9bee74",
   "metadata": {},
   "outputs": [
    {
     "data": {
      "text/plain": [
       "<AxesSubplot:title={'center':'Boxplot'}>"
      ]
     },
     "execution_count": 41,
     "metadata": {},
     "output_type": "execute_result"
    },
    {
     "data": {
      "image/png": "[encoded data removed]",
      "text/plain": [
       "<Figure size 640x480 with 1 Axes>"
      ]
     },
     "metadata": {},
     "output_type": "display_data"
    }
   ],
   "source": [
    "boxplot1 = df[\"Inventory\"].plot(kind=\"box\",vert=False,title=\"Boxplot\")\n",
    "boxplot1"
   ]
  },
  {
   "cell_type": "code",
   "execution_count": 42,
   "id": "c8fe9a9a",
   "metadata": {},
   "outputs": [
    {
     "data": {
      "text/plain": [
       "<AxesSubplot:title={'center':'Boxplot'}>"
      ]
     },
     "execution_count": 42,
     "metadata": {},
     "output_type": "execute_result"
    },
    {
     "data": {
      "image/png": "[encoded data removed]",
      "text/plain": [
       "<Figure size 640x480 with 1 Axes>"
      ]
     },
     "metadata": {},
     "output_type": "display_data"
    }
   ],
   "source": [
    "boxplot2 = df[\"Returns\"].plot(kind=\"box\",vert=False,title=\"Boxplot\")\n",
    "boxplot2"
   ]
  },
  {
   "cell_type": "code",
   "execution_count": 43,
   "id": "6f309f71",
   "metadata": {},
   "outputs": [
    {
     "data": {
      "text/html": [
       "<div>\n",
       "<style scoped>\n",
       "    .dataframe tbody tr th:only-of-type {\n",
       "        vertical-align: middle;\n",
       "    }\n",
       "\n",
       "    .dataframe tbody tr th {\n",
       "        vertical-align: top;\n",
       "    }\n",
       "\n",
       "    .dataframe thead th {\n",
       "        text-align: right;\n",
       "    }\n",
       "</style>\n",
       "<table border=\"1\" class=\"dataframe\">\n",
       "  <thead>\n",
       "    <tr style=\"text-align: right;\">\n",
       "      <th></th>\n",
       "      <th>Region</th>\n",
       "      <th>Product</th>\n",
       "      <th>Subsidiary</th>\n",
       "      <th>Stores</th>\n",
       "      <th>Sales</th>\n",
       "      <th>Inventory</th>\n",
       "      <th>Returns</th>\n",
       "    </tr>\n",
       "  </thead>\n",
       "  <tbody>\n",
       "    <tr>\n",
       "      <th>0</th>\n",
       "      <td>Africa</td>\n",
       "      <td>Boot</td>\n",
       "      <td>Addis Ababa</td>\n",
       "      <td>12</td>\n",
       "      <td>29761</td>\n",
       "      <td>191821</td>\n",
       "      <td>769</td>\n",
       "    </tr>\n",
       "    <tr>\n",
       "      <th>1</th>\n",
       "      <td>Africa</td>\n",
       "      <td>Men's Casual</td>\n",
       "      <td>Addis Ababa</td>\n",
       "      <td>4</td>\n",
       "      <td>67242</td>\n",
       "      <td>118036</td>\n",
       "      <td>2284</td>\n",
       "    </tr>\n",
       "    <tr>\n",
       "      <th>2</th>\n",
       "      <td>Africa</td>\n",
       "      <td>Men's Dress</td>\n",
       "      <td>Addis Ababa</td>\n",
       "      <td>7</td>\n",
       "      <td>76793</td>\n",
       "      <td>136273</td>\n",
       "      <td>2433</td>\n",
       "    </tr>\n",
       "    <tr>\n",
       "      <th>3</th>\n",
       "      <td>Africa</td>\n",
       "      <td>Sandal</td>\n",
       "      <td>Addis Ababa</td>\n",
       "      <td>10</td>\n",
       "      <td>62819</td>\n",
       "      <td>204284</td>\n",
       "      <td>1861</td>\n",
       "    </tr>\n",
       "    <tr>\n",
       "      <th>4</th>\n",
       "      <td>Africa</td>\n",
       "      <td>Slipper</td>\n",
       "      <td>Addis Ababa</td>\n",
       "      <td>14</td>\n",
       "      <td>68641</td>\n",
       "      <td>279795</td>\n",
       "      <td>1771</td>\n",
       "    </tr>\n",
       "  </tbody>\n",
       "</table>\n",
       "</div>"
      ],
      "text/plain": [
       "   Region       Product   Subsidiary  Stores  Sales  Inventory  Returns\n",
       "0  Africa          Boot  Addis Ababa      12  29761     191821      769\n",
       "1  Africa  Men's Casual  Addis Ababa       4  67242     118036     2284\n",
       "2  Africa   Men's Dress  Addis Ababa       7  76793     136273     2433\n",
       "3  Africa        Sandal  Addis Ababa      10  62819     204284     1861\n",
       "4  Africa       Slipper  Addis Ababa      14  68641     279795     1771"
      ]
     },
     "execution_count": 43,
     "metadata": {},
     "output_type": "execute_result"
    }
   ],
   "source": [
    "df.head()"
   ]
  },
  {
   "cell_type": "code",
   "execution_count": 48,
   "id": "d3ed1dcb",
   "metadata": {},
   "outputs": [
    {
     "data": {
      "text/plain": [
       "285451.75"
      ]
     },
     "execution_count": 48,
     "metadata": {},
     "output_type": "execute_result"
    }
   ],
   "source": [
    "import numpy as np\n",
    "Q1 = np.percentile(df[\"Inventory\"],25)\n",
    "Q3 = np.percentile(df[\"Inventory\"],75)\n",
    "IQR = Q3-Q1\n",
    "IQR"
   ]
  },
  {
   "cell_type": "code",
   "execution_count": 49,
   "id": "23b8ff19",
   "metadata": {},
   "outputs": [
    {
     "data": {
      "text/plain": [
       "756269.875"
      ]
     },
     "execution_count": 49,
     "metadata": {},
     "output_type": "execute_result"
    }
   ],
   "source": [
    "UW = (IQR * 1.5)+Q3\n",
    "UW"
   ]
  },
  {
   "cell_type": "code",
   "execution_count": 53,
   "id": "ad82150e",
   "metadata": {},
   "outputs": [
    {
     "name": "stdout",
     "output_type": "stream",
     "text": [
      "No of ouliers are: 22\n"
     ]
    }
   ],
   "source": [
    "print(\"No of ouliers are:\",len(df[df[\"Inventory\"] > UW]))"
   ]
  },
  {
   "cell_type": "code",
   "execution_count": 54,
   "id": "27bb674b",
   "metadata": {},
   "outputs": [
    {
     "data": {
      "text/plain": [
       "0      False\n",
       "1      False\n",
       "2      False\n",
       "3      False\n",
       "4      False\n",
       "       ...  \n",
       "385    False\n",
       "386    False\n",
       "387    False\n",
       "388    False\n",
       "389    False\n",
       "Name: Inventory, Length: 390, dtype: bool"
      ]
     },
     "execution_count": 54,
     "metadata": {},
     "output_type": "execute_result"
    }
   ],
   "source": [
    "df[\"Inventory\"]>UW"
   ]
  },
  {
   "cell_type": "code",
   "execution_count": 55,
   "id": "b92455f2",
   "metadata": {},
   "outputs": [
    {
     "data": {
      "text/html": [
       "<div>\n",
       "<style scoped>\n",
       "    .dataframe tbody tr th:only-of-type {\n",
       "        vertical-align: middle;\n",
       "    }\n",
       "\n",
       "    .dataframe tbody tr th {\n",
       "        vertical-align: top;\n",
       "    }\n",
       "\n",
       "    .dataframe thead th {\n",
       "        text-align: right;\n",
       "    }\n",
       "</style>\n",
       "<table border=\"1\" class=\"dataframe\">\n",
       "  <thead>\n",
       "    <tr style=\"text-align: right;\">\n",
       "      <th></th>\n",
       "      <th>Region</th>\n",
       "      <th>Product</th>\n",
       "      <th>Subsidiary</th>\n",
       "      <th>Stores</th>\n",
       "      <th>Sales</th>\n",
       "      <th>Inventory</th>\n",
       "      <th>Returns</th>\n",
       "    </tr>\n",
       "  </thead>\n",
       "  <tbody>\n",
       "    <tr>\n",
       "      <th>16</th>\n",
       "      <td>Africa</td>\n",
       "      <td>Men's Casual</td>\n",
       "      <td>Cairo</td>\n",
       "      <td>25</td>\n",
       "      <td>360209</td>\n",
       "      <td>1063251</td>\n",
       "      <td>9424</td>\n",
       "    </tr>\n",
       "    <tr>\n",
       "      <th>21</th>\n",
       "      <td>Africa</td>\n",
       "      <td>Women's Casual</td>\n",
       "      <td>Cairo</td>\n",
       "      <td>14</td>\n",
       "      <td>328474</td>\n",
       "      <td>940851</td>\n",
       "      <td>10124</td>\n",
       "    </tr>\n",
       "    <tr>\n",
       "      <th>99</th>\n",
       "      <td>Canada</td>\n",
       "      <td>Boot</td>\n",
       "      <td>Vancouver</td>\n",
       "      <td>31</td>\n",
       "      <td>286497</td>\n",
       "      <td>882080</td>\n",
       "      <td>9160</td>\n",
       "    </tr>\n",
       "    <tr>\n",
       "      <th>107</th>\n",
       "      <td>Central America/Caribbean</td>\n",
       "      <td>Slipper</td>\n",
       "      <td>Kingston</td>\n",
       "      <td>37</td>\n",
       "      <td>476638</td>\n",
       "      <td>1555357</td>\n",
       "      <td>15713</td>\n",
       "    </tr>\n",
       "    <tr>\n",
       "      <th>110</th>\n",
       "      <td>Central America/Caribbean</td>\n",
       "      <td>Women's Dress</td>\n",
       "      <td>Kingston</td>\n",
       "      <td>41</td>\n",
       "      <td>375817</td>\n",
       "      <td>1147300</td>\n",
       "      <td>11656</td>\n",
       "    </tr>\n",
       "    <tr>\n",
       "      <th>175</th>\n",
       "      <td>Middle East</td>\n",
       "      <td>Men's Casual</td>\n",
       "      <td>Dubai</td>\n",
       "      <td>29</td>\n",
       "      <td>419336</td>\n",
       "      <td>868115</td>\n",
       "      <td>17552</td>\n",
       "    </tr>\n",
       "    <tr>\n",
       "      <th>178</th>\n",
       "      <td>Middle East</td>\n",
       "      <td>Slipper</td>\n",
       "      <td>Dubai</td>\n",
       "      <td>17</td>\n",
       "      <td>387680</td>\n",
       "      <td>1238698</td>\n",
       "      <td>12768</td>\n",
       "    </tr>\n",
       "    <tr>\n",
       "      <th>181</th>\n",
       "      <td>Middle East</td>\n",
       "      <td>Women's Dress</td>\n",
       "      <td>Dubai</td>\n",
       "      <td>19</td>\n",
       "      <td>435891</td>\n",
       "      <td>1292400</td>\n",
       "      <td>12999</td>\n",
       "    </tr>\n",
       "    <tr>\n",
       "      <th>187</th>\n",
       "      <td>Middle East</td>\n",
       "      <td>Women's Casual</td>\n",
       "      <td>Tel Aviv</td>\n",
       "      <td>19</td>\n",
       "      <td>288904</td>\n",
       "      <td>790386</td>\n",
       "      <td>12000</td>\n",
       "    </tr>\n",
       "    <tr>\n",
       "      <th>188</th>\n",
       "      <td>Middle East</td>\n",
       "      <td>Women's Dress</td>\n",
       "      <td>Tel Aviv</td>\n",
       "      <td>18</td>\n",
       "      <td>434496</td>\n",
       "      <td>1272531</td>\n",
       "      <td>17394</td>\n",
       "    </tr>\n",
       "    <tr>\n",
       "      <th>205</th>\n",
       "      <td>Pacific</td>\n",
       "      <td>Men's Casual</td>\n",
       "      <td>Jakarta</td>\n",
       "      <td>12</td>\n",
       "      <td>373908</td>\n",
       "      <td>1139026</td>\n",
       "      <td>10960</td>\n",
       "    </tr>\n",
       "    <tr>\n",
       "      <th>227</th>\n",
       "      <td>Pacific</td>\n",
       "      <td>Women's Dress</td>\n",
       "      <td>Manila</td>\n",
       "      <td>12</td>\n",
       "      <td>229372</td>\n",
       "      <td>818328</td>\n",
       "      <td>7265</td>\n",
       "    </tr>\n",
       "    <tr>\n",
       "      <th>289</th>\n",
       "      <td>United States</td>\n",
       "      <td>Men's Casual</td>\n",
       "      <td>Chicago</td>\n",
       "      <td>26</td>\n",
       "      <td>408978</td>\n",
       "      <td>831672</td>\n",
       "      <td>17907</td>\n",
       "    </tr>\n",
       "    <tr>\n",
       "      <th>290</th>\n",
       "      <td>United States</td>\n",
       "      <td>Men's Dress</td>\n",
       "      <td>Chicago</td>\n",
       "      <td>28</td>\n",
       "      <td>261607</td>\n",
       "      <td>824485</td>\n",
       "      <td>8915</td>\n",
       "    </tr>\n",
       "    <tr>\n",
       "      <th>292</th>\n",
       "      <td>United States</td>\n",
       "      <td>Slipper</td>\n",
       "      <td>Chicago</td>\n",
       "      <td>13</td>\n",
       "      <td>329235</td>\n",
       "      <td>1049530</td>\n",
       "      <td>10654</td>\n",
       "    </tr>\n",
       "    <tr>\n",
       "      <th>311</th>\n",
       "      <td>United States</td>\n",
       "      <td>Women's Dress</td>\n",
       "      <td>Minneapolis</td>\n",
       "      <td>27</td>\n",
       "      <td>224168</td>\n",
       "      <td>760977</td>\n",
       "      <td>5820</td>\n",
       "    </tr>\n",
       "    <tr>\n",
       "      <th>313</th>\n",
       "      <td>United States</td>\n",
       "      <td>Men's Casual</td>\n",
       "      <td>New York</td>\n",
       "      <td>20</td>\n",
       "      <td>456985</td>\n",
       "      <td>890096</td>\n",
       "      <td>13453</td>\n",
       "    </tr>\n",
       "    <tr>\n",
       "      <th>316</th>\n",
       "      <td>United States</td>\n",
       "      <td>Slipper</td>\n",
       "      <td>New York</td>\n",
       "      <td>24</td>\n",
       "      <td>252758</td>\n",
       "      <td>1059333</td>\n",
       "      <td>8503</td>\n",
       "    </tr>\n",
       "    <tr>\n",
       "      <th>319</th>\n",
       "      <td>United States</td>\n",
       "      <td>Women's Dress</td>\n",
       "      <td>New York</td>\n",
       "      <td>17</td>\n",
       "      <td>288972</td>\n",
       "      <td>1129697</td>\n",
       "      <td>10257</td>\n",
       "    </tr>\n",
       "    <tr>\n",
       "      <th>334</th>\n",
       "      <td>Western Europe</td>\n",
       "      <td>Women's Casual</td>\n",
       "      <td>Copenhagen</td>\n",
       "      <td>26</td>\n",
       "      <td>502636</td>\n",
       "      <td>1110412</td>\n",
       "      <td>17448</td>\n",
       "    </tr>\n",
       "    <tr>\n",
       "      <th>348</th>\n",
       "      <td>Western Europe</td>\n",
       "      <td>Slipper</td>\n",
       "      <td>Heidelberg</td>\n",
       "      <td>17</td>\n",
       "      <td>243342</td>\n",
       "      <td>928112</td>\n",
       "      <td>7940</td>\n",
       "    </tr>\n",
       "    <tr>\n",
       "      <th>356</th>\n",
       "      <td>Western Europe</td>\n",
       "      <td>Slipper</td>\n",
       "      <td>Lisbon</td>\n",
       "      <td>12</td>\n",
       "      <td>170694</td>\n",
       "      <td>865325</td>\n",
       "      <td>5925</td>\n",
       "    </tr>\n",
       "  </tbody>\n",
       "</table>\n",
       "</div>"
      ],
      "text/plain": [
       "                        Region         Product   Subsidiary  Stores   Sales  \\\n",
       "16                      Africa    Men's Casual        Cairo      25  360209   \n",
       "21                      Africa  Women's Casual        Cairo      14  328474   \n",
       "99                      Canada            Boot    Vancouver      31  286497   \n",
       "107  Central America/Caribbean         Slipper     Kingston      37  476638   \n",
       "110  Central America/Caribbean   Women's Dress     Kingston      41  375817   \n",
       "175                Middle East    Men's Casual        Dubai      29  419336   \n",
       "178                Middle East         Slipper        Dubai      17  387680   \n",
       "181                Middle East   Women's Dress        Dubai      19  435891   \n",
       "187                Middle East  Women's Casual     Tel Aviv      19  288904   \n",
       "188                Middle East   Women's Dress     Tel Aviv      18  434496   \n",
       "205                    Pacific    Men's Casual      Jakarta      12  373908   \n",
       "227                    Pacific   Women's Dress       Manila      12  229372   \n",
       "289              United States    Men's Casual      Chicago      26  408978   \n",
       "290              United States     Men's Dress      Chicago      28  261607   \n",
       "292              United States         Slipper      Chicago      13  329235   \n",
       "311              United States   Women's Dress  Minneapolis      27  224168   \n",
       "313              United States    Men's Casual     New York      20  456985   \n",
       "316              United States         Slipper     New York      24  252758   \n",
       "319              United States   Women's Dress     New York      17  288972   \n",
       "334             Western Europe  Women's Casual   Copenhagen      26  502636   \n",
       "348             Western Europe         Slipper   Heidelberg      17  243342   \n",
       "356             Western Europe         Slipper       Lisbon      12  170694   \n",
       "\n",
       "     Inventory  Returns  \n",
       "16     1063251     9424  \n",
       "21      940851    10124  \n",
       "99      882080     9160  \n",
       "107    1555357    15713  \n",
       "110    1147300    11656  \n",
       "175     868115    17552  \n",
       "178    1238698    12768  \n",
       "181    1292400    12999  \n",
       "187     790386    12000  \n",
       "188    1272531    17394  \n",
       "205    1139026    10960  \n",
       "227     818328     7265  \n",
       "289     831672    17907  \n",
       "290     824485     8915  \n",
       "292    1049530    10654  \n",
       "311     760977     5820  \n",
       "313     890096    13453  \n",
       "316    1059333     8503  \n",
       "319    1129697    10257  \n",
       "334    1110412    17448  \n",
       "348     928112     7940  \n",
       "356     865325     5925  "
      ]
     },
     "execution_count": 55,
     "metadata": {},
     "output_type": "execute_result"
    }
   ],
   "source": [
    "df[df[\"Inventory\"]>UW]"
   ]
  },
  {
   "cell_type": "code",
   "execution_count": 59,
   "id": "dc7ed784",
   "metadata": {},
   "outputs": [],
   "source": [
    "#Replacing the outlier values with nearest whisker length\n",
    "df[\"Inventory\"][df[\"Inventory\"]>UW] = UW"
   ]
  },
  {
   "cell_type": "code",
   "execution_count": 60,
   "id": "1acca20d",
   "metadata": {},
   "outputs": [
    {
     "data": {
      "text/plain": [
       "count       390.000000\n",
       "mean     211213.933974\n",
       "std      222586.028429\n",
       "min         374.000000\n",
       "25%       42640.500000\n",
       "50%      118149.000000\n",
       "75%      328092.250000\n",
       "max      756269.875000\n",
       "Name: Inventory, dtype: float64"
      ]
     },
     "execution_count": 60,
     "metadata": {},
     "output_type": "execute_result"
    }
   ],
   "source": [
    "df[\"Inventory\"].describe()"
   ]
  },
  {
   "cell_type": "code",
   "execution_count": 61,
   "id": "1c485931",
   "metadata": {},
   "outputs": [
    {
     "data": {
      "image/png": "[encoded data removed]",
      "text/plain": [
       "<Figure size 640x480 with 1 Axes>"
      ]
     },
     "metadata": {},
     "output_type": "display_data"
    }
   ],
   "source": [
    "boxplot = df[\"Inventory\"].plot(kind=\"box\",vert=False,title=\"Boxplot after removing outliers\")"
   ]
  },
  {
   "cell_type": "code",
   "execution_count": 3,
   "id": "96c58b2e",
   "metadata": {},
   "outputs": [
    {
     "data": {
      "text/html": [
       "<div>\n",
       "<style scoped>\n",
       "    .dataframe tbody tr th:only-of-type {\n",
       "        vertical-align: middle;\n",
       "    }\n",
       "\n",
       "    .dataframe tbody tr th {\n",
       "        vertical-align: top;\n",
       "    }\n",
       "\n",
       "    .dataframe thead th {\n",
       "        text-align: right;\n",
       "    }\n",
       "</style>\n",
       "<table border=\"1\" class=\"dataframe\">\n",
       "  <thead>\n",
       "    <tr style=\"text-align: right;\">\n",
       "      <th></th>\n",
       "      <th>Region</th>\n",
       "      <th>Product</th>\n",
       "      <th>Subsidiary</th>\n",
       "      <th>Stores</th>\n",
       "      <th>Sales</th>\n",
       "      <th>Inventory</th>\n",
       "      <th>Returns</th>\n",
       "    </tr>\n",
       "  </thead>\n",
       "  <tbody>\n",
       "    <tr>\n",
       "      <th>0</th>\n",
       "      <td>Africa</td>\n",
       "      <td>Boot</td>\n",
       "      <td>Addis Ababa</td>\n",
       "      <td>12</td>\n",
       "      <td>29761</td>\n",
       "      <td>191821</td>\n",
       "      <td>769</td>\n",
       "    </tr>\n",
       "    <tr>\n",
       "      <th>1</th>\n",
       "      <td>Africa</td>\n",
       "      <td>Men's Casual</td>\n",
       "      <td>Addis Ababa</td>\n",
       "      <td>4</td>\n",
       "      <td>67242</td>\n",
       "      <td>118036</td>\n",
       "      <td>2284</td>\n",
       "    </tr>\n",
       "    <tr>\n",
       "      <th>2</th>\n",
       "      <td>Africa</td>\n",
       "      <td>Men's Dress</td>\n",
       "      <td>Addis Ababa</td>\n",
       "      <td>7</td>\n",
       "      <td>76793</td>\n",
       "      <td>136273</td>\n",
       "      <td>2433</td>\n",
       "    </tr>\n",
       "    <tr>\n",
       "      <th>3</th>\n",
       "      <td>Africa</td>\n",
       "      <td>Sandal</td>\n",
       "      <td>Addis Ababa</td>\n",
       "      <td>10</td>\n",
       "      <td>62819</td>\n",
       "      <td>204284</td>\n",
       "      <td>1861</td>\n",
       "    </tr>\n",
       "    <tr>\n",
       "      <th>4</th>\n",
       "      <td>Africa</td>\n",
       "      <td>Slipper</td>\n",
       "      <td>Addis Ababa</td>\n",
       "      <td>14</td>\n",
       "      <td>68641</td>\n",
       "      <td>279795</td>\n",
       "      <td>1771</td>\n",
       "    </tr>\n",
       "  </tbody>\n",
       "</table>\n",
       "</div>"
      ],
      "text/plain": [
       "   Region       Product   Subsidiary  Stores  Sales  Inventory  Returns\n",
       "0  Africa          Boot  Addis Ababa      12  29761     191821      769\n",
       "1  Africa  Men's Casual  Addis Ababa       4  67242     118036     2284\n",
       "2  Africa   Men's Dress  Addis Ababa       7  76793     136273     2433\n",
       "3  Africa        Sandal  Addis Ababa      10  62819     204284     1861\n",
       "4  Africa       Slipper  Addis Ababa      14  68641     279795     1771"
      ]
     },
     "execution_count": 3,
     "metadata": {},
     "output_type": "execute_result"
    }
   ],
   "source": [
    "df.head()"
   ]
  },
  {
   "cell_type": "code",
   "execution_count": 7,
   "id": "df8a5eda",
   "metadata": {},
   "outputs": [
    {
     "name": "stdout",
     "output_type": "stream",
     "text": [
      "89220.25\n"
     ]
    }
   ],
   "source": [
    "import numpy as np\n",
    "\n",
    "Q1 = np.percentile(df[\"Sales\"],25)\n",
    "Q3 = np.percentile(df[\"Sales\"],75)\n",
    "IQR = Q3 - Q1\n",
    "print(IQR)"
   ]
  },
  {
   "cell_type": "code",
   "execution_count": 8,
   "id": "1e1df571",
   "metadata": {},
   "outputs": [
    {
     "data": {
      "text/plain": [
       "238175.125"
      ]
     },
     "execution_count": 8,
     "metadata": {},
     "output_type": "execute_result"
    }
   ],
   "source": [
    "UW = (IQR*1.5) + Q3\n",
    "UW"
   ]
  },
  {
   "cell_type": "code",
   "execution_count": 9,
   "id": "55310cdd",
   "metadata": {},
   "outputs": [
    {
     "data": {
      "text/plain": [
       "0      False\n",
       "1      False\n",
       "2      False\n",
       "3      False\n",
       "4      False\n",
       "       ...  \n",
       "385    False\n",
       "386    False\n",
       "387    False\n",
       "388    False\n",
       "389    False\n",
       "Name: Sales, Length: 390, dtype: bool"
      ]
     },
     "execution_count": 9,
     "metadata": {},
     "output_type": "execute_result"
    }
   ],
   "source": [
    "df[\"Sales\"]>UW"
   ]
  },
  {
   "cell_type": "code",
   "execution_count": 10,
   "id": "3ee27421",
   "metadata": {},
   "outputs": [
    {
     "data": {
      "text/html": [
       "<div>\n",
       "<style scoped>\n",
       "    .dataframe tbody tr th:only-of-type {\n",
       "        vertical-align: middle;\n",
       "    }\n",
       "\n",
       "    .dataframe tbody tr th {\n",
       "        vertical-align: top;\n",
       "    }\n",
       "\n",
       "    .dataframe thead th {\n",
       "        text-align: right;\n",
       "    }\n",
       "</style>\n",
       "<table border=\"1\" class=\"dataframe\">\n",
       "  <thead>\n",
       "    <tr style=\"text-align: right;\">\n",
       "      <th></th>\n",
       "      <th>Region</th>\n",
       "      <th>Product</th>\n",
       "      <th>Subsidiary</th>\n",
       "      <th>Stores</th>\n",
       "      <th>Sales</th>\n",
       "      <th>Inventory</th>\n",
       "      <th>Returns</th>\n",
       "    </tr>\n",
       "  </thead>\n",
       "  <tbody>\n",
       "    <tr>\n",
       "      <th>16</th>\n",
       "      <td>Africa</td>\n",
       "      <td>Men's Casual</td>\n",
       "      <td>Cairo</td>\n",
       "      <td>25</td>\n",
       "      <td>360209</td>\n",
       "      <td>1063251</td>\n",
       "      <td>9424</td>\n",
       "    </tr>\n",
       "    <tr>\n",
       "      <th>21</th>\n",
       "      <td>Africa</td>\n",
       "      <td>Women's Casual</td>\n",
       "      <td>Cairo</td>\n",
       "      <td>14</td>\n",
       "      <td>328474</td>\n",
       "      <td>940851</td>\n",
       "      <td>10124</td>\n",
       "    </tr>\n",
       "    <tr>\n",
       "      <th>99</th>\n",
       "      <td>Canada</td>\n",
       "      <td>Boot</td>\n",
       "      <td>Vancouver</td>\n",
       "      <td>31</td>\n",
       "      <td>286497</td>\n",
       "      <td>882080</td>\n",
       "      <td>9160</td>\n",
       "    </tr>\n",
       "    <tr>\n",
       "      <th>100</th>\n",
       "      <td>Canada</td>\n",
       "      <td>Men's Casual</td>\n",
       "      <td>Vancouver</td>\n",
       "      <td>25</td>\n",
       "      <td>353361</td>\n",
       "      <td>671837</td>\n",
       "      <td>20470</td>\n",
       "    </tr>\n",
       "    <tr>\n",
       "      <th>103</th>\n",
       "      <td>Canada</td>\n",
       "      <td>Women's Casual</td>\n",
       "      <td>Vancouver</td>\n",
       "      <td>20</td>\n",
       "      <td>304106</td>\n",
       "      <td>665323</td>\n",
       "      <td>8278</td>\n",
       "    </tr>\n",
       "    <tr>\n",
       "      <th>105</th>\n",
       "      <td>Central America/Caribbean</td>\n",
       "      <td>Men's Dress</td>\n",
       "      <td>Kingston</td>\n",
       "      <td>23</td>\n",
       "      <td>270863</td>\n",
       "      <td>618703</td>\n",
       "      <td>7447</td>\n",
       "    </tr>\n",
       "    <tr>\n",
       "      <th>107</th>\n",
       "      <td>Central America/Caribbean</td>\n",
       "      <td>Slipper</td>\n",
       "      <td>Kingston</td>\n",
       "      <td>37</td>\n",
       "      <td>476638</td>\n",
       "      <td>1555357</td>\n",
       "      <td>15713</td>\n",
       "    </tr>\n",
       "    <tr>\n",
       "      <th>110</th>\n",
       "      <td>Central America/Caribbean</td>\n",
       "      <td>Women's Dress</td>\n",
       "      <td>Kingston</td>\n",
       "      <td>41</td>\n",
       "      <td>375817</td>\n",
       "      <td>1147300</td>\n",
       "      <td>11656</td>\n",
       "    </tr>\n",
       "    <tr>\n",
       "      <th>159</th>\n",
       "      <td>Eastern Europe</td>\n",
       "      <td>Men's Casual</td>\n",
       "      <td>Warsaw</td>\n",
       "      <td>15</td>\n",
       "      <td>304093</td>\n",
       "      <td>729044</td>\n",
       "      <td>9364</td>\n",
       "    </tr>\n",
       "    <tr>\n",
       "      <th>167</th>\n",
       "      <td>Middle East</td>\n",
       "      <td>Men's Casual</td>\n",
       "      <td>Al-Khobar</td>\n",
       "      <td>24</td>\n",
       "      <td>340201</td>\n",
       "      <td>616745</td>\n",
       "      <td>13251</td>\n",
       "    </tr>\n",
       "    <tr>\n",
       "      <th>168</th>\n",
       "      <td>Middle East</td>\n",
       "      <td>Men's Dress</td>\n",
       "      <td>Al-Khobar</td>\n",
       "      <td>22</td>\n",
       "      <td>261445</td>\n",
       "      <td>711246</td>\n",
       "      <td>6979</td>\n",
       "    </tr>\n",
       "    <tr>\n",
       "      <th>173</th>\n",
       "      <td>Middle East</td>\n",
       "      <td>Women's Dress</td>\n",
       "      <td>Al-Khobar</td>\n",
       "      <td>11</td>\n",
       "      <td>241820</td>\n",
       "      <td>611686</td>\n",
       "      <td>6167</td>\n",
       "    </tr>\n",
       "    <tr>\n",
       "      <th>175</th>\n",
       "      <td>Middle East</td>\n",
       "      <td>Men's Casual</td>\n",
       "      <td>Dubai</td>\n",
       "      <td>29</td>\n",
       "      <td>419336</td>\n",
       "      <td>868115</td>\n",
       "      <td>17552</td>\n",
       "    </tr>\n",
       "    <tr>\n",
       "      <th>176</th>\n",
       "      <td>Middle East</td>\n",
       "      <td>Men's Dress</td>\n",
       "      <td>Dubai</td>\n",
       "      <td>25</td>\n",
       "      <td>324312</td>\n",
       "      <td>746970</td>\n",
       "      <td>8159</td>\n",
       "    </tr>\n",
       "    <tr>\n",
       "      <th>178</th>\n",
       "      <td>Middle East</td>\n",
       "      <td>Slipper</td>\n",
       "      <td>Dubai</td>\n",
       "      <td>17</td>\n",
       "      <td>387680</td>\n",
       "      <td>1238698</td>\n",
       "      <td>12768</td>\n",
       "    </tr>\n",
       "    <tr>\n",
       "      <th>181</th>\n",
       "      <td>Middle East</td>\n",
       "      <td>Women's Dress</td>\n",
       "      <td>Dubai</td>\n",
       "      <td>19</td>\n",
       "      <td>435891</td>\n",
       "      <td>1292400</td>\n",
       "      <td>12999</td>\n",
       "    </tr>\n",
       "    <tr>\n",
       "      <th>183</th>\n",
       "      <td>Middle East</td>\n",
       "      <td>Men's Dress</td>\n",
       "      <td>Tel Aviv</td>\n",
       "      <td>24</td>\n",
       "      <td>253814</td>\n",
       "      <td>631479</td>\n",
       "      <td>8727</td>\n",
       "    </tr>\n",
       "    <tr>\n",
       "      <th>187</th>\n",
       "      <td>Middle East</td>\n",
       "      <td>Women's Casual</td>\n",
       "      <td>Tel Aviv</td>\n",
       "      <td>19</td>\n",
       "      <td>288904</td>\n",
       "      <td>790386</td>\n",
       "      <td>12000</td>\n",
       "    </tr>\n",
       "    <tr>\n",
       "      <th>188</th>\n",
       "      <td>Middle East</td>\n",
       "      <td>Women's Dress</td>\n",
       "      <td>Tel Aviv</td>\n",
       "      <td>18</td>\n",
       "      <td>434496</td>\n",
       "      <td>1272531</td>\n",
       "      <td>17394</td>\n",
       "    </tr>\n",
       "    <tr>\n",
       "      <th>205</th>\n",
       "      <td>Pacific</td>\n",
       "      <td>Men's Casual</td>\n",
       "      <td>Jakarta</td>\n",
       "      <td>12</td>\n",
       "      <td>373908</td>\n",
       "      <td>1139026</td>\n",
       "      <td>10960</td>\n",
       "    </tr>\n",
       "    <tr>\n",
       "      <th>250</th>\n",
       "      <td>South America</td>\n",
       "      <td>Men's Casual</td>\n",
       "      <td>Caracas</td>\n",
       "      <td>14</td>\n",
       "      <td>245757</td>\n",
       "      <td>445579</td>\n",
       "      <td>7918</td>\n",
       "    </tr>\n",
       "    <tr>\n",
       "      <th>289</th>\n",
       "      <td>United States</td>\n",
       "      <td>Men's Casual</td>\n",
       "      <td>Chicago</td>\n",
       "      <td>26</td>\n",
       "      <td>408978</td>\n",
       "      <td>831672</td>\n",
       "      <td>17907</td>\n",
       "    </tr>\n",
       "    <tr>\n",
       "      <th>290</th>\n",
       "      <td>United States</td>\n",
       "      <td>Men's Dress</td>\n",
       "      <td>Chicago</td>\n",
       "      <td>28</td>\n",
       "      <td>261607</td>\n",
       "      <td>824485</td>\n",
       "      <td>8915</td>\n",
       "    </tr>\n",
       "    <tr>\n",
       "      <th>292</th>\n",
       "      <td>United States</td>\n",
       "      <td>Slipper</td>\n",
       "      <td>Chicago</td>\n",
       "      <td>13</td>\n",
       "      <td>329235</td>\n",
       "      <td>1049530</td>\n",
       "      <td>10654</td>\n",
       "    </tr>\n",
       "    <tr>\n",
       "      <th>295</th>\n",
       "      <td>United States</td>\n",
       "      <td>Women's Dress</td>\n",
       "      <td>Chicago</td>\n",
       "      <td>37</td>\n",
       "      <td>293313</td>\n",
       "      <td>754157</td>\n",
       "      <td>10194</td>\n",
       "    </tr>\n",
       "    <tr>\n",
       "      <th>305</th>\n",
       "      <td>United States</td>\n",
       "      <td>Men's Casual</td>\n",
       "      <td>Minneapolis</td>\n",
       "      <td>16</td>\n",
       "      <td>263712</td>\n",
       "      <td>564741</td>\n",
       "      <td>9991</td>\n",
       "    </tr>\n",
       "    <tr>\n",
       "      <th>313</th>\n",
       "      <td>United States</td>\n",
       "      <td>Men's Casual</td>\n",
       "      <td>New York</td>\n",
       "      <td>20</td>\n",
       "      <td>456985</td>\n",
       "      <td>890096</td>\n",
       "      <td>13453</td>\n",
       "    </tr>\n",
       "    <tr>\n",
       "      <th>316</th>\n",
       "      <td>United States</td>\n",
       "      <td>Slipper</td>\n",
       "      <td>New York</td>\n",
       "      <td>24</td>\n",
       "      <td>252758</td>\n",
       "      <td>1059333</td>\n",
       "      <td>8503</td>\n",
       "    </tr>\n",
       "    <tr>\n",
       "      <th>319</th>\n",
       "      <td>United States</td>\n",
       "      <td>Women's Dress</td>\n",
       "      <td>New York</td>\n",
       "      <td>17</td>\n",
       "      <td>288972</td>\n",
       "      <td>1129697</td>\n",
       "      <td>10257</td>\n",
       "    </tr>\n",
       "    <tr>\n",
       "      <th>334</th>\n",
       "      <td>Western Europe</td>\n",
       "      <td>Women's Casual</td>\n",
       "      <td>Copenhagen</td>\n",
       "      <td>26</td>\n",
       "      <td>502636</td>\n",
       "      <td>1110412</td>\n",
       "      <td>17448</td>\n",
       "    </tr>\n",
       "    <tr>\n",
       "      <th>348</th>\n",
       "      <td>Western Europe</td>\n",
       "      <td>Slipper</td>\n",
       "      <td>Heidelberg</td>\n",
       "      <td>17</td>\n",
       "      <td>243342</td>\n",
       "      <td>928112</td>\n",
       "      <td>7940</td>\n",
       "    </tr>\n",
       "    <tr>\n",
       "      <th>353</th>\n",
       "      <td>Western Europe</td>\n",
       "      <td>Men's Casual</td>\n",
       "      <td>Lisbon</td>\n",
       "      <td>18</td>\n",
       "      <td>311341</td>\n",
       "      <td>502959</td>\n",
       "      <td>12247</td>\n",
       "    </tr>\n",
       "  </tbody>\n",
       "</table>\n",
       "</div>"
      ],
      "text/plain": [
       "                        Region         Product   Subsidiary  Stores   Sales  \\\n",
       "16                      Africa    Men's Casual        Cairo      25  360209   \n",
       "21                      Africa  Women's Casual        Cairo      14  328474   \n",
       "99                      Canada            Boot    Vancouver      31  286497   \n",
       "100                     Canada    Men's Casual    Vancouver      25  353361   \n",
       "103                     Canada  Women's Casual    Vancouver      20  304106   \n",
       "105  Central America/Caribbean     Men's Dress     Kingston      23  270863   \n",
       "107  Central America/Caribbean         Slipper     Kingston      37  476638   \n",
       "110  Central America/Caribbean   Women's Dress     Kingston      41  375817   \n",
       "159             Eastern Europe    Men's Casual       Warsaw      15  304093   \n",
       "167                Middle East    Men's Casual    Al-Khobar      24  340201   \n",
       "168                Middle East     Men's Dress    Al-Khobar      22  261445   \n",
       "173                Middle East   Women's Dress    Al-Khobar      11  241820   \n",
       "175                Middle East    Men's Casual        Dubai      29  419336   \n",
       "176                Middle East     Men's Dress        Dubai      25  324312   \n",
       "178                Middle East         Slipper        Dubai      17  387680   \n",
       "181                Middle East   Women's Dress        Dubai      19  435891   \n",
       "183                Middle East     Men's Dress     Tel Aviv      24  253814   \n",
       "187                Middle East  Women's Casual     Tel Aviv      19  288904   \n",
       "188                Middle East   Women's Dress     Tel Aviv      18  434496   \n",
       "205                    Pacific    Men's Casual      Jakarta      12  373908   \n",
       "250              South America    Men's Casual      Caracas      14  245757   \n",
       "289              United States    Men's Casual      Chicago      26  408978   \n",
       "290              United States     Men's Dress      Chicago      28  261607   \n",
       "292              United States         Slipper      Chicago      13  329235   \n",
       "295              United States   Women's Dress      Chicago      37  293313   \n",
       "305              United States    Men's Casual  Minneapolis      16  263712   \n",
       "313              United States    Men's Casual     New York      20  456985   \n",
       "316              United States         Slipper     New York      24  252758   \n",
       "319              United States   Women's Dress     New York      17  288972   \n",
       "334             Western Europe  Women's Casual   Copenhagen      26  502636   \n",
       "348             Western Europe         Slipper   Heidelberg      17  243342   \n",
       "353             Western Europe    Men's Casual       Lisbon      18  311341   \n",
       "\n",
       "     Inventory  Returns  \n",
       "16     1063251     9424  \n",
       "21      940851    10124  \n",
       "99      882080     9160  \n",
       "100     671837    20470  \n",
       "103     665323     8278  \n",
       "105     618703     7447  \n",
       "107    1555357    15713  \n",
       "110    1147300    11656  \n",
       "159     729044     9364  \n",
       "167     616745    13251  \n",
       "168     711246     6979  \n",
       "173     611686     6167  \n",
       "175     868115    17552  \n",
       "176     746970     8159  \n",
       "178    1238698    12768  \n",
       "181    1292400    12999  \n",
       "183     631479     8727  \n",
       "187     790386    12000  \n",
       "188    1272531    17394  \n",
       "205    1139026    10960  \n",
       "250     445579     7918  \n",
       "289     831672    17907  \n",
       "290     824485     8915  \n",
       "292    1049530    10654  \n",
       "295     754157    10194  \n",
       "305     564741     9991  \n",
       "313     890096    13453  \n",
       "316    1059333     8503  \n",
       "319    1129697    10257  \n",
       "334    1110412    17448  \n",
       "348     928112     7940  \n",
       "353     502959    12247  "
      ]
     },
     "execution_count": 10,
     "metadata": {},
     "output_type": "execute_result"
    }
   ],
   "source": [
    "df[df[\"Sales\"]>UW]"
   ]
  },
  {
   "cell_type": "code",
   "execution_count": 14,
   "id": "8afd1813",
   "metadata": {},
   "outputs": [
    {
     "name": "stdout",
     "output_type": "stream",
     "text": [
      "No of outliers in are: 32\n"
     ]
    }
   ],
   "source": [
    "print(\"No of outliers in are:\", len(df[df[\"Sales\"]>UW]))"
   ]
  },
  {
   "cell_type": "code",
   "execution_count": 15,
   "id": "1e6965a9",
   "metadata": {},
   "outputs": [
    {
     "data": {
      "text/plain": [
       "count       390.000000\n",
       "mean      76313.023077\n",
       "std       95418.194363\n",
       "min         325.000000\n",
       "25%       15124.500000\n",
       "50%       38005.500000\n",
       "75%      104344.750000\n",
       "max      502636.000000\n",
       "Name: Sales, dtype: float64"
      ]
     },
     "execution_count": 15,
     "metadata": {},
     "output_type": "execute_result"
    }
   ],
   "source": [
    "df[\"Sales\"].describe()"
   ]
  },
  {
   "cell_type": "code",
   "execution_count": 18,
   "id": "70a8b522",
   "metadata": {},
   "outputs": [
    {
     "name": "stderr",
     "output_type": "stream",
     "text": [
      "C:\\Users\\padal\\AppData\\Local\\Temp\\ipykernel_25308\\964141398.py:1: SettingWithCopyWarning: \n",
      "A value is trying to be set on a copy of a slice from a DataFrame\n",
      "\n",
      "See the caveats in the documentation: https://pandas.pydata.org/pandas-docs/stable/user_guide/indexing.html#returning-a-view-versus-a-copy\n",
      "  df[\"Sales\"][df[\"Sales\"]>UW] = UW\n"
     ]
    }
   ],
   "source": [
    "#Replacing the outlier values with nearest whisker length\n",
    "df[\"Sales\"][df[\"Sales\"]>UW] = UW"
   ]
  },
  {
   "cell_type": "code",
   "execution_count": 19,
   "id": "41e96d07",
   "metadata": {},
   "outputs": [
    {
     "data": {
      "text/plain": [
       "count       390.000000\n",
       "mean      68469.697436\n",
       "std       72825.238554\n",
       "min         325.000000\n",
       "25%       15124.500000\n",
       "50%       38005.500000\n",
       "75%      104344.750000\n",
       "max      238175.125000\n",
       "Name: Sales, dtype: float64"
      ]
     },
     "execution_count": 19,
     "metadata": {},
     "output_type": "execute_result"
    }
   ],
   "source": [
    "df[\"Sales\"].describe()"
   ]
  },
  {
   "cell_type": "code",
   "execution_count": 20,
   "id": "f406c324",
   "metadata": {},
   "outputs": [
    {
     "data": {
      "image/png": "[encoded data removed]",
      "text/plain": [
       "<Figure size 640x480 with 1 Axes>"
      ]
     },
     "metadata": {},
     "output_type": "display_data"
    }
   ],
   "source": [
    "boxplot = df[\"Sales\"].plot(kind=\"box\",vert=False,title=\"Boxplot without outliers\")"
   ]
  },
  {
   "cell_type": "code",
   "execution_count": 21,
   "id": "d8c84394",
   "metadata": {},
   "outputs": [
    {
     "data": {
      "text/html": [
       "<div>\n",
       "<style scoped>\n",
       "    .dataframe tbody tr th:only-of-type {\n",
       "        vertical-align: middle;\n",
       "    }\n",
       "\n",
       "    .dataframe tbody tr th {\n",
       "        vertical-align: top;\n",
       "    }\n",
       "\n",
       "    .dataframe thead th {\n",
       "        text-align: right;\n",
       "    }\n",
       "</style>\n",
       "<table border=\"1\" class=\"dataframe\">\n",
       "  <thead>\n",
       "    <tr style=\"text-align: right;\">\n",
       "      <th></th>\n",
       "      <th>Region</th>\n",
       "      <th>Product</th>\n",
       "      <th>Subsidiary</th>\n",
       "      <th>Stores</th>\n",
       "      <th>Sales</th>\n",
       "      <th>Inventory</th>\n",
       "      <th>Returns</th>\n",
       "    </tr>\n",
       "  </thead>\n",
       "  <tbody>\n",
       "    <tr>\n",
       "      <th>0</th>\n",
       "      <td>Africa</td>\n",
       "      <td>Boot</td>\n",
       "      <td>Addis Ababa</td>\n",
       "      <td>12</td>\n",
       "      <td>29761.0</td>\n",
       "      <td>191821</td>\n",
       "      <td>769</td>\n",
       "    </tr>\n",
       "    <tr>\n",
       "      <th>1</th>\n",
       "      <td>Africa</td>\n",
       "      <td>Men's Casual</td>\n",
       "      <td>Addis Ababa</td>\n",
       "      <td>4</td>\n",
       "      <td>67242.0</td>\n",
       "      <td>118036</td>\n",
       "      <td>2284</td>\n",
       "    </tr>\n",
       "    <tr>\n",
       "      <th>2</th>\n",
       "      <td>Africa</td>\n",
       "      <td>Men's Dress</td>\n",
       "      <td>Addis Ababa</td>\n",
       "      <td>7</td>\n",
       "      <td>76793.0</td>\n",
       "      <td>136273</td>\n",
       "      <td>2433</td>\n",
       "    </tr>\n",
       "    <tr>\n",
       "      <th>3</th>\n",
       "      <td>Africa</td>\n",
       "      <td>Sandal</td>\n",
       "      <td>Addis Ababa</td>\n",
       "      <td>10</td>\n",
       "      <td>62819.0</td>\n",
       "      <td>204284</td>\n",
       "      <td>1861</td>\n",
       "    </tr>\n",
       "    <tr>\n",
       "      <th>4</th>\n",
       "      <td>Africa</td>\n",
       "      <td>Slipper</td>\n",
       "      <td>Addis Ababa</td>\n",
       "      <td>14</td>\n",
       "      <td>68641.0</td>\n",
       "      <td>279795</td>\n",
       "      <td>1771</td>\n",
       "    </tr>\n",
       "  </tbody>\n",
       "</table>\n",
       "</div>"
      ],
      "text/plain": [
       "   Region       Product   Subsidiary  Stores    Sales  Inventory  Returns\n",
       "0  Africa          Boot  Addis Ababa      12  29761.0     191821      769\n",
       "1  Africa  Men's Casual  Addis Ababa       4  67242.0     118036     2284\n",
       "2  Africa   Men's Dress  Addis Ababa       7  76793.0     136273     2433\n",
       "3  Africa        Sandal  Addis Ababa      10  62819.0     204284     1861\n",
       "4  Africa       Slipper  Addis Ababa      14  68641.0     279795     1771"
      ]
     },
     "execution_count": 21,
     "metadata": {},
     "output_type": "execute_result"
    }
   ],
   "source": [
    "df.head()"
   ]
  },
  {
   "cell_type": "code",
   "execution_count": 22,
   "id": "de6d1d45",
   "metadata": {},
   "outputs": [
    {
     "name": "stdout",
     "output_type": "stream",
     "text": [
      "2863.5\n"
     ]
    }
   ],
   "source": [
    "Q1 = np.percentile(df[\"Returns\"],25)\n",
    "Q3 = np.percentile(df[\"Returns\"],75)\n",
    "IQR = Q3 - Q1\n",
    "print(IQR)"
   ]
  },
  {
   "cell_type": "code",
   "execution_count": 23,
   "id": "3b17d112",
   "metadata": {},
   "outputs": [
    {
     "data": {
      "text/plain": [
       "7733.75"
      ]
     },
     "execution_count": 23,
     "metadata": {},
     "output_type": "execute_result"
    }
   ],
   "source": [
    "UW = (1.5*IQR) + Q3\n",
    "UW"
   ]
  },
  {
   "cell_type": "code",
   "execution_count": 24,
   "id": "616bd909",
   "metadata": {},
   "outputs": [
    {
     "name": "stdout",
     "output_type": "stream",
     "text": [
      "No of outliers are: 33\n"
     ]
    }
   ],
   "source": [
    "print(\"No of outliers are:\",len(df[df[\"Returns\"]>UW]))"
   ]
  },
  {
   "cell_type": "code",
   "execution_count": 25,
   "id": "7a419967",
   "metadata": {},
   "outputs": [
    {
     "name": "stderr",
     "output_type": "stream",
     "text": [
      "C:\\Users\\padal\\AppData\\Local\\Temp\\ipykernel_25308\\3508855090.py:2: SettingWithCopyWarning: \n",
      "A value is trying to be set on a copy of a slice from a DataFrame\n",
      "\n",
      "See the caveats in the documentation: https://pandas.pydata.org/pandas-docs/stable/user_guide/indexing.html#returning-a-view-versus-a-copy\n",
      "  df[\"Returns\"][df[\"Returns\"]>UW] = UW\n"
     ]
    }
   ],
   "source": [
    "#Replacing outliers with nearest whisker values\n",
    "df[\"Returns\"][df[\"Returns\"]>UW] = UW"
   ]
  },
  {
   "cell_type": "code",
   "execution_count": 26,
   "id": "4aed552e",
   "metadata": {},
   "outputs": [
    {
     "data": {
      "image/png": "[encoded data removed]",
      "text/plain": [
       "<Figure size 640x480 with 1 Axes>"
      ]
     },
     "metadata": {},
     "output_type": "display_data"
    }
   ],
   "source": [
    "boxplot = df[\"Returns\"].plot(kind=\"box\",vert=False,title=\"Boxplot without outliers\")"
   ]
  }
 ],
 "metadata": {
  "kernelspec": {
   "display_name": "Python 3 (ipykernel)",
   "language": "python",
   "name": "python3"
  },
  "language_info": {
   "codemirror_mode": {
    "name": "ipython",
    "version": 3
   },
   "file_extension": ".py",
   "mimetype": "text/x-python",
   "name": "python",
   "nbconvert_exporter": "python",
   "pygments_lexer": "ipython3",
   "version": "3.9.13"
  }
 },
 "nbformat": 4,
 "nbformat_minor": 5
}
