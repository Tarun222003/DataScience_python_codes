{
 "cells": [
  {
   "cell_type": "code",
   "execution_count": 3,
   "id": "08dca7a6",
   "metadata": {},
   "outputs": [
    {
     "data": {
      "text/html": [
       "<div>\n",
       "<style scoped>\n",
       "    .dataframe tbody tr th:only-of-type {\n",
       "        vertical-align: middle;\n",
       "    }\n",
       "\n",
       "    .dataframe tbody tr th {\n",
       "        vertical-align: top;\n",
       "    }\n",
       "\n",
       "    .dataframe thead th {\n",
       "        text-align: right;\n",
       "    }\n",
       "</style>\n",
       "<table border=\"1\" class=\"dataframe\">\n",
       "  <thead>\n",
       "    <tr style=\"text-align: right;\">\n",
       "      <th></th>\n",
       "      <th>Unnamed: 0</th>\n",
       "      <th>CompPrice</th>\n",
       "      <th>Income</th>\n",
       "      <th>Advertising</th>\n",
       "      <th>Population</th>\n",
       "      <th>Price</th>\n",
       "      <th>ShelveLoc</th>\n",
       "      <th>Age</th>\n",
       "      <th>Education</th>\n",
       "      <th>Urban</th>\n",
       "      <th>US</th>\n",
       "      <th>high</th>\n",
       "    </tr>\n",
       "  </thead>\n",
       "  <tbody>\n",
       "    <tr>\n",
       "      <th>0</th>\n",
       "      <td>1</td>\n",
       "      <td>138</td>\n",
       "      <td>73</td>\n",
       "      <td>11</td>\n",
       "      <td>276</td>\n",
       "      <td>120</td>\n",
       "      <td>Bad</td>\n",
       "      <td>42</td>\n",
       "      <td>17</td>\n",
       "      <td>Yes</td>\n",
       "      <td>Yes</td>\n",
       "      <td>yes</td>\n",
       "    </tr>\n",
       "    <tr>\n",
       "      <th>1</th>\n",
       "      <td>2</td>\n",
       "      <td>111</td>\n",
       "      <td>48</td>\n",
       "      <td>16</td>\n",
       "      <td>260</td>\n",
       "      <td>83</td>\n",
       "      <td>Good</td>\n",
       "      <td>65</td>\n",
       "      <td>10</td>\n",
       "      <td>Yes</td>\n",
       "      <td>Yes</td>\n",
       "      <td>yes</td>\n",
       "    </tr>\n",
       "    <tr>\n",
       "      <th>2</th>\n",
       "      <td>3</td>\n",
       "      <td>113</td>\n",
       "      <td>35</td>\n",
       "      <td>10</td>\n",
       "      <td>269</td>\n",
       "      <td>80</td>\n",
       "      <td>Medium</td>\n",
       "      <td>59</td>\n",
       "      <td>12</td>\n",
       "      <td>Yes</td>\n",
       "      <td>Yes</td>\n",
       "      <td>yes</td>\n",
       "    </tr>\n",
       "    <tr>\n",
       "      <th>3</th>\n",
       "      <td>4</td>\n",
       "      <td>117</td>\n",
       "      <td>100</td>\n",
       "      <td>4</td>\n",
       "      <td>466</td>\n",
       "      <td>97</td>\n",
       "      <td>Medium</td>\n",
       "      <td>55</td>\n",
       "      <td>14</td>\n",
       "      <td>Yes</td>\n",
       "      <td>Yes</td>\n",
       "      <td>no</td>\n",
       "    </tr>\n",
       "    <tr>\n",
       "      <th>4</th>\n",
       "      <td>5</td>\n",
       "      <td>141</td>\n",
       "      <td>64</td>\n",
       "      <td>3</td>\n",
       "      <td>340</td>\n",
       "      <td>128</td>\n",
       "      <td>Bad</td>\n",
       "      <td>38</td>\n",
       "      <td>13</td>\n",
       "      <td>Yes</td>\n",
       "      <td>No</td>\n",
       "      <td>no</td>\n",
       "    </tr>\n",
       "    <tr>\n",
       "      <th>...</th>\n",
       "      <td>...</td>\n",
       "      <td>...</td>\n",
       "      <td>...</td>\n",
       "      <td>...</td>\n",
       "      <td>...</td>\n",
       "      <td>...</td>\n",
       "      <td>...</td>\n",
       "      <td>...</td>\n",
       "      <td>...</td>\n",
       "      <td>...</td>\n",
       "      <td>...</td>\n",
       "      <td>...</td>\n",
       "    </tr>\n",
       "    <tr>\n",
       "      <th>395</th>\n",
       "      <td>396</td>\n",
       "      <td>138</td>\n",
       "      <td>108</td>\n",
       "      <td>17</td>\n",
       "      <td>203</td>\n",
       "      <td>128</td>\n",
       "      <td>Good</td>\n",
       "      <td>33</td>\n",
       "      <td>14</td>\n",
       "      <td>Yes</td>\n",
       "      <td>Yes</td>\n",
       "      <td>yes</td>\n",
       "    </tr>\n",
       "    <tr>\n",
       "      <th>396</th>\n",
       "      <td>397</td>\n",
       "      <td>139</td>\n",
       "      <td>23</td>\n",
       "      <td>3</td>\n",
       "      <td>37</td>\n",
       "      <td>120</td>\n",
       "      <td>Medium</td>\n",
       "      <td>55</td>\n",
       "      <td>11</td>\n",
       "      <td>No</td>\n",
       "      <td>Yes</td>\n",
       "      <td>no</td>\n",
       "    </tr>\n",
       "    <tr>\n",
       "      <th>397</th>\n",
       "      <td>398</td>\n",
       "      <td>162</td>\n",
       "      <td>26</td>\n",
       "      <td>12</td>\n",
       "      <td>368</td>\n",
       "      <td>159</td>\n",
       "      <td>Medium</td>\n",
       "      <td>40</td>\n",
       "      <td>18</td>\n",
       "      <td>Yes</td>\n",
       "      <td>Yes</td>\n",
       "      <td>no</td>\n",
       "    </tr>\n",
       "    <tr>\n",
       "      <th>398</th>\n",
       "      <td>399</td>\n",
       "      <td>100</td>\n",
       "      <td>79</td>\n",
       "      <td>7</td>\n",
       "      <td>284</td>\n",
       "      <td>95</td>\n",
       "      <td>Bad</td>\n",
       "      <td>50</td>\n",
       "      <td>12</td>\n",
       "      <td>Yes</td>\n",
       "      <td>Yes</td>\n",
       "      <td>no</td>\n",
       "    </tr>\n",
       "    <tr>\n",
       "      <th>399</th>\n",
       "      <td>400</td>\n",
       "      <td>134</td>\n",
       "      <td>37</td>\n",
       "      <td>0</td>\n",
       "      <td>27</td>\n",
       "      <td>120</td>\n",
       "      <td>Good</td>\n",
       "      <td>49</td>\n",
       "      <td>16</td>\n",
       "      <td>Yes</td>\n",
       "      <td>Yes</td>\n",
       "      <td>yes</td>\n",
       "    </tr>\n",
       "  </tbody>\n",
       "</table>\n",
       "<p>400 rows × 12 columns</p>\n",
       "</div>"
      ],
      "text/plain": [
       "     Unnamed: 0  CompPrice  Income  Advertising  Population  Price ShelveLoc  \\\n",
       "0             1        138      73           11         276    120       Bad   \n",
       "1             2        111      48           16         260     83      Good   \n",
       "2             3        113      35           10         269     80    Medium   \n",
       "3             4        117     100            4         466     97    Medium   \n",
       "4             5        141      64            3         340    128       Bad   \n",
       "..          ...        ...     ...          ...         ...    ...       ...   \n",
       "395         396        138     108           17         203    128      Good   \n",
       "396         397        139      23            3          37    120    Medium   \n",
       "397         398        162      26           12         368    159    Medium   \n",
       "398         399        100      79            7         284     95       Bad   \n",
       "399         400        134      37            0          27    120      Good   \n",
       "\n",
       "     Age  Education Urban   US high  \n",
       "0     42         17   Yes  Yes  yes  \n",
       "1     65         10   Yes  Yes  yes  \n",
       "2     59         12   Yes  Yes  yes  \n",
       "3     55         14   Yes  Yes   no  \n",
       "4     38         13   Yes   No   no  \n",
       "..   ...        ...   ...  ...  ...  \n",
       "395   33         14   Yes  Yes  yes  \n",
       "396   55         11    No  Yes   no  \n",
       "397   40         18   Yes  Yes   no  \n",
       "398   50         12   Yes  Yes   no  \n",
       "399   49         16   Yes  Yes  yes  \n",
       "\n",
       "[400 rows x 12 columns]"
      ]
     },
     "execution_count": 3,
     "metadata": {},
     "output_type": "execute_result"
    }
   ],
   "source": [
    "import pandas as pd\n",
    "df = pd.read_csv(r\"C:\\Users\\padal\\OneDrive\\Desktop\\Data Science\\sales.csv\")\n",
    "df"
   ]
  },
  {
   "cell_type": "code",
   "execution_count": 4,
   "id": "fec0dce6",
   "metadata": {},
   "outputs": [
    {
     "data": {
      "text/html": [
       "<div>\n",
       "<style scoped>\n",
       "    .dataframe tbody tr th:only-of-type {\n",
       "        vertical-align: middle;\n",
       "    }\n",
       "\n",
       "    .dataframe tbody tr th {\n",
       "        vertical-align: top;\n",
       "    }\n",
       "\n",
       "    .dataframe thead th {\n",
       "        text-align: right;\n",
       "    }\n",
       "</style>\n",
       "<table border=\"1\" class=\"dataframe\">\n",
       "  <thead>\n",
       "    <tr style=\"text-align: right;\">\n",
       "      <th></th>\n",
       "      <th>CompPrice</th>\n",
       "      <th>Income</th>\n",
       "      <th>Advertising</th>\n",
       "      <th>Population</th>\n",
       "      <th>Price</th>\n",
       "      <th>Age</th>\n",
       "    </tr>\n",
       "  </thead>\n",
       "  <tbody>\n",
       "    <tr>\n",
       "      <th>0</th>\n",
       "      <td>138</td>\n",
       "      <td>73</td>\n",
       "      <td>11</td>\n",
       "      <td>276</td>\n",
       "      <td>120</td>\n",
       "      <td>42</td>\n",
       "    </tr>\n",
       "    <tr>\n",
       "      <th>1</th>\n",
       "      <td>111</td>\n",
       "      <td>48</td>\n",
       "      <td>16</td>\n",
       "      <td>260</td>\n",
       "      <td>83</td>\n",
       "      <td>65</td>\n",
       "    </tr>\n",
       "    <tr>\n",
       "      <th>2</th>\n",
       "      <td>113</td>\n",
       "      <td>35</td>\n",
       "      <td>10</td>\n",
       "      <td>269</td>\n",
       "      <td>80</td>\n",
       "      <td>59</td>\n",
       "    </tr>\n",
       "    <tr>\n",
       "      <th>3</th>\n",
       "      <td>117</td>\n",
       "      <td>100</td>\n",
       "      <td>4</td>\n",
       "      <td>466</td>\n",
       "      <td>97</td>\n",
       "      <td>55</td>\n",
       "    </tr>\n",
       "    <tr>\n",
       "      <th>4</th>\n",
       "      <td>141</td>\n",
       "      <td>64</td>\n",
       "      <td>3</td>\n",
       "      <td>340</td>\n",
       "      <td>128</td>\n",
       "      <td>38</td>\n",
       "    </tr>\n",
       "    <tr>\n",
       "      <th>...</th>\n",
       "      <td>...</td>\n",
       "      <td>...</td>\n",
       "      <td>...</td>\n",
       "      <td>...</td>\n",
       "      <td>...</td>\n",
       "      <td>...</td>\n",
       "    </tr>\n",
       "    <tr>\n",
       "      <th>395</th>\n",
       "      <td>138</td>\n",
       "      <td>108</td>\n",
       "      <td>17</td>\n",
       "      <td>203</td>\n",
       "      <td>128</td>\n",
       "      <td>33</td>\n",
       "    </tr>\n",
       "    <tr>\n",
       "      <th>396</th>\n",
       "      <td>139</td>\n",
       "      <td>23</td>\n",
       "      <td>3</td>\n",
       "      <td>37</td>\n",
       "      <td>120</td>\n",
       "      <td>55</td>\n",
       "    </tr>\n",
       "    <tr>\n",
       "      <th>397</th>\n",
       "      <td>162</td>\n",
       "      <td>26</td>\n",
       "      <td>12</td>\n",
       "      <td>368</td>\n",
       "      <td>159</td>\n",
       "      <td>40</td>\n",
       "    </tr>\n",
       "    <tr>\n",
       "      <th>398</th>\n",
       "      <td>100</td>\n",
       "      <td>79</td>\n",
       "      <td>7</td>\n",
       "      <td>284</td>\n",
       "      <td>95</td>\n",
       "      <td>50</td>\n",
       "    </tr>\n",
       "    <tr>\n",
       "      <th>399</th>\n",
       "      <td>134</td>\n",
       "      <td>37</td>\n",
       "      <td>0</td>\n",
       "      <td>27</td>\n",
       "      <td>120</td>\n",
       "      <td>49</td>\n",
       "    </tr>\n",
       "  </tbody>\n",
       "</table>\n",
       "<p>400 rows × 6 columns</p>\n",
       "</div>"
      ],
      "text/plain": [
       "     CompPrice  Income  Advertising  Population  Price  Age\n",
       "0          138      73           11         276    120   42\n",
       "1          111      48           16         260     83   65\n",
       "2          113      35           10         269     80   59\n",
       "3          117     100            4         466     97   55\n",
       "4          141      64            3         340    128   38\n",
       "..         ...     ...          ...         ...    ...  ...\n",
       "395        138     108           17         203    128   33\n",
       "396        139      23            3          37    120   55\n",
       "397        162      26           12         368    159   40\n",
       "398        100      79            7         284     95   50\n",
       "399        134      37            0          27    120   49\n",
       "\n",
       "[400 rows x 6 columns]"
      ]
     },
     "execution_count": 4,
     "metadata": {},
     "output_type": "execute_result"
    }
   ],
   "source": [
    "x_cont= df[df.columns[[1,2,3,4,5,7]]]\n",
    "x_cont"
   ]
  },
  {
   "cell_type": "code",
   "execution_count": 5,
   "id": "5ba28e02",
   "metadata": {},
   "outputs": [
    {
     "data": {
      "text/html": [
       "<div>\n",
       "<style scoped>\n",
       "    .dataframe tbody tr th:only-of-type {\n",
       "        vertical-align: middle;\n",
       "    }\n",
       "\n",
       "    .dataframe tbody tr th {\n",
       "        vertical-align: top;\n",
       "    }\n",
       "\n",
       "    .dataframe thead th {\n",
       "        text-align: right;\n",
       "    }\n",
       "</style>\n",
       "<table border=\"1\" class=\"dataframe\">\n",
       "  <thead>\n",
       "    <tr style=\"text-align: right;\">\n",
       "      <th></th>\n",
       "      <th>CompPrice</th>\n",
       "      <th>Income</th>\n",
       "      <th>Advertising</th>\n",
       "      <th>Population</th>\n",
       "      <th>Price</th>\n",
       "      <th>Age</th>\n",
       "    </tr>\n",
       "  </thead>\n",
       "  <tbody>\n",
       "    <tr>\n",
       "      <th>0</th>\n",
       "      <td>0.850455</td>\n",
       "      <td>0.155361</td>\n",
       "      <td>0.657177</td>\n",
       "      <td>0.075819</td>\n",
       "      <td>0.177823</td>\n",
       "      <td>-0.699782</td>\n",
       "    </tr>\n",
       "    <tr>\n",
       "      <th>1</th>\n",
       "      <td>-0.912484</td>\n",
       "      <td>-0.739060</td>\n",
       "      <td>1.409957</td>\n",
       "      <td>-0.032882</td>\n",
       "      <td>-1.386854</td>\n",
       "      <td>0.721723</td>\n",
       "    </tr>\n",
       "    <tr>\n",
       "      <th>2</th>\n",
       "      <td>-0.781896</td>\n",
       "      <td>-1.204159</td>\n",
       "      <td>0.506621</td>\n",
       "      <td>0.028262</td>\n",
       "      <td>-1.513719</td>\n",
       "      <td>0.350895</td>\n",
       "    </tr>\n",
       "    <tr>\n",
       "      <th>3</th>\n",
       "      <td>-0.520720</td>\n",
       "      <td>1.121336</td>\n",
       "      <td>-0.396715</td>\n",
       "      <td>1.366649</td>\n",
       "      <td>-0.794814</td>\n",
       "      <td>0.103677</td>\n",
       "    </tr>\n",
       "    <tr>\n",
       "      <th>4</th>\n",
       "      <td>1.046337</td>\n",
       "      <td>-0.166631</td>\n",
       "      <td>-0.547271</td>\n",
       "      <td>0.510625</td>\n",
       "      <td>0.516132</td>\n",
       "      <td>-0.947000</td>\n",
       "    </tr>\n",
       "    <tr>\n",
       "      <th>...</th>\n",
       "      <td>...</td>\n",
       "      <td>...</td>\n",
       "      <td>...</td>\n",
       "      <td>...</td>\n",
       "      <td>...</td>\n",
       "      <td>...</td>\n",
       "    </tr>\n",
       "    <tr>\n",
       "      <th>395</th>\n",
       "      <td>0.850455</td>\n",
       "      <td>1.407551</td>\n",
       "      <td>1.560513</td>\n",
       "      <td>-0.420131</td>\n",
       "      <td>0.516132</td>\n",
       "      <td>-1.256023</td>\n",
       "    </tr>\n",
       "    <tr>\n",
       "      <th>396</th>\n",
       "      <td>0.915749</td>\n",
       "      <td>-1.633482</td>\n",
       "      <td>-0.547271</td>\n",
       "      <td>-1.547909</td>\n",
       "      <td>0.177823</td>\n",
       "      <td>0.103677</td>\n",
       "    </tr>\n",
       "    <tr>\n",
       "      <th>397</th>\n",
       "      <td>2.417512</td>\n",
       "      <td>-1.526151</td>\n",
       "      <td>0.807733</td>\n",
       "      <td>0.700853</td>\n",
       "      <td>1.827078</td>\n",
       "      <td>-0.823391</td>\n",
       "    </tr>\n",
       "    <tr>\n",
       "      <th>398</th>\n",
       "      <td>-1.630719</td>\n",
       "      <td>0.370022</td>\n",
       "      <td>0.054953</td>\n",
       "      <td>0.130170</td>\n",
       "      <td>-0.879391</td>\n",
       "      <td>-0.205346</td>\n",
       "    </tr>\n",
       "    <tr>\n",
       "      <th>399</th>\n",
       "      <td>0.589279</td>\n",
       "      <td>-1.132606</td>\n",
       "      <td>-0.998939</td>\n",
       "      <td>-1.615848</td>\n",
       "      <td>0.177823</td>\n",
       "      <td>-0.267150</td>\n",
       "    </tr>\n",
       "  </tbody>\n",
       "</table>\n",
       "<p>400 rows × 6 columns</p>\n",
       "</div>"
      ],
      "text/plain": [
       "     CompPrice    Income  Advertising  Population     Price       Age\n",
       "0     0.850455  0.155361     0.657177    0.075819  0.177823 -0.699782\n",
       "1    -0.912484 -0.739060     1.409957   -0.032882 -1.386854  0.721723\n",
       "2    -0.781896 -1.204159     0.506621    0.028262 -1.513719  0.350895\n",
       "3    -0.520720  1.121336    -0.396715    1.366649 -0.794814  0.103677\n",
       "4     1.046337 -0.166631    -0.547271    0.510625  0.516132 -0.947000\n",
       "..         ...       ...          ...         ...       ...       ...\n",
       "395   0.850455  1.407551     1.560513   -0.420131  0.516132 -1.256023\n",
       "396   0.915749 -1.633482    -0.547271   -1.547909  0.177823  0.103677\n",
       "397   2.417512 -1.526151     0.807733    0.700853  1.827078 -0.823391\n",
       "398  -1.630719  0.370022     0.054953    0.130170 -0.879391 -0.205346\n",
       "399   0.589279 -1.132606    -0.998939   -1.615848  0.177823 -0.267150\n",
       "\n",
       "[400 rows x 6 columns]"
      ]
     },
     "execution_count": 5,
     "metadata": {},
     "output_type": "execute_result"
    }
   ],
   "source": [
    "from sklearn.preprocessing import StandardScaler\n",
    "SS = StandardScaler()\n",
    "SS_X = SS.fit_transform(x_cont)\n",
    "SS_X = pd.DataFrame(SS_X)\n",
    "SS_X.columns = list(df.columns[[1,2,3,4,5,7]])\n",
    "SS_X"
   ]
  },
  {
   "cell_type": "code",
   "execution_count": 6,
   "id": "eb28abf8",
   "metadata": {},
   "outputs": [
    {
     "data": {
      "text/html": [
       "<div>\n",
       "<style scoped>\n",
       "    .dataframe tbody tr th:only-of-type {\n",
       "        vertical-align: middle;\n",
       "    }\n",
       "\n",
       "    .dataframe tbody tr th {\n",
       "        vertical-align: top;\n",
       "    }\n",
       "\n",
       "    .dataframe thead th {\n",
       "        text-align: right;\n",
       "    }\n",
       "</style>\n",
       "<table border=\"1\" class=\"dataframe\">\n",
       "  <thead>\n",
       "    <tr style=\"text-align: right;\">\n",
       "      <th></th>\n",
       "      <th>Unnamed: 0</th>\n",
       "      <th>CompPrice</th>\n",
       "      <th>Income</th>\n",
       "      <th>Advertising</th>\n",
       "      <th>Population</th>\n",
       "      <th>Price</th>\n",
       "      <th>ShelveLoc</th>\n",
       "      <th>Age</th>\n",
       "      <th>Education</th>\n",
       "      <th>Urban</th>\n",
       "      <th>US</th>\n",
       "      <th>high</th>\n",
       "    </tr>\n",
       "  </thead>\n",
       "  <tbody>\n",
       "    <tr>\n",
       "      <th>0</th>\n",
       "      <td>1</td>\n",
       "      <td>138</td>\n",
       "      <td>73</td>\n",
       "      <td>11</td>\n",
       "      <td>276</td>\n",
       "      <td>120</td>\n",
       "      <td>0</td>\n",
       "      <td>42</td>\n",
       "      <td>17</td>\n",
       "      <td>1</td>\n",
       "      <td>1</td>\n",
       "      <td>1</td>\n",
       "    </tr>\n",
       "    <tr>\n",
       "      <th>1</th>\n",
       "      <td>2</td>\n",
       "      <td>111</td>\n",
       "      <td>48</td>\n",
       "      <td>16</td>\n",
       "      <td>260</td>\n",
       "      <td>83</td>\n",
       "      <td>1</td>\n",
       "      <td>65</td>\n",
       "      <td>10</td>\n",
       "      <td>1</td>\n",
       "      <td>1</td>\n",
       "      <td>1</td>\n",
       "    </tr>\n",
       "    <tr>\n",
       "      <th>2</th>\n",
       "      <td>3</td>\n",
       "      <td>113</td>\n",
       "      <td>35</td>\n",
       "      <td>10</td>\n",
       "      <td>269</td>\n",
       "      <td>80</td>\n",
       "      <td>2</td>\n",
       "      <td>59</td>\n",
       "      <td>12</td>\n",
       "      <td>1</td>\n",
       "      <td>1</td>\n",
       "      <td>1</td>\n",
       "    </tr>\n",
       "    <tr>\n",
       "      <th>3</th>\n",
       "      <td>4</td>\n",
       "      <td>117</td>\n",
       "      <td>100</td>\n",
       "      <td>4</td>\n",
       "      <td>466</td>\n",
       "      <td>97</td>\n",
       "      <td>2</td>\n",
       "      <td>55</td>\n",
       "      <td>14</td>\n",
       "      <td>1</td>\n",
       "      <td>1</td>\n",
       "      <td>0</td>\n",
       "    </tr>\n",
       "    <tr>\n",
       "      <th>4</th>\n",
       "      <td>5</td>\n",
       "      <td>141</td>\n",
       "      <td>64</td>\n",
       "      <td>3</td>\n",
       "      <td>340</td>\n",
       "      <td>128</td>\n",
       "      <td>0</td>\n",
       "      <td>38</td>\n",
       "      <td>13</td>\n",
       "      <td>1</td>\n",
       "      <td>0</td>\n",
       "      <td>0</td>\n",
       "    </tr>\n",
       "  </tbody>\n",
       "</table>\n",
       "</div>"
      ],
      "text/plain": [
       "   Unnamed: 0  CompPrice  Income  Advertising  Population  Price  ShelveLoc  \\\n",
       "0           1        138      73           11         276    120          0   \n",
       "1           2        111      48           16         260     83          1   \n",
       "2           3        113      35           10         269     80          2   \n",
       "3           4        117     100            4         466     97          2   \n",
       "4           5        141      64            3         340    128          0   \n",
       "\n",
       "   Age  Education  Urban  US  high  \n",
       "0   42         17      1   1     1  \n",
       "1   65         10      1   1     1  \n",
       "2   59         12      1   1     1  \n",
       "3   55         14      1   1     0  \n",
       "4   38         13      1   0     0  "
      ]
     },
     "execution_count": 6,
     "metadata": {},
     "output_type": "execute_result"
    }
   ],
   "source": [
    "from sklearn.preprocessing import LabelEncoder\n",
    "LE = LabelEncoder()\n",
    "df[\"ShelveLoc\"] = LE.fit_transform(df[\"ShelveLoc\"])\n",
    "df[\"Urban\"]     = LE.fit_transform(df[\"Urban\"])\n",
    "df[\"US\"]        = LE.fit_transform(df[\"US\"])\n",
    "df[\"high\"]      = LE.fit_transform(df[\"high\"])\n",
    "df.head()"
   ]
  },
  {
   "cell_type": "code",
   "execution_count": 7,
   "id": "28167403",
   "metadata": {},
   "outputs": [],
   "source": [
    "df_cat = df[df.columns[[6,8,9,10,11]]]"
   ]
  },
  {
   "cell_type": "code",
   "execution_count": 8,
   "id": "c0f88531",
   "metadata": {},
   "outputs": [
    {
     "data": {
      "text/html": [
       "<div>\n",
       "<style scoped>\n",
       "    .dataframe tbody tr th:only-of-type {\n",
       "        vertical-align: middle;\n",
       "    }\n",
       "\n",
       "    .dataframe tbody tr th {\n",
       "        vertical-align: top;\n",
       "    }\n",
       "\n",
       "    .dataframe thead th {\n",
       "        text-align: right;\n",
       "    }\n",
       "</style>\n",
       "<table border=\"1\" class=\"dataframe\">\n",
       "  <thead>\n",
       "    <tr style=\"text-align: right;\">\n",
       "      <th></th>\n",
       "      <th>CompPrice</th>\n",
       "      <th>Income</th>\n",
       "      <th>Advertising</th>\n",
       "      <th>Population</th>\n",
       "      <th>Price</th>\n",
       "      <th>Age</th>\n",
       "      <th>ShelveLoc</th>\n",
       "      <th>Education</th>\n",
       "      <th>Urban</th>\n",
       "      <th>US</th>\n",
       "      <th>high</th>\n",
       "    </tr>\n",
       "  </thead>\n",
       "  <tbody>\n",
       "    <tr>\n",
       "      <th>0</th>\n",
       "      <td>0.850455</td>\n",
       "      <td>0.155361</td>\n",
       "      <td>0.657177</td>\n",
       "      <td>0.075819</td>\n",
       "      <td>0.177823</td>\n",
       "      <td>-0.699782</td>\n",
       "      <td>0</td>\n",
       "      <td>17</td>\n",
       "      <td>1</td>\n",
       "      <td>1</td>\n",
       "      <td>1</td>\n",
       "    </tr>\n",
       "    <tr>\n",
       "      <th>1</th>\n",
       "      <td>-0.912484</td>\n",
       "      <td>-0.739060</td>\n",
       "      <td>1.409957</td>\n",
       "      <td>-0.032882</td>\n",
       "      <td>-1.386854</td>\n",
       "      <td>0.721723</td>\n",
       "      <td>1</td>\n",
       "      <td>10</td>\n",
       "      <td>1</td>\n",
       "      <td>1</td>\n",
       "      <td>1</td>\n",
       "    </tr>\n",
       "    <tr>\n",
       "      <th>2</th>\n",
       "      <td>-0.781896</td>\n",
       "      <td>-1.204159</td>\n",
       "      <td>0.506621</td>\n",
       "      <td>0.028262</td>\n",
       "      <td>-1.513719</td>\n",
       "      <td>0.350895</td>\n",
       "      <td>2</td>\n",
       "      <td>12</td>\n",
       "      <td>1</td>\n",
       "      <td>1</td>\n",
       "      <td>1</td>\n",
       "    </tr>\n",
       "    <tr>\n",
       "      <th>3</th>\n",
       "      <td>-0.520720</td>\n",
       "      <td>1.121336</td>\n",
       "      <td>-0.396715</td>\n",
       "      <td>1.366649</td>\n",
       "      <td>-0.794814</td>\n",
       "      <td>0.103677</td>\n",
       "      <td>2</td>\n",
       "      <td>14</td>\n",
       "      <td>1</td>\n",
       "      <td>1</td>\n",
       "      <td>0</td>\n",
       "    </tr>\n",
       "    <tr>\n",
       "      <th>4</th>\n",
       "      <td>1.046337</td>\n",
       "      <td>-0.166631</td>\n",
       "      <td>-0.547271</td>\n",
       "      <td>0.510625</td>\n",
       "      <td>0.516132</td>\n",
       "      <td>-0.947000</td>\n",
       "      <td>0</td>\n",
       "      <td>13</td>\n",
       "      <td>1</td>\n",
       "      <td>0</td>\n",
       "      <td>0</td>\n",
       "    </tr>\n",
       "    <tr>\n",
       "      <th>...</th>\n",
       "      <td>...</td>\n",
       "      <td>...</td>\n",
       "      <td>...</td>\n",
       "      <td>...</td>\n",
       "      <td>...</td>\n",
       "      <td>...</td>\n",
       "      <td>...</td>\n",
       "      <td>...</td>\n",
       "      <td>...</td>\n",
       "      <td>...</td>\n",
       "      <td>...</td>\n",
       "    </tr>\n",
       "    <tr>\n",
       "      <th>395</th>\n",
       "      <td>0.850455</td>\n",
       "      <td>1.407551</td>\n",
       "      <td>1.560513</td>\n",
       "      <td>-0.420131</td>\n",
       "      <td>0.516132</td>\n",
       "      <td>-1.256023</td>\n",
       "      <td>1</td>\n",
       "      <td>14</td>\n",
       "      <td>1</td>\n",
       "      <td>1</td>\n",
       "      <td>1</td>\n",
       "    </tr>\n",
       "    <tr>\n",
       "      <th>396</th>\n",
       "      <td>0.915749</td>\n",
       "      <td>-1.633482</td>\n",
       "      <td>-0.547271</td>\n",
       "      <td>-1.547909</td>\n",
       "      <td>0.177823</td>\n",
       "      <td>0.103677</td>\n",
       "      <td>2</td>\n",
       "      <td>11</td>\n",
       "      <td>0</td>\n",
       "      <td>1</td>\n",
       "      <td>0</td>\n",
       "    </tr>\n",
       "    <tr>\n",
       "      <th>397</th>\n",
       "      <td>2.417512</td>\n",
       "      <td>-1.526151</td>\n",
       "      <td>0.807733</td>\n",
       "      <td>0.700853</td>\n",
       "      <td>1.827078</td>\n",
       "      <td>-0.823391</td>\n",
       "      <td>2</td>\n",
       "      <td>18</td>\n",
       "      <td>1</td>\n",
       "      <td>1</td>\n",
       "      <td>0</td>\n",
       "    </tr>\n",
       "    <tr>\n",
       "      <th>398</th>\n",
       "      <td>-1.630719</td>\n",
       "      <td>0.370022</td>\n",
       "      <td>0.054953</td>\n",
       "      <td>0.130170</td>\n",
       "      <td>-0.879391</td>\n",
       "      <td>-0.205346</td>\n",
       "      <td>0</td>\n",
       "      <td>12</td>\n",
       "      <td>1</td>\n",
       "      <td>1</td>\n",
       "      <td>0</td>\n",
       "    </tr>\n",
       "    <tr>\n",
       "      <th>399</th>\n",
       "      <td>0.589279</td>\n",
       "      <td>-1.132606</td>\n",
       "      <td>-0.998939</td>\n",
       "      <td>-1.615848</td>\n",
       "      <td>0.177823</td>\n",
       "      <td>-0.267150</td>\n",
       "      <td>1</td>\n",
       "      <td>16</td>\n",
       "      <td>1</td>\n",
       "      <td>1</td>\n",
       "      <td>1</td>\n",
       "    </tr>\n",
       "  </tbody>\n",
       "</table>\n",
       "<p>400 rows × 11 columns</p>\n",
       "</div>"
      ],
      "text/plain": [
       "     CompPrice    Income  Advertising  Population     Price       Age  \\\n",
       "0     0.850455  0.155361     0.657177    0.075819  0.177823 -0.699782   \n",
       "1    -0.912484 -0.739060     1.409957   -0.032882 -1.386854  0.721723   \n",
       "2    -0.781896 -1.204159     0.506621    0.028262 -1.513719  0.350895   \n",
       "3    -0.520720  1.121336    -0.396715    1.366649 -0.794814  0.103677   \n",
       "4     1.046337 -0.166631    -0.547271    0.510625  0.516132 -0.947000   \n",
       "..         ...       ...          ...         ...       ...       ...   \n",
       "395   0.850455  1.407551     1.560513   -0.420131  0.516132 -1.256023   \n",
       "396   0.915749 -1.633482    -0.547271   -1.547909  0.177823  0.103677   \n",
       "397   2.417512 -1.526151     0.807733    0.700853  1.827078 -0.823391   \n",
       "398  -1.630719  0.370022     0.054953    0.130170 -0.879391 -0.205346   \n",
       "399   0.589279 -1.132606    -0.998939   -1.615848  0.177823 -0.267150   \n",
       "\n",
       "     ShelveLoc  Education  Urban  US  high  \n",
       "0            0         17      1   1     1  \n",
       "1            1         10      1   1     1  \n",
       "2            2         12      1   1     1  \n",
       "3            2         14      1   1     0  \n",
       "4            0         13      1   0     0  \n",
       "..         ...        ...    ...  ..   ...  \n",
       "395          1         14      1   1     1  \n",
       "396          2         11      0   1     0  \n",
       "397          2         18      1   1     0  \n",
       "398          0         12      1   1     0  \n",
       "399          1         16      1   1     1  \n",
       "\n",
       "[400 rows x 11 columns]"
      ]
     },
     "execution_count": 8,
     "metadata": {},
     "output_type": "execute_result"
    }
   ],
   "source": [
    "df_new = pd.concat([SS_X,df_cat],axis=1)\n",
    "df_new"
   ]
  },
  {
   "cell_type": "code",
   "execution_count": 7,
   "id": "08cd2884",
   "metadata": {},
   "outputs": [
    {
     "ename": "NameError",
     "evalue": "name 'df_new' is not defined",
     "output_type": "error",
     "traceback": [
      "\u001b[1;31m---------------------------------------------------------------------------\u001b[0m",
      "\u001b[1;31mNameError\u001b[0m                                 Traceback (most recent call last)",
      "Cell \u001b[1;32mIn[7], line 2\u001b[0m\n\u001b[0;32m      1\u001b[0m \u001b[38;5;66;03m# data partition\u001b[39;00m\n\u001b[1;32m----> 2\u001b[0m Y \u001b[38;5;241m=\u001b[39m df_new[\u001b[38;5;124m\"\u001b[39m\u001b[38;5;124mhigh\u001b[39m\u001b[38;5;124m\"\u001b[39m]\n\u001b[0;32m      3\u001b[0m X \u001b[38;5;241m=\u001b[39m df_new\u001b[38;5;241m.\u001b[39mdrop(df_new[[\u001b[38;5;124m'\u001b[39m\u001b[38;5;124mhigh\u001b[39m\u001b[38;5;124m'\u001b[39m]],axis\u001b[38;5;241m=\u001b[39m\u001b[38;5;241m1\u001b[39m)\n",
      "\u001b[1;31mNameError\u001b[0m: name 'df_new' is not defined"
     ]
    }
   ],
   "source": [
    "# data partition\n",
    "Y = df_new[\"high\"]\n",
    "X = df_new.drop(df_new[['high']],axis=1)"
   ]
  },
  {
   "cell_type": "code",
   "execution_count": 6,
   "id": "e5637be7",
   "metadata": {},
   "outputs": [
    {
     "ename": "NameError",
     "evalue": "name 'X' is not defined",
     "output_type": "error",
     "traceback": [
      "\u001b[1;31m---------------------------------------------------------------------------\u001b[0m",
      "\u001b[1;31mNameError\u001b[0m                                 Traceback (most recent call last)",
      "Cell \u001b[1;32mIn[6], line 2\u001b[0m\n\u001b[0;32m      1\u001b[0m \u001b[38;5;28;01mfrom\u001b[39;00m\u001b[38;5;250m \u001b[39m\u001b[38;5;21;01msklearn\u001b[39;00m\u001b[38;5;21;01m.\u001b[39;00m\u001b[38;5;21;01mmodel_selection\u001b[39;00m\u001b[38;5;250m \u001b[39m\u001b[38;5;28;01mimport\u001b[39;00m train_test_split\n\u001b[1;32m----> 2\u001b[0m X_train,X_test,Y_train,Y_test \u001b[38;5;241m=\u001b[39m train_test_split(X,Y, test_size \u001b[38;5;241m=\u001b[39m \u001b[38;5;241m0.3\u001b[39m)\n",
      "\u001b[1;31mNameError\u001b[0m: name 'X' is not defined"
     ]
    }
   ],
   "source": [
    "from sklearn.model_selection import train_test_split\n",
    "X_train,X_test,Y_train,Y_test = train_test_split(X,Y, test_size = 0.3)"
   ]
  },
  {
   "cell_type": "code",
   "execution_count": 11,
   "id": "48a0c1b5",
   "metadata": {},
   "outputs": [],
   "source": [
    "# Bagging with Decision Tress\n",
    "from sklearn.ensemble import BaggingClassifier  # bagging regressor\n",
    "from sklearn.tree import DecisionTreeClassifier"
   ]
  },
  {
   "cell_type": "code",
   "execution_count": 12,
   "id": "e66dff48",
   "metadata": {},
   "outputs": [],
   "source": [
    "from sklearn.metrics import accuracy_score, log_loss"
   ]
  },
  {
   "cell_type": "code",
   "execution_count": 13,
   "id": "cf0a3ace",
   "metadata": {},
   "outputs": [],
   "source": [
    "# Bagging Classifier\n",
    "bagging_model = BaggingClassifier(base_estimator=DecisionTreeClassifier(criterion='gini'),n_estimators=100, random_state=42,max_samples=0.6,max_features=0.7)"
   ]
  },
  {
   "cell_type": "code",
   "execution_count": 14,
   "id": "4258392f",
   "metadata": {},
   "outputs": [
    {
     "data": {
      "text/plain": [
       "BaggingClassifier(base_estimator=DecisionTreeClassifier(), max_features=0.7,\n",
       "                  max_samples=0.6, n_estimators=100, random_state=42)"
      ]
     },
     "execution_count": 14,
     "metadata": {},
     "output_type": "execute_result"
    }
   ],
   "source": [
    "bagging_model.fit(X_train, Y_train)"
   ]
  },
  {
   "cell_type": "code",
   "execution_count": 15,
   "id": "ac28aac7",
   "metadata": {},
   "outputs": [],
   "source": [
    "y_pred_train_bagging = bagging_model.predict(X_train)\n",
    "y_pred_test_bagging = bagging_model.predict(X_test)"
   ]
  },
  {
   "cell_type": "code",
   "execution_count": 16,
   "id": "26703381",
   "metadata": {},
   "outputs": [],
   "source": [
    "training_accuracy_bagging = accuracy_score(Y_train, y_pred_train_bagging)\n",
    "test_accuracy_bagging = accuracy_score(Y_test, y_pred_test_bagging)\n",
    "training_loss_bagging = log_loss(Y_train, y_pred_train_bagging)\n",
    "test_loss_bagging = log_loss(Y_test, y_pred_test_bagging)"
   ]
  },
  {
   "cell_type": "code",
   "execution_count": 17,
   "id": "ed44e04e",
   "metadata": {},
   "outputs": [
    {
     "name": "stdout",
     "output_type": "stream",
     "text": [
      "Bagging - Training Accuracy: 1.0\n",
      "Bagging - Test Accuracy: 0.7916666666666666\n",
      "Bagging - Training Loss: 9.992007221626415e-16\n",
      "Bagging - Test Loss: 7.19562505878982\n"
     ]
    }
   ],
   "source": [
    "print(\"Bagging - Training Accuracy:\", training_accuracy_bagging)\n",
    "print(\"Bagging - Test Accuracy:\", test_accuracy_bagging)\n",
    "print(\"Bagging - Training Loss:\", training_loss_bagging)\n",
    "print(\"Bagging - Test Loss:\", test_loss_bagging)"
   ]
  },
  {
   "cell_type": "code",
   "execution_count": 18,
   "id": "1ca68dce",
   "metadata": {},
   "outputs": [],
   "source": [
    "# Bagging with Logistic Regressor\n",
    "from sklearn.linear_model import LogisticRegression\n",
    "from sklearn.ensemble import BaggingClassifier  # bagging regressor"
   ]
  },
  {
   "cell_type": "code",
   "execution_count": 19,
   "id": "ee4b427b",
   "metadata": {},
   "outputs": [],
   "source": [
    "# Bagging Classifier\n",
    "bagging_model = BaggingClassifier(base_estimator=LogisticRegression(),n_estimators=100, random_state=42,max_samples=0.6,max_features=0.7)"
   ]
  },
  {
   "cell_type": "code",
   "execution_count": 20,
   "id": "7491a98d",
   "metadata": {},
   "outputs": [
    {
     "data": {
      "text/plain": [
       "BaggingClassifier(base_estimator=LogisticRegression(), max_features=0.7,\n",
       "                  max_samples=0.6, n_estimators=100, random_state=42)"
      ]
     },
     "execution_count": 20,
     "metadata": {},
     "output_type": "execute_result"
    }
   ],
   "source": [
    "bagging_model.fit(X_train, Y_train)"
   ]
  },
  {
   "cell_type": "code",
   "execution_count": 21,
   "id": "4e12df85",
   "metadata": {},
   "outputs": [],
   "source": [
    "y_pred_train_bagging = bagging_model.predict(X_train)\n",
    "y_pred_test_bagging = bagging_model.predict(X_test)"
   ]
  },
  {
   "cell_type": "code",
   "execution_count": 22,
   "id": "037be054",
   "metadata": {},
   "outputs": [],
   "source": [
    "training_accuracy_bagging = accuracy_score(Y_train, y_pred_train_bagging)\n",
    "test_accuracy_bagging = accuracy_score(Y_test, y_pred_test_bagging)\n",
    "training_loss_bagging = log_loss(Y_train, y_pred_train_bagging)\n",
    "test_loss_bagging = log_loss(Y_test, y_pred_test_bagging)"
   ]
  },
  {
   "cell_type": "code",
   "execution_count": 23,
   "id": "8d5c14a2",
   "metadata": {},
   "outputs": [
    {
     "name": "stdout",
     "output_type": "stream",
     "text": [
      "LR - Bagging - Training Accuracy: 0.7964285714285714\n",
      "LR - Bagging - Test Accuracy: 0.8166666666666667\n",
      "LR - Bagging - Training Loss: 7.03115374310283\n",
      "LR - Bagging - Test Loss: 6.332142322293218\n"
     ]
    }
   ],
   "source": [
    "print(\"LR - Bagging - Training Accuracy:\", training_accuracy_bagging)\n",
    "print(\"LR - Bagging - Test Accuracy:\", test_accuracy_bagging)\n",
    "print(\"LR - Bagging - Training Loss:\", training_loss_bagging)\n",
    "print(\"LR - Bagging - Test Loss:\", test_loss_bagging)"
   ]
  },
  {
   "cell_type": "code",
   "execution_count": 24,
   "id": "45e6892a",
   "metadata": {},
   "outputs": [],
   "source": [
    "# Bagging with SVM \n",
    "from sklearn.svm import SVC\n",
    "from sklearn.ensemble import BaggingClassifier  # bagging regressor"
   ]
  },
  {
   "cell_type": "code",
   "execution_count": 25,
   "id": "72546dcc",
   "metadata": {},
   "outputs": [],
   "source": [
    "# Bagging Classifier\n",
    "bagging_model = BaggingClassifier(base_estimator=SVC(),n_estimators=100, random_state=42,max_samples=0.6,max_features=0.7)"
   ]
  },
  {
   "cell_type": "code",
   "execution_count": 26,
   "id": "549c432f",
   "metadata": {},
   "outputs": [
    {
     "data": {
      "text/plain": [
       "BaggingClassifier(base_estimator=SVC(), max_features=0.7, max_samples=0.6,\n",
       "                  n_estimators=100, random_state=42)"
      ]
     },
     "execution_count": 26,
     "metadata": {},
     "output_type": "execute_result"
    }
   ],
   "source": [
    "bagging_model.fit(X_train, Y_train)"
   ]
  },
  {
   "cell_type": "code",
   "execution_count": 27,
   "id": "43b95839",
   "metadata": {},
   "outputs": [],
   "source": [
    "y_pred_train_bagging = bagging_model.predict(X_train)\n",
    "y_pred_test_bagging = bagging_model.predict(X_test)"
   ]
  },
  {
   "cell_type": "code",
   "execution_count": 28,
   "id": "5df52b0a",
   "metadata": {},
   "outputs": [],
   "source": [
    "training_accuracy_bagging = accuracy_score(Y_train, y_pred_train_bagging)\n",
    "test_accuracy_bagging = accuracy_score(Y_test, y_pred_test_bagging)\n",
    "training_loss_bagging = log_loss(Y_train, y_pred_train_bagging)\n",
    "test_loss_bagging = log_loss(Y_test, y_pred_test_bagging)"
   ]
  },
  {
   "cell_type": "code",
   "execution_count": 29,
   "id": "50004ccd",
   "metadata": {},
   "outputs": [
    {
     "name": "stdout",
     "output_type": "stream",
     "text": [
      "SVC - Bagging - Training Accuracy: 0.6035714285714285\n",
      "SVC - Bagging - Test Accuracy: 0.5833333333333334\n",
      "SVC - Bagging - Training Loss: 13.692157785125307\n",
      "SVC - Bagging - Test Loss: 14.391156831212784\n"
     ]
    }
   ],
   "source": [
    "print(\"SVC - Bagging - Training Accuracy:\", training_accuracy_bagging)\n",
    "print(\"SVC - Bagging - Test Accuracy:\", test_accuracy_bagging)\n",
    "print(\"SVC - Bagging - Training Loss:\", training_loss_bagging)\n",
    "print(\"SVC - Bagging - Test Loss:\", test_loss_bagging)"
   ]
  },
  {
   "cell_type": "code",
   "execution_count": 30,
   "id": "3d63745a",
   "metadata": {},
   "outputs": [],
   "source": [
    "# RandomForest with Decision Tress\n",
    "from sklearn.ensemble import RandomForestClassifier"
   ]
  },
  {
   "cell_type": "code",
   "execution_count": 31,
   "id": "3edd7dfb",
   "metadata": {},
   "outputs": [],
   "source": [
    "# RandomForest Classifier\n",
    "RF_model = RandomForestClassifier(n_estimators=100, random_state=42,max_samples=0.6,max_features=0.7)"
   ]
  },
  {
   "cell_type": "code",
   "execution_count": 32,
   "id": "71251c7c",
   "metadata": {},
   "outputs": [
    {
     "data": {
      "text/plain": [
       "RandomForestClassifier(max_features=0.7, max_samples=0.6, random_state=42)"
      ]
     },
     "execution_count": 32,
     "metadata": {},
     "output_type": "execute_result"
    }
   ],
   "source": [
    "RF_model.fit(X_train, Y_train)"
   ]
  },
  {
   "cell_type": "code",
   "execution_count": 33,
   "id": "54f86fd7",
   "metadata": {},
   "outputs": [],
   "source": [
    "y_pred_train_RF = RF_model.predict(X_train)\n",
    "y_pred_test_RF = RF_model.predict(X_test)"
   ]
  },
  {
   "cell_type": "code",
   "execution_count": 34,
   "id": "af4364a8",
   "metadata": {},
   "outputs": [],
   "source": [
    "training_accuracy_RF = accuracy_score(Y_train, y_pred_train_bagging)\n",
    "test_accuracy_RF = accuracy_score(Y_test, y_pred_test_bagging)\n",
    "training_loss_RF = log_loss(Y_train, y_pred_train_bagging)\n",
    "test_loss_RF = log_loss(Y_test, y_pred_test_bagging)"
   ]
  },
  {
   "cell_type": "code",
   "execution_count": 35,
   "id": "870a4fc8",
   "metadata": {},
   "outputs": [
    {
     "name": "stdout",
     "output_type": "stream",
     "text": [
      "RF - Training Accuracy: 0.6035714285714285\n",
      "RF - Test Accuracy: 0.5833333333333334\n",
      "RF - Training Loss: 13.692157785125307\n",
      "RF - Test Loss: 14.391156831212784\n"
     ]
    }
   ],
   "source": [
    "print(\"RF - Training Accuracy:\", training_accuracy_RF)\n",
    "print(\"RF - Test Accuracy:\", test_accuracy_RF)\n",
    "print(\"RF - Training Loss:\", training_loss_RF)\n",
    "print(\"RF - Test Loss:\", test_loss_RF)"
   ]
  },
  {
   "cell_type": "code",
   "execution_count": 36,
   "id": "90a795e7",
   "metadata": {},
   "outputs": [],
   "source": [
    "from sklearn.model_selection import GridSearchCV"
   ]
  },
  {
   "cell_type": "code",
   "execution_count": 37,
   "id": "44541095",
   "metadata": {},
   "outputs": [],
   "source": [
    "param_grid = {\n",
    "    'n_estimators': [50, 100, 200],\n",
    "    'max_samples': [0.6, 0.7, 0.8],\n",
    "    'max_features': [0.6, 0.7, 0.8]\n",
    "}"
   ]
  },
  {
   "cell_type": "code",
   "execution_count": 38,
   "id": "57a5ed35",
   "metadata": {},
   "outputs": [],
   "source": [
    "# Create the RandomForest classifier with a decision tree estimator\n",
    "RF_model = RandomForestClassifier()"
   ]
  },
  {
   "cell_type": "code",
   "execution_count": 39,
   "id": "6e630e5a",
   "metadata": {},
   "outputs": [],
   "source": [
    "# Create the GridSearchCV object\n",
    "grid_search = GridSearchCV(estimator=RF_model, param_grid=param_grid, cv=10, scoring='accuracy')"
   ]
  },
  {
   "cell_type": "code",
   "execution_count": 40,
   "id": "a55e55de",
   "metadata": {},
   "outputs": [
    {
     "data": {
      "text/plain": [
       "GridSearchCV(cv=10, estimator=RandomForestClassifier(),\n",
       "             param_grid={'max_features': [0.6, 0.7, 0.8],\n",
       "                         'max_samples': [0.6, 0.7, 0.8],\n",
       "                         'n_estimators': [50, 100, 200]},\n",
       "             scoring='accuracy')"
      ]
     },
     "execution_count": 40,
     "metadata": {},
     "output_type": "execute_result"
    }
   ],
   "source": [
    "# Fit the grid search to the data\n",
    "grid_search.fit(X_train, Y_train)"
   ]
  },
  {
   "cell_type": "code",
   "execution_count": 41,
   "id": "0b89e2a4",
   "metadata": {},
   "outputs": [
    {
     "name": "stdout",
     "output_type": "stream",
     "text": [
      "Best parameters: {'max_features': 0.7, 'max_samples': 0.8, 'n_estimators': 200}\n",
      "Best score: 0.8142857142857143\n"
     ]
    }
   ],
   "source": [
    "# Print the best parameters and the best score\n",
    "print(\"Best parameters:\", grid_search.best_params_)\n",
    "print(\"Best score:\", grid_search.best_score_)"
   ]
  },
  {
   "cell_type": "code",
   "execution_count": 42,
   "id": "09fe70cc",
   "metadata": {},
   "outputs": [
    {
     "name": "stdout",
     "output_type": "stream",
     "text": [
      "Test accuracy: 0.7583333333333333\n"
     ]
    }
   ],
   "source": [
    "# Evaluate the best model on the test set\n",
    "best_model = grid_search.best_estimator_\n",
    "y_pred_test = best_model.predict(X_test)\n",
    "test_accuracy = accuracy_score(Y_test, y_pred_test)\n",
    "print(\"Test accuracy:\", test_accuracy)"
   ]
  },
  {
   "cell_type": "code",
   "execution_count": 43,
   "id": "5e51c666",
   "metadata": {},
   "outputs": [],
   "source": [
    "# Gradient boosting\n",
    "from sklearn.ensemble import GradientBoostingClassifier\n",
    "GBM = GradientBoostingClassifier(n_estimators=100,max_features=0.7,learning_rate=0.1)"
   ]
  },
  {
   "cell_type": "code",
   "execution_count": 44,
   "id": "98607e3c",
   "metadata": {},
   "outputs": [
    {
     "data": {
      "text/plain": [
       "GradientBoostingClassifier(max_features=0.7)"
      ]
     },
     "execution_count": 44,
     "metadata": {},
     "output_type": "execute_result"
    }
   ],
   "source": [
    "GBM.fit(X_train, Y_train)"
   ]
  },
  {
   "cell_type": "code",
   "execution_count": 45,
   "id": "9c7853b5",
   "metadata": {},
   "outputs": [],
   "source": [
    "y_pred_train_gb = GBM.predict(X_train)\n",
    "y_pred_test_gb = GBM.predict(X_test)"
   ]
  },
  {
   "cell_type": "code",
   "execution_count": 46,
   "id": "3489c88d",
   "metadata": {},
   "outputs": [],
   "source": [
    "training_accuracy_gb = accuracy_score(Y_train, y_pred_train_gb)\n",
    "test_accuracy_gb = accuracy_score(Y_test, y_pred_test_gb)\n",
    "training_loss_gb = log_loss(Y_train, y_pred_train_gb)\n",
    "test_loss_gb = log_loss(Y_test, y_pred_test_gb)"
   ]
  },
  {
   "cell_type": "code",
   "execution_count": 47,
   "id": "84064e95",
   "metadata": {},
   "outputs": [
    {
     "name": "stdout",
     "output_type": "stream",
     "text": [
      "gb - Training Accuracy: 0.9928571428571429\n",
      "gb - Test Accuracy: 0.8083333333333333\n",
      "gb - Training Loss: 0.24670554567793443\n",
      "gb - Test Loss: 6.6199921121651455\n"
     ]
    }
   ],
   "source": [
    "print(\"gb - Training Accuracy:\", training_accuracy_gb)\n",
    "print(\"gb - Test Accuracy:\", test_accuracy_gb)\n",
    "print(\"gb - Training Loss:\", training_loss_gb)\n",
    "print(\"gb - Test Loss:\", test_loss_gb)"
   ]
  },
  {
   "cell_type": "code",
   "execution_count": 48,
   "id": "8bb6e947",
   "metadata": {},
   "outputs": [],
   "source": [
    "from sklearn.model_selection import GridSearchCV"
   ]
  },
  {
   "cell_type": "code",
   "execution_count": 49,
   "id": "13dc2936",
   "metadata": {},
   "outputs": [],
   "source": [
    "# Define the parameter grid\n",
    "param_grid = {\n",
    "    'n_estimators': [50, 100, 200],\n",
    "    'learning_rate': [0.01, 0.1, 1],\n",
    "    'max_features': [0.6, 0.7, 0.8]\n",
    "}"
   ]
  },
  {
   "cell_type": "code",
   "execution_count": 50,
   "id": "4bdcb120",
   "metadata": {},
   "outputs": [
    {
     "name": "stdout",
     "output_type": "stream",
     "text": [
      "Best parameters: {'max_features': 0.7, 'max_samples': 0.8, 'n_estimators': 200}\n",
      "Best score: 0.8142857142857143\n"
     ]
    }
   ],
   "source": [
    "# Print the best parameters and the best score\n",
    "print(\"Best parameters:\", grid_search.best_params_)\n",
    "print(\"Best score:\", grid_search.best_score_)"
   ]
  },
  {
   "cell_type": "code",
   "execution_count": 51,
   "id": "b21be2e6",
   "metadata": {},
   "outputs": [],
   "source": [
    "# Create the bagging classifier with a decision tree estimator\n",
    "from sklearn.ensemble import GradientBoostingClassifier\n",
    "GB_model = GradientBoostingClassifier()"
   ]
  },
  {
   "cell_type": "code",
   "execution_count": 52,
   "id": "c3a8de5a",
   "metadata": {},
   "outputs": [],
   "source": [
    "# Create the GridSearchCV object\n",
    "grid_search = GridSearchCV(estimator=GB_model, param_grid=param_grid, cv=10, scoring='accuracy')"
   ]
  },
  {
   "cell_type": "code",
   "execution_count": 53,
   "id": "fc63e693",
   "metadata": {},
   "outputs": [
    {
     "data": {
      "text/plain": [
       "GridSearchCV(cv=10, estimator=GradientBoostingClassifier(),\n",
       "             param_grid={'learning_rate': [0.01, 0.1, 1],\n",
       "                         'max_features': [0.6, 0.7, 0.8],\n",
       "                         'n_estimators': [50, 100, 200]},\n",
       "             scoring='accuracy')"
      ]
     },
     "execution_count": 53,
     "metadata": {},
     "output_type": "execute_result"
    }
   ],
   "source": [
    "# Fit the grid search to the data\n",
    "grid_search.fit(X_train, Y_train)"
   ]
  },
  {
   "cell_type": "code",
   "execution_count": 54,
   "id": "0ced5a51",
   "metadata": {},
   "outputs": [
    {
     "name": "stdout",
     "output_type": "stream",
     "text": [
      "Best parameters: {'learning_rate': 0.1, 'max_features': 0.6, 'n_estimators': 50}\n",
      "Best score: 0.8464285714285713\n"
     ]
    }
   ],
   "source": [
    "# Print the best parameters and the best score\n",
    "print(\"Best parameters:\", grid_search.best_params_)\n",
    "print(\"Best score:\", grid_search.best_score_)"
   ]
  },
  {
   "cell_type": "code",
   "execution_count": 55,
   "id": "a1d82446",
   "metadata": {},
   "outputs": [
    {
     "name": "stdout",
     "output_type": "stream",
     "text": [
      "Test accuracy: 0.8\n"
     ]
    }
   ],
   "source": [
    "# Evaluate the best model on the test set\n",
    "best_model = grid_search.best_estimator_\n",
    "y_pred_test = best_model.predict(X_test)\n",
    "test_accuracy = accuracy_score(Y_test, y_pred_test)\n",
    "print(\"Test accuracy:\", test_accuracy)"
   ]
  },
  {
   "cell_type": "code",
   "execution_count": 56,
   "id": "e46ea2fe",
   "metadata": {},
   "outputs": [],
   "source": [
    "# adaboost\n",
    "from sklearn.ensemble import AdaBoostClassifier\n",
    "AB_model = AdaBoostClassifier(base_estimator=DecisionTreeClassifier(),n_estimators=100,learning_rate=0.1)"
   ]
  },
  {
   "cell_type": "code",
   "execution_count": 57,
   "id": "d9e6247e",
   "metadata": {},
   "outputs": [
    {
     "data": {
      "text/plain": [
       "AdaBoostClassifier(base_estimator=DecisionTreeClassifier(), learning_rate=0.1,\n",
       "                   n_estimators=100)"
      ]
     },
     "execution_count": 57,
     "metadata": {},
     "output_type": "execute_result"
    }
   ],
   "source": [
    "AB_model.fit(X_train, Y_train)"
   ]
  },
  {
   "cell_type": "code",
   "execution_count": 58,
   "id": "a6bd607e",
   "metadata": {},
   "outputs": [],
   "source": [
    "y_pred_train_ab = AB_model.predict(X_train)\n",
    "y_pred_test_ab = AB_model.predict(X_test)"
   ]
  },
  {
   "cell_type": "code",
   "execution_count": 59,
   "id": "a387cc1f",
   "metadata": {},
   "outputs": [],
   "source": [
    "training_accuracy_ab = accuracy_score(Y_train, y_pred_train_ab)\n",
    "test_accuracy_ab = accuracy_score(Y_test, y_pred_test_ab)\n",
    "training_loss_ab = log_loss(Y_train, y_pred_train_ab)\n",
    "test_loss_ab = log_loss(Y_test, y_pred_test_ab)"
   ]
  },
  {
   "cell_type": "code",
   "execution_count": 60,
   "id": "1a0753b7",
   "metadata": {},
   "outputs": [
    {
     "name": "stdout",
     "output_type": "stream",
     "text": [
      "ab - Training Accuracy: 1.0\n",
      "ab - Test Accuracy: 0.725\n",
      "ab - Training Loss: 9.992007221626415e-16\n",
      "ab - Test Loss: 9.498283448214968\n"
     ]
    }
   ],
   "source": [
    "print(\"ab - Training Accuracy:\", training_accuracy_ab)\n",
    "print(\"ab - Test Accuracy:\", test_accuracy_ab )\n",
    "print(\"ab - Training Loss:\", training_loss_ab)\n",
    "print(\"ab - Test Loss:\", test_loss_ab)"
   ]
  },
  {
   "cell_type": "code",
   "execution_count": 61,
   "id": "9a0f410d",
   "metadata": {},
   "outputs": [],
   "source": [
    "param_grid = {\n",
    "    'n_estimators': [50, 100, 200],\n",
    "    'learning_rate': [0.01, 0.1, 1]\n",
    "}"
   ]
  },
  {
   "cell_type": "code",
   "execution_count": 62,
   "id": "588a94a0",
   "metadata": {},
   "outputs": [],
   "source": [
    "grid_search = GridSearchCV(estimator=AB_model, param_grid=param_grid, cv=10, scoring='accuracy')"
   ]
  },
  {
   "cell_type": "code",
   "execution_count": 63,
   "id": "5864d1b7",
   "metadata": {},
   "outputs": [
    {
     "data": {
      "text/plain": [
       "GridSearchCV(cv=10,\n",
       "             estimator=AdaBoostClassifier(base_estimator=DecisionTreeClassifier(),\n",
       "                                          learning_rate=0.1, n_estimators=100),\n",
       "             param_grid={'learning_rate': [0.01, 0.1, 1],\n",
       "                         'n_estimators': [50, 100, 200]},\n",
       "             scoring='accuracy')"
      ]
     },
     "execution_count": 63,
     "metadata": {},
     "output_type": "execute_result"
    }
   ],
   "source": [
    "grid_search.fit(X_train, Y_train)"
   ]
  },
  {
   "cell_type": "code",
   "execution_count": 64,
   "id": "18bb4584",
   "metadata": {},
   "outputs": [
    {
     "name": "stdout",
     "output_type": "stream",
     "text": [
      "Best parameters: {'learning_rate': 1, 'n_estimators': 50}\n",
      "Best score: 0.7571428571428572\n"
     ]
    }
   ],
   "source": [
    "# Print the best parameters and the best score\n",
    "print(\"Best parameters:\", grid_search.best_params_)\n",
    "print(\"Best score:\", grid_search.best_score_)"
   ]
  },
  {
   "cell_type": "code",
   "execution_count": 65,
   "id": "a5ace938",
   "metadata": {},
   "outputs": [
    {
     "name": "stdout",
     "output_type": "stream",
     "text": [
      "Test accuracy: 0.7166666666666667\n"
     ]
    }
   ],
   "source": [
    "# Evaluate the best model on the test set\n",
    "best_model = grid_search.best_estimator_\n",
    "y_pred_test = best_model.predict(X_test)\n",
    "test_accuracy = accuracy_score(Y_test, y_pred_test)\n",
    "print(\"Test accuracy:\", test_accuracy)"
   ]
  },
  {
   "cell_type": "code",
   "execution_count": 66,
   "id": "919191be",
   "metadata": {},
   "outputs": [],
   "source": [
    "#pip install xgboost"
   ]
  },
  {
   "cell_type": "code",
   "execution_count": 2,
   "id": "5099d046",
   "metadata": {},
   "outputs": [],
   "source": [
    "import xgboost as xgb\n",
    "from xgboost import XGBClassifier"
   ]
  }
 ],
 "metadata": {
  "kernelspec": {
   "display_name": "Python 3 (ipykernel)",
   "language": "python",
   "name": "python3"
  },
  "language_info": {
   "codemirror_mode": {
    "name": "ipython",
    "version": 3
   },
   "file_extension": ".py",
   "mimetype": "text/x-python",
   "name": "python",
   "nbconvert_exporter": "python",
   "pygments_lexer": "ipython3",
   "version": "3.13.5"
  }
 },
 "nbformat": 4,
 "nbformat_minor": 5
}
