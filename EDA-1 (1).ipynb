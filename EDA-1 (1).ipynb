{
 "cells": [
  {
   "cell_type": "markdown",
   "id": "adda104e",
   "metadata": {},
   "source": [
    "# EXPLORATORY DATA ANALYSIS ON A DATASET\n",
    "Objective:\n",
    "The main goal of this assignment is to conduct a thorough exploratory analysis of the \"cardiographic.csv\" dataset to uncover insights, identify patterns, and understand the dataset's underlying structure. You will use statistical summaries, visualizations, and data manipulation techniques to explore the dataset comprehensively."
   ]
  },
  {
   "cell_type": "markdown",
   "id": "a9b4e1ee",
   "metadata": {},
   "source": [
    "### Loading Dataset"
   ]
  },
  {
   "cell_type": "code",
   "execution_count": 1,
   "id": "2f0272cc",
   "metadata": {},
   "outputs": [
    {
     "data": {
      "text/html": [
       "<div>\n",
       "<style scoped>\n",
       "    .dataframe tbody tr th:only-of-type {\n",
       "        vertical-align: middle;\n",
       "    }\n",
       "\n",
       "    .dataframe tbody tr th {\n",
       "        vertical-align: top;\n",
       "    }\n",
       "\n",
       "    .dataframe thead th {\n",
       "        text-align: right;\n",
       "    }\n",
       "</style>\n",
       "<table border=\"1\" class=\"dataframe\">\n",
       "  <thead>\n",
       "    <tr style=\"text-align: right;\">\n",
       "      <th></th>\n",
       "      <th>LB</th>\n",
       "      <th>AC</th>\n",
       "      <th>FM</th>\n",
       "      <th>UC</th>\n",
       "      <th>DL</th>\n",
       "      <th>DS</th>\n",
       "      <th>DP</th>\n",
       "      <th>ASTV</th>\n",
       "      <th>MSTV</th>\n",
       "      <th>ALTV</th>\n",
       "      <th>MLTV</th>\n",
       "      <th>Width</th>\n",
       "      <th>Tendency</th>\n",
       "      <th>NSP</th>\n",
       "    </tr>\n",
       "  </thead>\n",
       "  <tbody>\n",
       "    <tr>\n",
       "      <th>0</th>\n",
       "      <td>120.000000</td>\n",
       "      <td>0.000000</td>\n",
       "      <td>0.000000</td>\n",
       "      <td>0.000000</td>\n",
       "      <td>0.000000</td>\n",
       "      <td>0.0</td>\n",
       "      <td>0.0</td>\n",
       "      <td>73.0</td>\n",
       "      <td>0.5</td>\n",
       "      <td>43.000000</td>\n",
       "      <td>2.4</td>\n",
       "      <td>64.0</td>\n",
       "      <td>0.999926</td>\n",
       "      <td>2.000000</td>\n",
       "    </tr>\n",
       "    <tr>\n",
       "      <th>1</th>\n",
       "      <td>132.000000</td>\n",
       "      <td>0.006380</td>\n",
       "      <td>0.000000</td>\n",
       "      <td>0.006380</td>\n",
       "      <td>0.003190</td>\n",
       "      <td>0.0</td>\n",
       "      <td>0.0</td>\n",
       "      <td>17.0</td>\n",
       "      <td>2.1</td>\n",
       "      <td>0.000000</td>\n",
       "      <td>10.4</td>\n",
       "      <td>130.0</td>\n",
       "      <td>0.000000</td>\n",
       "      <td>1.000000</td>\n",
       "    </tr>\n",
       "    <tr>\n",
       "      <th>2</th>\n",
       "      <td>133.000000</td>\n",
       "      <td>0.003322</td>\n",
       "      <td>0.000000</td>\n",
       "      <td>0.008306</td>\n",
       "      <td>0.003322</td>\n",
       "      <td>0.0</td>\n",
       "      <td>0.0</td>\n",
       "      <td>16.0</td>\n",
       "      <td>2.1</td>\n",
       "      <td>0.000000</td>\n",
       "      <td>13.4</td>\n",
       "      <td>130.0</td>\n",
       "      <td>0.000000</td>\n",
       "      <td>1.000000</td>\n",
       "    </tr>\n",
       "    <tr>\n",
       "      <th>3</th>\n",
       "      <td>134.000000</td>\n",
       "      <td>0.002561</td>\n",
       "      <td>0.000000</td>\n",
       "      <td>0.007742</td>\n",
       "      <td>0.002561</td>\n",
       "      <td>0.0</td>\n",
       "      <td>0.0</td>\n",
       "      <td>16.0</td>\n",
       "      <td>2.4</td>\n",
       "      <td>0.000000</td>\n",
       "      <td>23.0</td>\n",
       "      <td>117.0</td>\n",
       "      <td>1.000000</td>\n",
       "      <td>1.000000</td>\n",
       "    </tr>\n",
       "    <tr>\n",
       "      <th>4</th>\n",
       "      <td>131.948232</td>\n",
       "      <td>0.006515</td>\n",
       "      <td>0.000000</td>\n",
       "      <td>0.008143</td>\n",
       "      <td>0.000000</td>\n",
       "      <td>0.0</td>\n",
       "      <td>0.0</td>\n",
       "      <td>16.0</td>\n",
       "      <td>2.4</td>\n",
       "      <td>0.000000</td>\n",
       "      <td>19.9</td>\n",
       "      <td>117.0</td>\n",
       "      <td>1.000000</td>\n",
       "      <td>1.000000</td>\n",
       "    </tr>\n",
       "    <tr>\n",
       "      <th>...</th>\n",
       "      <td>...</td>\n",
       "      <td>...</td>\n",
       "      <td>...</td>\n",
       "      <td>...</td>\n",
       "      <td>...</td>\n",
       "      <td>...</td>\n",
       "      <td>...</td>\n",
       "      <td>...</td>\n",
       "      <td>...</td>\n",
       "      <td>...</td>\n",
       "      <td>...</td>\n",
       "      <td>...</td>\n",
       "      <td>...</td>\n",
       "      <td>...</td>\n",
       "    </tr>\n",
       "    <tr>\n",
       "      <th>2121</th>\n",
       "      <td>140.000000</td>\n",
       "      <td>0.000000</td>\n",
       "      <td>0.961268</td>\n",
       "      <td>0.007426</td>\n",
       "      <td>0.000000</td>\n",
       "      <td>0.0</td>\n",
       "      <td>0.0</td>\n",
       "      <td>79.0</td>\n",
       "      <td>0.2</td>\n",
       "      <td>25.000000</td>\n",
       "      <td>7.2</td>\n",
       "      <td>40.0</td>\n",
       "      <td>0.000000</td>\n",
       "      <td>2.000000</td>\n",
       "    </tr>\n",
       "    <tr>\n",
       "      <th>2122</th>\n",
       "      <td>140.000000</td>\n",
       "      <td>0.000775</td>\n",
       "      <td>0.000000</td>\n",
       "      <td>0.006979</td>\n",
       "      <td>0.000000</td>\n",
       "      <td>0.0</td>\n",
       "      <td>0.0</td>\n",
       "      <td>78.0</td>\n",
       "      <td>0.4</td>\n",
       "      <td>22.000000</td>\n",
       "      <td>7.1</td>\n",
       "      <td>66.0</td>\n",
       "      <td>1.000000</td>\n",
       "      <td>2.000000</td>\n",
       "    </tr>\n",
       "    <tr>\n",
       "      <th>2123</th>\n",
       "      <td>140.000000</td>\n",
       "      <td>0.000980</td>\n",
       "      <td>0.000000</td>\n",
       "      <td>0.006863</td>\n",
       "      <td>0.000000</td>\n",
       "      <td>0.0</td>\n",
       "      <td>0.0</td>\n",
       "      <td>79.0</td>\n",
       "      <td>0.4</td>\n",
       "      <td>20.000000</td>\n",
       "      <td>6.1</td>\n",
       "      <td>67.0</td>\n",
       "      <td>1.000000</td>\n",
       "      <td>1.990464</td>\n",
       "    </tr>\n",
       "    <tr>\n",
       "      <th>2124</th>\n",
       "      <td>140.000000</td>\n",
       "      <td>0.000679</td>\n",
       "      <td>0.000000</td>\n",
       "      <td>0.006110</td>\n",
       "      <td>0.000000</td>\n",
       "      <td>0.0</td>\n",
       "      <td>0.0</td>\n",
       "      <td>78.0</td>\n",
       "      <td>0.4</td>\n",
       "      <td>27.000000</td>\n",
       "      <td>7.0</td>\n",
       "      <td>66.0</td>\n",
       "      <td>1.000000</td>\n",
       "      <td>2.000000</td>\n",
       "    </tr>\n",
       "    <tr>\n",
       "      <th>2125</th>\n",
       "      <td>142.000000</td>\n",
       "      <td>0.001616</td>\n",
       "      <td>-0.000188</td>\n",
       "      <td>0.008078</td>\n",
       "      <td>0.000000</td>\n",
       "      <td>0.0</td>\n",
       "      <td>0.0</td>\n",
       "      <td>74.0</td>\n",
       "      <td>0.4</td>\n",
       "      <td>35.857183</td>\n",
       "      <td>5.0</td>\n",
       "      <td>42.0</td>\n",
       "      <td>0.000000</td>\n",
       "      <td>1.000000</td>\n",
       "    </tr>\n",
       "  </tbody>\n",
       "</table>\n",
       "<p>2126 rows × 14 columns</p>\n",
       "</div>"
      ],
      "text/plain": [
       "              LB        AC        FM        UC        DL   DS   DP  ASTV  \\\n",
       "0     120.000000  0.000000  0.000000  0.000000  0.000000  0.0  0.0  73.0   \n",
       "1     132.000000  0.006380  0.000000  0.006380  0.003190  0.0  0.0  17.0   \n",
       "2     133.000000  0.003322  0.000000  0.008306  0.003322  0.0  0.0  16.0   \n",
       "3     134.000000  0.002561  0.000000  0.007742  0.002561  0.0  0.0  16.0   \n",
       "4     131.948232  0.006515  0.000000  0.008143  0.000000  0.0  0.0  16.0   \n",
       "...          ...       ...       ...       ...       ...  ...  ...   ...   \n",
       "2121  140.000000  0.000000  0.961268  0.007426  0.000000  0.0  0.0  79.0   \n",
       "2122  140.000000  0.000775  0.000000  0.006979  0.000000  0.0  0.0  78.0   \n",
       "2123  140.000000  0.000980  0.000000  0.006863  0.000000  0.0  0.0  79.0   \n",
       "2124  140.000000  0.000679  0.000000  0.006110  0.000000  0.0  0.0  78.0   \n",
       "2125  142.000000  0.001616 -0.000188  0.008078  0.000000  0.0  0.0  74.0   \n",
       "\n",
       "      MSTV       ALTV  MLTV  Width  Tendency       NSP  \n",
       "0      0.5  43.000000   2.4   64.0  0.999926  2.000000  \n",
       "1      2.1   0.000000  10.4  130.0  0.000000  1.000000  \n",
       "2      2.1   0.000000  13.4  130.0  0.000000  1.000000  \n",
       "3      2.4   0.000000  23.0  117.0  1.000000  1.000000  \n",
       "4      2.4   0.000000  19.9  117.0  1.000000  1.000000  \n",
       "...    ...        ...   ...    ...       ...       ...  \n",
       "2121   0.2  25.000000   7.2   40.0  0.000000  2.000000  \n",
       "2122   0.4  22.000000   7.1   66.0  1.000000  2.000000  \n",
       "2123   0.4  20.000000   6.1   67.0  1.000000  1.990464  \n",
       "2124   0.4  27.000000   7.0   66.0  1.000000  2.000000  \n",
       "2125   0.4  35.857183   5.0   42.0  0.000000  1.000000  \n",
       "\n",
       "[2126 rows x 14 columns]"
      ]
     },
     "execution_count": 1,
     "metadata": {},
     "output_type": "execute_result"
    }
   ],
   "source": [
    "import pandas as pd\n",
    "df = pd.read_csv(r\"C:\\Data Science Asignments datasets\\Cardiotocographic.csv\")\n",
    "df"
   ]
  },
  {
   "cell_type": "code",
   "execution_count": 2,
   "id": "579537ff",
   "metadata": {},
   "outputs": [
    {
     "name": "stdout",
     "output_type": "stream",
     "text": [
      "<class 'pandas.core.frame.DataFrame'>\n",
      "RangeIndex: 2126 entries, 0 to 2125\n",
      "Data columns (total 14 columns):\n",
      " #   Column    Non-Null Count  Dtype  \n",
      "---  ------    --------------  -----  \n",
      " 0   LB        2105 non-null   float64\n",
      " 1   AC        2106 non-null   float64\n",
      " 2   FM        2126 non-null   float64\n",
      " 3   UC        2126 non-null   float64\n",
      " 4   DL        2126 non-null   float64\n",
      " 5   DS        2105 non-null   float64\n",
      " 6   DP        2105 non-null   float64\n",
      " 7   ASTV      2126 non-null   float64\n",
      " 8   MSTV      2126 non-null   float64\n",
      " 9   ALTV      2126 non-null   float64\n",
      " 10  MLTV      2105 non-null   float64\n",
      " 11  Width     2105 non-null   float64\n",
      " 12  Tendency  2105 non-null   float64\n",
      " 13  NSP       2105 non-null   float64\n",
      "dtypes: float64(14)\n",
      "memory usage: 232.7 KB\n"
     ]
    }
   ],
   "source": [
    "df.info()"
   ]
  },
  {
   "cell_type": "markdown",
   "id": "039bca78",
   "metadata": {},
   "source": [
    "## 1.Data Cleaning and Preparation:"
   ]
  },
  {
   "cell_type": "code",
   "execution_count": 3,
   "id": "e41bdbcf",
   "metadata": {},
   "outputs": [
    {
     "data": {
      "text/html": [
       "<div>\n",
       "<style scoped>\n",
       "    .dataframe tbody tr th:only-of-type {\n",
       "        vertical-align: middle;\n",
       "    }\n",
       "\n",
       "    .dataframe tbody tr th {\n",
       "        vertical-align: top;\n",
       "    }\n",
       "\n",
       "    .dataframe thead th {\n",
       "        text-align: right;\n",
       "    }\n",
       "</style>\n",
       "<table border=\"1\" class=\"dataframe\">\n",
       "  <thead>\n",
       "    <tr style=\"text-align: right;\">\n",
       "      <th></th>\n",
       "      <th>LB</th>\n",
       "      <th>AC</th>\n",
       "      <th>FM</th>\n",
       "      <th>UC</th>\n",
       "      <th>DL</th>\n",
       "      <th>DS</th>\n",
       "      <th>DP</th>\n",
       "      <th>ASTV</th>\n",
       "      <th>MSTV</th>\n",
       "      <th>ALTV</th>\n",
       "      <th>MLTV</th>\n",
       "      <th>Width</th>\n",
       "      <th>Tendency</th>\n",
       "      <th>NSP</th>\n",
       "    </tr>\n",
       "  </thead>\n",
       "  <tbody>\n",
       "    <tr>\n",
       "      <th>50</th>\n",
       "      <td>NaN</td>\n",
       "      <td>NaN</td>\n",
       "      <td>0.000000</td>\n",
       "      <td>0.008086</td>\n",
       "      <td>0.000000</td>\n",
       "      <td>NaN</td>\n",
       "      <td>NaN</td>\n",
       "      <td>29.000000</td>\n",
       "      <td>1.300000</td>\n",
       "      <td>0.000000</td>\n",
       "      <td>NaN</td>\n",
       "      <td>NaN</td>\n",
       "      <td>NaN</td>\n",
       "      <td>NaN</td>\n",
       "    </tr>\n",
       "    <tr>\n",
       "      <th>116</th>\n",
       "      <td>NaN</td>\n",
       "      <td>0.038567</td>\n",
       "      <td>0.000000</td>\n",
       "      <td>0.006993</td>\n",
       "      <td>0.002331</td>\n",
       "      <td>NaN</td>\n",
       "      <td>NaN</td>\n",
       "      <td>26.000000</td>\n",
       "      <td>4.300000</td>\n",
       "      <td>0.532872</td>\n",
       "      <td>NaN</td>\n",
       "      <td>NaN</td>\n",
       "      <td>NaN</td>\n",
       "      <td>NaN</td>\n",
       "    </tr>\n",
       "    <tr>\n",
       "      <th>126</th>\n",
       "      <td>NaN</td>\n",
       "      <td>NaN</td>\n",
       "      <td>0.000000</td>\n",
       "      <td>0.004380</td>\n",
       "      <td>0.000000</td>\n",
       "      <td>NaN</td>\n",
       "      <td>NaN</td>\n",
       "      <td>69.000000</td>\n",
       "      <td>0.300000</td>\n",
       "      <td>21.000000</td>\n",
       "      <td>NaN</td>\n",
       "      <td>NaN</td>\n",
       "      <td>NaN</td>\n",
       "      <td>NaN</td>\n",
       "    </tr>\n",
       "    <tr>\n",
       "      <th>201</th>\n",
       "      <td>NaN</td>\n",
       "      <td>NaN</td>\n",
       "      <td>0.016393</td>\n",
       "      <td>0.000000</td>\n",
       "      <td>0.000000</td>\n",
       "      <td>NaN</td>\n",
       "      <td>NaN</td>\n",
       "      <td>56.000000</td>\n",
       "      <td>0.500000</td>\n",
       "      <td>12.000000</td>\n",
       "      <td>NaN</td>\n",
       "      <td>NaN</td>\n",
       "      <td>NaN</td>\n",
       "      <td>NaN</td>\n",
       "    </tr>\n",
       "    <tr>\n",
       "      <th>566</th>\n",
       "      <td>NaN</td>\n",
       "      <td>NaN</td>\n",
       "      <td>0.000000</td>\n",
       "      <td>0.004115</td>\n",
       "      <td>0.005487</td>\n",
       "      <td>NaN</td>\n",
       "      <td>NaN</td>\n",
       "      <td>43.000000</td>\n",
       "      <td>2.500000</td>\n",
       "      <td>0.000000</td>\n",
       "      <td>NaN</td>\n",
       "      <td>NaN</td>\n",
       "      <td>NaN</td>\n",
       "      <td>NaN</td>\n",
       "    </tr>\n",
       "    <tr>\n",
       "      <th>574</th>\n",
       "      <td>NaN</td>\n",
       "      <td>NaN</td>\n",
       "      <td>0.000000</td>\n",
       "      <td>0.002611</td>\n",
       "      <td>0.002611</td>\n",
       "      <td>NaN</td>\n",
       "      <td>NaN</td>\n",
       "      <td>34.000000</td>\n",
       "      <td>4.900000</td>\n",
       "      <td>0.000000</td>\n",
       "      <td>NaN</td>\n",
       "      <td>NaN</td>\n",
       "      <td>NaN</td>\n",
       "      <td>NaN</td>\n",
       "    </tr>\n",
       "    <tr>\n",
       "      <th>603</th>\n",
       "      <td>NaN</td>\n",
       "      <td>NaN</td>\n",
       "      <td>0.006519</td>\n",
       "      <td>0.001304</td>\n",
       "      <td>0.001304</td>\n",
       "      <td>NaN</td>\n",
       "      <td>NaN</td>\n",
       "      <td>73.000000</td>\n",
       "      <td>0.700000</td>\n",
       "      <td>0.000000</td>\n",
       "      <td>NaN</td>\n",
       "      <td>NaN</td>\n",
       "      <td>NaN</td>\n",
       "      <td>NaN</td>\n",
       "    </tr>\n",
       "    <tr>\n",
       "      <th>935</th>\n",
       "      <td>NaN</td>\n",
       "      <td>NaN</td>\n",
       "      <td>0.000000</td>\n",
       "      <td>0.005495</td>\n",
       "      <td>0.001374</td>\n",
       "      <td>NaN</td>\n",
       "      <td>NaN</td>\n",
       "      <td>30.000000</td>\n",
       "      <td>1.251793</td>\n",
       "      <td>0.000000</td>\n",
       "      <td>NaN</td>\n",
       "      <td>NaN</td>\n",
       "      <td>NaN</td>\n",
       "      <td>NaN</td>\n",
       "    </tr>\n",
       "    <tr>\n",
       "      <th>936</th>\n",
       "      <td>NaN</td>\n",
       "      <td>NaN</td>\n",
       "      <td>0.000000</td>\n",
       "      <td>0.007802</td>\n",
       "      <td>0.000000</td>\n",
       "      <td>NaN</td>\n",
       "      <td>NaN</td>\n",
       "      <td>33.000000</td>\n",
       "      <td>1.000000</td>\n",
       "      <td>0.000000</td>\n",
       "      <td>NaN</td>\n",
       "      <td>NaN</td>\n",
       "      <td>NaN</td>\n",
       "      <td>NaN</td>\n",
       "    </tr>\n",
       "    <tr>\n",
       "      <th>1013</th>\n",
       "      <td>NaN</td>\n",
       "      <td>NaN</td>\n",
       "      <td>0.000000</td>\n",
       "      <td>0.003861</td>\n",
       "      <td>0.000000</td>\n",
       "      <td>NaN</td>\n",
       "      <td>NaN</td>\n",
       "      <td>34.000000</td>\n",
       "      <td>1.000000</td>\n",
       "      <td>0.000000</td>\n",
       "      <td>NaN</td>\n",
       "      <td>NaN</td>\n",
       "      <td>NaN</td>\n",
       "      <td>NaN</td>\n",
       "    </tr>\n",
       "    <tr>\n",
       "      <th>1205</th>\n",
       "      <td>NaN</td>\n",
       "      <td>NaN</td>\n",
       "      <td>-0.000129</td>\n",
       "      <td>0.006424</td>\n",
       "      <td>0.000000</td>\n",
       "      <td>NaN</td>\n",
       "      <td>NaN</td>\n",
       "      <td>63.000000</td>\n",
       "      <td>0.500000</td>\n",
       "      <td>35.000000</td>\n",
       "      <td>NaN</td>\n",
       "      <td>NaN</td>\n",
       "      <td>NaN</td>\n",
       "      <td>NaN</td>\n",
       "    </tr>\n",
       "    <tr>\n",
       "      <th>1332</th>\n",
       "      <td>NaN</td>\n",
       "      <td>NaN</td>\n",
       "      <td>0.010204</td>\n",
       "      <td>0.002551</td>\n",
       "      <td>0.005102</td>\n",
       "      <td>NaN</td>\n",
       "      <td>NaN</td>\n",
       "      <td>27.000000</td>\n",
       "      <td>1.900000</td>\n",
       "      <td>0.000000</td>\n",
       "      <td>NaN</td>\n",
       "      <td>NaN</td>\n",
       "      <td>NaN</td>\n",
       "      <td>NaN</td>\n",
       "    </tr>\n",
       "    <tr>\n",
       "      <th>1347</th>\n",
       "      <td>NaN</td>\n",
       "      <td>NaN</td>\n",
       "      <td>0.018519</td>\n",
       "      <td>0.003466</td>\n",
       "      <td>0.002315</td>\n",
       "      <td>NaN</td>\n",
       "      <td>NaN</td>\n",
       "      <td>30.000000</td>\n",
       "      <td>2.100000</td>\n",
       "      <td>0.000000</td>\n",
       "      <td>NaN</td>\n",
       "      <td>NaN</td>\n",
       "      <td>NaN</td>\n",
       "      <td>NaN</td>\n",
       "    </tr>\n",
       "    <tr>\n",
       "      <th>1430</th>\n",
       "      <td>NaN</td>\n",
       "      <td>NaN</td>\n",
       "      <td>-0.001442</td>\n",
       "      <td>0.005038</td>\n",
       "      <td>0.000000</td>\n",
       "      <td>NaN</td>\n",
       "      <td>NaN</td>\n",
       "      <td>42.000000</td>\n",
       "      <td>0.700000</td>\n",
       "      <td>0.000000</td>\n",
       "      <td>NaN</td>\n",
       "      <td>NaN</td>\n",
       "      <td>NaN</td>\n",
       "      <td>NaN</td>\n",
       "    </tr>\n",
       "    <tr>\n",
       "      <th>1636</th>\n",
       "      <td>NaN</td>\n",
       "      <td>NaN</td>\n",
       "      <td>0.005650</td>\n",
       "      <td>0.004708</td>\n",
       "      <td>0.001883</td>\n",
       "      <td>NaN</td>\n",
       "      <td>NaN</td>\n",
       "      <td>51.000000</td>\n",
       "      <td>2.800000</td>\n",
       "      <td>0.000000</td>\n",
       "      <td>NaN</td>\n",
       "      <td>NaN</td>\n",
       "      <td>NaN</td>\n",
       "      <td>NaN</td>\n",
       "    </tr>\n",
       "    <tr>\n",
       "      <th>1645</th>\n",
       "      <td>NaN</td>\n",
       "      <td>NaN</td>\n",
       "      <td>0.000000</td>\n",
       "      <td>0.005015</td>\n",
       "      <td>0.005015</td>\n",
       "      <td>NaN</td>\n",
       "      <td>NaN</td>\n",
       "      <td>51.000000</td>\n",
       "      <td>1.500000</td>\n",
       "      <td>0.000000</td>\n",
       "      <td>NaN</td>\n",
       "      <td>NaN</td>\n",
       "      <td>NaN</td>\n",
       "      <td>NaN</td>\n",
       "    </tr>\n",
       "    <tr>\n",
       "      <th>1792</th>\n",
       "      <td>NaN</td>\n",
       "      <td>NaN</td>\n",
       "      <td>0.001029</td>\n",
       "      <td>0.003086</td>\n",
       "      <td>0.011317</td>\n",
       "      <td>NaN</td>\n",
       "      <td>NaN</td>\n",
       "      <td>67.000000</td>\n",
       "      <td>2.100000</td>\n",
       "      <td>0.000000</td>\n",
       "      <td>NaN</td>\n",
       "      <td>NaN</td>\n",
       "      <td>NaN</td>\n",
       "      <td>NaN</td>\n",
       "    </tr>\n",
       "    <tr>\n",
       "      <th>1854</th>\n",
       "      <td>NaN</td>\n",
       "      <td>NaN</td>\n",
       "      <td>0.000000</td>\n",
       "      <td>0.006369</td>\n",
       "      <td>0.000796</td>\n",
       "      <td>NaN</td>\n",
       "      <td>NaN</td>\n",
       "      <td>51.000000</td>\n",
       "      <td>1.200000</td>\n",
       "      <td>0.000000</td>\n",
       "      <td>NaN</td>\n",
       "      <td>NaN</td>\n",
       "      <td>NaN</td>\n",
       "      <td>NaN</td>\n",
       "    </tr>\n",
       "    <tr>\n",
       "      <th>1863</th>\n",
       "      <td>NaN</td>\n",
       "      <td>NaN</td>\n",
       "      <td>0.000000</td>\n",
       "      <td>0.003257</td>\n",
       "      <td>0.000000</td>\n",
       "      <td>NaN</td>\n",
       "      <td>NaN</td>\n",
       "      <td>51.000000</td>\n",
       "      <td>1.000000</td>\n",
       "      <td>0.000000</td>\n",
       "      <td>NaN</td>\n",
       "      <td>NaN</td>\n",
       "      <td>NaN</td>\n",
       "      <td>NaN</td>\n",
       "    </tr>\n",
       "    <tr>\n",
       "      <th>1928</th>\n",
       "      <td>NaN</td>\n",
       "      <td>NaN</td>\n",
       "      <td>0.002976</td>\n",
       "      <td>0.004960</td>\n",
       "      <td>0.002976</td>\n",
       "      <td>NaN</td>\n",
       "      <td>NaN</td>\n",
       "      <td>63.000000</td>\n",
       "      <td>1.700000</td>\n",
       "      <td>5.000000</td>\n",
       "      <td>NaN</td>\n",
       "      <td>NaN</td>\n",
       "      <td>NaN</td>\n",
       "      <td>NaN</td>\n",
       "    </tr>\n",
       "    <tr>\n",
       "      <th>1934</th>\n",
       "      <td>NaN</td>\n",
       "      <td>NaN</td>\n",
       "      <td>0.003049</td>\n",
       "      <td>0.009146</td>\n",
       "      <td>0.003811</td>\n",
       "      <td>NaN</td>\n",
       "      <td>NaN</td>\n",
       "      <td>61.926728</td>\n",
       "      <td>2.500000</td>\n",
       "      <td>0.000000</td>\n",
       "      <td>NaN</td>\n",
       "      <td>NaN</td>\n",
       "      <td>NaN</td>\n",
       "      <td>NaN</td>\n",
       "    </tr>\n",
       "  </tbody>\n",
       "</table>\n",
       "</div>"
      ],
      "text/plain": [
       "      LB        AC        FM        UC        DL  DS  DP       ASTV      MSTV  \\\n",
       "50   NaN       NaN  0.000000  0.008086  0.000000 NaN NaN  29.000000  1.300000   \n",
       "116  NaN  0.038567  0.000000  0.006993  0.002331 NaN NaN  26.000000  4.300000   \n",
       "126  NaN       NaN  0.000000  0.004380  0.000000 NaN NaN  69.000000  0.300000   \n",
       "201  NaN       NaN  0.016393  0.000000  0.000000 NaN NaN  56.000000  0.500000   \n",
       "566  NaN       NaN  0.000000  0.004115  0.005487 NaN NaN  43.000000  2.500000   \n",
       "574  NaN       NaN  0.000000  0.002611  0.002611 NaN NaN  34.000000  4.900000   \n",
       "603  NaN       NaN  0.006519  0.001304  0.001304 NaN NaN  73.000000  0.700000   \n",
       "935  NaN       NaN  0.000000  0.005495  0.001374 NaN NaN  30.000000  1.251793   \n",
       "936  NaN       NaN  0.000000  0.007802  0.000000 NaN NaN  33.000000  1.000000   \n",
       "1013 NaN       NaN  0.000000  0.003861  0.000000 NaN NaN  34.000000  1.000000   \n",
       "1205 NaN       NaN -0.000129  0.006424  0.000000 NaN NaN  63.000000  0.500000   \n",
       "1332 NaN       NaN  0.010204  0.002551  0.005102 NaN NaN  27.000000  1.900000   \n",
       "1347 NaN       NaN  0.018519  0.003466  0.002315 NaN NaN  30.000000  2.100000   \n",
       "1430 NaN       NaN -0.001442  0.005038  0.000000 NaN NaN  42.000000  0.700000   \n",
       "1636 NaN       NaN  0.005650  0.004708  0.001883 NaN NaN  51.000000  2.800000   \n",
       "1645 NaN       NaN  0.000000  0.005015  0.005015 NaN NaN  51.000000  1.500000   \n",
       "1792 NaN       NaN  0.001029  0.003086  0.011317 NaN NaN  67.000000  2.100000   \n",
       "1854 NaN       NaN  0.000000  0.006369  0.000796 NaN NaN  51.000000  1.200000   \n",
       "1863 NaN       NaN  0.000000  0.003257  0.000000 NaN NaN  51.000000  1.000000   \n",
       "1928 NaN       NaN  0.002976  0.004960  0.002976 NaN NaN  63.000000  1.700000   \n",
       "1934 NaN       NaN  0.003049  0.009146  0.003811 NaN NaN  61.926728  2.500000   \n",
       "\n",
       "           ALTV  MLTV  Width  Tendency  NSP  \n",
       "50     0.000000   NaN    NaN       NaN  NaN  \n",
       "116    0.532872   NaN    NaN       NaN  NaN  \n",
       "126   21.000000   NaN    NaN       NaN  NaN  \n",
       "201   12.000000   NaN    NaN       NaN  NaN  \n",
       "566    0.000000   NaN    NaN       NaN  NaN  \n",
       "574    0.000000   NaN    NaN       NaN  NaN  \n",
       "603    0.000000   NaN    NaN       NaN  NaN  \n",
       "935    0.000000   NaN    NaN       NaN  NaN  \n",
       "936    0.000000   NaN    NaN       NaN  NaN  \n",
       "1013   0.000000   NaN    NaN       NaN  NaN  \n",
       "1205  35.000000   NaN    NaN       NaN  NaN  \n",
       "1332   0.000000   NaN    NaN       NaN  NaN  \n",
       "1347   0.000000   NaN    NaN       NaN  NaN  \n",
       "1430   0.000000   NaN    NaN       NaN  NaN  \n",
       "1636   0.000000   NaN    NaN       NaN  NaN  \n",
       "1645   0.000000   NaN    NaN       NaN  NaN  \n",
       "1792   0.000000   NaN    NaN       NaN  NaN  \n",
       "1854   0.000000   NaN    NaN       NaN  NaN  \n",
       "1863   0.000000   NaN    NaN       NaN  NaN  \n",
       "1928   5.000000   NaN    NaN       NaN  NaN  \n",
       "1934   0.000000   NaN    NaN       NaN  NaN  "
      ]
     },
     "execution_count": 3,
     "metadata": {},
     "output_type": "execute_result"
    }
   ],
   "source": [
    "#missing values\n",
    "df[df.isnull().any(axis=1)]"
   ]
  },
  {
   "cell_type": "code",
   "execution_count": 4,
   "id": "cb9c48f6",
   "metadata": {},
   "outputs": [
    {
     "data": {
      "text/plain": [
       "LB          21\n",
       "AC          20\n",
       "FM           0\n",
       "UC           0\n",
       "DL           0\n",
       "DS          21\n",
       "DP          21\n",
       "ASTV         0\n",
       "MSTV         0\n",
       "ALTV         0\n",
       "MLTV        21\n",
       "Width       21\n",
       "Tendency    21\n",
       "NSP         21\n",
       "dtype: int64"
      ]
     },
     "execution_count": 4,
     "metadata": {},
     "output_type": "execute_result"
    }
   ],
   "source": [
    "df.isnull().sum()"
   ]
  },
  {
   "cell_type": "code",
   "execution_count": 5,
   "id": "e75a7c7d",
   "metadata": {},
   "outputs": [
    {
     "name": "stdout",
     "output_type": "stream",
     "text": [
      "133.3435983550352\n"
     ]
    }
   ],
   "source": [
    "#Handle missing values appropriately\n",
    "mean_LB = df[\"LB\"].mean()\n",
    "print(mean_LB)"
   ]
  },
  {
   "cell_type": "code",
   "execution_count": 6,
   "id": "7711d87f",
   "metadata": {},
   "outputs": [],
   "source": [
    "#replacing missing values with mean\n",
    "df[\"LB\"] = df[\"LB\"].fillna(mean_LB)"
   ]
  },
  {
   "cell_type": "code",
   "execution_count": 7,
   "id": "ad24b679",
   "metadata": {},
   "outputs": [
    {
     "name": "stdout",
     "output_type": "stream",
     "text": [
      "0.003218978243800048\n"
     ]
    }
   ],
   "source": [
    "mean_AC = df[\"AC\"].mean()\n",
    "print(mean_AC)"
   ]
  },
  {
   "cell_type": "code",
   "execution_count": 8,
   "id": "ef3d4d31",
   "metadata": {},
   "outputs": [],
   "source": [
    "#replacing missing values with mean\n",
    "df[\"AC\"] = df[\"AC\"].fillna(mean_AC)"
   ]
  },
  {
   "cell_type": "code",
   "execution_count": 9,
   "id": "bd3500a6",
   "metadata": {},
   "outputs": [
    {
     "name": "stdout",
     "output_type": "stream",
     "text": [
      "0.0\n"
     ]
    }
   ],
   "source": [
    "#Handle missing values appropriately\n",
    "median_DS = df[\"DS\"].median()\n",
    "print(median_DS)"
   ]
  },
  {
   "cell_type": "code",
   "execution_count": 10,
   "id": "e779732f",
   "metadata": {},
   "outputs": [],
   "source": [
    "#replacing missing values with median\n",
    "df[\"DS\"] = df[\"DS\"].fillna(median_DS)"
   ]
  },
  {
   "cell_type": "code",
   "execution_count": 11,
   "id": "8e2e78e6",
   "metadata": {},
   "outputs": [
    {
     "name": "stdout",
     "output_type": "stream",
     "text": [
      "0.0\n"
     ]
    }
   ],
   "source": [
    "#Handle missing values appropriately\n",
    "median_DP = df[\"DP\"].median()\n",
    "print(median_DS)"
   ]
  },
  {
   "cell_type": "code",
   "execution_count": 12,
   "id": "597faa16",
   "metadata": {},
   "outputs": [],
   "source": [
    "#replacing missing values with median\n",
    "df[\"DP\"] = df[\"DP\"].fillna(median_DS)"
   ]
  },
  {
   "cell_type": "code",
   "execution_count": 13,
   "id": "7cffc5e8",
   "metadata": {},
   "outputs": [
    {
     "name": "stdout",
     "output_type": "stream",
     "text": [
      "8.284887427063191\n"
     ]
    }
   ],
   "source": [
    "#Handle missing values appropriately\n",
    "mean_MLTV = df[\"MLTV\"].mean()\n",
    "print(mean_MLTV)"
   ]
  },
  {
   "cell_type": "code",
   "execution_count": 14,
   "id": "2e307c78",
   "metadata": {},
   "outputs": [],
   "source": [
    "#replacing missing values with mean\n",
    "df[\"MLTV\"] = df[\"MLTV\"].fillna(mean_MLTV)"
   ]
  },
  {
   "cell_type": "code",
   "execution_count": 15,
   "id": "ab7fcfda",
   "metadata": {},
   "outputs": [
    {
     "name": "stdout",
     "output_type": "stream",
     "text": [
      "70.4292604941192\n"
     ]
    }
   ],
   "source": [
    "#Handle missing values appropriately\n",
    "mean_Width = df[\"Width\"].mean()\n",
    "print(mean_Width)"
   ]
  },
  {
   "cell_type": "code",
   "execution_count": 16,
   "id": "0357ae2f",
   "metadata": {},
   "outputs": [],
   "source": [
    "#replacing missing values with mean\n",
    "df[\"Width\"] = df[\"Width\"].fillna(mean_Width)"
   ]
  },
  {
   "cell_type": "code",
   "execution_count": 17,
   "id": "ed4430bf",
   "metadata": {},
   "outputs": [
    {
     "name": "stdout",
     "output_type": "stream",
     "text": [
      "0.3163714038702473\n"
     ]
    }
   ],
   "source": [
    "#Handle missing values appropriately\n",
    "mean_Tendency = df[\"Tendency\"].mean()\n",
    "print(mean_Tendency)"
   ]
  },
  {
   "cell_type": "code",
   "execution_count": 18,
   "id": "2be8ebfc",
   "metadata": {},
   "outputs": [],
   "source": [
    "#replacing missing values with mean\n",
    "df[\"Tendency\"] = df[\"Tendency\"].fillna(mean_Tendency)"
   ]
  },
  {
   "cell_type": "code",
   "execution_count": 19,
   "id": "d62b1fd6",
   "metadata": {},
   "outputs": [
    {
     "name": "stdout",
     "output_type": "stream",
     "text": [
      "1.304507175110962\n"
     ]
    }
   ],
   "source": [
    "#Handle missing values appropriately\n",
    "mean_NSP = df[\"NSP\"].mean()\n",
    "print(mean_NSP)"
   ]
  },
  {
   "cell_type": "code",
   "execution_count": 20,
   "id": "6672892f",
   "metadata": {},
   "outputs": [],
   "source": [
    "#replacing missing values with mean\n",
    "df[\"NSP\"] = df[\"NSP\"].fillna(mean_NSP)"
   ]
  },
  {
   "cell_type": "code",
   "execution_count": 21,
   "id": "abbd980d",
   "metadata": {},
   "outputs": [
    {
     "data": {
      "text/html": [
       "<div>\n",
       "<style scoped>\n",
       "    .dataframe tbody tr th:only-of-type {\n",
       "        vertical-align: middle;\n",
       "    }\n",
       "\n",
       "    .dataframe tbody tr th {\n",
       "        vertical-align: top;\n",
       "    }\n",
       "\n",
       "    .dataframe thead th {\n",
       "        text-align: right;\n",
       "    }\n",
       "</style>\n",
       "<table border=\"1\" class=\"dataframe\">\n",
       "  <thead>\n",
       "    <tr style=\"text-align: right;\">\n",
       "      <th></th>\n",
       "      <th>LB</th>\n",
       "      <th>AC</th>\n",
       "      <th>FM</th>\n",
       "      <th>UC</th>\n",
       "      <th>DL</th>\n",
       "      <th>DS</th>\n",
       "      <th>DP</th>\n",
       "      <th>ASTV</th>\n",
       "      <th>MSTV</th>\n",
       "      <th>ALTV</th>\n",
       "      <th>MLTV</th>\n",
       "      <th>Width</th>\n",
       "      <th>Tendency</th>\n",
       "      <th>NSP</th>\n",
       "    </tr>\n",
       "  </thead>\n",
       "  <tbody>\n",
       "  </tbody>\n",
       "</table>\n",
       "</div>"
      ],
      "text/plain": [
       "Empty DataFrame\n",
       "Columns: [LB, AC, FM, UC, DL, DS, DP, ASTV, MSTV, ALTV, MLTV, Width, Tendency, NSP]\n",
       "Index: []"
      ]
     },
     "execution_count": 21,
     "metadata": {},
     "output_type": "execute_result"
    }
   ],
   "source": [
    "#missing values\n",
    "df[df.isnull().any(axis=1)]"
   ]
  },
  {
   "cell_type": "code",
   "execution_count": 22,
   "id": "ddabd090",
   "metadata": {},
   "outputs": [
    {
     "data": {
      "text/plain": [
       "LB          0\n",
       "AC          0\n",
       "FM          0\n",
       "UC          0\n",
       "DL          0\n",
       "DS          0\n",
       "DP          0\n",
       "ASTV        0\n",
       "MSTV        0\n",
       "ALTV        0\n",
       "MLTV        0\n",
       "Width       0\n",
       "Tendency    0\n",
       "NSP         0\n",
       "dtype: int64"
      ]
     },
     "execution_count": 22,
     "metadata": {},
     "output_type": "execute_result"
    }
   ],
   "source": [
    "df.isnull().sum()"
   ]
  },
  {
   "cell_type": "code",
   "execution_count": 23,
   "id": "0c8a6dcb",
   "metadata": {},
   "outputs": [
    {
     "data": {
      "text/plain": [
       "LB          float64\n",
       "AC          float64\n",
       "FM          float64\n",
       "UC          float64\n",
       "DL          float64\n",
       "DS          float64\n",
       "DP          float64\n",
       "ASTV        float64\n",
       "MSTV        float64\n",
       "ALTV        float64\n",
       "MLTV        float64\n",
       "Width       float64\n",
       "Tendency    float64\n",
       "NSP         float64\n",
       "dtype: object"
      ]
     },
     "execution_count": 23,
     "metadata": {},
     "output_type": "execute_result"
    }
   ],
   "source": [
    "#Identify and correct any inconsistencies in data types (e.g., numerical values stored as strings).\n",
    "df.dtypes"
   ]
  },
  {
   "cell_type": "code",
   "execution_count": 105,
   "id": "ce4610e2",
   "metadata": {},
   "outputs": [
    {
     "name": "stdout",
     "output_type": "stream",
     "text": [
      "132.0\n",
      "330.0\n",
      "-198.0\n"
     ]
    }
   ],
   "source": [
    "#Detect and treat outliers if necessary.\n",
    "import numpy as np\n",
    "Q1 = np.percentile(df[\"LB\"],25)\n",
    "Q3 = np.percentile(df[\"LB\"],75)\n",
    "IQR = Q3 - Q1  #Inter-Quartile Range\n",
    "print(IQR)    \n",
    "UW = Q3 + (1.5 * IQR)   #Upper whisker length\n",
    "LW = Q1 - (1.5 * IQR)   #Lower whisker length\n",
    "print(UW)\n",
    "print(LW)"
   ]
  },
  {
   "cell_type": "code",
   "execution_count": 25,
   "id": "070a25d2",
   "metadata": {},
   "outputs": [
    {
     "name": "stdout",
     "output_type": "stream",
     "text": [
      "Number of outliers present in LB Column :  6\n",
      "Number of outliers present in LB Column :  4\n"
     ]
    }
   ],
   "source": [
    "print(\"Number of outliers present in LB Column : \",len(df[df[\"LB\"]>UW]))\n",
    "print(\"Number of outliers present in LB Column : \",len(df[df[\"LB\"]<LW]))"
   ]
  },
  {
   "cell_type": "code",
   "execution_count": 26,
   "id": "bb925aeb",
   "metadata": {},
   "outputs": [
    {
     "data": {
      "text/html": [
       "<div>\n",
       "<style scoped>\n",
       "    .dataframe tbody tr th:only-of-type {\n",
       "        vertical-align: middle;\n",
       "    }\n",
       "\n",
       "    .dataframe tbody tr th {\n",
       "        vertical-align: top;\n",
       "    }\n",
       "\n",
       "    .dataframe thead th {\n",
       "        text-align: right;\n",
       "    }\n",
       "</style>\n",
       "<table border=\"1\" class=\"dataframe\">\n",
       "  <thead>\n",
       "    <tr style=\"text-align: right;\">\n",
       "      <th></th>\n",
       "      <th>LB</th>\n",
       "      <th>AC</th>\n",
       "      <th>FM</th>\n",
       "      <th>UC</th>\n",
       "      <th>DL</th>\n",
       "      <th>DS</th>\n",
       "      <th>DP</th>\n",
       "      <th>ASTV</th>\n",
       "      <th>MSTV</th>\n",
       "      <th>ALTV</th>\n",
       "      <th>MLTV</th>\n",
       "      <th>Width</th>\n",
       "      <th>Tendency</th>\n",
       "      <th>NSP</th>\n",
       "    </tr>\n",
       "  </thead>\n",
       "  <tbody>\n",
       "    <tr>\n",
       "      <th>411</th>\n",
       "      <td>214.0</td>\n",
       "      <td>0.000000</td>\n",
       "      <td>0.000000</td>\n",
       "      <td>0.001595</td>\n",
       "      <td>0.001595</td>\n",
       "      <td>0.000000</td>\n",
       "      <td>0.0</td>\n",
       "      <td>71.000000</td>\n",
       "      <td>0.300000</td>\n",
       "      <td>17.0</td>\n",
       "      <td>5.8</td>\n",
       "      <td>15.0</td>\n",
       "      <td>0.0</td>\n",
       "      <td>2.0000</td>\n",
       "    </tr>\n",
       "    <tr>\n",
       "      <th>610</th>\n",
       "      <td>214.0</td>\n",
       "      <td>0.002469</td>\n",
       "      <td>0.002469</td>\n",
       "      <td>0.002469</td>\n",
       "      <td>0.000000</td>\n",
       "      <td>0.000004</td>\n",
       "      <td>0.0</td>\n",
       "      <td>35.000000</td>\n",
       "      <td>1.798149</td>\n",
       "      <td>0.0</td>\n",
       "      <td>24.7</td>\n",
       "      <td>118.0</td>\n",
       "      <td>1.0</td>\n",
       "      <td>1.0000</td>\n",
       "    </tr>\n",
       "    <tr>\n",
       "      <th>612</th>\n",
       "      <td>214.0</td>\n",
       "      <td>0.005181</td>\n",
       "      <td>0.012953</td>\n",
       "      <td>0.002591</td>\n",
       "      <td>0.000000</td>\n",
       "      <td>0.000000</td>\n",
       "      <td>0.0</td>\n",
       "      <td>39.442226</td>\n",
       "      <td>1.600000</td>\n",
       "      <td>0.0</td>\n",
       "      <td>10.0</td>\n",
       "      <td>136.0</td>\n",
       "      <td>0.0</td>\n",
       "      <td>0.9912</td>\n",
       "    </tr>\n",
       "    <tr>\n",
       "      <th>1103</th>\n",
       "      <td>214.0</td>\n",
       "      <td>0.006972</td>\n",
       "      <td>0.000000</td>\n",
       "      <td>0.002960</td>\n",
       "      <td>0.000000</td>\n",
       "      <td>0.000000</td>\n",
       "      <td>0.0</td>\n",
       "      <td>19.000000</td>\n",
       "      <td>2.300000</td>\n",
       "      <td>0.0</td>\n",
       "      <td>12.1</td>\n",
       "      <td>53.0</td>\n",
       "      <td>0.0</td>\n",
       "      <td>1.0000</td>\n",
       "    </tr>\n",
       "    <tr>\n",
       "      <th>1406</th>\n",
       "      <td>214.0</td>\n",
       "      <td>0.005068</td>\n",
       "      <td>0.000000</td>\n",
       "      <td>0.001689</td>\n",
       "      <td>0.000000</td>\n",
       "      <td>0.000000</td>\n",
       "      <td>0.0</td>\n",
       "      <td>46.000000</td>\n",
       "      <td>0.800000</td>\n",
       "      <td>0.0</td>\n",
       "      <td>8.6</td>\n",
       "      <td>67.0</td>\n",
       "      <td>1.0</td>\n",
       "      <td>1.0000</td>\n",
       "    </tr>\n",
       "    <tr>\n",
       "      <th>1504</th>\n",
       "      <td>214.0</td>\n",
       "      <td>0.006189</td>\n",
       "      <td>0.000000</td>\n",
       "      <td>0.006189</td>\n",
       "      <td>0.000000</td>\n",
       "      <td>0.000000</td>\n",
       "      <td>0.0</td>\n",
       "      <td>38.000000</td>\n",
       "      <td>1.000000</td>\n",
       "      <td>0.0</td>\n",
       "      <td>8.1</td>\n",
       "      <td>53.0</td>\n",
       "      <td>0.0</td>\n",
       "      <td>1.0000</td>\n",
       "    </tr>\n",
       "  </tbody>\n",
       "</table>\n",
       "</div>"
      ],
      "text/plain": [
       "         LB        AC        FM        UC        DL        DS   DP       ASTV  \\\n",
       "411   214.0  0.000000  0.000000  0.001595  0.001595  0.000000  0.0  71.000000   \n",
       "610   214.0  0.002469  0.002469  0.002469  0.000000  0.000004  0.0  35.000000   \n",
       "612   214.0  0.005181  0.012953  0.002591  0.000000  0.000000  0.0  39.442226   \n",
       "1103  214.0  0.006972  0.000000  0.002960  0.000000  0.000000  0.0  19.000000   \n",
       "1406  214.0  0.005068  0.000000  0.001689  0.000000  0.000000  0.0  46.000000   \n",
       "1504  214.0  0.006189  0.000000  0.006189  0.000000  0.000000  0.0  38.000000   \n",
       "\n",
       "          MSTV  ALTV  MLTV  Width  Tendency     NSP  \n",
       "411   0.300000  17.0   5.8   15.0       0.0  2.0000  \n",
       "610   1.798149   0.0  24.7  118.0       1.0  1.0000  \n",
       "612   1.600000   0.0  10.0  136.0       0.0  0.9912  \n",
       "1103  2.300000   0.0  12.1   53.0       0.0  1.0000  \n",
       "1406  0.800000   0.0   8.6   67.0       1.0  1.0000  \n",
       "1504  1.000000   0.0   8.1   53.0       0.0  1.0000  "
      ]
     },
     "execution_count": 26,
     "metadata": {},
     "output_type": "execute_result"
    }
   ],
   "source": [
    "df[df[\"LB\"]>UW]"
   ]
  },
  {
   "cell_type": "code",
   "execution_count": 106,
   "id": "c2c9b5ad",
   "metadata": {},
   "outputs": [],
   "source": [
    "#Replacing the outlier values with nearest whisker length\n",
    "df[df[\"LB\"]>UW] = UW\n",
    "df[df[\"LB\"]<LW] = LW"
   ]
  },
  {
   "cell_type": "code",
   "execution_count": 107,
   "id": "86f4b95c",
   "metadata": {},
   "outputs": [
    {
     "data": {
      "text/html": [
       "<div>\n",
       "<style scoped>\n",
       "    .dataframe tbody tr th:only-of-type {\n",
       "        vertical-align: middle;\n",
       "    }\n",
       "\n",
       "    .dataframe tbody tr th {\n",
       "        vertical-align: top;\n",
       "    }\n",
       "\n",
       "    .dataframe thead th {\n",
       "        text-align: right;\n",
       "    }\n",
       "</style>\n",
       "<table border=\"1\" class=\"dataframe\">\n",
       "  <thead>\n",
       "    <tr style=\"text-align: right;\">\n",
       "      <th></th>\n",
       "      <th>LB</th>\n",
       "      <th>AC</th>\n",
       "      <th>FM</th>\n",
       "      <th>UC</th>\n",
       "      <th>DL</th>\n",
       "      <th>DS</th>\n",
       "      <th>DP</th>\n",
       "      <th>ASTV</th>\n",
       "      <th>MSTV</th>\n",
       "      <th>ALTV</th>\n",
       "      <th>MLTV</th>\n",
       "      <th>Width</th>\n",
       "      <th>Tendency</th>\n",
       "      <th>NSP</th>\n",
       "    </tr>\n",
       "  </thead>\n",
       "  <tbody>\n",
       "  </tbody>\n",
       "</table>\n",
       "</div>"
      ],
      "text/plain": [
       "Empty DataFrame\n",
       "Columns: [LB, AC, FM, UC, DL, DS, DP, ASTV, MSTV, ALTV, MLTV, Width, Tendency, NSP]\n",
       "Index: []"
      ]
     },
     "execution_count": 107,
     "metadata": {},
     "output_type": "execute_result"
    }
   ],
   "source": [
    "df[df[\"LB\"]>UW]"
   ]
  },
  {
   "cell_type": "code",
   "execution_count": 108,
   "id": "67d6318c",
   "metadata": {},
   "outputs": [],
   "source": [
    "#Replacing the outlier values with nearest whisker length\n",
    "df[df[\"LB\"]<LW] = LW"
   ]
  },
  {
   "cell_type": "code",
   "execution_count": 32,
   "id": "fbd515db",
   "metadata": {},
   "outputs": [
    {
     "data": {
      "text/plain": [
       "<AxesSubplot:>"
      ]
     },
     "execution_count": 32,
     "metadata": {},
     "output_type": "execute_result"
    },
    {
     "data": {
      "image/png": "[encoded data removed]",
      "text/plain": [
       "<Figure size 640x480 with 1 Axes>"
      ]
     },
     "metadata": {},
     "output_type": "display_data"
    }
   ],
   "source": [
    "df[\"LB\"].plot(kind=\"box\",vert=False)"
   ]
  },
  {
   "cell_type": "code",
   "execution_count": 33,
   "id": "227d11f6",
   "metadata": {},
   "outputs": [
    {
     "name": "stdout",
     "output_type": "stream",
     "text": [
      "0.00565451125\n",
      "0.014136278124999999\n",
      "-0.008481766875\n"
     ]
    }
   ],
   "source": [
    "#Detect and treat outliers if necessary.\n",
    "import numpy as np\n",
    "Q1 = np.percentile(df[\"AC\"],25)\n",
    "Q3 = np.percentile(df[\"AC\"],75)\n",
    "IQR = Q3 - Q1  #Inter-Quartile Range\n",
    "print(IQR)    \n",
    "UW = Q3 + (1.5 * IQR)   #Upper whisker length\n",
    "LW = Q1 - (1.5 * IQR)   #Lower whisker length\n",
    "print(UW)\n",
    "print(LW)"
   ]
  },
  {
   "cell_type": "code",
   "execution_count": 34,
   "id": "ede8c5d2",
   "metadata": {},
   "outputs": [
    {
     "name": "stdout",
     "output_type": "stream",
     "text": [
      "Number of outliers present in AC Column :  46\n",
      "Number of outliers present in AC Column :  4\n"
     ]
    }
   ],
   "source": [
    "print(\"Number of outliers present in AC Column : \",len(df[df[\"AC\"]>UW]))\n",
    "print(\"Number of outliers present in AC Column : \",len(df[df[\"AC\"]<LW]))"
   ]
  },
  {
   "cell_type": "code",
   "execution_count": 35,
   "id": "44ffe909",
   "metadata": {},
   "outputs": [],
   "source": [
    "#Replacing the outlier values with nearest whisker length\n",
    "df[df[\"AC\"]>UW] = UW"
   ]
  },
  {
   "cell_type": "code",
   "execution_count": 36,
   "id": "07790335",
   "metadata": {},
   "outputs": [],
   "source": [
    "#Replacing the outlier values with nearest whisker length\n",
    "df[df[\"AC\"]<LW] = LW"
   ]
  },
  {
   "cell_type": "code",
   "execution_count": 37,
   "id": "7e29887d",
   "metadata": {},
   "outputs": [
    {
     "name": "stdout",
     "output_type": "stream",
     "text": [
      "Number of outliers present in AC Column :  0\n",
      "Number of outliers present in AC Column :  0\n"
     ]
    }
   ],
   "source": [
    "print(\"Number of outliers present in AC Column : \",len(df[df[\"AC\"]>UW]))\n",
    "print(\"Number of outliers present in AC Column : \",len(df[df[\"AC\"]<LW]))"
   ]
  },
  {
   "cell_type": "code",
   "execution_count": 38,
   "id": "148a8143",
   "metadata": {},
   "outputs": [
    {
     "data": {
      "text/plain": [
       "<AxesSubplot:>"
      ]
     },
     "execution_count": 38,
     "metadata": {},
     "output_type": "execute_result"
    },
    {
     "data": {
      "image/png": "[encoded data removed]",
      "text/plain": [
       "<Figure size 640x480 with 1 Axes>"
      ]
     },
     "metadata": {},
     "output_type": "display_data"
    }
   ],
   "source": [
    "df[\"AC\"].plot(kind=\"box\",vert=False)"
   ]
  },
  {
   "cell_type": "code",
   "execution_count": 39,
   "id": "8a437fab",
   "metadata": {},
   "outputs": [
    {
     "name": "stdout",
     "output_type": "stream",
     "text": [
      "0.00292725525\n",
      "0.007318138125\n",
      "-0.004390882875\n"
     ]
    }
   ],
   "source": [
    "#Detect and treat outliers if necessary.\n",
    "import numpy as np\n",
    "Q1 = np.percentile(df[\"FM\"],25)\n",
    "Q3 = np.percentile(df[\"FM\"],75)\n",
    "IQR = Q3 - Q1  #Inter-Quartile Range\n",
    "print(IQR)    \n",
    "UW = Q3 + (1.5 * IQR)   #Upper whisker length\n",
    "LW = Q1 - (1.5 * IQR)   #Lower whisker length\n",
    "print(UW)\n",
    "print(LW)"
   ]
  },
  {
   "cell_type": "code",
   "execution_count": 40,
   "id": "13b783c5",
   "metadata": {},
   "outputs": [
    {
     "name": "stdout",
     "output_type": "stream",
     "text": [
      "Number of outliers present in FM Column :  344\n",
      "Number of outliers present in FM Column :  11\n"
     ]
    }
   ],
   "source": [
    "print(\"Number of outliers present in FM Column : \",len(df[df[\"FM\"]>UW]))\n",
    "print(\"Number of outliers present in FM Column : \",len(df[df[\"FM\"]<LW]))"
   ]
  },
  {
   "cell_type": "code",
   "execution_count": 41,
   "id": "2369934d",
   "metadata": {},
   "outputs": [],
   "source": [
    "#Replacing the outlier values with nearest whisker length\n",
    "df[df[\"FM\"]>UW] = UW"
   ]
  },
  {
   "cell_type": "code",
   "execution_count": 42,
   "id": "c4db2223",
   "metadata": {},
   "outputs": [],
   "source": [
    "#Replacing the outlier values with nearest whisker length\n",
    "df[df[\"FM\"]<LW] = LW"
   ]
  },
  {
   "cell_type": "code",
   "execution_count": 43,
   "id": "6644dea6",
   "metadata": {},
   "outputs": [
    {
     "name": "stdout",
     "output_type": "stream",
     "text": [
      "Number of outliers present in FM Column :  0\n",
      "Number of outliers present in FM Column :  0\n"
     ]
    }
   ],
   "source": [
    "print(\"Number of outliers present in FM Column : \",len(df[df[\"FM\"]>UW]))\n",
    "print(\"Number of outliers present in FM Column : \",len(df[df[\"FM\"]<LW]))"
   ]
  },
  {
   "cell_type": "code",
   "execution_count": 44,
   "id": "3c99b4c2",
   "metadata": {},
   "outputs": [
    {
     "data": {
      "text/plain": [
       "<AxesSubplot:>"
      ]
     },
     "execution_count": 44,
     "metadata": {},
     "output_type": "execute_result"
    },
    {
     "data": {
      "image/png": "[encoded data removed]",
      "text/plain": [
       "<Figure size 640x480 with 1 Axes>"
      ]
     },
     "metadata": {},
     "output_type": "display_data"
    }
   ],
   "source": [
    "df[\"FM\"].plot(kind=\"box\",vert=False)"
   ]
  },
  {
   "cell_type": "code",
   "execution_count": 50,
   "id": "b9575b43",
   "metadata": {},
   "outputs": [
    {
     "name": "stdout",
     "output_type": "stream",
     "text": [
      "0.004339726875\n",
      "0.013827728437499999\n",
      "-0.0035311790624999997\n"
     ]
    }
   ],
   "source": [
    "#Detect and treat outliers if necessary.\n",
    "import numpy as np\n",
    "Q1 = np.percentile(df[\"UC\"],25)\n",
    "Q3 = np.percentile(df[\"UC\"],75)\n",
    "IQR = Q3 - Q1  #Inter-Quartile Range\n",
    "print(IQR)    \n",
    "UW = Q3 + (1.5 * IQR)   #Upper whisker length\n",
    "LW = Q1 - (1.5 * IQR)   #Lower whisker length\n",
    "print(UW)\n",
    "print(LW)"
   ]
  },
  {
   "cell_type": "code",
   "execution_count": 51,
   "id": "4bf0b790",
   "metadata": {},
   "outputs": [
    {
     "name": "stdout",
     "output_type": "stream",
     "text": [
      "Number of outliers present in UC Column :  0\n",
      "Number of outliers present in UC Column :  0\n"
     ]
    }
   ],
   "source": [
    "print(\"Number of outliers present in UC Column : \",len(df[df[\"UC\"]>UW]))\n",
    "print(\"Number of outliers present in UC Column : \",len(df[df[\"UC\"]<LW]))"
   ]
  },
  {
   "cell_type": "code",
   "execution_count": 52,
   "id": "95175259",
   "metadata": {},
   "outputs": [],
   "source": [
    "#Replacing the outlier values with nearest whisker length\n",
    "df[df[\"UC\"]>UW] = UW\n",
    "df[df[\"UC\"]<LW] = LW"
   ]
  },
  {
   "cell_type": "code",
   "execution_count": 53,
   "id": "123e2b8b",
   "metadata": {},
   "outputs": [
    {
     "name": "stdout",
     "output_type": "stream",
     "text": [
      "Number of outliers present in UC Column :  0\n",
      "Number of outliers present in UC Column :  0\n"
     ]
    }
   ],
   "source": [
    "print(\"Number of outliers present in UC Column : \",len(df[df[\"UC\"]>UW]))\n",
    "print(\"Number of outliers present in UC Column : \",len(df[df[\"UC\"]<LW]))"
   ]
  },
  {
   "cell_type": "code",
   "execution_count": 49,
   "id": "9fd1cb54",
   "metadata": {},
   "outputs": [
    {
     "data": {
      "text/plain": [
       "<AxesSubplot:>"
      ]
     },
     "execution_count": 49,
     "metadata": {},
     "output_type": "execute_result"
    },
    {
     "data": {
      "image/png": "[encoded data removed]",
      "text/plain": [
       "<Figure size 640x480 with 1 Axes>"
      ]
     },
     "metadata": {},
     "output_type": "display_data"
    }
   ],
   "source": [
    "df[\"UC\"].plot(kind=\"box\",vert=False)"
   ]
  },
  {
   "cell_type": "code",
   "execution_count": 54,
   "id": "889a3db6",
   "metadata": {},
   "outputs": [
    {
     "name": "stdout",
     "output_type": "stream",
     "text": [
      "0.00655892725\n",
      "0.016397318125\n",
      "-0.009838390875\n"
     ]
    }
   ],
   "source": [
    "#Detect and treat outliers if necessary.\n",
    "import numpy as np\n",
    "Q1 = np.percentile(df[\"DL\"],25)\n",
    "Q3 = np.percentile(df[\"DL\"],75)\n",
    "IQR = Q3 - Q1  #Inter-Quartile Range\n",
    "print(IQR)    \n",
    "UW = Q3 + (1.5 * IQR)   #Upper whisker length\n",
    "LW = Q1 - (1.5 * IQR)   #Lower whisker length\n",
    "print(UW)\n",
    "print(LW)"
   ]
  },
  {
   "cell_type": "code",
   "execution_count": 55,
   "id": "0e24c2c5",
   "metadata": {},
   "outputs": [
    {
     "name": "stdout",
     "output_type": "stream",
     "text": [
      "Number of outliers present in DL Column :  2\n",
      "Number of outliers present in DL Column :  6\n"
     ]
    }
   ],
   "source": [
    "print(\"Number of outliers present in DL Column : \",len(df[df[\"DL\"]>UW]))\n",
    "print(\"Number of outliers present in DL Column : \",len(df[df[\"DL\"]<LW]))"
   ]
  },
  {
   "cell_type": "code",
   "execution_count": 56,
   "id": "93702cf4",
   "metadata": {},
   "outputs": [],
   "source": [
    "#Replacing the outlier values with nearest whisker length\n",
    "df[df[\"DL\"]>UW] = UW\n",
    "df[df[\"DL\"]<LW] = LW"
   ]
  },
  {
   "cell_type": "code",
   "execution_count": 57,
   "id": "f2ff8234",
   "metadata": {},
   "outputs": [
    {
     "name": "stdout",
     "output_type": "stream",
     "text": [
      "Number of outliers present in DL Column :  0\n",
      "Number of outliers present in DL Column :  0\n"
     ]
    }
   ],
   "source": [
    "print(\"Number of outliers present in DL Column : \",len(df[df[\"DL\"]>UW]))\n",
    "print(\"Number of outliers present in DL Column : \",len(df[df[\"DL\"]<LW]))"
   ]
  },
  {
   "cell_type": "code",
   "execution_count": 58,
   "id": "0a5a07bc",
   "metadata": {},
   "outputs": [
    {
     "data": {
      "text/plain": [
       "<AxesSubplot:>"
      ]
     },
     "execution_count": 58,
     "metadata": {},
     "output_type": "execute_result"
    },
    {
     "data": {
      "image/png": "[encoded data removed]",
      "text/plain": [
       "<Figure size 640x480 with 1 Axes>"
      ]
     },
     "metadata": {},
     "output_type": "display_data"
    }
   ],
   "source": [
    "df[\"DL\"].plot(kind=\"box\",vert=False)"
   ]
  },
  {
   "cell_type": "code",
   "execution_count": 59,
   "id": "bd2be16c",
   "metadata": {},
   "outputs": [
    {
     "name": "stdout",
     "output_type": "stream",
     "text": [
      "0.0\n",
      "0.0\n",
      "0.0\n"
     ]
    }
   ],
   "source": [
    "#Detect and treat outliers if necessary.\n",
    "import numpy as np\n",
    "Q1 = np.percentile(df[\"DS\"],25)\n",
    "Q3 = np.percentile(df[\"DS\"],75)\n",
    "IQR = Q3 - Q1  #Inter-Quartile Range\n",
    "print(IQR)    \n",
    "UW = Q3 + (1.5 * IQR)   #Upper whisker length\n",
    "LW = Q1 - (1.5 * IQR)   #Lower whisker length\n",
    "print(UW)\n",
    "print(LW)"
   ]
  },
  {
   "cell_type": "code",
   "execution_count": 60,
   "id": "ab65c099",
   "metadata": {},
   "outputs": [
    {
     "name": "stdout",
     "output_type": "stream",
     "text": [
      "Number of outliers present in DS Column :  413\n",
      "Number of outliers present in DS Column :  65\n"
     ]
    }
   ],
   "source": [
    "print(\"Number of outliers present in DS Column : \",len(df[df[\"DS\"]>UW]))\n",
    "print(\"Number of outliers present in DS Column : \",len(df[df[\"DS\"]<LW]))"
   ]
  },
  {
   "cell_type": "code",
   "execution_count": 61,
   "id": "6fbcf9b8",
   "metadata": {},
   "outputs": [],
   "source": [
    "#Replacing the outlier values with nearest whisker length\n",
    "df[df[\"DS\"]>UW] = UW\n",
    "df[df[\"DS\"]<LW] = LW"
   ]
  },
  {
   "cell_type": "code",
   "execution_count": 62,
   "id": "0c854a7f",
   "metadata": {},
   "outputs": [
    {
     "name": "stdout",
     "output_type": "stream",
     "text": [
      "Number of outliers present in DS Column :  0\n",
      "Number of outliers present in DS Column :  0\n"
     ]
    }
   ],
   "source": [
    "print(\"Number of outliers present in DS Column : \",len(df[df[\"DS\"]>UW]))\n",
    "print(\"Number of outliers present in DS Column : \",len(df[df[\"DS\"]<LW]))"
   ]
  },
  {
   "cell_type": "code",
   "execution_count": 63,
   "id": "bada4955",
   "metadata": {},
   "outputs": [
    {
     "data": {
      "text/plain": [
       "<AxesSubplot:>"
      ]
     },
     "execution_count": 63,
     "metadata": {},
     "output_type": "execute_result"
    },
    {
     "data": {
      "image/png": "[encoded data removed]",
      "text/plain": [
       "<Figure size 640x480 with 1 Axes>"
      ]
     },
     "metadata": {},
     "output_type": "display_data"
    }
   ],
   "source": [
    "df[\"DS\"].plot(kind=\"box\",vert=False)"
   ]
  },
  {
   "cell_type": "code",
   "execution_count": 64,
   "id": "ce210eb0",
   "metadata": {},
   "outputs": [
    {
     "name": "stdout",
     "output_type": "stream",
     "text": [
      "0.0\n",
      "0.0\n",
      "0.0\n"
     ]
    }
   ],
   "source": [
    "#Detect and treat outliers if necessary.\n",
    "import numpy as np\n",
    "Q1 = np.percentile(df[\"DP\"],25)\n",
    "Q3 = np.percentile(df[\"DP\"],75)\n",
    "IQR = Q3 - Q1  #Inter-Quartile Range\n",
    "print(IQR)    \n",
    "UW = Q3 + (1.5 * IQR)   #Upper whisker length\n",
    "LW = Q1 - (1.5 * IQR)   #Lower whisker length\n",
    "print(UW)\n",
    "print(LW)"
   ]
  },
  {
   "cell_type": "code",
   "execution_count": 65,
   "id": "8f41113b",
   "metadata": {},
   "outputs": [
    {
     "name": "stdout",
     "output_type": "stream",
     "text": [
      "Number of outliers present in DP Column :  165\n",
      "Number of outliers present in DP Column :  41\n"
     ]
    }
   ],
   "source": [
    "print(\"Number of outliers present in DP Column : \",len(df[df[\"DP\"]>UW]))\n",
    "print(\"Number of outliers present in DP Column : \",len(df[df[\"DP\"]<LW]))"
   ]
  },
  {
   "cell_type": "code",
   "execution_count": 66,
   "id": "cb5ed3f1",
   "metadata": {},
   "outputs": [],
   "source": [
    "#Replacing the outlier values with nearest whisker length\n",
    "df[df[\"DP\"]>UW] = UW\n",
    "df[df[\"DP\"]<LW] = LW"
   ]
  },
  {
   "cell_type": "code",
   "execution_count": 67,
   "id": "b8082a6b",
   "metadata": {},
   "outputs": [
    {
     "name": "stdout",
     "output_type": "stream",
     "text": [
      "Number of outliers present in DP Column :  0\n",
      "Number of outliers present in DP Column :  0\n"
     ]
    }
   ],
   "source": [
    "print(\"Number of outliers present in DP Column : \",len(df[df[\"DP\"]>UW]))\n",
    "print(\"Number of outliers present in DP Column : \",len(df[df[\"DP\"]<LW]))"
   ]
  },
  {
   "cell_type": "code",
   "execution_count": 68,
   "id": "4bf75f32",
   "metadata": {},
   "outputs": [
    {
     "data": {
      "text/plain": [
       "<AxesSubplot:>"
      ]
     },
     "execution_count": 68,
     "metadata": {},
     "output_type": "execute_result"
    },
    {
     "data": {
      "image/png": "[encoded data removed]",
      "text/plain": [
       "<Figure size 640x480 with 1 Axes>"
      ]
     },
     "metadata": {},
     "output_type": "display_data"
    }
   ],
   "source": [
    "df[\"DP\"].plot(kind=\"box\",vert=False)"
   ]
  },
  {
   "cell_type": "code",
   "execution_count": 69,
   "id": "e33635ef",
   "metadata": {},
   "outputs": [
    {
     "name": "stdout",
     "output_type": "stream",
     "text": [
      "55.0\n",
      "137.5\n",
      "-82.5\n"
     ]
    }
   ],
   "source": [
    "#Detect and treat outliers if necessary.\n",
    "import numpy as np\n",
    "Q1 = np.percentile(df[\"ASTV\"],25)\n",
    "Q3 = np.percentile(df[\"ASTV\"],75)\n",
    "IQR = Q3 - Q1  #Inter-Quartile Range\n",
    "print(IQR)    \n",
    "UW = Q3 + (1.5 * IQR)   #Upper whisker length\n",
    "LW = Q1 - (1.5 * IQR)   #Lower whisker length\n",
    "print(UW)\n",
    "print(LW)"
   ]
  },
  {
   "cell_type": "code",
   "execution_count": 70,
   "id": "3e581480",
   "metadata": {},
   "outputs": [
    {
     "name": "stdout",
     "output_type": "stream",
     "text": [
      "Number of outliers present in ASTV Column :  5\n",
      "Number of outliers present in ASTV Column :  0\n"
     ]
    }
   ],
   "source": [
    "print(\"Number of outliers present in ASTV Column : \",len(df[df[\"ASTV\"]>UW]))\n",
    "print(\"Number of outliers present in ASTV Column : \",len(df[df[\"ASTV\"]<LW]))"
   ]
  },
  {
   "cell_type": "code",
   "execution_count": 71,
   "id": "477d8349",
   "metadata": {},
   "outputs": [],
   "source": [
    "#Replacing the outlier values with nearest whisker length\n",
    "df[df[\"ASTV\"]>UW] = UW\n",
    "df[df[\"ASTV\"]<LW] = LW"
   ]
  },
  {
   "cell_type": "code",
   "execution_count": 72,
   "id": "e17068dc",
   "metadata": {},
   "outputs": [
    {
     "name": "stdout",
     "output_type": "stream",
     "text": [
      "Number of outliers present in ASTV Column :  0\n",
      "Number of outliers present in ASTV Column :  0\n"
     ]
    }
   ],
   "source": [
    "print(\"Number of outliers present in ASTV Column : \",len(df[df[\"ASTV\"]>UW]))\n",
    "print(\"Number of outliers present in ASTV Column : \",len(df[df[\"ASTV\"]<LW]))"
   ]
  },
  {
   "cell_type": "code",
   "execution_count": 73,
   "id": "53815212",
   "metadata": {},
   "outputs": [
    {
     "data": {
      "text/plain": [
       "<AxesSubplot:>"
      ]
     },
     "execution_count": 73,
     "metadata": {},
     "output_type": "execute_result"
    },
    {
     "data": {
      "image/png": "[encoded data removed]",
      "text/plain": [
       "<Figure size 640x480 with 1 Axes>"
      ]
     },
     "metadata": {},
     "output_type": "display_data"
    }
   ],
   "source": [
    "df[\"ASTV\"].plot(kind=\"box\",vert=False)"
   ]
  },
  {
   "cell_type": "code",
   "execution_count": 74,
   "id": "7924c062",
   "metadata": {},
   "outputs": [
    {
     "name": "stdout",
     "output_type": "stream",
     "text": [
      "1.3\n",
      "3.25\n",
      "-1.9500000000000002\n"
     ]
    }
   ],
   "source": [
    "#Detect and treat outliers if necessary.\n",
    "import numpy as np\n",
    "Q1 = np.percentile(df[\"MSTV\"],25)\n",
    "Q3 = np.percentile(df[\"MSTV\"],75)\n",
    "IQR = Q3 - Q1  #Inter-Quartile Range\n",
    "print(IQR)    \n",
    "UW = Q3 + (1.5 * IQR)   #Upper whisker length\n",
    "LW = Q1 - (1.5 * IQR)   #Lower whisker length\n",
    "print(UW)\n",
    "print(LW)"
   ]
  },
  {
   "cell_type": "code",
   "execution_count": 75,
   "id": "5aa32151",
   "metadata": {},
   "outputs": [
    {
     "name": "stdout",
     "output_type": "stream",
     "text": [
      "Number of outliers present in MSTV Column :  44\n",
      "Number of outliers present in MSTV Column :  2\n"
     ]
    }
   ],
   "source": [
    "print(\"Number of outliers present in MSTV Column : \",len(df[df[\"MSTV\"]>UW]))\n",
    "print(\"Number of outliers present in MSTV Column : \",len(df[df[\"MSTV\"]<LW]))"
   ]
  },
  {
   "cell_type": "code",
   "execution_count": 76,
   "id": "cf0c7a2a",
   "metadata": {},
   "outputs": [],
   "source": [
    "#Replacing the outlier values with nearest whisker length\n",
    "df[df[\"MSTV\"]>UW] = UW\n",
    "df[df[\"MSTV\"]<LW] = LW"
   ]
  },
  {
   "cell_type": "code",
   "execution_count": 77,
   "id": "4285e1c6",
   "metadata": {},
   "outputs": [
    {
     "name": "stdout",
     "output_type": "stream",
     "text": [
      "Number of outliers present in MSTV Column :  0\n",
      "Number of outliers present in MSTV Column :  0\n"
     ]
    }
   ],
   "source": [
    "print(\"Number of outliers present in MSTV Column : \",len(df[df[\"MSTV\"]>UW]))\n",
    "print(\"Number of outliers present in MSTV Column : \",len(df[df[\"MSTV\"]<LW]))"
   ]
  },
  {
   "cell_type": "code",
   "execution_count": 78,
   "id": "81622240",
   "metadata": {},
   "outputs": [
    {
     "data": {
      "text/plain": [
       "<AxesSubplot:>"
      ]
     },
     "execution_count": 78,
     "metadata": {},
     "output_type": "execute_result"
    },
    {
     "data": {
      "image/png": "[encoded data removed]",
      "text/plain": [
       "<Figure size 640x480 with 1 Axes>"
      ]
     },
     "metadata": {},
     "output_type": "display_data"
    }
   ],
   "source": [
    "df[\"MSTV\"].plot(kind=\"box\",vert=False)"
   ]
  },
  {
   "cell_type": "code",
   "execution_count": 79,
   "id": "25c119c2",
   "metadata": {},
   "outputs": [
    {
     "name": "stdout",
     "output_type": "stream",
     "text": [
      "5.0\n",
      "12.5\n",
      "-7.5\n"
     ]
    }
   ],
   "source": [
    "#Detect and treat outliers if necessary.\n",
    "import numpy as np\n",
    "Q1 = np.percentile(df[\"ALTV\"],25)\n",
    "Q3 = np.percentile(df[\"ALTV\"],75)\n",
    "IQR = Q3 - Q1  #Inter-Quartile Range\n",
    "print(IQR)    \n",
    "UW = Q3 + (1.5 * IQR)   #Upper whisker length\n",
    "LW = Q1 - (1.5 * IQR)   #Lower whisker length\n",
    "print(UW)\n",
    "print(LW)"
   ]
  },
  {
   "cell_type": "code",
   "execution_count": 80,
   "id": "fc2071b2",
   "metadata": {},
   "outputs": [
    {
     "name": "stdout",
     "output_type": "stream",
     "text": [
      "Number of outliers present in ALTV Column :  371\n",
      "Number of outliers present in ALTV Column :  2\n"
     ]
    }
   ],
   "source": [
    "print(\"Number of outliers present in ALTV Column : \",len(df[df[\"ALTV\"]>UW]))\n",
    "print(\"Number of outliers present in ALTV Column : \",len(df[df[\"ALTV\"]<LW]))"
   ]
  },
  {
   "cell_type": "code",
   "execution_count": 81,
   "id": "e4da3ffb",
   "metadata": {},
   "outputs": [],
   "source": [
    "#Replacing the outlier values with nearest whisker length\n",
    "df[df[\"ALTV\"]>UW] = UW\n",
    "df[df[\"ALTV\"]<LW] = LW"
   ]
  },
  {
   "cell_type": "code",
   "execution_count": 82,
   "id": "7305daf6",
   "metadata": {},
   "outputs": [
    {
     "name": "stdout",
     "output_type": "stream",
     "text": [
      "Number of outliers present in ALTV Column :  0\n",
      "Number of outliers present in ALTV Column :  0\n"
     ]
    }
   ],
   "source": [
    "print(\"Number of outliers present in ALTV Column : \",len(df[df[\"ALTV\"]>UW]))\n",
    "print(\"Number of outliers present in ALTV Column : \",len(df[df[\"ALTV\"]<LW]))"
   ]
  },
  {
   "cell_type": "code",
   "execution_count": 83,
   "id": "bff64f83",
   "metadata": {},
   "outputs": [
    {
     "data": {
      "text/plain": [
       "<AxesSubplot:>"
      ]
     },
     "execution_count": 83,
     "metadata": {},
     "output_type": "execute_result"
    },
    {
     "data": {
      "image/png": "[encoded data removed]",
      "text/plain": [
       "<Figure size 640x480 with 1 Axes>"
      ]
     },
     "metadata": {},
     "output_type": "display_data"
    }
   ],
   "source": [
    "df[\"ALTV\"].plot(kind=\"box\",vert=False)"
   ]
  },
  {
   "cell_type": "code",
   "execution_count": 84,
   "id": "2c900caa",
   "metadata": {},
   "outputs": [
    {
     "name": "stdout",
     "output_type": "stream",
     "text": [
      "12.5\n",
      "31.25\n",
      "-18.75\n"
     ]
    }
   ],
   "source": [
    "#Detect and treat outliers if necessary.\n",
    "import numpy as np\n",
    "Q1 = np.percentile(df[\"MLTV\"],25)\n",
    "Q3 = np.percentile(df[\"MLTV\"],75)\n",
    "IQR = Q3 - Q1  #Inter-Quartile Range\n",
    "print(IQR)    \n",
    "UW = Q3 + (1.5 * IQR)   #Upper whisker length\n",
    "LW = Q1 - (1.5 * IQR)   #Lower whisker length\n",
    "print(UW)\n",
    "print(LW)"
   ]
  },
  {
   "cell_type": "code",
   "execution_count": 85,
   "id": "1799737f",
   "metadata": {},
   "outputs": [
    {
     "name": "stdout",
     "output_type": "stream",
     "text": [
      "Number of outliers present in MLTV Column :  5\n",
      "Number of outliers present in MLTV Column :  1\n"
     ]
    }
   ],
   "source": [
    "print(\"Number of outliers present in MLTV Column : \",len(df[df[\"MLTV\"]>UW]))\n",
    "print(\"Number of outliers present in MLTV Column : \",len(df[df[\"MLTV\"]<LW]))"
   ]
  },
  {
   "cell_type": "code",
   "execution_count": 86,
   "id": "177d3230",
   "metadata": {},
   "outputs": [],
   "source": [
    "#Replacing the outlier values with nearest whisker length\n",
    "df[df[\"MLTV\"]>UW] = UW\n",
    "df[df[\"MLTV\"]<LW] = LW"
   ]
  },
  {
   "cell_type": "code",
   "execution_count": 87,
   "id": "18d8564f",
   "metadata": {},
   "outputs": [
    {
     "name": "stdout",
     "output_type": "stream",
     "text": [
      "Number of outliers present in MLTV Column :  0\n",
      "Number of outliers present in MLTV Column :  0\n"
     ]
    }
   ],
   "source": [
    "print(\"Number of outliers present in MLTV Column : \",len(df[df[\"MLTV\"]>UW]))\n",
    "print(\"Number of outliers present in MLTV Column : \",len(df[df[\"MLTV\"]<LW]))"
   ]
  },
  {
   "cell_type": "code",
   "execution_count": 88,
   "id": "cac0bfed",
   "metadata": {},
   "outputs": [
    {
     "data": {
      "text/plain": [
       "<AxesSubplot:>"
      ]
     },
     "execution_count": 88,
     "metadata": {},
     "output_type": "execute_result"
    },
    {
     "data": {
      "image/png": "[encoded data removed]",
      "text/plain": [
       "<Figure size 640x480 with 1 Axes>"
      ]
     },
     "metadata": {},
     "output_type": "display_data"
    }
   ],
   "source": [
    "df[\"MLTV\"].plot(kind=\"box\",vert=False)"
   ]
  },
  {
   "cell_type": "code",
   "execution_count": 89,
   "id": "f3727e38",
   "metadata": {},
   "outputs": [
    {
     "name": "stdout",
     "output_type": "stream",
     "text": [
      "66.0\n",
      "165.0\n",
      "-99.0\n"
     ]
    }
   ],
   "source": [
    "#Detect and treat outliers if necessary.\n",
    "import numpy as np\n",
    "Q1 = np.percentile(df[\"Width\"],25)\n",
    "Q3 = np.percentile(df[\"Width\"],75)\n",
    "IQR = Q3 - Q1  #Inter-Quartile Range\n",
    "print(IQR)    \n",
    "UW = Q3 + (1.5 * IQR)   #Upper whisker length\n",
    "LW = Q1 - (1.5 * IQR)   #Lower whisker length\n",
    "print(UW)\n",
    "print(LW)"
   ]
  },
  {
   "cell_type": "code",
   "execution_count": 90,
   "id": "3b6d3fab",
   "metadata": {},
   "outputs": [
    {
     "name": "stdout",
     "output_type": "stream",
     "text": [
      "Number of outliers present in Width Column :  5\n",
      "Number of outliers present in Width Column :  3\n"
     ]
    }
   ],
   "source": [
    "print(\"Number of outliers present in Width Column : \",len(df[df[\"Width\"]>UW]))\n",
    "print(\"Number of outliers present in Width Column : \",len(df[df[\"Width\"]<LW]))"
   ]
  },
  {
   "cell_type": "code",
   "execution_count": 91,
   "id": "51c51ebb",
   "metadata": {},
   "outputs": [],
   "source": [
    "#Replacing the outlier values with nearest whisker length\n",
    "df[df[\"Width\"]>UW] = UW\n",
    "df[df[\"Width\"]<LW] = LW"
   ]
  },
  {
   "cell_type": "code",
   "execution_count": 92,
   "id": "384e3b1e",
   "metadata": {},
   "outputs": [
    {
     "name": "stdout",
     "output_type": "stream",
     "text": [
      "Number of outliers present in Width Column :  0\n",
      "Number of outliers present in Width Column :  0\n"
     ]
    }
   ],
   "source": [
    "print(\"Number of outliers present in Width Column : \",len(df[df[\"Width\"]>UW]))\n",
    "print(\"Number of outliers present in Width Column : \",len(df[df[\"Width\"]<LW]))"
   ]
  },
  {
   "cell_type": "code",
   "execution_count": 93,
   "id": "d478306a",
   "metadata": {},
   "outputs": [
    {
     "data": {
      "text/plain": [
       "<AxesSubplot:>"
      ]
     },
     "execution_count": 93,
     "metadata": {},
     "output_type": "execute_result"
    },
    {
     "data": {
      "image/png": "[encoded data removed]",
      "text/plain": [
       "<Figure size 640x480 with 1 Axes>"
      ]
     },
     "metadata": {},
     "output_type": "display_data"
    }
   ],
   "source": [
    "df[\"Width\"].plot(kind=\"box\",vert=False)"
   ]
  },
  {
   "cell_type": "code",
   "execution_count": 94,
   "id": "a810fc2f",
   "metadata": {},
   "outputs": [
    {
     "name": "stdout",
     "output_type": "stream",
     "text": [
      "1.0\n",
      "2.5\n",
      "-1.5\n"
     ]
    }
   ],
   "source": [
    "#Detect and treat outliers if necessary.\n",
    "import numpy as np\n",
    "Q1 = np.percentile(df[\"Tendency\"],25)\n",
    "Q3 = np.percentile(df[\"Tendency\"],75)\n",
    "IQR = Q3 - Q1  #Inter-Quartile Range\n",
    "print(IQR)    \n",
    "UW = Q3 + (1.5 * IQR)   #Upper whisker length\n",
    "LW = Q1 - (1.5 * IQR)   #Lower whisker length\n",
    "print(UW)\n",
    "print(LW)"
   ]
  },
  {
   "cell_type": "code",
   "execution_count": 95,
   "id": "5c2767ca",
   "metadata": {},
   "outputs": [
    {
     "name": "stdout",
     "output_type": "stream",
     "text": [
      "Number of outliers present in Tendency Column :  427\n",
      "Number of outliers present in Tendency Column :  10\n"
     ]
    }
   ],
   "source": [
    "print(\"Number of outliers present in Tendency Column : \",len(df[df[\"Tendency\"]>UW]))\n",
    "print(\"Number of outliers present in Tendency Column : \",len(df[df[\"Tendency\"]<LW]))"
   ]
  },
  {
   "cell_type": "code",
   "execution_count": 96,
   "id": "b332c41f",
   "metadata": {},
   "outputs": [],
   "source": [
    "#Replacing the outlier values with nearest whisker length\n",
    "df[df[\"Tendency\"]>UW] = UW\n",
    "df[df[\"Tendency\"]<LW] = LW"
   ]
  },
  {
   "cell_type": "code",
   "execution_count": 97,
   "id": "9881b7ba",
   "metadata": {},
   "outputs": [
    {
     "name": "stdout",
     "output_type": "stream",
     "text": [
      "Number of outliers present in Tendency Column :  0\n",
      "Number of outliers present in Tendency Column :  0\n"
     ]
    }
   ],
   "source": [
    "print(\"Number of outliers present in Tendency Column : \",len(df[df[\"Tendency\"]>UW]))\n",
    "print(\"Number of outliers present in Tendency Column : \",len(df[df[\"Tendency\"]<LW]))"
   ]
  },
  {
   "cell_type": "code",
   "execution_count": 98,
   "id": "698348c9",
   "metadata": {},
   "outputs": [
    {
     "data": {
      "text/plain": [
       "<AxesSubplot:>"
      ]
     },
     "execution_count": 98,
     "metadata": {},
     "output_type": "execute_result"
    },
    {
     "data": {
      "image/png": "[encoded data removed]",
      "text/plain": [
       "<Figure size 640x480 with 1 Axes>"
      ]
     },
     "metadata": {},
     "output_type": "display_data"
    }
   ],
   "source": [
    "df[\"Tendency\"].plot(kind=\"box\",vert=False)"
   ]
  },
  {
   "cell_type": "code",
   "execution_count": 99,
   "id": "7c46639a",
   "metadata": {},
   "outputs": [
    {
     "name": "stdout",
     "output_type": "stream",
     "text": [
      "1.0\n",
      "2.5\n",
      "-1.5\n"
     ]
    }
   ],
   "source": [
    "#Detect and treat outliers if necessary.\n",
    "import numpy as np\n",
    "Q1 = np.percentile(df[\"NSP\"],25)\n",
    "Q3 = np.percentile(df[\"NSP\"],75)\n",
    "IQR = Q3 - Q1  #Inter-Quartile Range\n",
    "print(IQR)    \n",
    "UW = Q3 + (1.5 * IQR)   #Upper whisker length\n",
    "LW = Q1 - (1.5 * IQR)   #Lower whisker length\n",
    "print(UW)\n",
    "print(LW)"
   ]
  },
  {
   "cell_type": "code",
   "execution_count": 100,
   "id": "4cef3a41",
   "metadata": {},
   "outputs": [
    {
     "name": "stdout",
     "output_type": "stream",
     "text": [
      "Number of outliers present in NSP Column :  11\n",
      "Number of outliers present in NSP Column :  0\n"
     ]
    }
   ],
   "source": [
    "print(\"Number of outliers present in NSP Column : \",len(df[df[\"NSP\"]>UW]))\n",
    "print(\"Number of outliers present in NSP Column : \",len(df[df[\"NSP\"]<LW]))"
   ]
  },
  {
   "cell_type": "code",
   "execution_count": 101,
   "id": "d1fa5bae",
   "metadata": {},
   "outputs": [],
   "source": [
    "#Replacing the outlier values with nearest whisker length\n",
    "df[df[\"NSP\"]>UW] = UW\n",
    "df[df[\"NSP\"]<LW] = LW"
   ]
  },
  {
   "cell_type": "code",
   "execution_count": 102,
   "id": "cc1eebc9",
   "metadata": {},
   "outputs": [
    {
     "name": "stdout",
     "output_type": "stream",
     "text": [
      "Number of outliers present in NSP Column :  0\n",
      "Number of outliers present in NSP Column :  0\n"
     ]
    }
   ],
   "source": [
    "print(\"Number of outliers present in NSP Column : \",len(df[df[\"NSP\"]>UW]))\n",
    "print(\"Number of outliers present in NSP Column : \",len(df[df[\"NSP\"]<LW]))"
   ]
  },
  {
   "cell_type": "code",
   "execution_count": 103,
   "id": "0a8ff4b7",
   "metadata": {},
   "outputs": [
    {
     "data": {
      "text/plain": [
       "<AxesSubplot:>"
      ]
     },
     "execution_count": 103,
     "metadata": {},
     "output_type": "execute_result"
    },
    {
     "data": {
      "image/png": "[encoded data removed]",
      "text/plain": [
       "<Figure size 640x480 with 1 Axes>"
      ]
     },
     "metadata": {},
     "output_type": "display_data"
    }
   ],
   "source": [
    "df[\"NSP\"].plot(kind=\"box\",vert=False)"
   ]
  },
  {
   "cell_type": "markdown",
   "id": "63a889e1",
   "metadata": {},
   "source": [
    "## 2.Statistical Summary:"
   ]
  },
  {
   "cell_type": "code",
   "execution_count": 85,
   "id": "dc43edf6",
   "metadata": {},
   "outputs": [
    {
     "data": {
      "text/plain": [
       "count    2126.000000\n",
       "mean       62.393673\n",
       "std        65.909230\n",
       "min        -1.500000\n",
       "25%         0.000000\n",
       "50%         2.500000\n",
       "75%       132.000000\n",
       "max       160.000000\n",
       "Name: LB, dtype: float64"
      ]
     },
     "execution_count": 85,
     "metadata": {},
     "output_type": "execute_result"
    }
   ],
   "source": [
    "df[\"LB\"].describe()"
   ]
  },
  {
   "cell_type": "code",
   "execution_count": 86,
   "id": "b3ad27a2",
   "metadata": {},
   "outputs": [
    {
     "data": {
      "text/plain": [
       "132.0"
      ]
     },
     "execution_count": 86,
     "metadata": {},
     "output_type": "execute_result"
    }
   ],
   "source": [
    "IQR = 132.000000 - 0.000000\n",
    "IQR"
   ]
  },
  {
   "cell_type": "code",
   "execution_count": 87,
   "id": "9178ff5f",
   "metadata": {},
   "outputs": [
    {
     "data": {
      "text/plain": [
       "count    2126.000000\n",
       "mean        0.509851\n",
       "std         1.019199\n",
       "min        -1.500000\n",
       "25%         0.000000\n",
       "50%         0.001712\n",
       "75%         0.009863\n",
       "max         2.500000\n",
       "Name: AC, dtype: float64"
      ]
     },
     "execution_count": 87,
     "metadata": {},
     "output_type": "execute_result"
    }
   ],
   "source": [
    "df[\"AC\"].describe()"
   ]
  },
  {
   "cell_type": "code",
   "execution_count": 88,
   "id": "3b503c95",
   "metadata": {},
   "outputs": [
    {
     "data": {
      "text/plain": [
       "0.009863"
      ]
     },
     "execution_count": 88,
     "metadata": {},
     "output_type": "execute_result"
    }
   ],
   "source": [
    "IQR = 0.009863 - 0.000000\n",
    "IQR"
   ]
  },
  {
   "cell_type": "code",
   "execution_count": 89,
   "id": "85c866c1",
   "metadata": {},
   "outputs": [
    {
     "data": {
      "text/plain": [
       "count    2126.000000\n",
       "mean        0.508341\n",
       "std         1.019948\n",
       "min        -1.500000\n",
       "25%         0.000000\n",
       "50%         0.000000\n",
       "75%         0.003295\n",
       "max         2.500000\n",
       "Name: FM, dtype: float64"
      ]
     },
     "execution_count": 89,
     "metadata": {},
     "output_type": "execute_result"
    }
   ],
   "source": [
    "df[\"FM\"].describe()"
   ]
  },
  {
   "cell_type": "code",
   "execution_count": 90,
   "id": "bf5c0475",
   "metadata": {},
   "outputs": [
    {
     "data": {
      "text/plain": [
       "0.003295"
      ]
     },
     "execution_count": 90,
     "metadata": {},
     "output_type": "execute_result"
    }
   ],
   "source": [
    "IQR = 0.003295 - 0.000000\n",
    "IQR"
   ]
  },
  {
   "cell_type": "code",
   "execution_count": 91,
   "id": "8fb4d1b0",
   "metadata": {},
   "outputs": [
    {
     "data": {
      "text/plain": [
       "count    2126.000000\n",
       "mean        0.510274\n",
       "std         1.018988\n",
       "min        -1.500000\n",
       "25%         0.000000\n",
       "50%         0.004067\n",
       "75%         0.008429\n",
       "max         2.500000\n",
       "Name: UC, dtype: float64"
      ]
     },
     "execution_count": 91,
     "metadata": {},
     "output_type": "execute_result"
    }
   ],
   "source": [
    "df[\"UC\"].describe()"
   ]
  },
  {
   "cell_type": "code",
   "execution_count": 92,
   "id": "73c271e2",
   "metadata": {},
   "outputs": [
    {
     "data": {
      "text/plain": [
       "2.5"
      ]
     },
     "execution_count": 92,
     "metadata": {},
     "output_type": "execute_result"
    }
   ],
   "source": [
    "IQR = 2.50000 - 0.000000\n",
    "IQR"
   ]
  },
  {
   "cell_type": "code",
   "execution_count": 93,
   "id": "2565a1de",
   "metadata": {},
   "outputs": [
    {
     "data": {
      "text/plain": [
       "count    2126.000000\n",
       "mean        0.508872\n",
       "std         1.019684\n",
       "min        -1.500000\n",
       "25%         0.000000\n",
       "50%         0.000000\n",
       "75%         0.006126\n",
       "max         2.500000\n",
       "Name: DL, dtype: float64"
      ]
     },
     "execution_count": 93,
     "metadata": {},
     "output_type": "execute_result"
    }
   ],
   "source": [
    "df[\"DL\"].describe()"
   ]
  },
  {
   "cell_type": "code",
   "execution_count": 94,
   "id": "8bc9902a",
   "metadata": {},
   "outputs": [
    {
     "data": {
      "text/plain": [
       "0.006126"
      ]
     },
     "execution_count": 94,
     "metadata": {},
     "output_type": "execute_result"
    }
   ],
   "source": [
    "IQR = 0.006126 - 0.000000\n",
    "IQR"
   ]
  },
  {
   "cell_type": "code",
   "execution_count": 95,
   "id": "668c558e",
   "metadata": {},
   "outputs": [
    {
     "data": {
      "text/plain": [
       "count    2126.000000\n",
       "mean        0.507996\n",
       "std         1.020119\n",
       "min        -1.500000\n",
       "25%         0.000000\n",
       "50%         0.000000\n",
       "75%         0.000000\n",
       "max         2.500000\n",
       "Name: DS, dtype: float64"
      ]
     },
     "execution_count": 95,
     "metadata": {},
     "output_type": "execute_result"
    }
   ],
   "source": [
    "df[\"DS\"].describe()"
   ]
  },
  {
   "cell_type": "code",
   "execution_count": 96,
   "id": "4442a6a0",
   "metadata": {},
   "outputs": [
    {
     "data": {
      "text/plain": [
       "0.0"
      ]
     },
     "execution_count": 96,
     "metadata": {},
     "output_type": "execute_result"
    }
   ],
   "source": [
    "IQR = 0.0000 - 0.000000\n",
    "IQR"
   ]
  },
  {
   "cell_type": "code",
   "execution_count": 97,
   "id": "59b8979e",
   "metadata": {},
   "outputs": [
    {
     "data": {
      "text/plain": [
       "count    2126.000000\n",
       "mean        0.507996\n",
       "std         1.020119\n",
       "min        -1.500000\n",
       "25%         0.000000\n",
       "50%         0.000000\n",
       "75%         0.000000\n",
       "max         2.500000\n",
       "Name: DP, dtype: float64"
      ]
     },
     "execution_count": 97,
     "metadata": {},
     "output_type": "execute_result"
    }
   ],
   "source": [
    "df[\"DP\"].describe()"
   ]
  },
  {
   "cell_type": "code",
   "execution_count": 98,
   "id": "4bde8da2",
   "metadata": {},
   "outputs": [
    {
     "data": {
      "text/plain": [
       "0.0"
      ]
     },
     "execution_count": 98,
     "metadata": {},
     "output_type": "execute_result"
    }
   ],
   "source": [
    "IQR = 0.000000 - 0.000000\n",
    "IQR"
   ]
  },
  {
   "cell_type": "code",
   "execution_count": 99,
   "id": "63ed4437",
   "metadata": {},
   "outputs": [
    {
     "data": {
      "text/plain": [
       "count    2126.000000\n",
       "mean       20.218597\n",
       "std        23.313882\n",
       "min       -63.000000\n",
       "25%         0.000000\n",
       "50%         2.500000\n",
       "75%        39.000000\n",
       "max        79.000000\n",
       "Name: ASTV, dtype: float64"
      ]
     },
     "execution_count": 99,
     "metadata": {},
     "output_type": "execute_result"
    }
   ],
   "source": [
    "df[\"ASTV\"].describe()"
   ]
  },
  {
   "cell_type": "code",
   "execution_count": 100,
   "id": "49a2c104",
   "metadata": {},
   "outputs": [
    {
     "data": {
      "text/plain": [
       "39.0"
      ]
     },
     "execution_count": 100,
     "metadata": {},
     "output_type": "execute_result"
    }
   ],
   "source": [
    "IQR = 39.000000 - 0.000000\n",
    "IQR"
   ]
  },
  {
   "cell_type": "code",
   "execution_count": 101,
   "id": "1cb8382b",
   "metadata": {},
   "outputs": [
    {
     "data": {
      "text/plain": [
       "count    2126.000000\n",
       "mean        1.135869\n",
       "std         1.007295\n",
       "min        -1.500000\n",
       "25%         0.000000\n",
       "50%         1.100000\n",
       "75%         2.200000\n",
       "max         3.200000\n",
       "Name: MSTV, dtype: float64"
      ]
     },
     "execution_count": 101,
     "metadata": {},
     "output_type": "execute_result"
    }
   ],
   "source": [
    "df[\"MSTV\"].describe()"
   ]
  },
  {
   "cell_type": "code",
   "execution_count": 102,
   "id": "fad4fc76",
   "metadata": {},
   "outputs": [
    {
     "data": {
      "text/plain": [
       "2.2"
      ]
     },
     "execution_count": 102,
     "metadata": {},
     "output_type": "execute_result"
    }
   ],
   "source": [
    "IQR = 2.20000 - 0.000000\n",
    "IQR"
   ]
  },
  {
   "cell_type": "code",
   "execution_count": 103,
   "id": "15693c8e",
   "metadata": {},
   "outputs": [
    {
     "data": {
      "text/plain": [
       "count    2126.000000\n",
       "mean        1.269318\n",
       "std         2.351909\n",
       "min        -1.500000\n",
       "25%         0.000000\n",
       "50%         0.000000\n",
       "75%         2.500000\n",
       "max        12.497084\n",
       "Name: ALTV, dtype: float64"
      ]
     },
     "execution_count": 103,
     "metadata": {},
     "output_type": "execute_result"
    }
   ],
   "source": [
    "df[\"ALTV\"].describe()"
   ]
  },
  {
   "cell_type": "code",
   "execution_count": 104,
   "id": "5075c188",
   "metadata": {},
   "outputs": [
    {
     "data": {
      "text/plain": [
       "2.25"
      ]
     },
     "execution_count": 104,
     "metadata": {},
     "output_type": "execute_result"
    }
   ],
   "source": [
    "IQR = 2.250000 - 0.000000\n",
    "IQR"
   ]
  },
  {
   "cell_type": "code",
   "execution_count": 105,
   "id": "fdb9a60b",
   "metadata": {},
   "outputs": [
    {
     "data": {
      "text/plain": [
       "count    2126.000000\n",
       "mean        4.779143\n",
       "std         5.594591\n",
       "min        -1.500000\n",
       "25%         0.000000\n",
       "50%         2.500000\n",
       "75%         8.300000\n",
       "max        29.500000\n",
       "Name: MLTV, dtype: float64"
      ]
     },
     "execution_count": 105,
     "metadata": {},
     "output_type": "execute_result"
    }
   ],
   "source": [
    "df[\"MLTV\"].describe()"
   ]
  },
  {
   "cell_type": "code",
   "execution_count": 106,
   "id": "cd11f7d0",
   "metadata": {},
   "outputs": [
    {
     "data": {
      "text/plain": [
       "8.3"
      ]
     },
     "execution_count": 106,
     "metadata": {},
     "output_type": "execute_result"
    }
   ],
   "source": [
    "IQR = 8.300000 - 0.000000\n",
    "IQR"
   ]
  },
  {
   "cell_type": "code",
   "execution_count": 107,
   "id": "bd830e44",
   "metadata": {},
   "outputs": [
    {
     "data": {
      "text/plain": [
       "count    2126.000000\n",
       "mean       33.480853\n",
       "std        40.892786\n",
       "min        -1.500000\n",
       "25%         0.000000\n",
       "50%         2.500000\n",
       "75%        64.000000\n",
       "max       163.000000\n",
       "Name: Width, dtype: float64"
      ]
     },
     "execution_count": 107,
     "metadata": {},
     "output_type": "execute_result"
    }
   ],
   "source": [
    "df[\"Width\"].describe()"
   ]
  },
  {
   "cell_type": "code",
   "execution_count": 108,
   "id": "b4dd05c9",
   "metadata": {},
   "outputs": [
    {
     "data": {
      "text/plain": [
       "64.0"
      ]
     },
     "execution_count": 108,
     "metadata": {},
     "output_type": "execute_result"
    }
   ],
   "source": [
    "IQR = 64.000000 - 0.000000\n",
    "IQR"
   ]
  },
  {
   "cell_type": "code",
   "execution_count": 109,
   "id": "f114f1db",
   "metadata": {},
   "outputs": [
    {
     "data": {
      "text/plain": [
       "count    2126.000000\n",
       "mean        0.680816\n",
       "std         1.027852\n",
       "min        -1.500000\n",
       "25%         0.000000\n",
       "50%         0.000000\n",
       "75%         1.000000\n",
       "max         2.500000\n",
       "Name: Tendency, dtype: float64"
      ]
     },
     "execution_count": 109,
     "metadata": {},
     "output_type": "execute_result"
    }
   ],
   "source": [
    "df[\"Tendency\"].describe()"
   ]
  },
  {
   "cell_type": "code",
   "execution_count": 110,
   "id": "9f6590e9",
   "metadata": {},
   "outputs": [
    {
     "data": {
      "text/plain": [
       "1.0"
      ]
     },
     "execution_count": 110,
     "metadata": {},
     "output_type": "execute_result"
    }
   ],
   "source": [
    "IQR = 1.000000 - 0.000000\n",
    "IQR"
   ]
  },
  {
   "cell_type": "code",
   "execution_count": 111,
   "id": "da30490d",
   "metadata": {},
   "outputs": [
    {
     "data": {
      "text/plain": [
       "count    2126.000000\n",
       "mean        0.998674\n",
       "std         0.919418\n",
       "min        -1.500000\n",
       "25%         0.000000\n",
       "50%         1.000000\n",
       "75%         1.000000\n",
       "max         2.500000\n",
       "Name: NSP, dtype: float64"
      ]
     },
     "execution_count": 111,
     "metadata": {},
     "output_type": "execute_result"
    }
   ],
   "source": [
    "df[\"NSP\"].describe()"
   ]
  },
  {
   "cell_type": "code",
   "execution_count": 112,
   "id": "e56055f4",
   "metadata": {},
   "outputs": [
    {
     "data": {
      "text/plain": [
       "1.0"
      ]
     },
     "execution_count": 112,
     "metadata": {},
     "output_type": "execute_result"
    }
   ],
   "source": [
    "IQR = 1.000000 - 0.000000\n",
    "IQR"
   ]
  },
  {
   "cell_type": "markdown",
   "id": "88e5e2dd",
   "metadata": {},
   "source": [
    "## 3.Data Visualization:"
   ]
  },
  {
   "cell_type": "code",
   "execution_count": 109,
   "id": "9fe5c3e5",
   "metadata": {},
   "outputs": [
    {
     "data": {
      "text/plain": [
       "<AxesSubplot:ylabel='Frequency'>"
      ]
     },
     "execution_count": 109,
     "metadata": {},
     "output_type": "execute_result"
    },
    {
     "data": {
      "image/png": "[encoded data removed]",
      "text/plain": [
       "<Figure size 640x480 with 1 Axes>"
      ]
     },
     "metadata": {},
     "output_type": "display_data"
    }
   ],
   "source": [
    "df[\"LB\"].plot(kind=\"hist\")"
   ]
  },
  {
   "cell_type": "code",
   "execution_count": null,
   "id": "a6c099bb",
   "metadata": {},
   "outputs": [],
   "source": [
    "df[\"LB\"].plot(kind=\"hist\")"
   ]
  },
  {
   "cell_type": "code",
   "execution_count": 110,
   "id": "e62dddd9",
   "metadata": {},
   "outputs": [
    {
     "data": {
      "text/plain": [
       "<AxesSubplot:ylabel='Frequency'>"
      ]
     },
     "execution_count": 110,
     "metadata": {},
     "output_type": "execute_result"
    },
    {
     "data": {
      "image/png": "[encoded data removed]",
      "text/plain": [
       "<Figure size 640x480 with 1 Axes>"
      ]
     },
     "metadata": {},
     "output_type": "display_data"
    }
   ],
   "source": [
    "df[\"AC\"].plot(kind=\"hist\")"
   ]
  },
  {
   "cell_type": "code",
   "execution_count": 111,
   "id": "4e5a872c",
   "metadata": {},
   "outputs": [
    {
     "data": {
      "text/plain": [
       "<AxesSubplot:ylabel='Frequency'>"
      ]
     },
     "execution_count": 111,
     "metadata": {},
     "output_type": "execute_result"
    },
    {
     "data": {
      "image/png": "[encoded data removed]",
      "text/plain": [
       "<Figure size 640x480 with 1 Axes>"
      ]
     },
     "metadata": {},
     "output_type": "display_data"
    }
   ],
   "source": [
    "df[\"FM\"].plot(kind=\"hist\")"
   ]
  },
  {
   "cell_type": "code",
   "execution_count": 112,
   "id": "8e9fe18c",
   "metadata": {},
   "outputs": [
    {
     "data": {
      "text/plain": [
       "<AxesSubplot:ylabel='Frequency'>"
      ]
     },
     "execution_count": 112,
     "metadata": {},
     "output_type": "execute_result"
    },
    {
     "data": {
      "image/png": "[encoded data removed]",
      "text/plain": [
       "<Figure size 640x480 with 1 Axes>"
      ]
     },
     "metadata": {},
     "output_type": "display_data"
    }
   ],
   "source": [
    "df[\"UC\"].plot(kind=\"hist\")"
   ]
  },
  {
   "cell_type": "code",
   "execution_count": 113,
   "id": "b4be1482",
   "metadata": {},
   "outputs": [
    {
     "data": {
      "text/plain": [
       "<AxesSubplot:ylabel='Frequency'>"
      ]
     },
     "execution_count": 113,
     "metadata": {},
     "output_type": "execute_result"
    },
    {
     "data": {
      "image/png": "[encoded data removed]",
      "text/plain": [
       "<Figure size 640x480 with 1 Axes>"
      ]
     },
     "metadata": {},
     "output_type": "display_data"
    }
   ],
   "source": [
    "df[\"DL\"].plot(kind=\"hist\")"
   ]
  },
  {
   "cell_type": "code",
   "execution_count": 116,
   "id": "32fad625",
   "metadata": {},
   "outputs": [
    {
     "data": {
      "text/plain": [
       "<AxesSubplot:ylabel='Frequency'>"
      ]
     },
     "execution_count": 116,
     "metadata": {},
     "output_type": "execute_result"
    },
    {
     "data": {
      "image/png": "[encoded data removed]",
      "text/plain": [
       "<Figure size 640x480 with 1 Axes>"
      ]
     },
     "metadata": {},
     "output_type": "display_data"
    }
   ],
   "source": [
    "df[\"DS\"].plot(kind=\"hist\")"
   ]
  },
  {
   "cell_type": "code",
   "execution_count": 117,
   "id": "efb599ca",
   "metadata": {},
   "outputs": [
    {
     "data": {
      "text/plain": [
       "<AxesSubplot:ylabel='Frequency'>"
      ]
     },
     "execution_count": 117,
     "metadata": {},
     "output_type": "execute_result"
    },
    {
     "data": {
      "image/png": "[encoded data removed]",
      "text/plain": [
       "<Figure size 640x480 with 1 Axes>"
      ]
     },
     "metadata": {},
     "output_type": "display_data"
    }
   ],
   "source": [
    "df[\"DP\"].plot(kind=\"hist\")"
   ]
  },
  {
   "cell_type": "code",
   "execution_count": 118,
   "id": "e9606d9b",
   "metadata": {},
   "outputs": [
    {
     "data": {
      "text/plain": [
       "<AxesSubplot:ylabel='Frequency'>"
      ]
     },
     "execution_count": 118,
     "metadata": {},
     "output_type": "execute_result"
    },
    {
     "data": {
      "image/png": "[encoded data removed]",
      "text/plain": [
       "<Figure size 640x480 with 1 Axes>"
      ]
     },
     "metadata": {},
     "output_type": "display_data"
    }
   ],
   "source": [
    "df[\"ASTV\"].plot(kind=\"hist\")"
   ]
  },
  {
   "cell_type": "code",
   "execution_count": 119,
   "id": "09d70934",
   "metadata": {},
   "outputs": [
    {
     "data": {
      "text/plain": [
       "<AxesSubplot:ylabel='Frequency'>"
      ]
     },
     "execution_count": 119,
     "metadata": {},
     "output_type": "execute_result"
    },
    {
     "data": {
      "image/png": "[encoded data removed]",
      "text/plain": [
       "<Figure size 640x480 with 1 Axes>"
      ]
     },
     "metadata": {},
     "output_type": "display_data"
    }
   ],
   "source": [
    "df[\"MSTV\"].plot(kind=\"hist\")"
   ]
  },
  {
   "cell_type": "code",
   "execution_count": 120,
   "id": "6b956f70",
   "metadata": {},
   "outputs": [
    {
     "data": {
      "text/plain": [
       "<AxesSubplot:ylabel='Frequency'>"
      ]
     },
     "execution_count": 120,
     "metadata": {},
     "output_type": "execute_result"
    },
    {
     "data": {
      "image/png": "[encoded data removed]",
      "text/plain": [
       "<Figure size 640x480 with 1 Axes>"
      ]
     },
     "metadata": {},
     "output_type": "display_data"
    }
   ],
   "source": [
    "df[\"ALTV\"].plot(kind=\"hist\")"
   ]
  },
  {
   "cell_type": "code",
   "execution_count": 121,
   "id": "56b9f0f4",
   "metadata": {},
   "outputs": [
    {
     "data": {
      "text/plain": [
       "<AxesSubplot:ylabel='Frequency'>"
      ]
     },
     "execution_count": 121,
     "metadata": {},
     "output_type": "execute_result"
    },
    {
     "data": {
      "image/png": "[encoded data removed]",
      "text/plain": [
       "<Figure size 640x480 with 1 Axes>"
      ]
     },
     "metadata": {},
     "output_type": "display_data"
    }
   ],
   "source": [
    "df[\"MLTV\"].plot(kind=\"hist\")"
   ]
  },
  {
   "cell_type": "code",
   "execution_count": 122,
   "id": "d1c5249e",
   "metadata": {},
   "outputs": [
    {
     "data": {
      "text/plain": [
       "<AxesSubplot:ylabel='Frequency'>"
      ]
     },
     "execution_count": 122,
     "metadata": {},
     "output_type": "execute_result"
    },
    {
     "data": {
      "image/png": "[encoded data removed]",
      "text/plain": [
       "<Figure size 640x480 with 1 Axes>"
      ]
     },
     "metadata": {},
     "output_type": "display_data"
    }
   ],
   "source": [
    "df[\"Width\"].plot(kind=\"hist\")"
   ]
  },
  {
   "cell_type": "code",
   "execution_count": 123,
   "id": "8bdb6c98",
   "metadata": {},
   "outputs": [
    {
     "data": {
      "text/plain": [
       "<AxesSubplot:ylabel='Frequency'>"
      ]
     },
     "execution_count": 123,
     "metadata": {},
     "output_type": "execute_result"
    },
    {
     "data": {
      "image/png": "[encoded data removed]",
      "text/plain": [
       "<Figure size 640x480 with 1 Axes>"
      ]
     },
     "metadata": {},
     "output_type": "display_data"
    }
   ],
   "source": [
    "df[\"Tendency\"].plot(kind=\"hist\")"
   ]
  },
  {
   "cell_type": "code",
   "execution_count": 124,
   "id": "91d7b2ba",
   "metadata": {},
   "outputs": [
    {
     "data": {
      "text/plain": [
       "<AxesSubplot:ylabel='Frequency'>"
      ]
     },
     "execution_count": 124,
     "metadata": {},
     "output_type": "execute_result"
    },
    {
     "data": {
      "image/png": "[encoded data removed]",
      "text/plain": [
       "<Figure size 640x480 with 1 Axes>"
      ]
     },
     "metadata": {},
     "output_type": "display_data"
    }
   ],
   "source": [
    "df[\"NSP\"].plot(kind=\"hist\")"
   ]
  },
  {
   "cell_type": "code",
   "execution_count": 125,
   "id": "bad56afa",
   "metadata": {},
   "outputs": [
    {
     "data": {
      "text/html": [
       "<div>\n",
       "<style scoped>\n",
       "    .dataframe tbody tr th:only-of-type {\n",
       "        vertical-align: middle;\n",
       "    }\n",
       "\n",
       "    .dataframe tbody tr th {\n",
       "        vertical-align: top;\n",
       "    }\n",
       "\n",
       "    .dataframe thead th {\n",
       "        text-align: right;\n",
       "    }\n",
       "</style>\n",
       "<table border=\"1\" class=\"dataframe\">\n",
       "  <thead>\n",
       "    <tr style=\"text-align: right;\">\n",
       "      <th></th>\n",
       "      <th>LB</th>\n",
       "      <th>AC</th>\n",
       "      <th>FM</th>\n",
       "      <th>UC</th>\n",
       "      <th>DL</th>\n",
       "      <th>DS</th>\n",
       "      <th>DP</th>\n",
       "      <th>ASTV</th>\n",
       "      <th>MSTV</th>\n",
       "      <th>ALTV</th>\n",
       "      <th>MLTV</th>\n",
       "      <th>Width</th>\n",
       "      <th>Tendency</th>\n",
       "      <th>NSP</th>\n",
       "    </tr>\n",
       "  </thead>\n",
       "  <tbody>\n",
       "    <tr>\n",
       "      <th>LB</th>\n",
       "      <td>1.000000</td>\n",
       "      <td>-0.450789</td>\n",
       "      <td>-0.452034</td>\n",
       "      <td>-0.450458</td>\n",
       "      <td>-0.451612</td>\n",
       "      <td>-0.452320</td>\n",
       "      <td>-0.452320</td>\n",
       "      <td>0.891470</td>\n",
       "      <td>0.194443</td>\n",
       "      <td>0.162043</td>\n",
       "      <td>0.727304</td>\n",
       "      <td>0.847858</td>\n",
       "      <td>-0.259700</td>\n",
       "      <td>0.069740</td>\n",
       "    </tr>\n",
       "    <tr>\n",
       "      <th>AC</th>\n",
       "      <td>-0.450789</td>\n",
       "      <td>1.000000</td>\n",
       "      <td>0.999995</td>\n",
       "      <td>0.999995</td>\n",
       "      <td>0.999994</td>\n",
       "      <td>0.999995</td>\n",
       "      <td>0.999995</td>\n",
       "      <td>-0.376088</td>\n",
       "      <td>0.703292</td>\n",
       "      <td>0.272301</td>\n",
       "      <td>-0.197361</td>\n",
       "      <td>-0.375137</td>\n",
       "      <td>0.908939</td>\n",
       "      <td>0.844409</td>\n",
       "    </tr>\n",
       "    <tr>\n",
       "      <th>FM</th>\n",
       "      <td>-0.452034</td>\n",
       "      <td>0.999995</td>\n",
       "      <td>1.000000</td>\n",
       "      <td>0.999996</td>\n",
       "      <td>0.999998</td>\n",
       "      <td>0.999999</td>\n",
       "      <td>0.999999</td>\n",
       "      <td>-0.377020</td>\n",
       "      <td>0.702405</td>\n",
       "      <td>0.272488</td>\n",
       "      <td>-0.197843</td>\n",
       "      <td>-0.376409</td>\n",
       "      <td>0.908776</td>\n",
       "      <td>0.843808</td>\n",
       "    </tr>\n",
       "    <tr>\n",
       "      <th>UC</th>\n",
       "      <td>-0.450458</td>\n",
       "      <td>0.999995</td>\n",
       "      <td>0.999996</td>\n",
       "      <td>1.000000</td>\n",
       "      <td>0.999996</td>\n",
       "      <td>0.999996</td>\n",
       "      <td>0.999996</td>\n",
       "      <td>-0.375804</td>\n",
       "      <td>0.703517</td>\n",
       "      <td>0.272876</td>\n",
       "      <td>-0.196666</td>\n",
       "      <td>-0.375188</td>\n",
       "      <td>0.909015</td>\n",
       "      <td>0.844649</td>\n",
       "    </tr>\n",
       "    <tr>\n",
       "      <th>DL</th>\n",
       "      <td>-0.451612</td>\n",
       "      <td>0.999994</td>\n",
       "      <td>0.999998</td>\n",
       "      <td>0.999996</td>\n",
       "      <td>1.000000</td>\n",
       "      <td>0.999998</td>\n",
       "      <td>0.999998</td>\n",
       "      <td>-0.376798</td>\n",
       "      <td>0.703064</td>\n",
       "      <td>0.272367</td>\n",
       "      <td>-0.197778</td>\n",
       "      <td>-0.375706</td>\n",
       "      <td>0.908991</td>\n",
       "      <td>0.843998</td>\n",
       "    </tr>\n",
       "    <tr>\n",
       "      <th>DS</th>\n",
       "      <td>-0.452320</td>\n",
       "      <td>0.999995</td>\n",
       "      <td>0.999999</td>\n",
       "      <td>0.999996</td>\n",
       "      <td>0.999998</td>\n",
       "      <td>1.000000</td>\n",
       "      <td>1.000000</td>\n",
       "      <td>-0.377455</td>\n",
       "      <td>0.702182</td>\n",
       "      <td>0.272468</td>\n",
       "      <td>-0.198016</td>\n",
       "      <td>-0.376774</td>\n",
       "      <td>0.908709</td>\n",
       "      <td>0.843640</td>\n",
       "    </tr>\n",
       "    <tr>\n",
       "      <th>DP</th>\n",
       "      <td>-0.452320</td>\n",
       "      <td>0.999995</td>\n",
       "      <td>0.999999</td>\n",
       "      <td>0.999996</td>\n",
       "      <td>0.999998</td>\n",
       "      <td>1.000000</td>\n",
       "      <td>1.000000</td>\n",
       "      <td>-0.377455</td>\n",
       "      <td>0.702182</td>\n",
       "      <td>0.272468</td>\n",
       "      <td>-0.198016</td>\n",
       "      <td>-0.376774</td>\n",
       "      <td>0.908709</td>\n",
       "      <td>0.843640</td>\n",
       "    </tr>\n",
       "    <tr>\n",
       "      <th>ASTV</th>\n",
       "      <td>0.891470</td>\n",
       "      <td>-0.376088</td>\n",
       "      <td>-0.377020</td>\n",
       "      <td>-0.375804</td>\n",
       "      <td>-0.376798</td>\n",
       "      <td>-0.377455</td>\n",
       "      <td>-0.377455</td>\n",
       "      <td>1.000000</td>\n",
       "      <td>0.140847</td>\n",
       "      <td>0.193731</td>\n",
       "      <td>0.568757</td>\n",
       "      <td>0.754999</td>\n",
       "      <td>-0.198829</td>\n",
       "      <td>0.099373</td>\n",
       "    </tr>\n",
       "    <tr>\n",
       "      <th>MSTV</th>\n",
       "      <td>0.194443</td>\n",
       "      <td>0.703292</td>\n",
       "      <td>0.702405</td>\n",
       "      <td>0.703517</td>\n",
       "      <td>0.703064</td>\n",
       "      <td>0.702182</td>\n",
       "      <td>0.702182</td>\n",
       "      <td>0.140847</td>\n",
       "      <td>1.000000</td>\n",
       "      <td>0.249323</td>\n",
       "      <td>0.288535</td>\n",
       "      <td>0.298965</td>\n",
       "      <td>0.739977</td>\n",
       "      <td>0.876392</td>\n",
       "    </tr>\n",
       "    <tr>\n",
       "      <th>ALTV</th>\n",
       "      <td>0.162043</td>\n",
       "      <td>0.272301</td>\n",
       "      <td>0.272488</td>\n",
       "      <td>0.272876</td>\n",
       "      <td>0.272367</td>\n",
       "      <td>0.272468</td>\n",
       "      <td>0.272468</td>\n",
       "      <td>0.193731</td>\n",
       "      <td>0.249323</td>\n",
       "      <td>1.000000</td>\n",
       "      <td>0.218638</td>\n",
       "      <td>0.031067</td>\n",
       "      <td>0.308987</td>\n",
       "      <td>0.423094</td>\n",
       "    </tr>\n",
       "    <tr>\n",
       "      <th>MLTV</th>\n",
       "      <td>0.727304</td>\n",
       "      <td>-0.197361</td>\n",
       "      <td>-0.197843</td>\n",
       "      <td>-0.196666</td>\n",
       "      <td>-0.197778</td>\n",
       "      <td>-0.198016</td>\n",
       "      <td>-0.198016</td>\n",
       "      <td>0.568757</td>\n",
       "      <td>0.288535</td>\n",
       "      <td>0.218638</td>\n",
       "      <td>1.000000</td>\n",
       "      <td>0.642966</td>\n",
       "      <td>-0.055850</td>\n",
       "      <td>0.205937</td>\n",
       "    </tr>\n",
       "    <tr>\n",
       "      <th>Width</th>\n",
       "      <td>0.847858</td>\n",
       "      <td>-0.375137</td>\n",
       "      <td>-0.376409</td>\n",
       "      <td>-0.375188</td>\n",
       "      <td>-0.375706</td>\n",
       "      <td>-0.376774</td>\n",
       "      <td>-0.376774</td>\n",
       "      <td>0.754999</td>\n",
       "      <td>0.298965</td>\n",
       "      <td>0.031067</td>\n",
       "      <td>0.642966</td>\n",
       "      <td>1.000000</td>\n",
       "      <td>-0.159773</td>\n",
       "      <td>0.056605</td>\n",
       "    </tr>\n",
       "    <tr>\n",
       "      <th>Tendency</th>\n",
       "      <td>-0.259700</td>\n",
       "      <td>0.908939</td>\n",
       "      <td>0.908776</td>\n",
       "      <td>0.909015</td>\n",
       "      <td>0.908991</td>\n",
       "      <td>0.908709</td>\n",
       "      <td>0.908709</td>\n",
       "      <td>-0.198829</td>\n",
       "      <td>0.739977</td>\n",
       "      <td>0.308987</td>\n",
       "      <td>-0.055850</td>\n",
       "      <td>-0.159773</td>\n",
       "      <td>1.000000</td>\n",
       "      <td>0.846112</td>\n",
       "    </tr>\n",
       "    <tr>\n",
       "      <th>NSP</th>\n",
       "      <td>0.069740</td>\n",
       "      <td>0.844409</td>\n",
       "      <td>0.843808</td>\n",
       "      <td>0.844649</td>\n",
       "      <td>0.843998</td>\n",
       "      <td>0.843640</td>\n",
       "      <td>0.843640</td>\n",
       "      <td>0.099373</td>\n",
       "      <td>0.876392</td>\n",
       "      <td>0.423094</td>\n",
       "      <td>0.205937</td>\n",
       "      <td>0.056605</td>\n",
       "      <td>0.846112</td>\n",
       "      <td>1.000000</td>\n",
       "    </tr>\n",
       "  </tbody>\n",
       "</table>\n",
       "</div>"
      ],
      "text/plain": [
       "                LB        AC        FM        UC        DL        DS  \\\n",
       "LB        1.000000 -0.450789 -0.452034 -0.450458 -0.451612 -0.452320   \n",
       "AC       -0.450789  1.000000  0.999995  0.999995  0.999994  0.999995   \n",
       "FM       -0.452034  0.999995  1.000000  0.999996  0.999998  0.999999   \n",
       "UC       -0.450458  0.999995  0.999996  1.000000  0.999996  0.999996   \n",
       "DL       -0.451612  0.999994  0.999998  0.999996  1.000000  0.999998   \n",
       "DS       -0.452320  0.999995  0.999999  0.999996  0.999998  1.000000   \n",
       "DP       -0.452320  0.999995  0.999999  0.999996  0.999998  1.000000   \n",
       "ASTV      0.891470 -0.376088 -0.377020 -0.375804 -0.376798 -0.377455   \n",
       "MSTV      0.194443  0.703292  0.702405  0.703517  0.703064  0.702182   \n",
       "ALTV      0.162043  0.272301  0.272488  0.272876  0.272367  0.272468   \n",
       "MLTV      0.727304 -0.197361 -0.197843 -0.196666 -0.197778 -0.198016   \n",
       "Width     0.847858 -0.375137 -0.376409 -0.375188 -0.375706 -0.376774   \n",
       "Tendency -0.259700  0.908939  0.908776  0.909015  0.908991  0.908709   \n",
       "NSP       0.069740  0.844409  0.843808  0.844649  0.843998  0.843640   \n",
       "\n",
       "                DP      ASTV      MSTV      ALTV      MLTV     Width  \\\n",
       "LB       -0.452320  0.891470  0.194443  0.162043  0.727304  0.847858   \n",
       "AC        0.999995 -0.376088  0.703292  0.272301 -0.197361 -0.375137   \n",
       "FM        0.999999 -0.377020  0.702405  0.272488 -0.197843 -0.376409   \n",
       "UC        0.999996 -0.375804  0.703517  0.272876 -0.196666 -0.375188   \n",
       "DL        0.999998 -0.376798  0.703064  0.272367 -0.197778 -0.375706   \n",
       "DS        1.000000 -0.377455  0.702182  0.272468 -0.198016 -0.376774   \n",
       "DP        1.000000 -0.377455  0.702182  0.272468 -0.198016 -0.376774   \n",
       "ASTV     -0.377455  1.000000  0.140847  0.193731  0.568757  0.754999   \n",
       "MSTV      0.702182  0.140847  1.000000  0.249323  0.288535  0.298965   \n",
       "ALTV      0.272468  0.193731  0.249323  1.000000  0.218638  0.031067   \n",
       "MLTV     -0.198016  0.568757  0.288535  0.218638  1.000000  0.642966   \n",
       "Width    -0.376774  0.754999  0.298965  0.031067  0.642966  1.000000   \n",
       "Tendency  0.908709 -0.198829  0.739977  0.308987 -0.055850 -0.159773   \n",
       "NSP       0.843640  0.099373  0.876392  0.423094  0.205937  0.056605   \n",
       "\n",
       "          Tendency       NSP  \n",
       "LB       -0.259700  0.069740  \n",
       "AC        0.908939  0.844409  \n",
       "FM        0.908776  0.843808  \n",
       "UC        0.909015  0.844649  \n",
       "DL        0.908991  0.843998  \n",
       "DS        0.908709  0.843640  \n",
       "DP        0.908709  0.843640  \n",
       "ASTV     -0.198829  0.099373  \n",
       "MSTV      0.739977  0.876392  \n",
       "ALTV      0.308987  0.423094  \n",
       "MLTV     -0.055850  0.205937  \n",
       "Width    -0.159773  0.056605  \n",
       "Tendency  1.000000  0.846112  \n",
       "NSP       0.846112  1.000000  "
      ]
     },
     "execution_count": 125,
     "metadata": {},
     "output_type": "execute_result"
    }
   ],
   "source": [
    "corr = df.corr()\n",
    "corr"
   ]
  },
  {
   "cell_type": "code",
   "execution_count": 129,
   "id": "812aac4e",
   "metadata": {},
   "outputs": [],
   "source": [
    "import seaborn as sns"
   ]
  },
  {
   "cell_type": "code",
   "execution_count": 130,
   "id": "ccbe4cb9",
   "metadata": {},
   "outputs": [
    {
     "data": {
      "text/plain": [
       "<AxesSubplot:>"
      ]
     },
     "execution_count": 130,
     "metadata": {},
     "output_type": "execute_result"
    },
    {
     "data": {
      "image/png": "[encoded data removed]",
      "text/plain": [
       "<Figure size 640x480 with 2 Axes>"
      ]
     },
     "metadata": {},
     "output_type": "display_data"
    }
   ],
   "source": [
    "sns.heatmap(corr, cmap='coolwarm', annot=True)"
   ]
  },
  {
   "cell_type": "markdown",
   "id": "769ab02f",
   "metadata": {},
   "source": [
    "## 4.Pattern Recognition and Insights:"
   ]
  },
  {
   "cell_type": "code",
   "execution_count": null,
   "id": "b5fa2e6b",
   "metadata": {},
   "outputs": [],
   "source": [
    "# LB has high correlation with the variables \"ASTV and Width\".\n",
    "# AC,FM,UC,DL,DS,DP are highly correlated with each other.\n",
    "# ASTV is weakly correlated or not corelated with most of the variables.\n",
    "# MSTV and NSP are moderately coorelated with rest of the variables"
   ]
  }
 ],
 "metadata": {
  "kernelspec": {
   "display_name": "Python 3 (ipykernel)",
   "language": "python",
   "name": "python3"
  },
  "language_info": {
   "codemirror_mode": {
    "name": "ipython",
    "version": 3
   },
   "file_extension": ".py",
   "mimetype": "text/x-python",
   "name": "python",
   "nbconvert_exporter": "python",
   "pygments_lexer": "ipython3",
   "version": "3.9.13"
  }
 },
 "nbformat": 4,
 "nbformat_minor": 5
}
